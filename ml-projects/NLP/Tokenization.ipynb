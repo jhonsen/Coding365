{
 "cells": [
  {
   "cell_type": "markdown",
   "metadata": {},
   "source": [
    "Source: Natural Language Processing with Java Cookbook [Packt](https://www.packtpub.com/product/natural-language-processing-with-java-cookbook/9781789801156)"
   ]
  },
  {
   "cell_type": "markdown",
   "metadata": {},
   "source": [
    "## Tokenizing with OpenNLP Library"
   ]
  },
  {
   "cell_type": "markdown",
   "metadata": {},
   "source": [
    "### Load POM dependencies from [OpenNLP](https://opennlp.apache.org/maven-dependency.html)"
   ]
  },
  {
   "cell_type": "code",
   "execution_count": 4,
   "metadata": {},
   "outputs": [],
   "source": [
    "%%loadFromPOM\n",
    "<repositories>\n",
    "  <repository>\n",
    "    <id>apache opennlp snapshot</id>\n",
    "    <url>https://repository.apache.org/content/repositories/snapshots/</url>\n",
    "  </repository>\n",
    "</repositories>\n",
    "\n",
    "<dependency>\n",
    "    <groupId>org.apache.opennlp</groupId>\n",
    "    <artifactId>opennlp-tools</artifactId>\n",
    "    <version>1.9.0</version>\n",
    "</dependency>"
   ]
  },
  {
   "cell_type": "markdown",
   "metadata": {},
   "source": [
    "Use **SimpleTokenizer**"
   ]
  },
  {
   "cell_type": "code",
   "execution_count": 18,
   "metadata": {},
   "outputs": [
    {
     "name": "stdout",
     "output_type": "stream",
     "text": [
      "This\n",
      "is\n",
      "the\n",
      "best\n",
      "day\n",
      "of\n",
      "my\n",
      "life\n",
      ",\n",
      "as\n",
      "some\n",
      "would\n",
      "say\n",
      ".\n"
     ]
    }
   ],
   "source": [
    "import opennlp.tools.tokenize.SimpleTokenizer;\n",
    "\n",
    "public void tokenizeSentence(String sentence) {\n",
    "    SimpleTokenizer simpletkn = SimpleTokenizer.INSTANCE;\n",
    "    String tokenList[] = simpletkn.tokenize(sampleText);\n",
    "    for (String token: tokenList) {\n",
    "        System.out.println(token);\n",
    "    }\n",
    "}\n",
    "\n",
    "String phrase = \"This is the best day of my life, as some would say.\";\n",
    "tokenizeSentence(phrase);"
   ]
  },
  {
   "cell_type": "markdown",
   "metadata": {},
   "source": [
    "## Tokenizing manually with Scanner"
   ]
  },
  {
   "cell_type": "code",
   "execution_count": 19,
   "metadata": {},
   "outputs": [
    {
     "name": "stdout",
     "output_type": "stream",
     "text": [
      "This\n",
      "is\n",
      "the\n",
      "best\n",
      "day\n",
      "of\n",
      "my\n",
      "life,\n",
      "as\n",
      "some\n",
      "would\n",
      "say.\n"
     ]
    }
   ],
   "source": [
    "import java.util.ArrayList;\n",
    "import java.util.Scanner;\n",
    "\n",
    "public void tokenizeMe(String phrase){\n",
    "    Scanner scanner = new Scanner(phrase);\n",
    "    ArrayList<String> list = new ArrayList<>();\n",
    "    while (scanner.hasNext()) {\n",
    "        String token = scanner.next();\n",
    "        list.add(token);\n",
    "    }\n",
    "    \n",
    "    for (String token : list) { System.out.println(token); }\n",
    "}\n",
    "\n",
    "String phrase = \"This is the best day of my life, as some would say.\";\n",
    "tokenizeMe(phrase);"
   ]
  },
  {
   "cell_type": "code",
   "execution_count": null,
   "metadata": {},
   "outputs": [],
   "source": []
  }
 ],
 "metadata": {
  "kernelspec": {
   "display_name": "Java",
   "language": "java",
   "name": "java"
  },
  "language_info": {
   "codemirror_mode": "java",
   "file_extension": ".jshell",
   "mimetype": "text/x-java-source",
   "name": "Java",
   "pygments_lexer": "java",
   "version": "14.0.1+7"
  }
 },
 "nbformat": 4,
 "nbformat_minor": 4
}
