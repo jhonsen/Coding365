{
 "cells": [
  {
   "cell_type": "markdown",
   "metadata": {},
   "source": [
    "## Named Entity Recognition\n",
    "- Using regular expressions to find entities\n",
    "- Using chunks with regular exp to identify entit- ies\n",
    "- Using OpenNLP to find entities itext\n",
    "- Isolating multiple entities types\n",
    "- Using a CRF model to find entities in a document\n",
    "- Using a chunker to find entities\n",
    "- Training a specialized NER model"
   ]
  },
  {
   "cell_type": "markdown",
   "metadata": {},
   "source": [
    "### Using Regex"
   ]
  },
  {
   "cell_type": "code",
   "execution_count": 4,
   "metadata": {},
   "outputs": [
    {
     "name": "stdout",
     "output_type": "stream",
     "text": [
      "nlp@nlpworks.com [29:45]\n",
      "mrnlp@nlpworks.org [74:92]\n"
     ]
    }
   ],
   "source": [
    "import java.util.regex.Matcher;\n",
    "import java.util.regex.Pattern;\n",
    "\n",
    "String sampleText = \"I can normally be reached at nlp@nlpworks.com. \" + \"If not you can email me at mrnlp@nlpworks.org\";\n",
    "String emailRegularExpression = \"[a-zA-Z0-9'._%+-]+@\" + \"(?:[a-zA-Z0-9-]+\\\\.)\" + \"+[a-zA-Z]{2,4}\";\n",
    "Pattern pattern = Pattern.compile(emailRegularExpression);\n",
    "Matcher matcher = pattern.matcher(sampleText);\n",
    "\n",
    "while (matcher.find()) {\n",
    "    System.out.println(matcher.group() + \" [\" + matcher.start() + \":\" + \n",
    "        matcher.end() + \"]\");\n",
    "}"
   ]
  },
  {
   "cell_type": "code",
   "execution_count": 7,
   "metadata": {},
   "outputs": [
    {
     "name": "stdout",
     "output_type": "stream",
     "text": [
      "888-555-1111 [20:32]\n",
      "55555-4444 [66:76]\n"
     ]
    }
   ],
   "source": [
    "String phoneNumberRegularExpression = \"\\\\d{3}-\\\\d{3}-\\\\d{4}\";\n",
    "String zipCodeRegularExpression = \"[0-9]{5}(\\\\-?[0-9]{4})?\";\n",
    "pattern = Pattern.compile(phoneNumberRegularExpression + \"|\" + \n",
    " zipCodeRegularExpression + \"|\" + emailRegularExpression);\n",
    " sampleText = \"Her phone number is 888-555-1111. You may also need her ZIP code: 55555-4444\";\n",
    "\n",
    "matcher = pattern.matcher(sampleText);\n",
    "while (matcher.find()) {\n",
    "    System.out.println(matcher.group() + \" [\" + matcher.start() + \":\" + \n",
    "        matcher.end() + \"]\");\n",
    "}"
   ]
  },
  {
   "cell_type": "markdown",
   "metadata": {},
   "source": [
    "### Using LINGPipe's Chunking"
   ]
  },
  {
   "cell_type": "code",
   "execution_count": 9,
   "metadata": {},
   "outputs": [],
   "source": [
    "%%loadFromPOM\n",
    "<dependency>\n",
    "    <groupId>de.julielab</groupId>\n",
    "    <artifactId>aliasi-lingpipe</artifactId>\n",
    "    <version>4.1.0</version>\n",
    "</dependency>"
   ]
  },
  {
   "cell_type": "code",
   "execution_count": 10,
   "metadata": {},
   "outputs": [
    {
     "name": "stdout",
     "output_type": "stream",
     "text": [
      "Entity: hisemail@somecompany.com\tType: EMAIL\n"
     ]
    }
   ],
   "source": [
    "import java.util.Set;\n",
    "import com.aliasi.chunk.Chunk;\n",
    "import com.aliasi.chunk.Chunker;\n",
    "import com.aliasi.chunk.Chunking;\n",
    "import com.aliasi.chunk.RegExChunker;\n",
    "\n",
    "String sampleText = \"His email address is hisemail@somecompany.com.\";\n",
    "String emailRegularExpression = \"[A-Za-z0-9](([_\\\\.\\\\-]?[a-zA-Z0-9]+)*)@(\" + \n",
    "    \"[A-Za-z0-9]+)(([\\\\.\\\\-]?[a-zA-Z0-9]+)*)\\\\.([A-Za-z]{2,})\";\n",
    "\n",
    "Chunker chunker = new RegExChunker(emailRegularExpression,\"EMAIL\",1.0);\n",
    "Chunking chunking = chunker.chunk(sampleText);\n",
    "Set<Chunk> chunkSet = chunking.chunkSet();\n",
    "\n",
    "for (Chunk chunk : chunkSet) {\n",
    "    System.out.println(\"Entity: \" + \n",
    "        sampleText.substring(chunk.start(), chunk.end()) + \n",
    "        \"\\tType: \" + chunk.type());\n",
    "}"
   ]
  },
  {
   "cell_type": "code",
   "execution_count": null,
   "metadata": {},
   "outputs": [],
   "source": []
  }
 ],
 "metadata": {
  "kernelspec": {
   "display_name": "Java",
   "language": "java",
   "name": "java"
  },
  "language_info": {
   "codemirror_mode": "java",
   "file_extension": ".jshell",
   "mimetype": "text/x-java-source",
   "name": "Java",
   "pygments_lexer": "java",
   "version": "14.0.1+7"
  }
 },
 "nbformat": 4,
 "nbformat_minor": 4
}
