{
 "cells": [
  {
   "cell_type": "markdown",
   "metadata": {},
   "source": [
    "## Finding Semantic Similarity"
   ]
  },
  {
   "cell_type": "code",
   "execution_count": 1,
   "metadata": {},
   "outputs": [],
   "source": [
    "%%loadFromPOM\n",
    "<!-- https://mvnrepository.com/artifact/org.apache.commons/commons-text -->\n",
    "<dependency>\n",
    "    <groupId>org.apache.commons</groupId>\n",
    "    <artifactId>commons-text</artifactId>\n",
    "    <version>1.6</version>\n",
    "</dependency>"
   ]
  },
  {
   "cell_type": "code",
   "execution_count": 2,
   "metadata": {},
   "outputs": [],
   "source": [
    "import java.util.Arrays;\n",
    "import java.util.HashMap;\n",
    "import java.util.Map;\n",
    "import java.util.stream.Collectors;\n",
    "import org.apache.commons.text.similarity.CosineSimilarity;"
   ]
  },
  {
   "cell_type": "code",
   "execution_count": 4,
   "metadata": {},
   "outputs": [
    {
     "name": "stdout",
     "output_type": "stream",
     "text": [
      "0.9659\n"
     ]
    },
    {
     "data": {
      "text/plain": [
       "java.io.PrintStream@6fb30523"
      ]
     },
     "execution_count": 4,
     "metadata": {},
     "output_type": "execute_result"
    }
   ],
   "source": [
    "CosineSimilarity cosineSimilarity = new CosineSimilarity();\n",
    "String firstSample = \"A simple sentence\";\n",
    "String secondSample = \"One simple sentence\";\n",
    "\n",
    "// Create sentence vectors with lambda expression\n",
    "Map<CharSequence, Integer> vectorA = Arrays.stream(firstSample.split(\"\")).collect(\n",
    "                                        Collectors.toMap(character -> character,\n",
    "                                                        character -> 1, \n",
    "                                                        Integer::sum));\n",
    "Map<CharSequence, Integer> vectorB = Arrays.stream(secondSample.split(\"\")).collect(\n",
    "                                        Collectors.toMap(character -> character,\n",
    "                                                        character -> 1,\n",
    "                                                        Integer::sum));\n",
    "// Print the cosine similarity\n",
    "System.out.printf(\"%5.4f\\n\", cosineSimilarity.cosineSimilarity(vectorA, vectorB));"
   ]
  },
  {
   "cell_type": "code",
   "execution_count": 5,
   "metadata": {},
   "outputs": [
    {
     "name": "stdout",
     "output_type": "stream",
     "text": [
      "0.9659\n"
     ]
    },
    {
     "data": {
      "text/plain": [
       "java.io.PrintStream@6fb30523"
      ]
     },
     "execution_count": 5,
     "metadata": {},
     "output_type": "execute_result"
    }
   ],
   "source": [
    "// Without lambda \n",
    "HashMap<CharSequence, Integer> vectorC = new HashMap<>();\n",
    "for (char character : secondSample.toCharArray()) {\n",
    "    int count = (vectorC.get(character + \"\") == null) ? 0 : vectorC.get(character + \"\");\n",
    "    vectorC.put(character + \"\", count + 1);\n",
    "}\n",
    "\n",
    "System.out.printf(\"%5.4f\\n\",cosineSimilarity.cosineSimilarity(vectorA, vectorC));\n"
   ]
  },
  {
   "cell_type": "code",
   "execution_count": 7,
   "metadata": {},
   "outputs": [
    {
     "name": "stdout",
     "output_type": "stream",
     "text": [
      "0.6667\n"
     ]
    },
    {
     "data": {
      "text/plain": [
       "java.io.PrintStream@6fb30523"
      ]
     },
     "execution_count": 7,
     "metadata": {},
     "output_type": "execute_result"
    }
   ],
   "source": [
    "// Split the strings into words\n",
    "vectorA = Arrays.stream(firstSample.split(\" \")).collect(Collectors.toMap(word -> word,\n",
    "                                                                        word -> 1, \n",
    "                                                                        Integer::sum));\n",
    "vectorB = Arrays.stream(secondSample.split(\" \")).collect(Collectors.toMap(word -> word,\n",
    "                                                                        word -> 1, \n",
    "                                                                        Integer::sum));\n",
    "\n",
    "System.out.printf(\"%5.4f\\n\",cosineSimilarity.cosineSimilarity(vectorA, vectorB));"
   ]
  },
  {
   "cell_type": "code",
   "execution_count": 13,
   "metadata": {},
   "outputs": [],
   "source": [
    "void calculateTextSimilarity(String phrase1, String phrase2) {\n",
    "    Map<CharSequence, Integer> vectorA = Arrays.stream(phrase1.split(\"\")).collect(\n",
    "                                        Collectors.toMap(word -> word,\n",
    "                                                        word -> 1, \n",
    "                                                        Integer::sum));\n",
    "    Map<CharSequence, Integer> vectorB = Arrays.stream(phrase2.split(\"\")).collect(\n",
    "                                        Collectors.toMap(word -> word,\n",
    "                                                        word -> 1,\n",
    "                                                        Integer::sum));\n",
    "    System.out.printf(\"%5.4f\\n\",cosineSimilarity.cosineSimilarity(vectorA, vectorB));\n",
    "}"
   ]
  },
  {
   "cell_type": "code",
   "execution_count": 14,
   "metadata": {},
   "outputs": [
    {
     "name": "stdout",
     "output_type": "stream",
     "text": [
      "0.7938\n",
      "0.8898\n",
      "0.7817\n"
     ]
    }
   ],
   "source": [
    "String first = \"I kid you not this is amazing, right?\";\n",
    "String second = \"I can understand this is awesome!\";\n",
    "String third = \"Is this outright not nice?\";\n",
    "calculateTextSimilarity(first, second);\n",
    "calculateTextSimilarity(first, third);\n",
    "calculateTextSimilarity(second, third);"
   ]
  },
  {
   "cell_type": "code",
   "execution_count": null,
   "metadata": {},
   "outputs": [],
   "source": []
  }
 ],
 "metadata": {
  "kernelspec": {
   "display_name": "Java",
   "language": "java",
   "name": "java"
  },
  "language_info": {
   "codemirror_mode": "java",
   "file_extension": ".jshell",
   "mimetype": "text/x-java-source",
   "name": "Java",
   "pygments_lexer": "java",
   "version": "14.0.1+7"
  }
 },
 "nbformat": 4,
 "nbformat_minor": 4
}
