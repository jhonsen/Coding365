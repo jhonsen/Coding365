{
 "cells": [
  {
   "cell_type": "markdown",
   "metadata": {},
   "source": [
    "## Sentiment Analysis using stanford NLP"
   ]
  },
  {
   "cell_type": "code",
   "execution_count": 1,
   "metadata": {},
   "outputs": [
    {
     "name": "stdout",
     "output_type": "stream",
     "text": [
      ":: problems summary ::\n",
      ":::: ERRORS\n",
      "\tunknown resolver null\n",
      "\n",
      "\tunknown resolver null\n",
      "\n"
     ]
    }
   ],
   "source": [
    "%%loadFromPOM\n",
    "<!-- https://mvnrepository.com/artifact/edu.stanford.nlp/stanford-corenlp -->\n",
    "<dependency>\n",
    "    <groupId>edu.stanford.nlp</groupId>\n",
    "    <artifactId>stanford-corenlp</artifactId>\n",
    "    <version>4.2.0</version>\n",
    "</dependency>\n"
   ]
  },
  {
   "cell_type": "code",
   "execution_count": 5,
   "metadata": {},
   "outputs": [
    {
     "name": "stdout",
     "output_type": "stream",
     "text": [
      ":: problems summary ::\n",
      ":::: ERRORS\n",
      "\tunknown resolver null\n",
      "\n",
      "\tunknown resolver null\n",
      "\n"
     ]
    }
   ],
   "source": [
    "%%loadFromPOM\n",
    "<!-- https://mvnrepository.com/artifact/edu.stanford.nlp/stanford-corenlp -->\n",
    "<dependency>\n",
    "    <groupId>edu.stanford.nlp</groupId>\n",
    "    <artifactId>stanford-corenlp</artifactId>\n",
    "    <version>4.2.0</version>\n",
    "    <classifier>models</classifier>\n",
    "</dependency>"
   ]
  },
  {
   "cell_type": "code",
   "execution_count": 6,
   "metadata": {},
   "outputs": [],
   "source": [
    "import java.util.Properties;\n",
    "import edu.stanford.nlp.ling.CoreAnnotations;\n",
    "import edu.stanford.nlp.neural.rnn.RNNCoreAnnotations;\n",
    "import edu.stanford.nlp.pipeline.Annotation;\n",
    "import edu.stanford.nlp.pipeline.StanfordCoreNLP;\n",
    "import edu.stanford.nlp.sentiment.SentimentCoreAnnotations;\n",
    "import edu.stanford.nlp.trees.Tree;\n",
    "import edu.stanford.nlp.util.CoreMap;"
   ]
  },
  {
   "cell_type": "code",
   "execution_count": 7,
   "metadata": {},
   "outputs": [],
   "source": [
    "String goodReview = \"With its impressive action sequences, \" +\n",
    "    \"taut economic direction, and relentlessly fast pace, \" +\n",
    "    \"it's clear why The Terminator continues to be an \" +\n",
    "    \"influence on sci-fi and action flicks.\";\n",
    "String badReview = \"\\r\\n\" + \n",
    "    \"There are a few jumps and bumps, but there's no real \" +\n",
    "    \"sense of dread, unease or questioning. We simply \" +\n",
    "    \"watch the events unfold with a full understanding \" +\n",
    "    \"of what's going on.\";"
   ]
  },
  {
   "cell_type": "code",
   "execution_count": 8,
   "metadata": {},
   "outputs": [],
   "source": [
    "// Setup stanford pipeline for processing\n",
    "Properties properties = new Properties();\n",
    "properties.setProperty(\"annotators\", \"tokenize, ssplit, parse, sentiment\");\n",
    "StanfordCoreNLP pipeline = new StanfordCoreNLP(properties);"
   ]
  },
  {
   "cell_type": "code",
   "execution_count": 34,
   "metadata": {},
   "outputs": [],
   "source": [
    "void predictSentiment(String[] lines) {\n",
    "    int predicatedTotal = 0;\n",
    "    for (int i = 0; i < lines.length; i++) {\n",
    "        Annotation annotation = pipeline.process(lines[i]);\n",
    "        CoreMap coreMapSentence = annotation.get(CoreAnnotations.SentencesAnnotation.class).get(0);\n",
    "        Tree tree = coreMapSentence.get(SentimentCoreAnnotations.SentimentAnnotatedTree.class);\n",
    "        String sentiment = coreMapSentence.get(SentimentCoreAnnotations.SentimentClass.class);\n",
    "        int predictedScore = RNNCoreAnnotations.getPredictedClass(tree);\n",
    "        predicatedTotal = predicatedTotal + (predictedScore);\n",
    "\n",
    "        System.out.println(\"Text : \" + lines[i]);\n",
    "        System.out.println(\"Score: \" + predictedScore);\n",
    "        System.out.println(\"Sentiment: \" + sentiment);\n",
    "        System.out.println(\"-------------------------\");\n",
    "    }\n",
    "    System.out.println();\n",
    "    System.out.printf(\"Avg Sentiment Score: %3.1f\", predicatedTotal/(float)lines.length);\n",
    "}\n",
    "\n"
   ]
  },
  {
   "cell_type": "code",
   "execution_count": 35,
   "metadata": {},
   "outputs": [
    {
     "name": "stdout",
     "output_type": "stream",
     "text": [
      "Text : \n",
      "There are a few jumps and bumps, but there's no real sense of dread, unease or questioning\n",
      "Score: 1\n",
      "Sentiment: Negative\n",
      "-------------------------\n",
      "Text :  We simply watch the events unfold with a full understanding of what's going on\n",
      "Score: 2\n",
      "Sentiment: Neutral\n",
      "-------------------------\n",
      "\n",
      "Avg Sentiment Score: 1.5"
     ]
    }
   ],
   "source": [
    "String[] lines = badReview.split(\"\\\\.\");\n",
    "predictSentiment(lines);"
   ]
  },
  {
   "cell_type": "code",
   "execution_count": 36,
   "metadata": {},
   "outputs": [
    {
     "name": "stdout",
     "output_type": "stream",
     "text": [
      "Text : With its impressive action sequences, taut economic direction, and relentlessly fast pace, it's clear why The Terminator continues to be an influence on sci-fi and action flicks\n",
      "Score: 3\n",
      "Sentiment: Positive\n",
      "-------------------------\n",
      "\n",
      "Avg Sentiment Score: 3.0"
     ]
    }
   ],
   "source": [
    "String[] lines = goodReview.split(\"\\\\.\");\n",
    "predictSentiment(lines);"
   ]
  },
  {
   "cell_type": "code",
   "execution_count": null,
   "metadata": {},
   "outputs": [],
   "source": []
  }
 ],
 "metadata": {
  "kernelspec": {
   "display_name": "Java",
   "language": "java",
   "name": "java"
  },
  "language_info": {
   "codemirror_mode": "java",
   "file_extension": ".jshell",
   "mimetype": "text/x-java-source",
   "name": "Java",
   "pygments_lexer": "java",
   "version": "14.0.1+7"
  }
 },
 "nbformat": 4,
 "nbformat_minor": 4
}
