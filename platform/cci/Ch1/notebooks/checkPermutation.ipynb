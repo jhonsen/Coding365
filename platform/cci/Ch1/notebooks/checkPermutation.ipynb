{
 "cells": [
  {
   "cell_type": "markdown",
   "metadata": {},
   "source": [
    "## `Check Permutation` \n",
    "\n",
    "**Instructions**\n",
    "- Given two strings, write a method to decide if one is a permutation of the other\n",
    "  \n",
    "Hints:\n",
    "- Define permutations\n",
    "- There's 1 O(NlogN) solution and another O(N) time\n",
    "- Use Hash Table?\n",
    "- Two strings thata are permutations should have same characters but different orders. Can you make the order the same?"
   ]
  },
  {
   "cell_type": "markdown",
   "metadata": {},
   "source": [
    "#### Use **Python** kernel"
   ]
  },
  {
   "cell_type": "code",
   "execution_count": 9,
   "metadata": {},
   "outputs": [],
   "source": [
    "test_cases = [(\"abcd\", \"dcab\"),  # True \n",
    "              (\"aaa\", \"aab\"),    # False\n",
    "              (\"abad\", \"bada\"),  # True\n",
    "             ]"
   ]
  },
  {
   "cell_type": "code",
   "execution_count": 29,
   "metadata": {},
   "outputs": [],
   "source": [
    "def is_permutation_with_sort(string1, string2):\n",
    "    return sorted(string1) == sorted(string2)\n",
    "\n",
    "def is_permutation_with_hash(string1, string2):\n",
    "    from collections import Counter\n",
    "    return Counter(string1) == Counter(string2)\n",
    "\n",
    "def is_permutation_with_list(string1, string2):\n",
    "    if len(string1) != len(string2):\n",
    "        return False\n",
    "    a, b = list(string1), list(string2)\n",
    "    try:\n",
    "        while len(b)>0: \n",
    "            b.remove(a.pop())\n",
    "    except ValueError:\n",
    "            return False\n",
    "    return True\n",
    "    "
   ]
  },
  {
   "cell_type": "code",
   "execution_count": 30,
   "metadata": {},
   "outputs": [
    {
     "data": {
      "text/plain": [
       "[True, False, True]"
      ]
     },
     "execution_count": 30,
     "metadata": {},
     "output_type": "execute_result"
    }
   ],
   "source": [
    "[is_permutation_with_list(*case) for case in test_cases]"
   ]
  },
  {
   "cell_type": "code",
   "execution_count": 13,
   "metadata": {},
   "outputs": [
    {
     "data": {
      "text/plain": [
       "[True, False, True]"
      ]
     },
     "execution_count": 13,
     "metadata": {},
     "output_type": "execute_result"
    }
   ],
   "source": [
    "[is_permutation_with_sort(*case) for case in test_cases]"
   ]
  },
  {
   "cell_type": "code",
   "execution_count": 14,
   "metadata": {},
   "outputs": [
    {
     "data": {
      "text/plain": [
       "[True, False, True]"
      ]
     },
     "execution_count": 14,
     "metadata": {},
     "output_type": "execute_result"
    }
   ],
   "source": [
    "[is_permutation_with_hash(*case) for case in test_cases]"
   ]
  },
  {
   "cell_type": "markdown",
   "metadata": {},
   "source": [
    "Use `iJava` kernel"
   ]
  },
  {
   "cell_type": "code",
   "execution_count": null,
   "metadata": {},
   "outputs": [],
   "source": []
  }
 ],
 "metadata": {
  "kernelspec": {
   "display_name": "Python 3.7.5 64-bit ('testenv': conda)",
   "language": "python",
   "name": "python37564bittestenvcondac5cb5da85e6d407dbd8008e204032fa3"
  },
  "language_info": {
   "codemirror_mode": {
    "name": "ipython",
    "version": 3
   },
   "file_extension": ".py",
   "mimetype": "text/x-python",
   "name": "python",
   "nbconvert_exporter": "python",
   "pygments_lexer": "ipython3",
   "version": "3.7.5"
  }
 },
 "nbformat": 4,
 "nbformat_minor": 4
}
