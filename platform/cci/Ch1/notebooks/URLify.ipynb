{
 "cells": [
  {
   "cell_type": "markdown",
   "metadata": {},
   "source": [
    "## `URLify` \n",
    "\n",
    "**Instructions**\n",
    "- Write a method to replace all spaces in a string with '%20'. You may assume that the string has sufficient space at the end to hold the additional characters, and that you are given the true length of the string\n",
    "- If implementing in Java, please use a character array so you can perform the operation in place\n",
    "\n",
    "**Input:** `\"Mr John Smith    \", 13`  \n",
    "**Output:** `Mr%20John%20Smith\"`\n",
    "\n",
    "Hints:\n",
    "- it is often easier to go from the end to the beginning\n",
    "- Count the number of spaces?"
   ]
  },
  {
   "cell_type": "markdown",
   "metadata": {},
   "source": [
    "#### Use **Python** kernel"
   ]
  },
  {
   "cell_type": "code",
   "execution_count": 5,
   "metadata": {},
   "outputs": [],
   "source": [
    "def urlify_simple(name, length):\n",
    "    output = ''\n",
    "    for letter in name.strip():\n",
    "        if letter != ' ':\n",
    "            output += letter\n",
    "        else:\n",
    "            output += '%20'\n",
    "    return output"
   ]
  },
  {
   "cell_type": "code",
   "execution_count": 4,
   "metadata": {},
   "outputs": [
    {
     "data": {
      "text/plain": [
       "'Mr.%20John%20Smith'"
      ]
     },
     "execution_count": 4,
     "metadata": {},
     "output_type": "execute_result"
    }
   ],
   "source": [
    "urlify('Mr. John Smith      ', 13)"
   ]
  },
  {
   "cell_type": "code",
   "execution_count": null,
   "metadata": {},
   "outputs": [],
   "source": []
  }
 ],
 "metadata": {
  "kernelspec": {
   "display_name": "Python 3.7.5 64-bit ('testenv': conda)",
   "language": "python",
   "name": "python37564bittestenvcondac5cb5da85e6d407dbd8008e204032fa3"
  },
  "language_info": {
   "codemirror_mode": {
    "name": "ipython",
    "version": 3
   },
   "file_extension": ".py",
   "mimetype": "text/x-python",
   "name": "python",
   "nbconvert_exporter": "python",
   "pygments_lexer": "ipython3",
   "version": "3.7.5"
  }
 },
 "nbformat": 4,
 "nbformat_minor": 4
}
