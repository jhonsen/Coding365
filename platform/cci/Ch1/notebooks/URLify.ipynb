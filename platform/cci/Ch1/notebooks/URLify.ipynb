{
 "cells": [
  {
   "cell_type": "markdown",
   "metadata": {},
   "source": [
    "## `URLify` \n",
    "\n",
    "**Instructions**\n",
    "- Write a method to replace all spaces in a string with '%20'. You may assume that the string has sufficient space at the end to hold the additional characters, and that you are given the true length of the string\n",
    "- If implementing in Java, please use a character array so you can perform the operation in place\n",
    "\n",
    "**Input:** `\"Mr John Smith    \", 13`  \n",
    "**Output:** `Mr%20John%20Smith\"`\n",
    "\n",
    "Hints:\n",
    "- it is often easier to go from the end to the beginning\n",
    "- Count the number of spaces?"
   ]
  },
  {
   "cell_type": "markdown",
   "metadata": {},
   "source": [
    "#### Use **Python** kernel"
   ]
  },
  {
   "cell_type": "code",
   "execution_count": 5,
   "metadata": {},
   "outputs": [],
   "source": [
    "def urlify_simple(name, length):\n",
    "    output = ''\n",
    "    for letter in name.strip():\n",
    "        if letter != ' ':\n",
    "            output += letter\n",
    "        else:\n",
    "            output += '%20'\n",
    "    return output"
   ]
  },
  {
   "cell_type": "code",
   "execution_count": 4,
   "metadata": {},
   "outputs": [
    {
     "data": {
      "text/plain": [
       "'Mr.%20John%20Smith'"
      ]
     },
     "execution_count": 4,
     "metadata": {},
     "output_type": "execute_result"
    }
   ],
   "source": [
    "urlify('Mr. John Smith   ', 16)"
   ]
  },
  {
   "cell_type": "markdown",
   "metadata": {},
   "source": [
    "---"
   ]
  },
  {
   "cell_type": "markdown",
   "metadata": {},
   "source": [
    "#### Use **iJava** kernel"
   ]
  },
  {
   "cell_type": "code",
   "execution_count": 112,
   "metadata": {},
   "outputs": [],
   "source": [
    "import java.util.*;\n",
    "\n",
    "String urlify(String email, int stringLength){\n",
    "    \n",
    "    char[] inputArray = email.toCharArray();\n",
    "    \n",
    "    // Count the number of spaces\n",
    "    int spaceCount = 0;\n",
    "    for (char c:inputArray){\n",
    "        if (c == ' ') { spaceCount++; }\n",
    "    }\n",
    "    int charNumber = stringLength - spaceCount + 2;\n",
    "    \n",
    "    String[] outputArray = new String[stringLength];\n",
    "    \n",
    "    int i = 0;\n",
    "    for (char c :inputArray){\n",
    "        String letter = Character.toString(c);\n",
    "        if (letter.equals(\" \")) {\n",
    "            outputArray[i] = \"%20\";            \n",
    "        } else{\n",
    "            outputArray[i] = letter;\n",
    "        }\n",
    "        i++;\n",
    "    }\n",
    "    \n",
    "    // Strip extra spaces at the end\n",
    "    String[] slicedArray = Arrays.copyOfRange(outputArray, 0, charNumber);\n",
    "    String emailURL = String.join(\"\", slicedArray);\n",
    "    return emailURL;\n",
    "}"
   ]
  },
  {
   "cell_type": "code",
   "execution_count": 113,
   "metadata": {},
   "outputs": [
    {
     "data": {
      "text/plain": [
       "Mr%20John%20Smith"
      ]
     },
     "execution_count": 113,
     "metadata": {},
     "output_type": "execute_result"
    }
   ],
   "source": [
    "String testString = \"Mr John Smith   \";\n",
    "int testSpace = 16;\n",
    "urlify(testString, testSpace);"
   ]
  },
  {
   "cell_type": "markdown",
   "metadata": {},
   "source": [
    "---"
   ]
  }
 ],
 "metadata": {
  "kernelspec": {
   "display_name": "Python 3.7.5 64-bit ('testenv': conda)",
   "language": "python",
   "name": "python37564bittestenvcondac5cb5da85e6d407dbd8008e204032fa3"
  },
  "language_info": {
   "codemirror_mode": "java",
   "file_extension": ".jshell",
   "mimetype": "text/x-java-source",
   "name": "Java",
   "pygments_lexer": "java",
   "version": "14.0.1+7"
  }
 },
 "nbformat": 4,
 "nbformat_minor": 4
}
