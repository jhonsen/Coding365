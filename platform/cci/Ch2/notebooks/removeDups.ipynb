{
 "cells": [
  {
   "cell_type": "markdown",
   "metadata": {},
   "source": [
    "## `2.1. remove Dups` \n",
    "\n",
    "**Instructions**\n",
    "- Write code to remove duplicates from an unsorted linked list\n",
    "- How would you solve this problem if temporary buffer is not allowed?\n",
    "\n",
    "Hints:\n",
    "- Hash Table?\n",
    "- Solve in O (N * N) by using 2 pointers; one ahead the other"
   ]
  },
  {
   "cell_type": "markdown",
   "metadata": {},
   "source": [
    "#### Use **Python** kernel"
   ]
  },
  {
   "cell_type": "code",
   "execution_count": 67,
   "metadata": {},
   "outputs": [],
   "source": [
    "class Node:\n",
    "    def __init__(self, val = 0, next = None):\n",
    "        self.val = val\n",
    "        self.next = next\n",
    "        \n",
    "class LinkedList:\n",
    "    def __init__(self):\n",
    "        self.head = None\n",
    "    \n",
    "    def display(self):\n",
    "        current = self.head\n",
    "        while current is not None:\n",
    "            print(current.val, end = \" \")\n",
    "            current = current.next\n",
    "    \n",
    "    def push(self, new_val):\n",
    "        new_node = Node(new_val)\n",
    "        new_node.next = self.head\n",
    "        self.head = new_node\n",
    "    \n",
    "    def remove_dupes(self):\n",
    "        current = self.head\n",
    "        collector = dict()\n",
    "        collector[current.val] = 1\n",
    "        while current.next:\n",
    "            if current.next.val in collector:\n",
    "                current.next = current.next.next\n",
    "            else:\n",
    "                collector[current.next.val] = 1\n",
    "                current = current.next\n",
    "        return self\n",
    "                "
   ]
  },
  {
   "cell_type": "code",
   "execution_count": 68,
   "metadata": {},
   "outputs": [
    {
     "name": "stdout",
     "output_type": "stream",
     "text": [
      "4 1 3 1 0 "
     ]
    }
   ],
   "source": [
    "# Setup the linked list\n",
    "li = LinkedList()\n",
    "li.head = Node()\n",
    "li.push(1)\n",
    "li.push(3)\n",
    "li.push(1)\n",
    "li.push(4)\n",
    "li.display()"
   ]
  },
  {
   "cell_type": "code",
   "execution_count": 69,
   "metadata": {},
   "outputs": [
    {
     "name": "stdout",
     "output_type": "stream",
     "text": [
      "4 1 3 0 "
     ]
    }
   ],
   "source": [
    "li.remove_dupes().display()"
   ]
  },
  {
   "cell_type": "markdown",
   "metadata": {},
   "source": [
    "---"
   ]
  }
 ],
 "metadata": {
  "kernelspec": {
   "display_name": "Python 3.7.5 64-bit ('testenv': conda)",
   "language": "python",
   "name": "python37564bittestenvcondac5cb5da85e6d407dbd8008e204032fa3"
  },
  "language_info": {
   "codemirror_mode": {
    "name": "ipython",
    "version": 3
   },
   "file_extension": ".py",
   "mimetype": "text/x-python",
   "name": "python",
   "nbconvert_exporter": "python",
   "pygments_lexer": "ipython3",
   "version": "3.7.5"
  }
 },
 "nbformat": 4,
 "nbformat_minor": 4
}
