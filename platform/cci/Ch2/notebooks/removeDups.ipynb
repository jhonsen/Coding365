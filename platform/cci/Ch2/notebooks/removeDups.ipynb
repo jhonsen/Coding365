{
 "cells": [
  {
   "cell_type": "markdown",
   "metadata": {},
   "source": [
    "## `2.1. remove Dups` \n",
    "\n",
    "**Instructions**\n",
    "- Write code to remove duplicates from an unsorted linked list\n",
    "- How would you solve this problem if temporary buffer is not allowed?\n",
    "\n",
    "Hints:\n",
    "- Hash Table?\n",
    "- Solve in O (N * N) by using 2 pointers; one ahead the other"
   ]
  },
  {
   "cell_type": "markdown",
   "metadata": {},
   "source": [
    "#### Use **Python** kernel"
   ]
  },
  {
   "cell_type": "code",
   "execution_count": 67,
   "metadata": {},
   "outputs": [],
   "source": [
    "class Node:\n",
    "    def __init__(self, val = 0, next = None):\n",
    "        self.val = val\n",
    "        self.next = next\n",
    "        \n",
    "class LinkedList:\n",
    "    def __init__(self):\n",
    "        self.head = None\n",
    "    \n",
    "    def display(self):\n",
    "        current = self.head\n",
    "        while current is not None:\n",
    "            print(current.val, end = \" \")\n",
    "            current = current.next\n",
    "    \n",
    "    def push(self, new_val):\n",
    "        new_node = Node(new_val)\n",
    "        new_node.next = self.head\n",
    "        self.head = new_node\n",
    "    \n",
    "    def remove_dupes(self):\n",
    "        current = self.head\n",
    "        collector = dict()\n",
    "        collector[current.val] = 1\n",
    "        while current.next:\n",
    "            if current.next.val in collector:\n",
    "                current.next = current.next.next\n",
    "            else:\n",
    "                collector[current.next.val] = 1\n",
    "                current = current.next\n",
    "        return self\n",
    "                "
   ]
  },
  {
   "cell_type": "code",
   "execution_count": 68,
   "metadata": {},
   "outputs": [
    {
     "name": "stdout",
     "output_type": "stream",
     "text": [
      "4 1 3 1 0 "
     ]
    }
   ],
   "source": [
    "# Setup the linked list\n",
    "li = LinkedList()\n",
    "li.head = Node()\n",
    "li.push(1)\n",
    "li.push(3)\n",
    "li.push(1)\n",
    "li.push(4)\n",
    "li.display()"
   ]
  },
  {
   "cell_type": "code",
   "execution_count": 69,
   "metadata": {},
   "outputs": [
    {
     "name": "stdout",
     "output_type": "stream",
     "text": [
      "4 1 3 0 "
     ]
    }
   ],
   "source": [
    "li.remove_dupes().display()"
   ]
  },
  {
   "cell_type": "markdown",
   "metadata": {},
   "source": [
    "---"
   ]
  },
  {
   "cell_type": "markdown",
   "metadata": {},
   "source": [
    "#### Use **iJava** kernel"
   ]
  },
  {
   "cell_type": "code",
   "execution_count": 12,
   "metadata": {},
   "outputs": [],
   "source": [
    "class Node{\n",
    "    int data;\n",
    "    Node next;\n",
    "    \n",
    "    Node (int d) {\n",
    "        data = d;\n",
    "        next = null;\n",
    "    }\n",
    "}\n",
    "\n",
    "class LinkedList{\n",
    "    Node head;\n",
    "    void push(int newData){\n",
    "        Node newNode = new Node(newData);\n",
    "        newNode.next = head;\n",
    "        head = newNode; \n",
    "    }\n",
    "    \n",
    "    void printList(){\n",
    "        Node current = head;\n",
    "        while (current != null){\n",
    "            System.out.print(current.data+\" \");\n",
    "            current = current.next;\n",
    "        }\n",
    "    }\n",
    "    \n",
    "    void removeDupes(){\n",
    "        Node current = head;\n",
    "        HashMap<Integer, Integer> collector = new HashMap<Integer, Integer>();\n",
    "        collector.put(current.data,1);\n",
    "        while (current.next != null) {\n",
    "            if (collector.containsKey(current.next.data)){\n",
    "                current.next = current.next.next;\n",
    "            }\n",
    "            else{\n",
    "                collector.put(current.next.data,1);\n",
    "                current = current.next;\n",
    "            }\n",
    "        }\n",
    "    }\n",
    "}"
   ]
  },
  {
   "cell_type": "code",
   "execution_count": 13,
   "metadata": {},
   "outputs": [
    {
     "name": "stdout",
     "output_type": "stream",
     "text": [
      "1 2 1 3 "
     ]
    }
   ],
   "source": [
    "LinkedList linkList = new LinkedList();\n",
    "linkList.head = new Node(1);\n",
    "linkList.head.next = new Node(2);\n",
    "linkList.head.next.next = new Node(1);\n",
    "linkList.head.next.next.next = new Node(3);\n",
    "linkList.printList();"
   ]
  },
  {
   "cell_type": "code",
   "execution_count": 19,
   "metadata": {},
   "outputs": [
    {
     "name": "stdout",
     "output_type": "stream",
     "text": [
      "1 2 3 "
     ]
    }
   ],
   "source": [
    "linkList.removeDupes();\n",
    "linkList.printList();"
   ]
  },
  {
   "cell_type": "markdown",
   "metadata": {},
   "source": [
    "---"
   ]
  }
 ],
 "metadata": {
  "kernelspec": {
   "display_name": "Java",
   "language": "java",
   "name": "java"
  },
  "language_info": {
   "codemirror_mode": "java",
   "file_extension": ".jshell",
   "mimetype": "text/x-java-source",
   "name": "Java",
   "pygments_lexer": "java",
   "version": "14.0.1+7"
  }
 },
 "nbformat": 4,
 "nbformat_minor": 4
}
