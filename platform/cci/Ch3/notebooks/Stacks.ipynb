{
 "cells": [
  {
   "cell_type": "markdown",
   "metadata": {},
   "source": [
    "## Stacks"
   ]
  },
  {
   "cell_type": "markdown",
   "metadata": {},
   "source": [
    "Use **Python** kernel"
   ]
  },
  {
   "cell_type": "code",
   "execution_count": 8,
   "metadata": {},
   "outputs": [],
   "source": [
    "class StackNode:\n",
    "    def __init__(self, data):\n",
    "        self.data = data\n",
    "        self.next = None\n",
    "        \n",
    "class Stack:\n",
    "    def __init__(self):\n",
    "        self.top = None\n",
    "    \n",
    "    def isEmpty(self):\n",
    "        return True if self.top is None else False\n",
    "    \n",
    "    def push(self, data):\n",
    "        newNode = StackNode(data)\n",
    "        newNode.next = self.top\n",
    "        self.top = newNode\n",
    "        print(\"%d pushed to stack\" %data)\n",
    "\n",
    "    def pop(self):\n",
    "        if self.isEmpty():\n",
    "            return -1\n",
    "        firstNode = self.top\n",
    "        popped = firstNode.data\n",
    "        return popped\n",
    "    \n",
    "    def peek(self):\n",
    "        if self.isEmpty():\n",
    "            return -1\n",
    "        return self.top.data"
   ]
  },
  {
   "cell_type": "code",
   "execution_count": 9,
   "metadata": {},
   "outputs": [
    {
     "name": "stdout",
     "output_type": "stream",
     "text": [
      "10 pushed to stack\n",
      "20 pushed to stack\n",
      "30 pushed to stack\n"
     ]
    },
    {
     "data": {
      "text/plain": [
       "30"
      ]
     },
     "execution_count": 9,
     "metadata": {},
     "output_type": "execute_result"
    }
   ],
   "source": [
    "stack = Stack()\n",
    "stack.push(10)\n",
    "stack.push(20)\n",
    "stack.push(30)\n",
    "stack.peek()"
   ]
  },
  {
   "cell_type": "markdown",
   "metadata": {},
   "source": [
    "Use **iJava** kernel"
   ]
  },
  {
   "cell_type": "code",
   "execution_count": 35,
   "metadata": {},
   "outputs": [],
   "source": [
    "class MyStack {    \n",
    "    StackNode top;\n",
    "    \n",
    "    class StackNode{\n",
    "        int data;\n",
    "        StackNode next;\n",
    "        \n",
    "        StackNode(int data) {\n",
    "            this.data = data;            \n",
    "        }\n",
    "    }\n",
    "\n",
    "    int pop(){\n",
    "        if (top == null) throw new EmptyStackException();\n",
    "        int item = top.data;\n",
    "        top = top.next;\n",
    "        return item;\n",
    "    }\n",
    "    \n",
    "    void push(int item){\n",
    "        StackNode t = new StackNode(item);\n",
    "        t.next = top;\n",
    "        top = t;\n",
    "    }\n",
    "    \n",
    "    int peek(){\n",
    "        if (top == null) throw new EmptyStackException();\n",
    "        return top.data;\n",
    "    }\n",
    "    \n",
    "    boolean isEmpty(){\n",
    "        return top == null;\n",
    "    }\n",
    "}\n"
   ]
  },
  {
   "cell_type": "code",
   "execution_count": 39,
   "metadata": {},
   "outputs": [
    {
     "data": {
      "text/plain": [
       "30"
      ]
     },
     "execution_count": 39,
     "metadata": {},
     "output_type": "execute_result"
    }
   ],
   "source": [
    "MyStack stack = new MyStack();\n",
    "stack.push(10);\n",
    "stack.push(20);\n",
    "stack.push(30);\n",
    "stack.peek()"
   ]
  },
  {
   "cell_type": "code",
   "execution_count": 40,
   "metadata": {},
   "outputs": [
    {
     "data": {
      "text/plain": [
       "30"
      ]
     },
     "execution_count": 40,
     "metadata": {},
     "output_type": "execute_result"
    }
   ],
   "source": [
    "stack.pop()"
   ]
  },
  {
   "cell_type": "code",
   "execution_count": 41,
   "metadata": {},
   "outputs": [
    {
     "data": {
      "text/plain": [
       "20"
      ]
     },
     "execution_count": 41,
     "metadata": {},
     "output_type": "execute_result"
    }
   ],
   "source": [
    "stack.peek()"
   ]
  },
  {
   "cell_type": "code",
   "execution_count": null,
   "metadata": {},
   "outputs": [],
   "source": []
  }
 ],
 "metadata": {
  "kernelspec": {
   "display_name": "Python 3.7.5 64-bit ('testenv': conda)",
   "language": "python",
   "name": "python37564bittestenvcondac5cb5da85e6d407dbd8008e204032fa3"
  },
  "language_info": {
   "codemirror_mode": {
    "name": "ipython",
    "version": 3
   },
   "file_extension": ".py",
   "mimetype": "text/x-python",
   "name": "python",
   "nbconvert_exporter": "python",
   "pygments_lexer": "ipython3",
   "version": "3.7.5"
  }
 },
 "nbformat": 4,
 "nbformat_minor": 4
}
