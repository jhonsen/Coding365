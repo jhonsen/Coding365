{
 "cells": [
  {
   "cell_type": "markdown",
   "metadata": {},
   "source": [
    "## Stacks"
   ]
  },
  {
   "cell_type": "code",
   "execution_count": 35,
   "metadata": {},
   "outputs": [],
   "source": [
    "class MyStack {    \n",
    "    StackNode top;\n",
    "    \n",
    "    class StackNode{\n",
    "        int data;\n",
    "        StackNode next;\n",
    "        \n",
    "        StackNode(int data) {\n",
    "            this.data = data;            \n",
    "        }\n",
    "    }\n",
    "\n",
    "    int pop(){\n",
    "        if (top == null) throw new EmptyStackException();\n",
    "        int item = top.data;\n",
    "        top = top.next;\n",
    "        return item;\n",
    "    }\n",
    "    \n",
    "    void push(int item){\n",
    "        StackNode t = new StackNode(item);\n",
    "        t.next = top;\n",
    "        top = t;\n",
    "    }\n",
    "    \n",
    "    int peek(){\n",
    "        if (top == null) throw new EmptyStackException();\n",
    "        return top.data;\n",
    "    }\n",
    "    \n",
    "    boolean isEmpty(){\n",
    "        return top == null;\n",
    "    }\n",
    "}\n"
   ]
  },
  {
   "cell_type": "code",
   "execution_count": 39,
   "metadata": {},
   "outputs": [
    {
     "data": {
      "text/plain": [
       "30"
      ]
     },
     "execution_count": 39,
     "metadata": {},
     "output_type": "execute_result"
    }
   ],
   "source": [
    "MyStack stack = new MyStack();\n",
    "stack.push(10);\n",
    "stack.push(20);\n",
    "stack.push(30);\n",
    "stack.peek()"
   ]
  },
  {
   "cell_type": "code",
   "execution_count": 40,
   "metadata": {},
   "outputs": [
    {
     "data": {
      "text/plain": [
       "30"
      ]
     },
     "execution_count": 40,
     "metadata": {},
     "output_type": "execute_result"
    }
   ],
   "source": [
    "stack.pop()"
   ]
  },
  {
   "cell_type": "code",
   "execution_count": 41,
   "metadata": {},
   "outputs": [
    {
     "data": {
      "text/plain": [
       "20"
      ]
     },
     "execution_count": 41,
     "metadata": {},
     "output_type": "execute_result"
    }
   ],
   "source": [
    "stack.peek()"
   ]
  },
  {
   "cell_type": "code",
   "execution_count": null,
   "metadata": {},
   "outputs": [],
   "source": []
  }
 ],
 "metadata": {
  "kernelspec": {
   "display_name": "Java",
   "language": "java",
   "name": "java"
  },
  "language_info": {
   "codemirror_mode": "java",
   "file_extension": ".jshell",
   "mimetype": "text/x-java-source",
   "name": "Java",
   "pygments_lexer": "java",
   "version": "14.0.1+7"
  }
 },
 "nbformat": 4,
 "nbformat_minor": 4
}
