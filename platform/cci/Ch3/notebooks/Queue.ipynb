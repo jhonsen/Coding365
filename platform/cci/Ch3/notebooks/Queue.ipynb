{
 "cells": [
  {
   "cell_type": "markdown",
   "metadata": {},
   "source": [
    "## Queue"
   ]
  },
  {
   "cell_type": "markdown",
   "metadata": {},
   "source": [
    "Use **Python** kernel"
   ]
  },
  {
   "cell_type": "code",
   "execution_count": 11,
   "metadata": {},
   "outputs": [],
   "source": [
    "class MyQueue:\n",
    "    def __init__(self, data):\n",
    "        self.data = data\n",
    "        self.next = None\n",
    "        \n",
    "class Queue:\n",
    "    def __init__(self):\n",
    "        self.first = None\n",
    "        self.last = None\n",
    "    \n",
    "    def add(self, item):\n",
    "        newQueue = MyQueue(item)\n",
    "        if (self.last != None):\n",
    "            self.last.next = newQueue\n",
    "        self.last = newQueue\n",
    "        if (self.first == None):\n",
    "            self.first = self.last\n",
    "    \n",
    "    def isEmpty(self):\n",
    "        return True if self.first == None else False\n",
    "    \n",
    "    def peek(self):\n",
    "        if self.isEmpty():\n",
    "            return -1\n",
    "        return self.first.data \n",
    "    \n",
    "    def remove(self):\n",
    "        if self.isEmpty():\n",
    "            return -1\n",
    "        data = self.first.data\n",
    "        self.first = self.first.next\n",
    "        if (self.first == None):\n",
    "            self.last = None\n",
    "        return data"
   ]
  },
  {
   "cell_type": "code",
   "execution_count": 12,
   "metadata": {},
   "outputs": [
    {
     "data": {
      "text/plain": [
       "10"
      ]
     },
     "execution_count": 12,
     "metadata": {},
     "output_type": "execute_result"
    }
   ],
   "source": [
    "q = Queue()\n",
    "q.add(10)\n",
    "q.add(20)\n",
    "q.add(30)\n",
    "q.peek()"
   ]
  },
  {
   "cell_type": "code",
   "execution_count": 13,
   "metadata": {},
   "outputs": [
    {
     "data": {
      "text/plain": [
       "10"
      ]
     },
     "execution_count": 13,
     "metadata": {},
     "output_type": "execute_result"
    }
   ],
   "source": [
    "# Remove First-in the queue\n",
    "q.remove()"
   ]
  },
  {
   "cell_type": "code",
   "execution_count": 14,
   "metadata": {},
   "outputs": [
    {
     "data": {
      "text/plain": [
       "20"
      ]
     },
     "execution_count": 14,
     "metadata": {},
     "output_type": "execute_result"
    }
   ],
   "source": [
    "# Peek first in queue\n",
    "q.peek()"
   ]
  },
  {
   "cell_type": "markdown",
   "metadata": {},
   "source": [
    "Use **iJava** kernel"
   ]
  },
  {
   "cell_type": "code",
   "execution_count": 2,
   "metadata": {},
   "outputs": [],
   "source": [
    "class MyQueue{\n",
    "    QueueNode first;\n",
    "    QueueNode last;\n",
    "    \n",
    "    class QueueNode{\n",
    "        int data;\n",
    "        QueueNode next;\n",
    "        \n",
    "        QueueNode(int data){\n",
    "            this.data = data;\n",
    "        }\n",
    "    }\n",
    "    \n",
    "    void add(int item){\n",
    "        QueueNode t = new QueueNode(item);\n",
    "        if (last != null){\n",
    "            last.next = t;\n",
    "        }\n",
    "        last = t;\n",
    "        if (first == null) {\n",
    "            first = last;\n",
    "        }\n",
    "    }\n",
    "    \n",
    "    int remove(){\n",
    "        if (first == null) throw new NoSuchElementException();\n",
    "        int data = first.data;\n",
    "        first = first.next;\n",
    "        if (first == null) {\n",
    "            last = null;\n",
    "        }\n",
    "        return data;\n",
    "    }\n",
    "    \n",
    "    int peek(){\n",
    "        if (first == null) throw new NoSuchElementException();\n",
    "        return first.data;\n",
    "    }\n",
    "    \n",
    "    boolean isEmpty(){\n",
    "        return first == null;\n",
    "    }\n",
    "}"
   ]
  },
  {
   "cell_type": "code",
   "execution_count": 3,
   "metadata": {},
   "outputs": [],
   "source": [
    "MyQueue q = new MyQueue();\n",
    "q.add(10);\n",
    "q.add(20);\n",
    "q.add(30);"
   ]
  },
  {
   "cell_type": "code",
   "execution_count": 4,
   "metadata": {},
   "outputs": [
    {
     "data": {
      "text/plain": [
       "10"
      ]
     },
     "execution_count": 4,
     "metadata": {},
     "output_type": "execute_result"
    }
   ],
   "source": [
    "q.peek();"
   ]
  },
  {
   "cell_type": "code",
   "execution_count": 5,
   "metadata": {},
   "outputs": [
    {
     "data": {
      "text/plain": [
       "20"
      ]
     },
     "execution_count": 5,
     "metadata": {},
     "output_type": "execute_result"
    }
   ],
   "source": [
    "q.remove();\n",
    "q.peek();"
   ]
  },
  {
   "cell_type": "markdown",
   "metadata": {},
   "source": [
    "---"
   ]
  }
 ],
 "metadata": {
  "kernelspec": {
   "display_name": "Python 3.7.5 64-bit ('testenv': conda)",
   "language": "python",
   "name": "python37564bittestenvcondac5cb5da85e6d407dbd8008e204032fa3"
  },
  "language_info": {
   "codemirror_mode": {
    "name": "ipython",
    "version": 3
   },
   "file_extension": ".py",
   "mimetype": "text/x-python",
   "name": "python",
   "nbconvert_exporter": "python",
   "pygments_lexer": "ipython3",
   "version": "3.7.5"
  }
 },
 "nbformat": 4,
 "nbformat_minor": 4
}
