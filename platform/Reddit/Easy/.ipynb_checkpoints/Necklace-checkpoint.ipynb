{
 "cells": [
  {
   "cell_type": "markdown",
   "metadata": {},
   "source": [
    "# Necklace matching\n",
    "- from [Challenge#383](https://www.reddit.com/r/dailyprogrammer/comments/ffxabb/20200309_challenge_383_easy_necklace_matching/)"
   ]
  },
  {
   "cell_type": "markdown",
   "metadata": {},
   "source": [
    "### Instruction\n",
    "Imagine a necklace with lettered beads that can slide along the string. Here's an example image. In this example, you could take the N off NICOLE and slide it around to the other end to make ICOLEN. Do it again to get COLENI, and so on. For the purpose of today's challenge, we'll say that the strings \"nicole\", \"icolen\", and \"coleni\" describe the same necklace.\n",
    "\n",
    "Generally, two strings describe the same necklace if you can remove some number of letters from the beginning of one, attach them to the end in their original ordering, and get the other string. Reordering the letters in some other way does not, in general, produce a string that describes the same necklace.\n",
    "\n",
    "Write a function that returns whether two strings describe the same necklace."
   ]
  },
  {
   "cell_type": "markdown",
   "metadata": {},
   "source": [
    "### Use `Python` Kernel"
   ]
  },
  {
   "cell_type": "code",
   "execution_count": 3,
   "metadata": {},
   "outputs": [],
   "source": [
    "# solution\n",
    "def compare_necklace(left, right):\n",
    "    \n",
    "    if left == right:\n",
    "        return True \n",
    "    else:\n",
    "        for i in range(len(left)):       \n",
    "            if (left[i:] + left[:i]) == right: \n",
    "                return True\n",
    "    return False\n",
    "        \n",
    "    "
   ]
  },
  {
   "cell_type": "code",
   "execution_count": 4,
   "metadata": {},
   "outputs": [
    {
     "data": {
      "text/plain": [
       "True"
      ]
     },
     "execution_count": 4,
     "metadata": {},
     "output_type": "execute_result"
    }
   ],
   "source": [
    "compare_necklace(\"abca\", \"caab\")"
   ]
  },
  {
   "cell_type": "markdown",
   "metadata": {},
   "source": [
    "### Use IJava Kernel"
   ]
  },
  {
   "cell_type": "code",
   "execution_count": 21,
   "metadata": {},
   "outputs": [],
   "source": [
    "// Solution in Java\n",
    "\n",
    "public class Main {\n",
    "\n",
    "    public static void main(String[] args) {\n",
    "        String left = \"abcd\";\n",
    "        String right = \"cdab\";\n",
    "        String output = Boolean.toString(compareNecklace(left, right));\n",
    "\n",
    "        System.out.print(\"Is \" + left + \" equal to \" + right + \" ? \");\n",
    "        System.out.println(output);\n",
    "    }\n",
    "\n",
    "    public static boolean compareNecklace(String left, String right) {\n",
    "        if (left.equals(right)) {\n",
    "            return false;\n",
    "        } else {\n",
    "            String leftRestructured;\n",
    "            int lengthLeft = left.length();\n",
    "            for (int i=0; i < lengthLeft; i++) {\n",
    "                char letter = left.charAt(i);\n",
    "                leftRestructured = left.substring(i+1).concat(left.substring(0, i+1));\n",
    "\n",
    "                if (leftRestructured.equals(right)) {\n",
    "                    return true;\n",
    "                }\n",
    "            }\n",
    "        }\n",
    "        return false;\n",
    "    }\n",
    "}\n",
    "\n"
   ]
  },
  {
   "cell_type": "code",
   "execution_count": 33,
   "metadata": {},
   "outputs": [
    {
     "data": {
      "text/plain": [
       "false"
      ]
     },
     "execution_count": 33,
     "metadata": {},
     "output_type": "execute_result"
    }
   ],
   "source": [
    "// Solution in Java\n",
    "\n",
    "public static boolean compareNecklace(String left, String right) {\n",
    "    \n",
    "    if (left.equals(right)) {\n",
    "        return true;\n",
    "    } else {\n",
    "        String leftRestructured;\n",
    "        int lengthLeft = left.length();\n",
    "        for (int i=0; i < lengthLeft; i++) {\n",
    "            char letter = left.charAt(i);\n",
    "\n",
    "            leftRestructured = left.substring(i+1).concat(left.substring(0, i+1));\n",
    "            if (leftRestructured.equals(right)) {\n",
    "                return true;\n",
    "            }\n",
    "        }\n",
    "    }\n",
    "    return false;\n",
    "}\n",
    "\n",
    "String word1 = \"abcd\";\n",
    "String word2 = \"mnop\";\n",
    "compareNecklace(word1, word2)\n"
   ]
  },
  {
   "cell_type": "code",
   "execution_count": null,
   "metadata": {},
   "outputs": [],
   "source": []
  }
 ],
 "metadata": {
  "kernelspec": {
   "display_name": "Java",
   "language": "java",
   "name": "java"
  },
  "language_info": {
   "codemirror_mode": "java",
   "file_extension": ".jshell",
   "mimetype": "text/x-java-source",
   "name": "Java",
   "pygments_lexer": "java",
   "version": "14.0.1+7"
  }
 },
 "nbformat": 4,
 "nbformat_minor": 4
}
