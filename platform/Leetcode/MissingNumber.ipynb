{
 "cells": [
  {
   "cell_type": "markdown",
   "metadata": {},
   "source": [
    "## [Easy] [#268](https://leetcode.com/problems/missing-number/)\n",
    "### `Missing Number`\n",
    "Given an array containing n distinct numbers taken from 0, 1, 2, ..., n, find the one that is missing from the array.\n",
    "  \n",
    "Example 1:  \n",
    "Input: [3,0,1]  \n",
    "Output: 2  \n",
    "  \n",
    "Example 2:  \n",
    "Input: [9,6,4,2,3,5,7,0,1]  \n",
    "Output: 8  \n",
    "  \n",
    "Note:  \n",
    "Your algorithm should run in linear runtime complexity. Could you implement it using only constant extra space complexity?"
   ]
  },
  {
   "cell_type": "code",
   "execution_count": 29,
   "metadata": {},
   "outputs": [],
   "source": [
    "def find_missing(numbers):\n",
    "    numbers.sort()\n",
    "    if numbers[0] != 0:\n",
    "        return 0\n",
    "    elif len(numbers) == 1:\n",
    "        return 1\n",
    "    else:\n",
    "        for i in range(len(numbers) -1):            \n",
    "            if numbers[i + 1] != numbers[i] + 1:\n",
    "                return numbers[i] + 1 \n",
    "    return numbers[-1] + 1 \n",
    "    \n",
    "def find_missing(numbers):\n",
    "    num_set = set(numbers)\n",
    "    for num in range(len(numbers)+1):\n",
    "        if num not in num_set:\n",
    "            return num\n",
    "    "
   ]
  },
  {
   "cell_type": "code",
   "execution_count": 30,
   "metadata": {},
   "outputs": [
    {
     "data": {
      "text/plain": [
       "[1, 2, 2, 8]"
      ]
     },
     "execution_count": 30,
     "metadata": {},
     "output_type": "execute_result"
    }
   ],
   "source": [
    "test_cases  = [[0],                  # 1\n",
    "               [0,1],                # 2 \n",
    "               [3,0,1],              # 2\n",
    "               [9,6,4,2,3,5,7,0,1],  # 8\n",
    "              ]\n",
    "\n",
    "[find_missing(case) for case in test_cases]"
   ]
  },
  {
   "cell_type": "markdown",
   "metadata": {},
   "source": [
    "---"
   ]
  },
  {
   "cell_type": "markdown",
   "metadata": {},
   "source": [
    "#### Use **Java** (`iJava` kernel)"
   ]
  },
  {
   "cell_type": "code",
   "execution_count": 1,
   "metadata": {},
   "outputs": [
    {
     "data": {
      "text/plain": [
       "1"
      ]
     },
     "execution_count": 1,
     "metadata": {},
     "output_type": "execute_result"
    }
   ],
   "source": [
    "public int findMissing(int[] numbers) {\n",
    "    Arrays.sort(numbers);\n",
    "    int output = 0;\n",
    "    if (numbers[0] == 0 && numbers[numbers.length - 1] == numbers.length - 1) {\n",
    "        output = numbers[numbers.length - 1] + 1;\n",
    "    } else if (numbers[0] != 0) {\n",
    "        output = 0;\n",
    "    } else {\n",
    "        for (int i=0; i < numbers.length - 1; i++) {\n",
    "            if (numbers[i + 1] != numbers[i] + 1) {\n",
    "                output = numbers[i] + 1;\n",
    "            }\n",
    "        }\n",
    "    }\n",
    "    \n",
    "    return output;\n",
    "}\n",
    "\n",
    "int[] numberList = {0};\n",
    "findMissing(numberList)"
   ]
  },
  {
   "cell_type": "markdown",
   "metadata": {},
   "source": [
    "---"
   ]
  },
  {
   "cell_type": "markdown",
   "metadata": {},
   "source": [
    "#### Use **Scala** (`almond` kernel)"
   ]
  },
  {
   "cell_type": "code",
   "execution_count": 2,
   "metadata": {},
   "outputs": [
    {
     "data": {
      "text/plain": [
       "\u001b[32mimport \u001b[39m\u001b[36mscala.util.Sorting.quickSort\n",
       "\n",
       "\u001b[39m\r\n",
       "defined \u001b[32mfunction\u001b[39m \u001b[36mfindMissing\u001b[39m\r\n",
       "\u001b[36marr\u001b[39m: \u001b[32mArray\u001b[39m[\u001b[32mInteger\u001b[39m] = \u001b[33mArray\u001b[39m(\u001b[32m0\u001b[39m, \u001b[32m1\u001b[39m, \u001b[32m3\u001b[39m)\r\n",
       "\u001b[36mres1_3\u001b[39m: \u001b[32mInt\u001b[39m = \u001b[32m2\u001b[39m"
      ]
     },
     "execution_count": 2,
     "metadata": {},
     "output_type": "execute_result"
    }
   ],
   "source": [
    "import scala.util.Sorting.quickSort\n",
    "\n",
    "def findMissing(numbers: Array[Integer]): Int = {\n",
    "    quickSort(numbers)\n",
    "    var output: Int = 0;\n",
    "    if (numbers(0) == 0 && numbers(numbers.length-1)==numbers.length-1) {\n",
    "        output = numbers(numbers.length-1) + 1\n",
    "    } else if (numbers(0) != 0) {\n",
    "        output = 0\n",
    "    } else{\n",
    "        for (i <- 0 until numbers.length-1) {\n",
    "            if (numbers(i+1) != numbers(i) + 1) {\n",
    "                output = numbers(i) + 1\n",
    "            }\n",
    "        }\n",
    "    }\n",
    "    output\n",
    "}\n",
    "\n",
    " \n",
    "val arr: Array[Integer] = Array(0,1,3)\n",
    "findMissing(arr)"
   ]
  },
  {
   "cell_type": "markdown",
   "metadata": {},
   "source": [
    "___"
   ]
  }
 ],
 "metadata": {
  "kernelspec": {
   "display_name": "Python 3",
   "language": "python",
   "name": "python3"
  },
  "language_info": {
   "codemirror_mode": {
    "name": "ipython",
    "version": 3
   },
   "file_extension": ".py",
   "mimetype": "text/x-python",
   "name": "python",
   "nbconvert_exporter": "python",
   "pygments_lexer": "ipython3",
   "version": "3.7.5"
  }
 },
 "nbformat": 4,
 "nbformat_minor": 4
}
