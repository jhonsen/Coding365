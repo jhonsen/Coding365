{
 "cells": [
  {
   "cell_type": "markdown",
   "metadata": {},
   "source": [
    "## [Easy] [#268](https://leetcode.com/problems/missing-number/)\n",
    "### `Missing Number`\n",
    "Given an array containing n distinct numbers taken from 0, 1, 2, ..., n, find the one that is missing from the array.\n",
    "  \n",
    "Example 1:  \n",
    "Input: [3,0,1]  \n",
    "Output: 2  \n",
    "  \n",
    "Example 2:  \n",
    "Input: [9,6,4,2,3,5,7,0,1]  \n",
    "Output: 8  \n",
    "  \n",
    "Note:  \n",
    "Your algorithm should run in linear runtime complexity. Could you implement it using only constant extra space complexity?"
   ]
  },
  {
   "cell_type": "code",
   "execution_count": 29,
   "metadata": {},
   "outputs": [],
   "source": [
    "def find_missing(numbers):\n",
    "    numbers.sort()\n",
    "    if numbers[0] != 0:\n",
    "        return 0\n",
    "    elif len(numbers) == 1:\n",
    "        return 1\n",
    "    else:\n",
    "        for i in range(len(numbers) -1):            \n",
    "            if numbers[i + 1] != numbers[i] + 1:\n",
    "                return numbers[i] + 1 \n",
    "    return numbers[-1] + 1 \n",
    "    \n",
    "def find_missing(numbers):\n",
    "    num_set = set(numbers)\n",
    "    for num in range(len(numbers)+1):\n",
    "        if num not in num_set:\n",
    "            return num\n",
    "    "
   ]
  },
  {
   "cell_type": "code",
   "execution_count": 30,
   "metadata": {},
   "outputs": [
    {
     "data": {
      "text/plain": [
       "[1, 2, 2, 8]"
      ]
     },
     "execution_count": 30,
     "metadata": {},
     "output_type": "execute_result"
    }
   ],
   "source": [
    "test_cases  = [[0],                  # 1\n",
    "               [0,1],                # 2 \n",
    "               [3,0,1],              # 2\n",
    "               [9,6,4,2,3,5,7,0,1],  # 8\n",
    "              ]\n",
    "\n",
    "[find_missing(case) for case in test_cases]"
   ]
  },
  {
   "cell_type": "markdown",
   "metadata": {},
   "source": [
    "---"
   ]
  },
  {
   "cell_type": "markdown",
   "metadata": {},
   "source": [
    "#### Use **Java** (`iJava` kernel)"
   ]
  },
  {
   "cell_type": "code",
   "execution_count": null,
   "metadata": {},
   "outputs": [],
   "source": []
  },
  {
   "cell_type": "markdown",
   "metadata": {},
   "source": [
    "---"
   ]
  },
  {
   "cell_type": "markdown",
   "metadata": {},
   "source": [
    "#### Use **Scala** (`almond` kernel)"
   ]
  },
  {
   "cell_type": "code",
   "execution_count": null,
   "metadata": {},
   "outputs": [],
   "source": []
  },
  {
   "cell_type": "markdown",
   "metadata": {},
   "source": [
    "___"
   ]
  }
 ],
 "metadata": {
  "kernelspec": {
   "display_name": "Python 3",
   "language": "python",
   "name": "python3"
  },
  "language_info": {
   "codemirror_mode": {
    "name": "ipython",
    "version": 3
   },
   "file_extension": ".py",
   "mimetype": "text/x-python",
   "name": "python",
   "nbconvert_exporter": "python",
   "pygments_lexer": "ipython3",
   "version": "3.7.5"
  }
 },
 "nbformat": 4,
 "nbformat_minor": 4
}
