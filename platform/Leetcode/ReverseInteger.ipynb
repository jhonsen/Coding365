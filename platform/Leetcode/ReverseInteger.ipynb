{
 "cells": [
  {
   "cell_type": "markdown",
   "metadata": {},
   "source": [
    "## [Easy] [#7](https://leetcode.com/problems/reverse-integer/)\n",
    "### `Reverse Integer`\n",
    "Given a 32-bit signed integer, reverse digits of an integer.\n",
    "\n",
    "Example 1:  \n",
    "Input: 123  \n",
    "Output: 321  \n",
    "  \n",
    "Example 2:  \n",
    "Input: -123  \n",
    "Output: -321  \n",
    "  \n",
    "Example 3:  \n",
    "Input: 120  \n",
    "Output: 21  \n",
    "  \n",
    "Note:\n",
    "Assume we are dealing with an environment which could only store integers within the 32-bit signed integer range: [−231,  231 − 1]. For the purpose of this problem, assume that your function returns 0 when the reversed integer overflows."
   ]
  },
  {
   "cell_type": "code",
   "execution_count": 8,
   "metadata": {},
   "outputs": [],
   "source": [
    "def reverse(x):    \n",
    "    if x > 0:\n",
    "        a = int(str(x)[::-1])\n",
    "    else:\n",
    "        a = -1 * int(str(-1 * x)[::-1])\n",
    "    if (a < 2**31-1 and a > -2**31):\n",
    "        return a \n",
    "    else:\n",
    "        return 0\n",
    "\n",
    "def reverse(x):\n",
    "    a = int(str(x)[::-1]) if x>0 else -1 * int(str(-1*x)[::-1])\n",
    "    return a if (a < 2**31-1 and a > -2**31) else 0"
   ]
  },
  {
   "cell_type": "code",
   "execution_count": 9,
   "metadata": {},
   "outputs": [
    {
     "data": {
      "text/plain": [
       "[321, -321, 21]"
      ]
     },
     "execution_count": 9,
     "metadata": {},
     "output_type": "execute_result"
    }
   ],
   "source": [
    "test_cases = [123, #  321\n",
    "             -123, # -321\n",
    "             120,  #  21\n",
    "             ]\n",
    "\n",
    "[reverse(case) for case in test_cases]"
   ]
  },
  {
   "cell_type": "markdown",
   "metadata": {},
   "source": [
    "---"
   ]
  },
  {
   "cell_type": "markdown",
   "metadata": {},
   "source": [
    "#### Use **Java** (`iJava` kernel)"
   ]
  },
  {
   "cell_type": "code",
   "execution_count": 6,
   "metadata": {},
   "outputs": [
    {
     "data": {
      "text/plain": [
       "32"
      ]
     },
     "execution_count": 6,
     "metadata": {},
     "output_type": "execute_result"
    }
   ],
   "source": [
    "public static int reverseInteger(int number) {\n",
    "    int output = 0;\n",
    "    StringBuilder newNumber = new StringBuilder();\n",
    "    \n",
    "    if (number > 0) {        \n",
    "        String num = String.valueOf(number);\n",
    "        newNumber = newNumber.append(num).reverse();\n",
    "        output = Integer.parseInt(newNumber.toString());\n",
    "    } else {\n",
    "        int positiveNumber = -1 * number;\n",
    "        String num = String.valueOf(positiveNumber);\n",
    "        newNumber = newNumber.append(num).reverse();\n",
    "        output = -1 * Integer.parseInt(newNumber.toString());\n",
    "    }\n",
    "    \n",
    "    return output;\n",
    "}\n",
    "\n",
    "int a = 230;\n",
    "reverseInteger(a);"
   ]
  },
  {
   "cell_type": "markdown",
   "metadata": {},
   "source": [
    "---"
   ]
  },
  {
   "cell_type": "markdown",
   "metadata": {},
   "source": [
    "#### Use **Scala** (`almond` kernel)"
   ]
  },
  {
   "cell_type": "code",
   "execution_count": 1,
   "metadata": {},
   "outputs": [
    {
     "data": {
      "text/plain": [
       "\u001b[32mimport \u001b[39m\u001b[36mjava.lang._\n",
       "\n",
       "\u001b[39m\r\n",
       "defined \u001b[32mfunction\u001b[39m \u001b[36mreverseInteger\u001b[39m\r\n",
       "\u001b[36ma\u001b[39m: \u001b[32mInteger\u001b[39m = \u001b[32m230\u001b[39m\r\n",
       "\u001b[36mres0_3\u001b[39m: \u001b[32mInt\u001b[39m = \u001b[32m32\u001b[39m"
      ]
     },
     "execution_count": 1,
     "metadata": {},
     "output_type": "execute_result"
    }
   ],
   "source": [
    "import java.lang._\n",
    "\n",
    "def reverseInteger(number: Int): Int = {\n",
    "    var output: Int = 0\n",
    "    var newNumber: StringBuilder = new StringBuilder()\n",
    "    \n",
    "    if (number > 0) {\n",
    "        val num: String = String.valueOf(number)\n",
    "        newNumber = newNumber.append(num).reverse()\n",
    "        output = Integer.parseInt(newNumber.toString())\n",
    "        \n",
    "    } else {\n",
    "        val positiveNumber: Integer = -1 * number\n",
    "        val num: String = String.valueOf(positiveNumber)\n",
    "        newNumber = newNumber.append(num).reverse()\n",
    "        output = -1 * Integer.parseInt(newNumber.toString())\n",
    "    }\n",
    "    output\n",
    "}\n",
    "\n",
    "val a: Integer = 230\n",
    "reverseInteger(a)\n"
   ]
  },
  {
   "cell_type": "markdown",
   "metadata": {},
   "source": [
    "---"
   ]
  }
 ],
 "metadata": {
  "kernelspec": {
   "display_name": "Python 3",
   "language": "python",
   "name": "python3"
  },
  "language_info": {
   "codemirror_mode": {
    "name": "ipython",
    "version": 3
   },
   "file_extension": ".py",
   "mimetype": "text/x-python",
   "name": "python",
   "nbconvert_exporter": "python",
   "pygments_lexer": "ipython3",
   "version": "3.7.5"
  }
 },
 "nbformat": 4,
 "nbformat_minor": 4
}
