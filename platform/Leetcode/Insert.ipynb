{
 "cells": [
  {
   "cell_type": "markdown",
   "metadata": {},
   "source": [
    "## [Easy] [#35](https://leetcode.com/problems/search-insert-position/)\n",
    "### `Insert Position`\n",
    "Given a sorted array and a target value, return the index if the target is found. If not, return the index where it would be if it were inserted in order.\n",
    "  \n",
    "You may assume no duplicates in the array.\n",
    "  \n",
    "**Example 1**:  \n",
    "Input: [1,3,5,6], 5  \n",
    "Output: 2  \n",
    "  \n",
    "**Example 2**:  \n",
    "Input: [1,3,5,6], 2  \n",
    "Output: 1  \n",
    "   \n",
    "**Example 3**:    \n",
    "Input: [1,3,5,6], 7  \n",
    "Output: 4   \n",
    "  \n",
    "**Example 4**:  \n",
    "Input: [1,3,5,6], 0  \n",
    "Output: 0  "
   ]
  },
  {
   "cell_type": "markdown",
   "metadata": {},
   "source": [
    "#### Use `Python` kernel"
   ]
  },
  {
   "cell_type": "code",
   "execution_count": 5,
   "metadata": {},
   "outputs": [],
   "source": [
    "# solution 1\n",
    "def search_insert1(num_list, target):\n",
    "    \n",
    "    for ind in range(len(num_list)):\n",
    "        if (target == num_list[ind]):\n",
    "            return ind\n",
    "        else:\n",
    "            if target > num_list[ind]:\n",
    "                continue\n",
    "            else:\n",
    "                return ind\n",
    "    return ind+1\n",
    "                \n",
    "# Solution 2\n",
    "def search_insert2(num_list, target):\n",
    "    for ind, num in enumerate(num_list):\n",
    "        if target> num:\n",
    "            continue\n",
    "        else:\n",
    "            return ind\n",
    "        \n",
    "    return ind+1"
   ]
  },
  {
   "cell_type": "code",
   "execution_count": 6,
   "metadata": {},
   "outputs": [
    {
     "name": "stdout",
     "output_type": "stream",
     "text": [
      "2\n",
      "1\n",
      "4\n",
      "0\n"
     ]
    }
   ],
   "source": [
    "test_cases = [([1,3,5,6], 5), # 2\n",
    "             ([1,3,5,6], 2),  # 1\n",
    "             ([1,3,5,6], 7),  # 4\n",
    "             ([1,3,5,6], 0),  # 0  \n",
    "             ]\n",
    "\n",
    "for numbers, target in test_cases:\n",
    "    print(search_insert1(numbers, target))"
   ]
  },
  {
   "cell_type": "code",
   "execution_count": 7,
   "metadata": {},
   "outputs": [
    {
     "name": "stdout",
     "output_type": "stream",
     "text": [
      "1.56 µs ± 116 ns per loop (mean ± std. dev. of 7 runs, 1000000 loops each)\n"
     ]
    }
   ],
   "source": [
    "%timeit search_insert1(*test_cases[0])"
   ]
  },
  {
   "cell_type": "code",
   "execution_count": 8,
   "metadata": {},
   "outputs": [
    {
     "name": "stdout",
     "output_type": "stream",
     "text": [
      "1.04 µs ± 21.9 ns per loop (mean ± std. dev. of 7 runs, 1000000 loops each)\n"
     ]
    }
   ],
   "source": [
    "%timeit search_insert2(*test_cases[0])"
   ]
  },
  {
   "cell_type": "markdown",
   "metadata": {},
   "source": [
    "---"
   ]
  },
  {
   "cell_type": "markdown",
   "metadata": {},
   "source": [
    "#### Use **Java** (`iJava` kernel)"
   ]
  },
  {
   "cell_type": "code",
   "execution_count": 4,
   "metadata": {},
   "outputs": [
    {
     "data": {
      "text/plain": [
       "4"
      ]
     },
     "execution_count": 4,
     "metadata": {},
     "output_type": "execute_result"
    }
   ],
   "source": [
    "// Solution in Java\n",
    "import java.util.*;\n",
    "\n",
    "\n",
    "public int searchInsert (String numbers, String target) {\n",
    "    \n",
    "    String[] items = numbers.split(\",\");\n",
    "    List<String> itemList = new ArrayList<String>(Arrays.asList(items));\n",
    "    \n",
    "    for (int i=0; i<itemList.size(); i++ ) {\n",
    "        if (Integer.valueOf(target) == Integer.valueOf(itemList.get(i)) ) {\n",
    "            return i;\n",
    "        } else {\n",
    "            if (Integer.valueOf(target) > Integer.valueOf(itemList.get(i))) {\n",
    "                continue;\n",
    "            } else {\n",
    "                return i;\n",
    "            }\n",
    "        }\n",
    "    }\n",
    "    int output = itemList.size();\n",
    "    return output;    \n",
    "}\n",
    "\n",
    "// Using String of numbers to accomodate main in src/Insert.java\n",
    "searchInsert(\"1,3,5,6\", \"7\")    "
   ]
  },
  {
   "cell_type": "markdown",
   "metadata": {},
   "source": [
    "---"
   ]
  },
  {
   "cell_type": "markdown",
   "metadata": {},
   "source": [
    "#### Use **Scala** (`almond` kernel)"
   ]
  },
  {
   "cell_type": "code",
   "execution_count": 16,
   "metadata": {},
   "outputs": [
    {
     "data": {
      "text/plain": [
       "\u001b[32mimport \u001b[39m\u001b[36mjava.util._\n",
       "\u001b[39m\r\n",
       "\u001b[32mimport \u001b[39m\u001b[36mjava.lang._\n",
       "\n",
       "\u001b[39m\r\n",
       "defined \u001b[32mfunction\u001b[39m \u001b[36msearchInsert\u001b[39m"
      ]
     },
     "execution_count": 16,
     "metadata": {},
     "output_type": "execute_result"
    }
   ],
   "source": [
    "// Solution in Scala\n",
    "import java.util._\n",
    "import java.lang._\n",
    "\n",
    "def searchInsert(numbers: String, target: String): Int = {\n",
    "    val items: Array[String] = numbers.split(\",\")\n",
    "    val itemList: List[String] = new ArrayList[String](Arrays.asList(items: _*))\n",
    "    \n",
    "    for (i <-0 until itemList.size) {\n",
    "        if (Integer.valueOf(target)==Integer.valueOf(itemList.get(i))) {        \n",
    "        } else {\n",
    "            if (Integer.valueOf(target) > Integer.valueOf(itemList.get(i))) {\n",
    "                //\n",
    "            }\n",
    "            else { \n",
    "                val output: Int = i\n",
    "                output }\n",
    "            }\n",
    "    }\n",
    "    val output: Int = itemList.size\n",
    "    output\n",
    "}"
   ]
  },
  {
   "cell_type": "code",
   "execution_count": 18,
   "metadata": {},
   "outputs": [
    {
     "data": {
      "text/plain": [
       "\u001b[36mres17\u001b[39m: \u001b[32mInt\u001b[39m = \u001b[32m4\u001b[39m"
      ]
     },
     "execution_count": 18,
     "metadata": {},
     "output_type": "execute_result"
    }
   ],
   "source": [
    "searchInsert(\"1,3,5,6\", \"3\")\n",
    "// doesn't work!\n",
    "// it just returned the last line, output\n",
    "// Needs a different implementation method"
   ]
  },
  {
   "cell_type": "markdown",
   "metadata": {},
   "source": [
    "---"
   ]
  }
 ],
 "metadata": {
  "kernelspec": {
   "display_name": "Scala 2.12.8",
   "language": "scala",
   "name": "scala_2_12_8"
  },
  "language_info": {
   "codemirror_mode": "text/x-scala",
   "file_extension": ".scala",
   "mimetype": "text/x-scala",
   "name": "scala",
   "nbconvert_exporter": "script",
   "version": "2.12.8"
  }
 },
 "nbformat": 4,
 "nbformat_minor": 4
}
