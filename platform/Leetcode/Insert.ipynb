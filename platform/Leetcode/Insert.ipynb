{
 "cells": [
  {
   "cell_type": "markdown",
   "metadata": {},
   "source": [
    "## [Easy] [#35](https://leetcode.com/problems/search-insert-position/)\n",
    "### `Insert Position`\n",
    "Given a sorted array and a target value, return the index if the target is found. If not, return the index where it would be if it were inserted in order.\n",
    "  \n",
    "You may assume no duplicates in the array.\n",
    "  \n",
    "**Example 1**:  \n",
    "Input: [1,3,5,6], 5  \n",
    "Output: 2  \n",
    "  \n",
    "**Example 2**:  \n",
    "Input: [1,3,5,6], 2  \n",
    "Output: 1  \n",
    "   \n",
    "**Example 3**:    \n",
    "Input: [1,3,5,6], 7  \n",
    "Output: 4   \n",
    "  \n",
    "**Example 4**:  \n",
    "Input: [1,3,5,6], 0  \n",
    "Output: 0  "
   ]
  },
  {
   "cell_type": "markdown",
   "metadata": {},
   "source": [
    "#### Use `Python` kernel"
   ]
  },
  {
   "cell_type": "code",
   "execution_count": 5,
   "metadata": {},
   "outputs": [],
   "source": [
    "# solution 1\n",
    "def search_insert1(num_list, target):\n",
    "    \n",
    "    for ind in range(len(num_list)):\n",
    "        if (target == num_list[ind]):\n",
    "            return ind\n",
    "        else:\n",
    "            if target > num_list[ind]:\n",
    "                continue\n",
    "            else:\n",
    "                return ind\n",
    "    return ind+1\n",
    "                \n",
    "# Solution 2\n",
    "def search_insert2(num_list, target):\n",
    "    for ind, num in enumerate(num_list):\n",
    "        if target> num:\n",
    "            continue\n",
    "        else:\n",
    "            return ind\n",
    "        \n",
    "    return ind+1"
   ]
  },
  {
   "cell_type": "code",
   "execution_count": 6,
   "metadata": {},
   "outputs": [
    {
     "name": "stdout",
     "output_type": "stream",
     "text": [
      "2\n",
      "1\n",
      "4\n",
      "0\n"
     ]
    }
   ],
   "source": [
    "test_cases = [([1,3,5,6], 5), # 2\n",
    "             ([1,3,5,6], 2),  # 1\n",
    "             ([1,3,5,6], 7),  # 4\n",
    "             ([1,3,5,6], 0),  # 0  \n",
    "             ]\n",
    "\n",
    "for numbers, target in test_cases:\n",
    "    print(search_insert1(numbers, target))"
   ]
  },
  {
   "cell_type": "code",
   "execution_count": 7,
   "metadata": {},
   "outputs": [
    {
     "name": "stdout",
     "output_type": "stream",
     "text": [
      "1.56 µs ± 116 ns per loop (mean ± std. dev. of 7 runs, 1000000 loops each)\n"
     ]
    }
   ],
   "source": [
    "%timeit search_insert1(*test_cases[0])"
   ]
  },
  {
   "cell_type": "code",
   "execution_count": 8,
   "metadata": {},
   "outputs": [
    {
     "name": "stdout",
     "output_type": "stream",
     "text": [
      "1.04 µs ± 21.9 ns per loop (mean ± std. dev. of 7 runs, 1000000 loops each)\n"
     ]
    }
   ],
   "source": [
    "%timeit search_insert2(*test_cases[0])"
   ]
  },
  {
   "cell_type": "markdown",
   "metadata": {},
   "source": [
    "---"
   ]
  },
  {
   "cell_type": "markdown",
   "metadata": {},
   "source": [
    "#### Use **Java** (`iJava` kernel)"
   ]
  },
  {
   "cell_type": "code",
   "execution_count": 26,
   "metadata": {},
   "outputs": [
    {
     "data": {
      "text/plain": [
       "true"
      ]
     },
     "execution_count": 26,
     "metadata": {},
     "output_type": "execute_result"
    }
   ],
   "source": [
    "// Solution in Java\n",
    "import java.util.Arrays;\n",
    "\n",
    "public static int searchInsert (List<Int> numbers, int target) {\n",
    "    \n",
    "    \n",
    "    return \n",
    "    \n",
    "}\n",
    "    \n",
    "searchInsert([1,3,5,6], 5)    "
   ]
  },
  {
   "cell_type": "code",
   "execution_count": 4,
   "metadata": {},
   "outputs": [
    {
     "data": {
      "text/plain": [
       "[1, 2, 3]"
      ]
     },
     "execution_count": 4,
     "metadata": {},
     "output_type": "execute_result"
    }
   ],
   "source": [
    "import java.util.Arrays;\n",
    "\n",
    "List<Integer> numbers = Arrays.asList(1,2,3);\n",
    "\n",
    "numbers"
   ]
  },
  {
   "cell_type": "code",
   "execution_count": null,
   "metadata": {},
   "outputs": [],
   "source": []
  }
 ],
 "metadata": {
  "kernelspec": {
   "display_name": "Python 3",
   "language": "python",
   "name": "python3"
  },
  "language_info": {
   "codemirror_mode": {
    "name": "ipython",
    "version": 3
   },
   "file_extension": ".py",
   "mimetype": "text/x-python",
   "name": "python",
   "nbconvert_exporter": "python",
   "pygments_lexer": "ipython3",
   "version": "3.7.5"
  }
 },
 "nbformat": 4,
 "nbformat_minor": 4
}
