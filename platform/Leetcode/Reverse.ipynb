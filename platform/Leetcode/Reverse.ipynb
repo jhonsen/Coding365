{
 "cells": [
  {
   "cell_type": "markdown",
   "metadata": {},
   "source": [
    "## [Easy] [#344](https://leetcode.com/problems/reverse-string/)\n",
    "### `Reverse String`\n",
    "\n",
    "Write a function that reverses a string. The input string is given as an array of characters char[].\n",
    "\n",
    "Do not allocate extra space for another array, you must do this by modifying the input array in-place with O(1) extra memory.\n",
    "\n",
    "You may assume all the characters consist of printable ascii characters.\n",
    "\n",
    " \n",
    "\n",
    "**Example 1:**  \n",
    "\n",
    "Input: [\"h\",\"e\",\"l\",\"l\",\"o\"]  \n",
    "Output: [\"o\",\"l\",\"l\",\"e\",\"h\"]  \n",
    "  \n",
    "**Example 2:**  \n",
    "Input: [\"H\",\"a\",\"n\",\"n\",\"a\",\"h\"]  \n",
    "Output: [\"h\",\"a\",\"n\",\"n\",\"a\",\"H\"]  "
   ]
  },
  {
   "cell_type": "code",
   "execution_count": 68,
   "metadata": {},
   "outputs": [],
   "source": [
    "from typing import List\n",
    "def dummy_reverse(letters: List[str]) -> List[str]:    \n",
    "    return letters[::-1]\n",
    "\n",
    "\n",
    "# Solution with modifying the array in-place\n",
    "from math import ceil\n",
    "def reverse(letters):\n",
    "    mid_length = ceil((len(letters) + 1) / 2)\n",
    "    for i in range(1, mid_length):\n",
    "        letters[i-1], letters[-i] = letters[-i], letters[i-1]\n",
    "        "
   ]
  },
  {
   "cell_type": "code",
   "execution_count": 71,
   "metadata": {},
   "outputs": [
    {
     "name": "stdout",
     "output_type": "stream",
     "text": [
      "['o', 'l', 'l', 'e', 'h']\n",
      "['A', 'H', 'O', 'L', 'A']\n",
      "['a', 'b', ' ', 'a']\n"
     ]
    }
   ],
   "source": [
    "test_cases = [\n",
    "              [\"h\",\"e\",\"l\",\"l\",\"o\"], # ['o', 'l', 'l', 'e', 'h']\n",
    "              [\"A\",\"L\",\"O\",\"H\",\"A\"], # ['A', 'H', 'O', 'L', 'A']\n",
    "              [\"a\",\" \",\"b\",\"a\"]      # ['a', 'b', ' ', 'a']\n",
    "             ]\n",
    "\n",
    "for each in test_cases:\n",
    "    reverse(each)\n",
    "    print(each)"
   ]
  },
  {
   "cell_type": "markdown",
   "metadata": {},
   "source": [
    "---"
   ]
  },
  {
   "cell_type": "markdown",
   "metadata": {},
   "source": [
    "#### Use **Java** (`iJava` kernel)"
   ]
  },
  {
   "cell_type": "code",
   "execution_count": 45,
   "metadata": {},
   "outputs": [
    {
     "name": "stdout",
     "output_type": "stream",
     "text": [
      "[e, d, c, b, a]\n"
     ]
    }
   ],
   "source": [
    "// import java.util.Math;\n",
    "\n",
    "public void reverseString(String s) {\n",
    "    \n",
    "    String[] letters = s.split(\",\");\n",
    "    int midLength = (int) Math.ceil( (letters.length + 1) /2 );\n",
    "    \n",
    "    for (int i=1; i < midLength; i++) {\n",
    "        String temp = letters[i-1];\n",
    "        letters[i-1] = letters[letters.length-i];\n",
    "        letters[letters.length-i] = temp;\n",
    "        }\n",
    "    String output = Arrays.toString(letters);\n",
    "    System.out.println(output);\n",
    "}\n",
    "\n",
    "String input = \"a,b,c,d,e\";\n",
    "reverseString(input)"
   ]
  },
  {
   "cell_type": "markdown",
   "metadata": {},
   "source": [
    "---"
   ]
  },
  {
   "cell_type": "markdown",
   "metadata": {},
   "source": [
    "#### Use **Scala** (`almond` kernel)"
   ]
  },
  {
   "cell_type": "code",
   "execution_count": 7,
   "metadata": {},
   "outputs": [
    {
     "name": "stdout",
     "output_type": "stream",
     "text": [
      "3\n",
      "e,d,c,b,a\n"
     ]
    },
    {
     "data": {
      "text/plain": [
       "defined \u001b[32mfunction\u001b[39m \u001b[36mreverseString\u001b[39m"
      ]
     },
     "execution_count": 7,
     "metadata": {},
     "output_type": "execute_result"
    }
   ],
   "source": [
    "\n",
    "def reverseString(s: String): Unit = {\n",
    "    var letters: Array[String] = s.split(\",\")\n",
    "    val midLength: Int = math.ceil((letters.length + 1) / 2).toInt\n",
    "    println(midLength)\n",
    "    for (i <- 1 until midLength) {\n",
    "      val temp: String = letters(i - 1)\n",
    "      letters(i - 1) = letters(letters.length - i)\n",
    "      letters(letters.length - i) = temp\n",
    "    }\n",
    "    val output: String = letters.mkString(\",\")\n",
    "    println(output)\n",
    "  }\n",
    "\n",
    "reverseString(\"a,b,c,d,e\")"
   ]
  },
  {
   "cell_type": "markdown",
   "metadata": {},
   "source": [
    "---"
   ]
  }
 ],
 "metadata": {
  "kernelspec": {
   "display_name": "Python 3",
   "language": "python",
   "name": "python3"
  },
  "language_info": {
   "codemirror_mode": {
    "name": "ipython",
    "version": 3
   },
   "file_extension": ".py",
   "mimetype": "text/x-python",
   "name": "python",
   "nbconvert_exporter": "python",
   "pygments_lexer": "ipython3",
   "version": "3.7.5"
  }
 },
 "nbformat": 4,
 "nbformat_minor": 4
}
