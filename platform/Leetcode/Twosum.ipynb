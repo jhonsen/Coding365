{
 "cells": [
  {
   "cell_type": "markdown",
   "metadata": {},
   "source": [
    "## [Easy] [#1](https://leetcode.com/problems/two-sum/)\n",
    "### `Two Sum`\n",
    "  \n",
    "Given an array of integers, return indices of the two numbers such that they add up to a specific target.  \n",
    "You may assume that each input would have exactly one solution, and you may not use the same element twice.    \n",
    "  \n",
    "Example:  \n",
    "Given nums = [2, 7, 11, 15], target = 9,<br/>\n",
    "Because nums[0] + nums[1] = 2 + 7 = 9, return [0, 1].  \n",
    "\n",
    " \n"
   ]
  },
  {
   "cell_type": "code",
   "execution_count": 9,
   "metadata": {},
   "outputs": [],
   "source": [
    "def two_sum(nums, target):\n",
    "    n=len(nums)\n",
    "    pair = []\n",
    "    for ind_1 in range(n):\n",
    "        for ind_2 in range(ind_1+1, n):\n",
    "            added = nums[ind_1] + nums[ind_2]\n",
    "            if added == target:\n",
    "                pair.append(ind_1, ind_2)\n",
    "                return pair\n",
    "    return pair\n",
    "\n",
    "def two_sum(nums, target):\n",
    "    n=len(nums)\n",
    "    pair = []\n",
    "    for ind_1 in range(n):\n",
    "        for ind_2 in range(ind_1+1, n):\n",
    "            added = nums[ind_1] + nums[ind_2]\n",
    "            if added == target:\n",
    "                pair.append(ind_1)\n",
    "                pair.append(ind_2)\n",
    "                return pair\n",
    "    return pair\n"
   ]
  },
  {
   "cell_type": "code",
   "execution_count": 8,
   "metadata": {},
   "outputs": [
    {
     "data": {
      "text/plain": [
       "[[0, 1], [0, 2], [0, 1]]"
      ]
     },
     "execution_count": 8,
     "metadata": {},
     "output_type": "execute_result"
    }
   ],
   "source": [
    "test_cases = [\n",
    "              ([2,7,11,15], 9),  # 0,1\n",
    "              ([1,3,4,5,7], 5),  # 0,2\n",
    "              ([3,3], 6)         # 0,1\n",
    "              ]\n",
    "\n",
    "[two_sum(numbers, target) for (numbers, target) in test_cases]"
   ]
  },
  {
   "cell_type": "markdown",
   "metadata": {},
   "source": [
    "---"
   ]
  },
  {
   "cell_type": "markdown",
   "metadata": {},
   "source": [
    "#### Use **Java** (`iJava` kernel)"
   ]
  },
  {
   "cell_type": "code",
   "execution_count": 83,
   "metadata": {},
   "outputs": [
    {
     "data": {
      "text/plain": [
       "[0, 3]"
      ]
     },
     "execution_count": 83,
     "metadata": {},
     "output_type": "execute_result"
    }
   ],
   "source": [
    "public int[] twoSum(int[] numbers, int target) {   \n",
    "    \n",
    "    for (int i = 0; i < numbers.length; i++) {\n",
    "        for (int j = i + 1; j < numbers.length; j++) {\n",
    "            if (numbers[j] + numbers[i] == target ) {\n",
    "                return new int[] { i, j };\n",
    "            }\n",
    "        }\n",
    "    }\n",
    "    throw new IllegalArgumentException(\"No two sum solution\");\n",
    "}\n",
    "\n",
    "int[] a = new int[]{2,3,5,7};\n",
    "Arrays.toString(twoSum(a, 9));"
   ]
  },
  {
   "cell_type": "markdown",
   "metadata": {},
   "source": [
    "---"
   ]
  },
  {
   "cell_type": "markdown",
   "metadata": {},
   "source": [
    "#### Use **Scala** (`almond` kernel)"
   ]
  },
  {
   "cell_type": "code",
   "execution_count": 9,
   "metadata": {},
   "outputs": [
    {
     "data": {
      "text/plain": [
       "defined \u001b[32mfunction\u001b[39m \u001b[36mtwoSum\u001b[39m"
      ]
     },
     "execution_count": 9,
     "metadata": {},
     "output_type": "execute_result"
    }
   ],
   "source": [
    "def twoSum(numbers: Array[Int], target:Int): Array[Int] = {\n",
    "    for (i <- 0 until numbers.length) {\n",
    "        for (j <- i+1 until numbers.length)  {\n",
    "            if (numbers(i) + numbers(j) == target) {\n",
    "                Array(i,j)\n",
    "            }  \n",
    "        } \n",
    "    } \n",
    "    throw new IllegalArgumentException(\"No two sum solution\")    \n",
    "}\n"
   ]
  },
  {
   "cell_type": "markdown",
   "metadata": {},
   "source": [
    "---"
   ]
  },
  {
   "cell_type": "code",
   "execution_count": null,
   "metadata": {},
   "outputs": [],
   "source": []
  }
 ],
 "metadata": {
  "kernelspec": {
   "display_name": "Scala 2.12.8",
   "language": "scala",
   "name": "scala_2_12_8"
  },
  "language_info": {
   "codemirror_mode": "text/x-scala",
   "file_extension": ".scala",
   "mimetype": "text/x-scala",
   "name": "scala",
   "nbconvert_exporter": "script",
   "version": "2.12.8"
  }
 },
 "nbformat": 4,
 "nbformat_minor": 4
}
