{
 "cells": [
  {
   "cell_type": "markdown",
   "metadata": {},
   "source": [
    "## [Easy] [#1](https://leetcode.com/problems/two-sum/)\n",
    "### `Two Sum`\n",
    "  \n",
    "Given an array of integers, return indices of the two numbers such that they add up to a specific target.  \n",
    "You may assume that each input would have exactly one solution, and you may not use the same element twice.    \n",
    "  \n",
    "Example:  \n",
    "Given nums = [2, 7, 11, 15], target = 9,<br/>\n",
    "Because nums[0] + nums[1] = 2 + 7 = 9, return [0, 1].  \n",
    "\n",
    " \n"
   ]
  },
  {
   "cell_type": "code",
   "execution_count": 4,
   "metadata": {},
   "outputs": [],
   "source": [
    "def two_sum(nums, target):\n",
    "    n=len(nums)\n",
    "    pair = []\n",
    "    for ind_1 in range(n):\n",
    "        for ind_2 in range(ind_1+1, n):\n",
    "            added = nums[ind_1] + nums[ind_2]\n",
    "            if added == target:\n",
    "                pair.append(ind_1)\n",
    "                pair.append(ind_2)\n",
    "                return pair\n",
    "    return pair\n",
    "\n",
    "from itertools import combinations\n",
    "def two_sum2(nums, target):\n",
    "    idx = dict()\n",
    "    idx = {val:key for key,val in enumerate(nums)}        \n",
    "    return [[idx[one],idx[two]] for one,two in combinations(nums, 2) \\\n",
    "                                if one+two==target][0]\n"
   ]
  },
  {
   "cell_type": "code",
   "execution_count": 6,
   "metadata": {},
   "outputs": [
    {
     "data": {
      "text/plain": [
       "[[0, 1], [0, 2]]"
      ]
     },
     "execution_count": 6,
     "metadata": {},
     "output_type": "execute_result"
    }
   ],
   "source": [
    "test_cases = [\n",
    "              ([2,7,11,15], 9), # 0,1\n",
    "              ([1,3,4,5,7], 5)  # 0,2\n",
    "              ]\n",
    "\n",
    "[two_sum2(numbers, target) for (numbers, target) in test_cases]"
   ]
  },
  {
   "cell_type": "code",
   "execution_count": null,
   "metadata": {},
   "outputs": [],
   "source": []
  }
 ],
 "metadata": {
  "kernelspec": {
   "display_name": "Python 3",
   "language": "python",
   "name": "python3"
  },
  "language_info": {
   "codemirror_mode": {
    "name": "ipython",
    "version": 3
   },
   "file_extension": ".py",
   "mimetype": "text/x-python",
   "name": "python",
   "nbconvert_exporter": "python",
   "pygments_lexer": "ipython3",
   "version": "3.7.5"
  }
 },
 "nbformat": 4,
 "nbformat_minor": 4
}
