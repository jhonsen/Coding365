{
 "cells": [
  {
   "cell_type": "markdown",
   "metadata": {},
   "source": [
    "## [Easy] [#263](https://leetcode.com/problems/ugly-number/)\n",
    "### `Ugly Number`\n",
    "  \n",
    "Write a program to check whether a given number is an ugly number.\n",
    "\n",
    "Ugly numbers are positive numbers whose prime factors only include 2, 3, 5.\n",
    "\n",
    "**Example 1:**  \n",
    "Input: 6  \n",
    "Output: true  \n",
    "Explanation: 6 = 2 × 3  \n",
    "\n",
    "**Example 2:**  \n",
    "Input: 8  \n",
    "Output: true  \n",
    "Explanation: 8 = 2 × 2 × 2  \n",
    "  \n",
    "**Example 3:**  \n",
    "Input: 14  \n",
    "Output: false   \n",
    "  \n",
    "**Explanation:** 14 is not ugly since it includes another prime factor 7.  \n",
    "  \n",
    "Note:\n",
    "- 1 is typically treated as an ugly number.\n",
    "- Input is within the 32-bit signed integer range: [−231,  231 − 1]."
   ]
  },
  {
   "cell_type": "markdown",
   "metadata": {},
   "source": [
    "---"
   ]
  },
  {
   "cell_type": "markdown",
   "metadata": {},
   "source": [
    "#### Use **Python** kernel"
   ]
  },
  {
   "cell_type": "code",
   "execution_count": 19,
   "metadata": {},
   "outputs": [],
   "source": [
    "# Use recursion\n",
    "def is_ugly(number):\n",
    "    \n",
    "    if (number <= 0):\n",
    "        return False\n",
    "    elif (number == 1):\n",
    "        return True    \n",
    "    elif (number % 2 == 0):\n",
    "        return is_ugly(number / 2)\n",
    "    elif (number % 3 == 0):\n",
    "        return is_ugly(number / 3)\n",
    "    elif (number % 5 == 0):\n",
    "        return is_ugly(number / 5)\n",
    "    return False"
   ]
  },
  {
   "cell_type": "code",
   "execution_count": 20,
   "metadata": {},
   "outputs": [
    {
     "data": {
      "text/plain": [
       "[True, True, True, True, True, False, True, False]"
      ]
     },
     "execution_count": 20,
     "metadata": {},
     "output_type": "execute_result"
    }
   ],
   "source": [
    "test_cases = [1, # True\n",
    "              2, # True\n",
    "              3, # True\n",
    "              5, # True\n",
    "              6, # True\n",
    "              7, # False\n",
    "              8, # True\n",
    "              14,# False\n",
    "              ]\n",
    "\n",
    "[is_ugly(case) for case in test_cases]"
   ]
  },
  {
   "cell_type": "markdown",
   "metadata": {},
   "source": [
    "---"
   ]
  },
  {
   "cell_type": "markdown",
   "metadata": {},
   "source": [
    "#### Use **Java** (`iJava` kernel)"
   ]
  },
  {
   "cell_type": "code",
   "execution_count": 12,
   "metadata": {},
   "outputs": [
    {
     "name": "stdout",
     "output_type": "stream",
     "text": [
      "1, true\n",
      "2, true\n",
      "3, true\n",
      "4, true\n",
      "5, true\n",
      "6, true\n",
      "7, false\n",
      "8, true\n",
      "9, true\n",
      "10, true\n",
      "11, false\n",
      "12, true\n",
      "13, false\n",
      "14, false\n"
     ]
    }
   ],
   "source": [
    "public boolean isUgly(int number){\n",
    "    if (number <= 0) return false;\n",
    "    if (number == 1) return true;    \n",
    "    if (number % 2 ==0) return isUgly(number/2);\n",
    "    if (number % 3 ==0) return isUgly(number/3);\n",
    "    if (number % 5 ==0) return isUgly(number/5);\n",
    "    return false;\n",
    "}\n",
    "\n",
    "for (int num=1; num < 15; num++) {\n",
    "    System.out.println(String.valueOf(num) + \", \" +  isUgly(num));\n",
    "    }"
   ]
  },
  {
   "cell_type": "markdown",
   "metadata": {},
   "source": [
    "---"
   ]
  },
  {
   "cell_type": "markdown",
   "metadata": {},
   "source": [
    "#### Use **Scala** (`almond` kernel)"
   ]
  },
  {
   "cell_type": "code",
   "execution_count": 16,
   "metadata": {},
   "outputs": [
    {
     "name": "stdout",
     "output_type": "stream",
     "text": [
      "(1,true)\n",
      "(2,true)\n",
      "(3,true)\n",
      "(4,true)\n",
      "(5,true)\n",
      "(6,true)\n",
      "(7,false)\n",
      "(8,true)\n",
      "(9,true)\n",
      "(10,true)\n",
      "(11,false)\n",
      "(12,true)\n",
      "(13,false)\n",
      "(14,false)\n"
     ]
    },
    {
     "data": {
      "text/plain": [
       "defined \u001b[32mfunction\u001b[39m \u001b[36misUgly\u001b[39m"
      ]
     },
     "execution_count": 16,
     "metadata": {},
     "output_type": "execute_result"
    }
   ],
   "source": [
    "\n",
    "\n",
    "def isUgly(number: Int):Boolean ={\n",
    "    if (number <= 0) false\n",
    "    else if (number == 1) true    \n",
    "    else if  (number % 2 ==0)  isUgly(number/2)\n",
    "    else if (number % 3 ==0)  isUgly(number/3)\n",
    "    else if (number % 5 ==0)  isUgly(number/5)\n",
    "    else false\n",
    "}\n",
    "\n",
    "for (num <- 1 to 14) println(num, isUgly(num))"
   ]
  },
  {
   "cell_type": "markdown",
   "metadata": {},
   "source": [
    "---"
   ]
  }
 ],
 "metadata": {
  "kernelspec": {
   "display_name": "Python 3",
   "language": "python",
   "name": "python3"
  },
  "language_info": {
   "codemirror_mode": {
    "name": "ipython",
    "version": 3
   },
   "file_extension": ".py",
   "mimetype": "text/x-python",
   "name": "python",
   "nbconvert_exporter": "python",
   "pygments_lexer": "ipython3",
   "version": "3.7.5"
  }
 },
 "nbformat": 4,
 "nbformat_minor": 4
}
