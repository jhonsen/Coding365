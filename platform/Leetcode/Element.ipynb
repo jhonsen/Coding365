{
 "cells": [
  {
   "cell_type": "markdown",
   "metadata": {},
   "source": [
    "## [Easy] [#169](https://leetcode.com/problems/majority-element/)\n",
    "### `Majority Element`\n",
    "Given an array of size n, find the majority element. The majority element is the element that appears more than ⌊ n/2 ⌋ times.\n",
    "  \n",
    "You may assume that the array is non-empty and the majority element always exist in the array.\n",
    "  \n",
    "**Example 1:**  \n",
    "Input: [3,2,3]   \n",
    "Output: 3  \n",
    "  \n",
    "**Example 2:**  \n",
    "Input: [2,2,1,1,1,2,2]  \n",
    "Output: 2  "
   ]
  },
  {
   "cell_type": "markdown",
   "metadata": {},
   "source": [
    "#### Use `Python` kernel"
   ]
  },
  {
   "cell_type": "code",
   "execution_count": 29,
   "metadata": {},
   "outputs": [],
   "source": [
    "# Approach 1\n",
    "def find_majority(list_int):\n",
    "    collection = {}\n",
    "    max_int, max_val = 0, 0\n",
    "    \n",
    "    for each in list_int:\n",
    "        if each not in collection.keys():\n",
    "            collection[each] = 1\n",
    "            \n",
    "            if collection[each] > max_val:\n",
    "                max_val = collection[each]\n",
    "                max_int = each\n",
    "                \n",
    "        else:\n",
    "            collection[each] = collection[each] +1\n",
    "             \n",
    "            if collection[each] > max_val:\n",
    "                max_val = collection[each]\n",
    "                max_int = each                \n",
    "    return max_int\n",
    "\n",
    "# Approach 1\n",
    "def find_majority2(list_int):\n",
    "    collection = {}\n",
    "        \n",
    "    for each in list_int:\n",
    "        if each not in collection.keys():\n",
    "            collection[each] = 1           \n",
    "        else:\n",
    "            collection[each] = collection[each] +1\n",
    "\n",
    "    tuples = [(key,val) for key,val in collection.items()]\n",
    "    max_list = sorted(tuples, reverse=True, key=lambda tup: tup[1] )\n",
    "    return max_list[0][0]\n",
    "\n",
    "# Approach 3\n",
    "from collections import Counter\n",
    "def find_majority3(list_int):\n",
    "    return Counter(list_int).most_common()[0][0]"
   ]
  },
  {
   "cell_type": "code",
   "execution_count": 30,
   "metadata": {},
   "outputs": [
    {
     "data": {
      "text/plain": [
       "[3, 2]"
      ]
     },
     "execution_count": 30,
     "metadata": {},
     "output_type": "execute_result"
    }
   ],
   "source": [
    "test_cases = [[3,2,3] ,  # 3\n",
    "              [2,2,1,1,1,2,2],   # 2\n",
    "             ]\n",
    "\n",
    "[find_majority2(case) for case in test_cases]"
   ]
  },
  {
   "cell_type": "code",
   "execution_count": 34,
   "metadata": {},
   "outputs": [
    {
     "name": "stdout",
     "output_type": "stream",
     "text": [
      "2.02 µs ± 205 ns per loop (mean ± std. dev. of 7 runs, 1000000 loops each)\n"
     ]
    }
   ],
   "source": [
    "%timeit find_majority([3,2,2,1,1,1,2,2,2])"
   ]
  },
  {
   "cell_type": "code",
   "execution_count": 35,
   "metadata": {},
   "outputs": [
    {
     "name": "stdout",
     "output_type": "stream",
     "text": [
      "3.22 µs ± 304 ns per loop (mean ± std. dev. of 7 runs, 100000 loops each)\n"
     ]
    }
   ],
   "source": [
    "%timeit find_majority2([3,2,2,1,1,1,2,2,2])"
   ]
  },
  {
   "cell_type": "code",
   "execution_count": 36,
   "metadata": {},
   "outputs": [
    {
     "name": "stdout",
     "output_type": "stream",
     "text": [
      "4.04 µs ± 438 ns per loop (mean ± std. dev. of 7 runs, 100000 loops each)\n"
     ]
    }
   ],
   "source": [
    "%timeit find_majority3([3,2,2,1,1,1,2,2,2])"
   ]
  },
  {
   "cell_type": "markdown",
   "metadata": {},
   "source": [
    "---"
   ]
  },
  {
   "cell_type": "markdown",
   "metadata": {},
   "source": [
    "#### Use **Java** (`iJava` kernel)"
   ]
  },
  {
   "cell_type": "code",
   "execution_count": 20,
   "metadata": {},
   "outputs": [
    {
     "data": {
      "text/plain": [
       "2"
      ]
     },
     "execution_count": 20,
     "metadata": {},
     "output_type": "execute_result"
    }
   ],
   "source": [
    "// Solution in Java\n",
    "import java.util.HashMap;\n",
    "\n",
    "public int findMajority(String numbers) {\n",
    "    String[] numbersArray = numbers.split(\",\");\n",
    "    int maxInt = 0;\n",
    "    int maxVal = 0;\n",
    "    \n",
    "    HashMap<String, Integer> collection = new HashMap<String, Integer> ();\n",
    "    \n",
    "    for (String num:numbersArray){\n",
    "        if(!collection.containsKey(num)) {\n",
    "            collection.put(num, 1);\n",
    "            \n",
    "            if (collection.get(num)>maxVal) {\n",
    "                maxVal = collection.get(num);\n",
    "                maxInt = Integer.parseInt(num);\n",
    "            }\n",
    "            \n",
    "        } else {\n",
    "            int value = collection.get(num);\n",
    "            collection.put(num, value + 1);\n",
    "            if (collection.get(num) > maxVal) {\n",
    "                maxVal = collection.get(num);\n",
    "                maxInt = Integer.parseInt(num);\n",
    "            }\n",
    "        }\n",
    "    }\n",
    "       \n",
    "    return maxInt;\n",
    "}\n",
    "\n",
    "// Sollution uses string of numbers as input to accomodate src/Element.java \n",
    "findMajority(\"3,2,2,1,1,1,2,2,2\")"
   ]
  },
  {
   "cell_type": "markdown",
   "metadata": {},
   "source": [
    "---"
   ]
  },
  {
   "cell_type": "markdown",
   "metadata": {},
   "source": [
    "#### Use **Scala** (`almond` kernel)"
   ]
  },
  {
   "cell_type": "code",
   "execution_count": 1,
   "metadata": {},
   "outputs": [
    {
     "data": {
      "text/plain": [
       "\u001b[32mimport \u001b[39m\u001b[36mjava.util._\n",
       "\n",
       "\u001b[39m\r\n",
       "defined \u001b[32mfunction\u001b[39m \u001b[36mfindMajority\u001b[39m"
      ]
     },
     "execution_count": 1,
     "metadata": {},
     "output_type": "execute_result"
    }
   ],
   "source": [
    "import java.util._\n",
    "\n",
    "def findMajority(numbers: String):Integer = {\n",
    "    val numberArray: Array[String] = numbers.split(\",\")\n",
    "    var maxInt = 0;\n",
    "    var maxVal = 0;\n",
    "    val collection: HashMap[String, Integer] = new HashMap[String, Integer]()\n",
    "    for (num <- numberArray) {\n",
    "        if (!collection.containsKey(num)) {\n",
    "            collection.put(num,1)\n",
    "            \n",
    "            if (collection.get(num) > maxVal) {\n",
    "                maxVal = collection.get(num)\n",
    "                maxInt = Integer.parseInt(num)\n",
    "            }\n",
    "        } else{\n",
    "            val value:Integer = collection.get(num)\n",
    "            collection.put(num, value + 1)\n",
    "            if (collection.get(num) > maxVal) {\n",
    "                maxVal = collection.get(num)\n",
    "                maxInt = Integer.parseInt(num)\n",
    "            }\n",
    "        }\n",
    "    }\n",
    "    maxInt\n",
    "}"
   ]
  },
  {
   "cell_type": "code",
   "execution_count": 2,
   "metadata": {},
   "outputs": [
    {
     "data": {
      "text/plain": [
       "\u001b[36mres1\u001b[39m: \u001b[32mInteger\u001b[39m = \u001b[32m2\u001b[39m"
      ]
     },
     "execution_count": 2,
     "metadata": {},
     "output_type": "execute_result"
    }
   ],
   "source": [
    "findMajority(\"3,2,2,1,1,1,2,2,2\")"
   ]
  },
  {
   "cell_type": "markdown",
   "metadata": {},
   "source": [
    "---"
   ]
  }
 ],
 "metadata": {
  "kernelspec": {
   "display_name": "Python 3",
   "language": "python",
   "name": "python3"
  },
  "language_info": {
   "codemirror_mode": {
    "name": "ipython",
    "version": 3
   },
   "file_extension": ".py",
   "mimetype": "text/x-python",
   "name": "python",
   "nbconvert_exporter": "python",
   "pygments_lexer": "ipython3",
   "version": "3.7.5"
  }
 },
 "nbformat": 4,
 "nbformat_minor": 4
}
