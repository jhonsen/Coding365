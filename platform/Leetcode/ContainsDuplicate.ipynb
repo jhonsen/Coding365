{
 "cells": [
  {
   "cell_type": "markdown",
   "metadata": {},
   "source": [
    "## [Easy] [#217](https://leetcode.com/problems/contains-duplicate/)\n",
    "### `Contains Duplicate`\n",
    "\n",
    "Given an array of integers, find if the array contains any duplicates.\n",
    "  \n",
    "Your function should return true if any value appears at least twice in the array, and it should return false if every element is distinct.\n",
    "  \n",
    "Example 1:  \n",
    "Input: [1,2,3,1]  \n",
    "Output: true  \n",
    "  \n",
    "Example 2:  \n",
    "Input: [1,2,3,4]  \n",
    "Output: false  \n",
    "\n",
    "Example 3:    \n",
    "Input: [1,1,1,3,3,4,3,2,4,2]  \n",
    "Output: true  "
   ]
  },
  {
   "cell_type": "markdown",
   "metadata": {},
   "source": [
    "#### Use `Python` kernel"
   ]
  },
  {
   "cell_type": "code",
   "execution_count": 35,
   "metadata": {},
   "outputs": [],
   "source": [
    "# Very slow\n",
    "def contains_duplicate(numbers):\n",
    "    for ind,num in enumerate(numbers):\n",
    "        if numbers.count(num) > 1:\n",
    "            return True    \n",
    "    return False\n",
    "\n",
    "# use Counter\n",
    "from collections import Counter\n",
    "def contains_duplicate2(numbers):\n",
    "    collection = Counter(numbers)\n",
    "    for num in numbers:\n",
    "        if collection[num] > 1:\n",
    "            return True\n",
    "    return False\n",
    "\n",
    "def contains_duplicate3(numbers):\n",
    "    collect = {}\n",
    "    for each in numbers:\n",
    "        if each not in collect:\n",
    "            collect[each] = 1\n",
    "        else:\n",
    "            collect[each] += 1\n",
    "    for num in numbers:\n",
    "        if collection[num] > 1:\n",
    "            return True\n",
    "    return False\n"
   ]
  },
  {
   "cell_type": "code",
   "execution_count": 34,
   "metadata": {},
   "outputs": [
    {
     "data": {
      "text/plain": [
       "[True, False, True]"
      ]
     },
     "execution_count": 34,
     "metadata": {},
     "output_type": "execute_result"
    }
   ],
   "source": [
    "test_cases = [[1,2,3,1],      # true\n",
    "             [1,2,3,4],       # false\n",
    "             [1,1,1,3,3,4,3]  # true\n",
    "             ]\n",
    "\n",
    "[contains_duplicate2(i) for i in test_cases]"
   ]
  },
  {
   "cell_type": "markdown",
   "metadata": {},
   "source": [
    "---"
   ]
  },
  {
   "cell_type": "markdown",
   "metadata": {},
   "source": [
    "#### Use **Java** (`iJava` kernel)"
   ]
  },
  {
   "cell_type": "code",
   "execution_count": 12,
   "metadata": {},
   "outputs": [
    {
     "data": {
      "text/plain": [
       "true"
      ]
     },
     "execution_count": 12,
     "metadata": {},
     "output_type": "execute_result"
    }
   ],
   "source": [
    "import java.util.HashMap;\n",
    "\n",
    "public boolean containsDuplicate(String numbers) {\n",
    "    String[] digits = numbers.split(\",\");\n",
    "    HashMap<String, Integer> collection = new HashMap<String,Integer>();\n",
    "    \n",
    "    for (String num:digits) {\n",
    "        if (!collection.containsKey(num)) {\n",
    "            collection.put(num, 1);\n",
    "        } else {\n",
    "            int valuePlusOne = collection.get(num) + 1;\n",
    "            collection.put(num, valuePlusOne);\n",
    "        }\n",
    "    }\n",
    "    boolean output = false; \n",
    "    for (int i=0; i < digits.length; i++) {\n",
    "        if (collection.get(digits[i]) > 1) {\n",
    "            output = true;\n",
    "            break;\n",
    "        }\n",
    "    }\n",
    "    return output;\n",
    "}\n",
    "\n",
    "containsDuplicate(\"1,2,3,4,1\")"
   ]
  },
  {
   "cell_type": "markdown",
   "metadata": {},
   "source": [
    "---"
   ]
  },
  {
   "cell_type": "markdown",
   "metadata": {},
   "source": [
    "#### Use **Scala** (`almond` kernel)"
   ]
  },
  {
   "cell_type": "code",
   "execution_count": 2,
   "metadata": {},
   "outputs": [
    {
     "data": {
      "text/plain": [
       "\u001b[32mimport \u001b[39m\u001b[36mjava.util._\n",
       "\n",
       "\u001b[39m\r\n",
       "defined \u001b[32mfunction\u001b[39m \u001b[36mcontainsDuplicate\u001b[39m"
      ]
     },
     "execution_count": 2,
     "metadata": {},
     "output_type": "execute_result"
    }
   ],
   "source": [
    "import java.util._\n",
    "\n",
    "def containsDuplicate(numbers: String): Boolean = {\n",
    "    val digits: Array[String] = numbers.split(\",\")\n",
    "    val collection: HashMap[String,Integer] = new HashMap[String,Integer]()\n",
    "    \n",
    "    for (num <- digits) {\n",
    "        if (!collection.containsKey(num)) {\n",
    "            collection.put(num, 1)\n",
    "        } else {\n",
    "            var valuePlusOne: Integer = collection.get(num) + 1\n",
    "            collection.put(num, valuePlusOne)\n",
    "        }\n",
    "    }\n",
    "    var output: Boolean = false\n",
    "    for (i <- 0 until digits.length) {\n",
    "        if (collection.get(digits(i)) > 1) {\n",
    "            output = true\n",
    "        }\n",
    "    }\n",
    "    output\n",
    "}\n",
    "\n"
   ]
  },
  {
   "cell_type": "code",
   "execution_count": 3,
   "metadata": {},
   "outputs": [
    {
     "data": {
      "text/plain": [
       "\u001b[36mres2\u001b[39m: \u001b[32mBoolean\u001b[39m = true"
      ]
     },
     "execution_count": 3,
     "metadata": {},
     "output_type": "execute_result"
    }
   ],
   "source": [
    "containsDuplicate(\"1,2,3,4,1\")"
   ]
  },
  {
   "cell_type": "markdown",
   "metadata": {},
   "source": [
    "---"
   ]
  }
 ],
 "metadata": {
  "kernelspec": {
   "display_name": "Scala 2.12.8",
   "language": "scala",
   "name": "scala_2_12_8"
  },
  "language_info": {
   "codemirror_mode": "text/x-scala",
   "file_extension": ".scala",
   "mimetype": "text/x-scala",
   "name": "scala",
   "nbconvert_exporter": "script",
   "version": "2.12.8"
  }
 },
 "nbformat": 4,
 "nbformat_minor": 4
}
