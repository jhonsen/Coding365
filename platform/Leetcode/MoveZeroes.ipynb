{
 "cells": [
  {
   "cell_type": "markdown",
   "metadata": {},
   "source": [
    "## [Easy] [#283](https://leetcode.com/problems/move-zeroes/)\n",
    "### `Move Zeroes`\n",
    "Given an array nums, write a function to move all 0's to the end of it while maintaining the relative order of the non-zero elements.\n",
    "  \n",
    "  \n",
    "Example:  \n",
    "Input: [0,1,0,3,12]  \n",
    "Output: [1,3,12,0,0]  \n",
    "\n",
    "Note:  \n",
    "You must do this in-place without making a copy of the array.\n",
    "Minimize the total number of operations."
   ]
  },
  {
   "cell_type": "code",
   "execution_count": 54,
   "metadata": {},
   "outputs": [],
   "source": [
    "def move_zeroes_to_end(nums):\n",
    "    counter = 0\n",
    "    while 0 in nums:\n",
    "        nums.remove(0)\n",
    "        counter += 1\n",
    "    nums = nums.extend([0 for _ in range(counter)])\n",
    "    "
   ]
  },
  {
   "cell_type": "code",
   "execution_count": 55,
   "metadata": {},
   "outputs": [
    {
     "name": "stdout",
     "output_type": "stream",
     "text": [
      "[1, 3, 12, 0, 0]\n",
      "[1, 2, 0]\n",
      "[1, 0, 0]\n"
     ]
    }
   ],
   "source": [
    "test_cases = [\n",
    "             [0,1,0,3,12],\n",
    "             [0,1,2],\n",
    "             [0,0,1],\n",
    "             ]\n",
    "for case in test_cases:\n",
    "    move_zeroes_to_end(case)\n",
    "    print(case)"
   ]
  },
  {
   "cell_type": "markdown",
   "metadata": {},
   "source": [
    "---"
   ]
  },
  {
   "cell_type": "markdown",
   "metadata": {},
   "source": [
    "#### Use **Java** (`iJava` kernel)"
   ]
  },
  {
   "cell_type": "code",
   "execution_count": 7,
   "metadata": {},
   "outputs": [
    {
     "name": "stdout",
     "output_type": "stream",
     "text": [
      "[0, 1, 0, 3, 12]\n",
      "[1, 3, 12, 0, 0]\n"
     ]
    }
   ],
   "source": [
    "import java.util.ArrayList;\n",
    "\n",
    "public void moveZeroes(ArrayList<Integer> numbers) {\n",
    "    int counter = 0;\n",
    "    ArrayList<Integer> zeroCollection = new ArrayList<Integer>();\n",
    "    while (numbers.contains(0)) {\n",
    "        numbers.remove(Integer.valueOf(0));\n",
    "        counter++;\n",
    "        zeroCollection.add(0);\n",
    "    }\n",
    "    numbers.addAll(zeroCollection);\n",
    "}\n",
    "\n",
    "ArrayList<Integer> nums = new ArrayList<>(Arrays.asList(0,1,0,3,12)) ;\n",
    "System.out.println(nums);\n",
    "moveZeroes(nums);\n",
    "System.out.println(nums);"
   ]
  },
  {
   "cell_type": "markdown",
   "metadata": {},
   "source": [
    "---"
   ]
  },
  {
   "cell_type": "markdown",
   "metadata": {},
   "source": [
    "#### Use **Scala** (`almond` kernel)"
   ]
  },
  {
   "cell_type": "code",
   "execution_count": 2,
   "metadata": {},
   "outputs": [
    {
     "name": "stdout",
     "output_type": "stream",
     "text": [
      "[0, 1, 0, 3, 12]\n",
      "[1, 3, 12, 0, 0]\n"
     ]
    },
    {
     "data": {
      "text/plain": [
       "\u001b[32mimport \u001b[39m\u001b[36mjava.lang._\n",
       "\u001b[39m\r\n",
       "\u001b[32mimport \u001b[39m\u001b[36mjava.util._\n",
       "\n",
       "\u001b[39m\r\n",
       "defined \u001b[32mfunction\u001b[39m \u001b[36mmoveZeroes\u001b[39m\r\n",
       "\u001b[36mnums\u001b[39m: \u001b[32mArrayList\u001b[39m[\u001b[32mInteger\u001b[39m] = [1, 3, 12, 0, 0]\r\n",
       "\u001b[36mres1_4\u001b[39m: \u001b[32mscala\u001b[39m.\u001b[32mBoolean\u001b[39m = true\r\n",
       "\u001b[36mres1_5\u001b[39m: \u001b[32mscala\u001b[39m.\u001b[32mBoolean\u001b[39m = true\r\n",
       "\u001b[36mres1_6\u001b[39m: \u001b[32mscala\u001b[39m.\u001b[32mBoolean\u001b[39m = true\r\n",
       "\u001b[36mres1_7\u001b[39m: \u001b[32mscala\u001b[39m.\u001b[32mBoolean\u001b[39m = true\r\n",
       "\u001b[36mres1_8\u001b[39m: \u001b[32mscala\u001b[39m.\u001b[32mBoolean\u001b[39m = true"
      ]
     },
     "execution_count": 2,
     "metadata": {},
     "output_type": "execute_result"
    }
   ],
   "source": [
    "import java.lang._\n",
    "import java.util._\n",
    "\n",
    "def moveZeroes(numbers: ArrayList[Integer]): Unit = {\n",
    "    var counter: Int = 0\n",
    "    val zeroCollection: ArrayList[Integer] = new ArrayList[Integer]()\n",
    "    while (numbers.contains(0)) {\n",
    "        numbers.remove(Integer.valueOf(0)) \n",
    "        counter += 1\n",
    "        zeroCollection.add(0)\n",
    "    }\n",
    "    numbers.addAll(zeroCollection)\n",
    "}\n",
    "\n",
    "val nums: ArrayList[Integer] = new ArrayList[Integer]()\n",
    "nums.add(0)\n",
    "nums.add(1)\n",
    "nums.add(0)\n",
    "nums.add(3)\n",
    "nums.add(12)\n",
    "\n",
    "println(nums)\n",
    "moveZeroes(nums)\n",
    "println(nums)"
   ]
  },
  {
   "cell_type": "markdown",
   "metadata": {},
   "source": [
    "---"
   ]
  }
 ],
 "metadata": {
  "kernelspec": {
   "display_name": "Python 3",
   "language": "python",
   "name": "python3"
  },
  "language_info": {
   "codemirror_mode": {
    "name": "ipython",
    "version": 3
   },
   "file_extension": ".py",
   "mimetype": "text/x-python",
   "name": "python",
   "nbconvert_exporter": "python",
   "pygments_lexer": "ipython3",
   "version": "3.7.5"
  }
 },
 "nbformat": 4,
 "nbformat_minor": 4
}
