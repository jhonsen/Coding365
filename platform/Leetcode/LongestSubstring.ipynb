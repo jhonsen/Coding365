{
 "cells": [
  {
   "cell_type": "markdown",
   "metadata": {},
   "source": [
    "## [Medium] [#3](https://leetcode.com/problems/longest-substring-without-repeating-characters/)\n",
    "### `Length of Longest Substring`\n",
    "  \n",
    "Given a string, find the length of the longest substring without repeating characters.\n",
    "  \n",
    "**Example 1:**\n",
    "Input: \"abcabcbb\" \n",
    "Output: 3  \n",
    "Explanation: The answer is \"abc\", with the length of 3. \n",
    "  \n",
    "**Example 2:**  \n",
    "Input: \"bbbbb\"  \n",
    "Output: 1  \n",
    "Explanation: The answer is \"b\", with the length of 1.\n",
    "  \n",
    "**Example 3:**  \n",
    "Input: \"pwwkew\"  \n",
    "Output: 3  \n",
    "Explanation: The answer is \"wke\", with the length of 3. \n",
    "             Note that the answer must be a substring, \"pwke\" is a subsequence and not a substring."
   ]
  },
  {
   "cell_type": "markdown",
   "metadata": {},
   "source": [
    "#### Use **Python** kernel"
   ]
  },
  {
   "cell_type": "code",
   "execution_count": 60,
   "metadata": {},
   "outputs": [],
   "source": [
    "from collections import Counter\n",
    "# rough draft solution\n",
    "def find_length_longest(string):\n",
    "    \n",
    "    if string == '':\n",
    "        return 0\n",
    "    \n",
    "    diction = Counter()\n",
    "    substr = ''\n",
    "    collection = []\n",
    "\n",
    "    for start in range(len(string)):\n",
    "        for i in range(start, len(string)):\n",
    "            let = string[i]\n",
    "\n",
    "            if diction[let] < 1:\n",
    "                diction.update(let)\n",
    "                substr += let\n",
    "\n",
    "            else:\n",
    "                collection.append(len(substr))\n",
    "                substr = ''\n",
    "                diction = Counter()\n",
    "                break\n",
    "                \n",
    "    if substr != '':\n",
    "        collection.append(len(substr))\n",
    "        \n",
    "    return max(collection) if collection else 0"
   ]
  },
  {
   "cell_type": "code",
   "execution_count": 61,
   "metadata": {},
   "outputs": [
    {
     "data": {
      "text/plain": [
       "[1, 3, 3, 0, 1]"
      ]
     },
     "execution_count": 61,
     "metadata": {},
     "output_type": "execute_result"
    }
   ],
   "source": [
    "test_cases = ['bbbb',     # 1 for bbbb\n",
    "              'pwwkew',   # 3 for wke\n",
    "              'abcabcbb', # 3 for abc\n",
    "              '',         # 0 for ''\n",
    "              ' ',        # 1 for ' '\n",
    "             ]\n",
    "\n",
    "[find_length_longest(case) for case in test_cases]"
   ]
  },
  {
   "cell_type": "markdown",
   "metadata": {},
   "source": [
    "---"
   ]
  },
  {
   "cell_type": "markdown",
   "metadata": {},
   "source": [
    "#### Use **Java** (`iJava` kernel)"
   ]
  },
  {
   "cell_type": "code",
   "execution_count": null,
   "metadata": {},
   "outputs": [],
   "source": []
  },
  {
   "cell_type": "markdown",
   "metadata": {},
   "source": [
    "---"
   ]
  },
  {
   "cell_type": "markdown",
   "metadata": {},
   "source": [
    "#### Use **Scala** (`almond` kernel)"
   ]
  },
  {
   "cell_type": "code",
   "execution_count": null,
   "metadata": {},
   "outputs": [],
   "source": []
  },
  {
   "cell_type": "markdown",
   "metadata": {},
   "source": [
    "---"
   ]
  }
 ],
 "metadata": {
  "kernelspec": {
   "display_name": "Python 3",
   "language": "python",
   "name": "python3"
  },
  "language_info": {
   "codemirror_mode": {
    "name": "ipython",
    "version": 3
   },
   "file_extension": ".py",
   "mimetype": "text/x-python",
   "name": "python",
   "nbconvert_exporter": "python",
   "pygments_lexer": "ipython3",
   "version": "3.7.5"
  }
 },
 "nbformat": 4,
 "nbformat_minor": 4
}
