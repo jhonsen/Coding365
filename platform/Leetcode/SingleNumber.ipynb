{
 "cells": [
  {
   "cell_type": "markdown",
   "metadata": {},
   "source": [
    "## [Easy] [#136](https://leetcode.com/problems/single-number/)\n",
    "### `Single Number`\n",
    "Given a non-empty array of integers, every element appears twice except for one. Find that single one.\n",
    "  \n",
    "Note:  \n",
    "  \n",
    "Your algorithm should have a linear runtime complexity. Could you implement it without using extra memory?  \n",
    "  \n",
    "**Example 1:**  \n",
    "Input: [2,2,1]   \n",
    "Output: 1  \n",
    "   \n",
    "**Example 2:**   \n",
    "Input: [4,1,2,1,2]   \n",
    "Output: 4   \n",
    "  "
   ]
  },
  {
   "cell_type": "markdown",
   "metadata": {},
   "source": [
    "#### Use `Python` kernel"
   ]
  },
  {
   "cell_type": "code",
   "execution_count": 6,
   "metadata": {},
   "outputs": [],
   "source": [
    "# memory efficient solution\n",
    "def find_single(numbers):\n",
    "    \n",
    "    for i in range (len(numbers)):\n",
    "        digit = numbers.pop()\n",
    "        if digit not in numbers:\n",
    "            return digit\n",
    "        else:\n",
    "            numbers.remove(digit)   \n",
    "\n",
    "# A bit faster             \n",
    "from collections import defaultdict\n",
    "def find_single2(numbers):\n",
    "    collection = defaultdict(int)\n",
    "    for num in numbers:\n",
    "        collection[num] += 1\n",
    "    for num in list(set(numbers)):\n",
    "        if collection[num] == 1:\n",
    "            return num"
   ]
  },
  {
   "cell_type": "code",
   "execution_count": 7,
   "metadata": {},
   "outputs": [
    {
     "data": {
      "text/plain": [
       "[2, 1, 1]"
      ]
     },
     "execution_count": 7,
     "metadata": {},
     "output_type": "execute_result"
    }
   ],
   "source": [
    "test_cases = [[1,2,3,4,4,3,1],  # 2\n",
    "              [4,4,1],          # 1\n",
    "              [1,9,9]           # 1\n",
    "             ]\n",
    "[find_single2(each) for each in test_cases]"
   ]
  },
  {
   "cell_type": "markdown",
   "metadata": {},
   "source": [
    "---"
   ]
  },
  {
   "cell_type": "markdown",
   "metadata": {},
   "source": [
    "#### Use **Java** (`iJava` kernel)"
   ]
  },
  {
   "cell_type": "code",
   "execution_count": 59,
   "metadata": {},
   "outputs": [
    {
     "data": {
      "text/plain": [
       "2"
      ]
     },
     "execution_count": 59,
     "metadata": {},
     "output_type": "execute_result"
    }
   ],
   "source": [
    "// Solution in Java\n",
    "import java.util.ArrayList;\n",
    "\n",
    "public int findSingle(String numbers) {\n",
    "    String[] digits = numbers.split(\",\");\n",
    "    List<String> list = new ArrayList<String>(Arrays.asList(digits));\n",
    "    \n",
    "    int output = 0; \n",
    "    int len = list.size();\n",
    "\n",
    "    do {\n",
    "        String toCheck = list.get(len-1);\n",
    "        list.remove(toCheck);\n",
    "                \n",
    "        if (!list.contains(toCheck)) {\n",
    "            output = Integer.valueOf(toCheck);\n",
    "            break;\n",
    "        } else {\n",
    "            list.remove(toCheck);\n",
    "        }\n",
    "        len = list.size();\n",
    "    } \n",
    "    while (len > 0);\n",
    "    return output;\n",
    "}\n",
    "\n",
    "findSingle(\"1,1,2\")"
   ]
  },
  {
   "cell_type": "code",
   "execution_count": null,
   "metadata": {},
   "outputs": [],
   "source": []
  }
 ],
 "metadata": {
  "kernelspec": {
   "display_name": "Python 3",
   "language": "python",
   "name": "python3"
  },
  "language_info": {
   "codemirror_mode": {
    "name": "ipython",
    "version": 3
   },
   "file_extension": ".py",
   "mimetype": "text/x-python",
   "name": "python",
   "nbconvert_exporter": "python",
   "pygments_lexer": "ipython3",
   "version": "3.7.5"
  }
 },
 "nbformat": 4,
 "nbformat_minor": 4
}
