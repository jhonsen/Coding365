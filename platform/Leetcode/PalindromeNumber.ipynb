{
 "cells": [
  {
   "cell_type": "markdown",
   "metadata": {},
   "source": [
    "## [Easy] [#9](https://leetcode.com/problems/palindrome-number/)\n",
    "### `Palindrome Number`\n",
    "Determine whether an integer is a palindrome. An integer is a palindrome when it reads the same backward as forward.\n",
    "\n",
    "Example 1:  \n",
    "Input: 121  \n",
    "Output: true  \n",
    "  \n",
    "Example 2:  \n",
    "Input: -121  \n",
    "Output: false  \n",
    "Explanation: From left to right, it reads -121. From right to left, it becomes 121-. Therefore it is not a palindrome.  \n",
    "  \n",
    "Example 3:  \n",
    "Input: 10  \n",
    "Output: false  \n",
    "Explanation: Reads 01 from right to left. Therefore it is not a palindrome.\n",
    "\n",
    "Follow up:  \n",
    "Coud you solve it without converting the integer to a string?  "
   ]
  },
  {
   "cell_type": "code",
   "execution_count": 17,
   "metadata": {},
   "outputs": [],
   "source": [
    "def is_palindrome(x: int) -> bool:\n",
    "        return str(x)[::-1] == str(x)"
   ]
  },
  {
   "cell_type": "code",
   "execution_count": 6,
   "metadata": {},
   "outputs": [
    {
     "data": {
      "text/plain": [
       "[True, False, False]"
      ]
     },
     "execution_count": 6,
     "metadata": {},
     "output_type": "execute_result"
    }
   ],
   "source": [
    "test_cases = [121, # true\n",
    "             -121, # false\n",
    "             10,   # false\n",
    "             ]\n",
    "\n",
    "[is_palindrome(case) for case in test_cases]"
   ]
  },
  {
   "cell_type": "markdown",
   "metadata": {},
   "source": [
    "---"
   ]
  },
  {
   "cell_type": "markdown",
   "metadata": {},
   "source": [
    "#### Use **Java** (`iJava` kernel)"
   ]
  },
  {
   "cell_type": "code",
   "execution_count": 4,
   "metadata": {},
   "outputs": [
    {
     "data": {
      "text/plain": [
       "false"
      ]
     },
     "execution_count": 4,
     "metadata": {},
     "output_type": "execute_result"
    }
   ],
   "source": [
    "// Solution in Java\n",
    "\n",
    "public boolean isPalindrome(int number) {\n",
    "    String numberString = Integer.toString(number);\n",
    "    char[] numberChars = numberString.toCharArray();\n",
    "    \n",
    "    char[] reversedChars = new char[numberChars.length];\n",
    "    \n",
    "    for (int i=0; i < numberChars.length; i++) {\n",
    "        reversedChars[i] = numberChars[numberChars.length - 1 - i];\n",
    "    }\n",
    "    String reversedString = new String(reversedChars);\n",
    "    return numberString.equals(reversedString);\n",
    "}\n",
    "\n",
    "int testCase = 1212;\n",
    "isPalindrome(testCase);"
   ]
  },
  {
   "cell_type": "markdown",
   "metadata": {},
   "source": [
    "---"
   ]
  },
  {
   "cell_type": "markdown",
   "metadata": {},
   "source": [
    "#### Use **Scala** (`almond` kernel)"
   ]
  },
  {
   "cell_type": "code",
   "execution_count": 2,
   "metadata": {},
   "outputs": [
    {
     "data": {
      "text/plain": [
       "defined \u001b[32mfunction\u001b[39m \u001b[36misPalindrome\u001b[39m\r\n",
       "\u001b[36mtestCase\u001b[39m: \u001b[32mInt\u001b[39m = \u001b[32m121\u001b[39m\r\n",
       "\u001b[36mres1_2\u001b[39m: \u001b[32mBoolean\u001b[39m = true"
      ]
     },
     "execution_count": 2,
     "metadata": {},
     "output_type": "execute_result"
    }
   ],
   "source": [
    "def isPalindrome(number: Integer):Boolean = {\n",
    "    val numberString: String = Integer.toString(number)\n",
    "    val numberChars: Array[Char] = numberString.toCharArray()\n",
    "    val reversedChars: Array[Char] = Array.ofDim[Char](numberChars.length)\n",
    "    \n",
    "    for (i <- 0 until numberChars.length) {\n",
    "        reversedChars(i) = numberChars(numberChars.length - 1 -i)\n",
    "    }\n",
    "    val reversedString: String = new String(reversedChars)\n",
    "    numberString.equals(reversedString)\n",
    "}\n",
    "\n",
    "val testCase = 121;\n",
    "isPalindrome(testCase);"
   ]
  },
  {
   "cell_type": "markdown",
   "metadata": {},
   "source": [
    "---"
   ]
  }
 ],
 "metadata": {
  "kernelspec": {
   "display_name": "Python 3",
   "language": "python",
   "name": "python3"
  },
  "language_info": {
   "codemirror_mode": {
    "name": "ipython",
    "version": 3
   },
   "file_extension": ".py",
   "mimetype": "text/x-python",
   "name": "python",
   "nbconvert_exporter": "python",
   "pygments_lexer": "ipython3",
   "version": "3.7.5"
  }
 },
 "nbformat": 4,
 "nbformat_minor": 4
}
