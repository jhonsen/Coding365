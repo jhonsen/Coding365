{
 "cells": [
  {
   "cell_type": "markdown",
   "metadata": {},
   "source": [
    "## [Easy] [#125](https://leetcode.com/problems/valid-palindrome/)\n",
    "### `Valid Palindrome`\n",
    "Given a string, determine if it is a palindrome, considering only alphanumeric characters and ignoring cases.\n",
    "  \n",
    "Note: For the purpose of this problem, we define empty string as valid palindrome.\n",
    "  \n",
    "**Example 1:**  \n",
    "  \n",
    "Input: \"A man, a plan, a canal: Panama\"  \n",
    "Output: true  \n",
    "  \n",
    "**Example 2:**    \n",
    "Input: \"race a car\"\n",
    "Output: false"
   ]
  },
  {
   "cell_type": "markdown",
   "metadata": {},
   "source": [
    "#### Use `Python` kernel"
   ]
  },
  {
   "cell_type": "code",
   "execution_count": 5,
   "metadata": {},
   "outputs": [],
   "source": [
    "def is_palindrome(input_string):\n",
    "    revised_input = ''.join([let.lower() for let in input_string if let.isalnum()])\n",
    "    return revised_input == revised_input[::-1] "
   ]
  },
  {
   "cell_type": "code",
   "execution_count": 6,
   "metadata": {},
   "outputs": [
    {
     "data": {
      "text/plain": [
       "[True, False]"
      ]
     },
     "execution_count": 6,
     "metadata": {},
     "output_type": "execute_result"
    }
   ],
   "source": [
    "test_cases = [\"A man, a plan, a canal: Panama\" ,  # True\n",
    "              (\"race a car\"),   # False\n",
    "             ]\n",
    "\n",
    "[is_palindrome(case) for case in test_cases]"
   ]
  },
  {
   "cell_type": "markdown",
   "metadata": {},
   "source": [
    "---"
   ]
  },
  {
   "cell_type": "markdown",
   "metadata": {},
   "source": [
    "#### Use **Java** (`iJava` kernel)"
   ]
  },
  {
   "cell_type": "code",
   "execution_count": 51,
   "metadata": {},
   "outputs": [
    {
     "data": {
      "text/plain": [
       "true"
      ]
     },
     "execution_count": 51,
     "metadata": {},
     "output_type": "execute_result"
    }
   ],
   "source": [
    "// Solution in Java\n",
    "import org.apache.commons.lang3.StringUtils;\n",
    "\n",
    "public boolean isPalindrome(String sentence) {\n",
    "    char[] characters = sentence.toCharArray();\n",
    "    \n",
    "    StringBuilder parsedString = new StringBuilder();\n",
    "    \n",
    "    for (char let:characters){\n",
    "        char each = Character.toLowerCase(let);\n",
    "        if(Character.isLetterOrDigit(each)) {\n",
    "            parsedString.append(each);\n",
    "        } else {\n",
    "            continue;\n",
    "        }\n",
    "    }\n",
    "    String output = new String(parsedString);\n",
    "    var reversed = parsedString.reverse().toString();\n",
    "    \n",
    "    return output.equals(reversed);\n",
    "}\n",
    "\n",
    "isPalindrome(\"A man, a plan, a canal: Panama\")"
   ]
  },
  {
   "cell_type": "markdown",
   "metadata": {},
   "source": [
    "---"
   ]
  },
  {
   "cell_type": "markdown",
   "metadata": {},
   "source": [
    "#### Use **Scala** (`almond` kernel)"
   ]
  },
  {
   "cell_type": "code",
   "execution_count": null,
   "metadata": {},
   "outputs": [],
   "source": []
  },
  {
   "cell_type": "code",
   "execution_count": null,
   "metadata": {},
   "outputs": [],
   "source": []
  }
 ],
 "metadata": {
  "kernelspec": {
   "display_name": "Python 3",
   "language": "python",
   "name": "python3"
  },
  "language_info": {
   "codemirror_mode": {
    "name": "ipython",
    "version": 3
   },
   "file_extension": ".py",
   "mimetype": "text/x-python",
   "name": "python",
   "nbconvert_exporter": "python",
   "pygments_lexer": "ipython3",
   "version": "3.7.5"
  }
 },
 "nbformat": 4,
 "nbformat_minor": 4
}
