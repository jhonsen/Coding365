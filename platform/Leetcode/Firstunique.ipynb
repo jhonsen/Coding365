{
 "cells": [
  {
   "cell_type": "markdown",
   "metadata": {},
   "source": [
    "## [Easy] [#387](https://leetcode.com/problems/first-unique-character-in-a-string/)\n",
    "### `First Unique`\n",
    "Given a string, find the first non-repeating character in it and return it's index. If it doesn't exist, return -1.\n",
    "  \n",
    "Examples:  \n",
    "  \n",
    "s = \"leetcode\"  \n",
    "return 0.  \n",
    "  \n",
    "s = \"loveleetcode\",  \n",
    "return 2.  \n",
    "   \n",
    "Note: You may assume the string contain only lowercase English letters."
   ]
  },
  {
   "cell_type": "markdown",
   "metadata": {},
   "source": [
    "#### Use `Python` kernel"
   ]
  },
  {
   "cell_type": "code",
   "execution_count": 95,
   "metadata": {},
   "outputs": [],
   "source": [
    "# use collections package\n",
    "from collections import Counter\n",
    "def find_first_unique(string):\n",
    "    collection = Counter(string)\n",
    "    for i in range(len(string)):\n",
    "        letter = string[i]\n",
    "        if collection.get(letter) < 2:\n",
    "            return i\n",
    "    return -1\n",
    "\n",
    "# use traditional dictionary\n",
    "def find_first_unique2(string):\n",
    "    collection = {}\n",
    "    for letter in string:\n",
    "        if letter not in collection:\n",
    "            collection[letter] = 1\n",
    "        else:\n",
    "            collection[letter] += 1\n",
    "    \n",
    "    for i in range(len(string)):\n",
    "        letter = string[i]\n",
    "        if collection.get(letter) < 2:\n",
    "            return i\n",
    "    return -1\n",
    "    \n",
    "def find_first_unique3(string):\n",
    "    count = {}\n",
    "    for ch in set(string):\n",
    "        count[ch] = string.count(ch)\n",
    "\n",
    "    for ind in range(len(string)):\n",
    "        if count[string[ind]] == 1:\n",
    "            return ind\n",
    "\n",
    "    return -1\n",
    "    \n",
    "def find_first_unique4(string):\n",
    "    \n",
    "    for i,let in enumerate(string):\n",
    "        if string.count(let) == 1:\n",
    "            return i\n",
    "    return -1\n",
    "\n",
    "def find_first_unique5(string):\n",
    "    \n",
    "    for i,let in enumerate(string):\n",
    "        to_check = list(string)       \n",
    "        try:\n",
    "            to_check.remove(let)\n",
    "            if let not in to_check:\n",
    "                return i\n",
    "        except ValueError:\n",
    "            return i\n",
    "    return -1"
   ]
  },
  {
   "cell_type": "code",
   "execution_count": 96,
   "metadata": {},
   "outputs": [
    {
     "data": {
      "text/plain": [
       "[1, 0, 2, -1, 2]"
      ]
     },
     "execution_count": 96,
     "metadata": {},
     "output_type": "execute_result"
    }
   ],
   "source": [
    "test_cases = ['loveletter',   # 1\n",
    "              'leetcode',     # 0\n",
    "              'loveleetcode', # 2\n",
    "              'aadadaad',     # -1\n",
    "              'aal'           # 2\n",
    "              '',             # -1\n",
    "              ]\n",
    "\n",
    "[find_first_unique5(case) for case in test_cases]"
   ]
  },
  {
   "cell_type": "markdown",
   "metadata": {},
   "source": [
    "---"
   ]
  },
  {
   "cell_type": "code",
   "execution_count": null,
   "metadata": {},
   "outputs": [],
   "source": []
  }
 ],
 "metadata": {
  "kernelspec": {
   "display_name": "Python 3",
   "language": "python",
   "name": "python3"
  },
  "language_info": {
   "codemirror_mode": {
    "name": "ipython",
    "version": 3
   },
   "file_extension": ".py",
   "mimetype": "text/x-python",
   "name": "python",
   "nbconvert_exporter": "python",
   "pygments_lexer": "ipython3",
   "version": "3.7.5"
  }
 },
 "nbformat": 4,
 "nbformat_minor": 4
}
