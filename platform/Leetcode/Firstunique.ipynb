{
 "cells": [
  {
   "cell_type": "markdown",
   "metadata": {},
   "source": [
    "## [Easy] [#387](https://leetcode.com/problems/first-unique-character-in-a-string/)\n",
    "### `First Unique`\n",
    "Given a string, find the first non-repeating character in it and return it's index. If it doesn't exist, return -1.\n",
    "  \n",
    "Examples:  \n",
    "  \n",
    "s = \"leetcode\"  \n",
    "return 0.  \n",
    "  \n",
    "s = \"loveleetcode\",  \n",
    "return 2.  \n",
    "   \n",
    "Note: You may assume the string contain only lowercase English letters."
   ]
  },
  {
   "cell_type": "markdown",
   "metadata": {},
   "source": [
    "#### Use `Python` kernel"
   ]
  },
  {
   "cell_type": "code",
   "execution_count": 95,
   "metadata": {},
   "outputs": [],
   "source": [
    "# use collections package\n",
    "from collections import Counter\n",
    "def find_first_unique(string):\n",
    "    collection = Counter(string)\n",
    "    for i in range(len(string)):\n",
    "        letter = string[i]\n",
    "        if collection.get(letter) < 2:\n",
    "            return i\n",
    "    return -1\n",
    "\n",
    "# use traditional dictionary\n",
    "def find_first_unique2(string):\n",
    "    collection = {}\n",
    "    for letter in string:\n",
    "        if letter not in collection:\n",
    "            collection[letter] = 1\n",
    "        else:\n",
    "            collection[letter] += 1\n",
    "    \n",
    "    for i in range(len(string)):\n",
    "        letter = string[i]\n",
    "        if collection.get(letter) < 2:\n",
    "            return i\n",
    "    return -1\n",
    "    \n",
    "def find_first_unique3(string):\n",
    "    count = {}\n",
    "    for ch in set(string):\n",
    "        count[ch] = string.count(ch)\n",
    "\n",
    "    for ind in range(len(string)):\n",
    "        if count[string[ind]] == 1:\n",
    "            return ind\n",
    "\n",
    "    return -1\n",
    "    \n",
    "def find_first_unique4(string):\n",
    "    \n",
    "    for i,let in enumerate(string):\n",
    "        if string.count(let) == 1:\n",
    "            return i\n",
    "    return -1\n",
    "\n",
    "def find_first_unique5(string):\n",
    "    \n",
    "    for i,let in enumerate(string):\n",
    "        to_check = list(string)       \n",
    "        try:\n",
    "            to_check.remove(let)\n",
    "            if let not in to_check:\n",
    "                return i\n",
    "        except ValueError:\n",
    "            return i\n",
    "    return -1"
   ]
  },
  {
   "cell_type": "code",
   "execution_count": 96,
   "metadata": {},
   "outputs": [
    {
     "data": {
      "text/plain": [
       "[1, 0, 2, -1, 2]"
      ]
     },
     "execution_count": 96,
     "metadata": {},
     "output_type": "execute_result"
    }
   ],
   "source": [
    "test_cases = ['loveletter',   # 1\n",
    "              'leetcode',     # 0\n",
    "              'loveleetcode', # 2\n",
    "              'aadadaad',     # -1\n",
    "              'aal'           # 2\n",
    "              '',             # -1\n",
    "              ]\n",
    "\n",
    "[find_first_unique5(case) for case in test_cases]"
   ]
  },
  {
   "cell_type": "markdown",
   "metadata": {},
   "source": [
    "---"
   ]
  },
  {
   "cell_type": "markdown",
   "metadata": {},
   "source": [
    "#### Use **Java** (`iJava` kernel)"
   ]
  },
  {
   "cell_type": "code",
   "execution_count": 1,
   "metadata": {},
   "outputs": [
    {
     "name": "stdout",
     "output_type": "stream",
     "text": [
      "-1\n"
     ]
    },
    {
     "data": {
      "text/plain": [
       "-1"
      ]
     },
     "execution_count": 1,
     "metadata": {},
     "output_type": "execute_result"
    }
   ],
   "source": [
    "// Solution in Java\n",
    "import java.util.HashMap;\n",
    "\n",
    "public int findFirstUnique(String phrase) {\n",
    "    \n",
    "    char[] letters = phrase.toCharArray();\n",
    "    HashMap<Character, Integer> collection = new HashMap<Character, Integer> ();\n",
    "    \n",
    "    for (char c: letters) {\n",
    "        if (!collection.containsKey(c)) {\n",
    "            collection.put(c, 1);\n",
    "        } else {\n",
    "            int countUp = collection.get(c) + 1;\n",
    "            collection.put(c, countUp);\n",
    "        }\n",
    "    }\n",
    "    \n",
    "    int output = -1;\n",
    "    for (int i=0; i < letters.length; i++) {\n",
    "        if (collection.get(letters[i]) < 2) {\n",
    "            output = i;\n",
    "            break;\n",
    "        }\n",
    "    }\n",
    "    return output;\n",
    "}\n",
    "\n",
    "findFirstUnique(\"aabbcc\")"
   ]
  },
  {
   "cell_type": "markdown",
   "metadata": {},
   "source": [
    "---"
   ]
  },
  {
   "cell_type": "markdown",
   "metadata": {},
   "source": [
    "#### Use **Scala** (`almond` kernel)"
   ]
  },
  {
   "cell_type": "code",
   "execution_count": 3,
   "metadata": {},
   "outputs": [
    {
     "data": {
      "text/plain": [
       "\u001b[32mimport \u001b[39m\u001b[36mjava.util._\n",
       "\n",
       "\u001b[39m\r\n",
       "defined \u001b[32mfunction\u001b[39m \u001b[36mfindFirstUnique\u001b[39m\r\n",
       "\u001b[36mres2_2\u001b[39m: \u001b[32mInteger\u001b[39m = \u001b[32m4\u001b[39m"
      ]
     },
     "execution_count": 3,
     "metadata": {},
     "output_type": "execute_result"
    }
   ],
   "source": [
    "import java.util._\n",
    "\n",
    "def findFirstUnique(letters: String): Integer = {\n",
    "    val phrase: Array[Char] = letters.toCharArray()\n",
    "    val collection: HashMap[Char, Integer] = new HashMap[Char, Integer]()\n",
    "    for (c <- letters) {\n",
    "        if (!collection.containsKey(c)) {\n",
    "            collection.put(c, 1)\n",
    "        } else {\n",
    "            var countUp: Integer = collection.get(c) + 1\n",
    "            collection.put(c, countUp)\n",
    "        }\n",
    "    }\n",
    "    var output:Integer = -1\n",
    "    for (i <- 0 until letters.length) {\n",
    "        if (collection.get(letters(i)) < 2) {\n",
    "            output = i\n",
    "        }\n",
    "    }\n",
    "    output\n",
    "}\n",
    "\n",
    "findFirstUnique(\"aabbc\")"
   ]
  },
  {
   "cell_type": "markdown",
   "metadata": {},
   "source": [
    "---"
   ]
  }
 ],
 "metadata": {
  "kernelspec": {
   "display_name": "Scala 2.12.8",
   "language": "scala",
   "name": "scala_2_12_8"
  },
  "language_info": {
   "codemirror_mode": "text/x-scala",
   "file_extension": ".scala",
   "mimetype": "text/x-scala",
   "name": "scala",
   "nbconvert_exporter": "script",
   "version": "2.12.8"
  }
 },
 "nbformat": 4,
 "nbformat_minor": 4
}
