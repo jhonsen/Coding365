{
 "cells": [
  {
   "cell_type": "markdown",
   "metadata": {},
   "source": [
    "## [Medium] [#1043](https://leetcode.com/problems/partition-array-for-maximum-sum/)\n",
    "`Partition Array for Max Sum`  \n",
    "Given an integer array A, you partition the array into (contiguous) subarrays of length at most K.  After partitioning, each subarray has their values changed to become the maximum value of that subarray.\n",
    "  \n",
    "Return the largest sum of the given array after partitioning.\n",
    "  \n",
    " \n",
    "**Example 1:**  \n",
    "Input: A = [1,15,7,9,2,5,10], K = 3  \n",
    "Output: 84  \n",
    "Explanation: A becomes [15,15,15,9,10,10,10]  \n",
    "   \n",
    "\n",
    "Note:  \n",
    "1 <= K <= A.length <= 500  \n",
    "0 <= A[i] <= 10^6  "
   ]
  },
  {
   "cell_type": "markdown",
   "metadata": {},
   "source": [
    "#### Use `Python` kernel"
   ]
  },
  {
   "cell_type": "markdown",
   "metadata": {},
   "source": [
    "Dynamic Programming approach:  \n",
    "1. For each new element traversed in the array, you want to start looking back at either K steps or however much allows k to move back\n",
    "2. During that process, keep track of the maximum number for that backtracking segment\n",
    "3. Using this local segment maximum, compute the segment sum, and compare it as you look back further and further until you reach k or beginning of the array.\n",
    "4. Using the local segment sum to reach the overall highest sum by finding out the max sum achievable by comparing it with itself"
   ]
  },
  {
   "cell_type": "code",
   "execution_count": 15,
   "metadata": {},
   "outputs": [],
   "source": [
    "# first draft, works for k=3\n",
    "def find_max_sum(array, k):\n",
    "    max_k_nums = [ind for (ind,_) in sorted(enumerate(array), key=lambda tup: tup[1], reverse=True)][:k]\n",
    "    print(max_k_nums[::-1], len(array)-1)\n",
    "    for index in max_k_nums[::-1]:\n",
    "        fillers = [array[index]] * k\n",
    "        if index == 0:\n",
    "            array[:k] = fillers\n",
    "        elif index == len(array)-1:\n",
    "            array[-k:] = fillers\n",
    "        else:\n",
    "            array[index-1:(index-1 + k)] = fillers\n",
    "    \n",
    "    return array, sum(array)\n",
    "\n",
    "# https://leetcode.com/problems/partition-array-for-maximum-sum/discuss/299049/DP-python-commented-code\n",
    "def find_max_sum_tabulated(A, K):\n",
    "    # initialization\n",
    "    dp_sum = [0 for x in range(len(A))]\n",
    "    dp_sum[0] = A[0]\n",
    "    max_so_far = A[0]\n",
    "    for x in range(1,K):\n",
    "        max_so_far = max(max_so_far, A[x])\n",
    "        dp_sum[x] = (x+1) * max_so_far\n",
    "\n",
    "    # find the maximum sum so far as if this is the end of a partition\n",
    "    for ind in range(K, len(dp_sum)):\n",
    "\n",
    "        # go back K-1 steps to find the maximum so far\n",
    "        partition_max = 0\n",
    "        for back in range(K):\n",
    "            partition_max = max(partition_max, A[ind - back])\n",
    "            prev_sum = dp_sum[ind - back - 1]\n",
    "\n",
    "            dp_sum[ind] = max(dp_sum[ind], prev_sum + (back+1)*partition_max)\n",
    "\n",
    "    return dp_sum[-1]\n",
    "\n",
    "# https://leetcode.com/problems/partition-array-for-maximum-sum/discuss/729771/Python-Recursive-to-Tabulated\n",
    "from functools import lru_cache\n",
    "def find_max_sum_recursive(A, K):\n",
    "    n = len(A)\n",
    "    @lru_cache(None)\n",
    "    def rec(start):\n",
    "        if start >= n:\n",
    "            return 0\n",
    "        m = float('-inf')           # maximum in the subarray\n",
    "        max_sum = 0                 # best candidate so far\n",
    "        for end in range(start, min(start+K, n)):\n",
    "            m = max(m, A[end])\n",
    "            max_sum = max(m * (end-start+1) + rec(end+1), max_sum)\n",
    "            # multiply maximum in the subarray by the size of the subarray\n",
    "            # and add the maximum sum after paritionin in the remaining of the array\n",
    "            # then select the best candidate\n",
    "        return max_sum\n",
    "    return rec(0)"
   ]
  },
  {
   "cell_type": "code",
   "execution_count": 16,
   "metadata": {},
   "outputs": [
    {
     "data": {
      "text/plain": [
       "[84, 83]"
      ]
     },
     "execution_count": 16,
     "metadata": {},
     "output_type": "execute_result"
    }
   ],
   "source": [
    "test_cases = [\n",
    "            ([1,15,7,9,2,5,10], 3),        # [15,15,15,9,10,10,10] -> 84\n",
    "            ([1,4,1,5,7,3,6,1,9,9,3], 4)   # [5,5,5,7,7,7,7,9,9,9,9] -> 83\n",
    "            ] \n",
    "\n",
    "[find_max_sum_tabulated(array,window) for array,window in test_cases]"
   ]
  },
  {
   "cell_type": "markdown",
   "metadata": {},
   "source": [
    "---"
   ]
  },
  {
   "cell_type": "markdown",
   "metadata": {},
   "source": [
    "#### Use **Java** (`iJava` kernel)"
   ]
  },
  {
   "cell_type": "code",
   "execution_count": null,
   "metadata": {},
   "outputs": [],
   "source": []
  },
  {
   "cell_type": "markdown",
   "metadata": {},
   "source": [
    "---"
   ]
  },
  {
   "cell_type": "markdown",
   "metadata": {},
   "source": [
    "#### Use **Scala** (`almond` kernel)"
   ]
  },
  {
   "cell_type": "code",
   "execution_count": null,
   "metadata": {},
   "outputs": [],
   "source": []
  }
 ],
 "metadata": {
  "kernelspec": {
   "display_name": "Python 3",
   "language": "python",
   "name": "python3"
  },
  "language_info": {
   "codemirror_mode": {
    "name": "ipython",
    "version": 3
   },
   "file_extension": ".py",
   "mimetype": "text/x-python",
   "name": "python",
   "nbconvert_exporter": "python",
   "pygments_lexer": "ipython3",
   "version": "3.7.5"
  }
 },
 "nbformat": 4,
 "nbformat_minor": 4
}
