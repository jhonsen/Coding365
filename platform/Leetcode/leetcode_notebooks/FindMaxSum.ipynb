{
 "cells": [
  {
   "cell_type": "markdown",
   "metadata": {},
   "source": [
    "## [Medium] [#1043](https://leetcode.com/problems/partition-array-for-maximum-sum/)\n",
    "`Partition Array for Max Sum`  \n",
    "Given an integer array A, you partition the array into (contiguous) subarrays of length at most K.  After partitioning, each subarray has their values changed to become the maximum value of that subarray.\n",
    "  \n",
    "Return the largest sum of the given array after partitioning.\n",
    "  \n",
    " \n",
    "**Example 1:**  \n",
    "Input: A = [1,15,7,9,2,5,10], K = 3  \n",
    "Output: 84  \n",
    "Explanation: A becomes [15,15,15,9,10,10,10]  \n",
    "   \n",
    "\n",
    "Note:  \n",
    "1 <= K <= A.length <= 500  \n",
    "0 <= A[i] <= 10^6  "
   ]
  },
  {
   "cell_type": "markdown",
   "metadata": {},
   "source": [
    "#### Use `Python` kernel"
   ]
  },
  {
   "cell_type": "code",
   "execution_count": 64,
   "metadata": {},
   "outputs": [],
   "source": [
    "# first draft, works for k=3\n",
    "def find_max_sum(array, k):\n",
    "    max_k_nums = [ind for (ind,_) in sorted(enumerate(array), key=lambda tup: tup[1], reverse=True)][:k]\n",
    "    print(max_k_nums[::-1], len(array)-1)\n",
    "    for index in max_k_nums[::-1]:\n",
    "        fillers = [array[index]] * k\n",
    "        if index == 0:\n",
    "            array[:k] = fillers\n",
    "        elif index == len(array)-1:\n",
    "            array[-k:] = fillers\n",
    "        else:\n",
    "            array[index-1:(index-1 + k)] = fillers\n",
    "    \n",
    "    return array, sum(array)\n",
    "\n",
    "def maxSumAfterPartitioning(self, A, K):\n",
    "    dp = [0]*(len(A) + 1)\n",
    "    for i in range(len(A)):\n",
    "        cur_max = 0\n",
    "        for k in range(K):\n",
    "            if i - k >= 0:\n",
    "                cur_max = max(cur_max, A[i - k])\n",
    "                dp[i + 1] = max(dp[i + 1], dp[i - k] + cur_max*(k + 1))\n",
    "    return dp[-1]\n",
    "\n",
    "def maxSumAfterPartitioning(self, A, K):\n",
    "    N = len(A)\n",
    "    dp = [0] * (N + 1)\n",
    "    for i in xrange(N):\n",
    "        curMax = 0\n",
    "        for k in xrange(1, min(K, i + 1) + 1):\n",
    "            curMax = max(curMax, A[i - k + 1])\n",
    "            dp[i] = max(dp[i], dp[i - k] + curMax * k)\n",
    "    return dp[N - 1]"
   ]
  },
  {
   "cell_type": "code",
   "execution_count": 68,
   "metadata": {},
   "outputs": [
    {
     "name": "stdout",
     "output_type": "stream",
     "text": [
      "[3, 6, 1] 6\n",
      "[6, 4, 9, 8] 10\n"
     ]
    },
    {
     "data": {
      "text/plain": [
       "[([15, 15, 15, 9, 10, 10, 10], 84), ([1, 4, 1, 7, 7, 7, 7, 9, 9, 9, 9, 9], 79)]"
      ]
     },
     "execution_count": 68,
     "metadata": {},
     "output_type": "execute_result"
    }
   ],
   "source": [
    "test_cases = [\n",
    "            ([1,15,7,9,2,5,10], 3),        # [15,15,15,9,10,10,10] -> 84\n",
    "            ([1,4,1,5,7,3,6,1,9,9,3], 4)   # [5,5,5,7,7,7,7,9,9,9,9] -> 83\n",
    "            ] \n",
    "\n",
    "[find_max_sum(array,window) for array,window in test_cases]"
   ]
  },
  {
   "cell_type": "code",
   "execution_count": 70,
   "metadata": {},
   "outputs": [
    {
     "data": {
      "text/plain": [
       "79"
      ]
     },
     "execution_count": 70,
     "metadata": {},
     "output_type": "execute_result"
    }
   ],
   "source": [
    "sum([5,5,5,7,7,7,7,9,9,9,9])"
   ]
  },
  {
   "cell_type": "code",
   "execution_count": 67,
   "metadata": {},
   "outputs": [
    {
     "data": {
      "text/plain": [
       "(2, 1)"
      ]
     },
     "execution_count": 67,
     "metadata": {},
     "output_type": "execute_result"
    }
   ],
   "source": [
    "divmod(7,3)"
   ]
  },
  {
   "cell_type": "markdown",
   "metadata": {},
   "source": [
    "---"
   ]
  },
  {
   "cell_type": "markdown",
   "metadata": {},
   "source": [
    "#### Use **Java** (`iJava` kernel)"
   ]
  },
  {
   "cell_type": "code",
   "execution_count": null,
   "metadata": {},
   "outputs": [],
   "source": []
  },
  {
   "cell_type": "markdown",
   "metadata": {},
   "source": [
    "---"
   ]
  },
  {
   "cell_type": "markdown",
   "metadata": {},
   "source": [
    "#### Use **Scala** (`almond` kernel)"
   ]
  },
  {
   "cell_type": "code",
   "execution_count": null,
   "metadata": {},
   "outputs": [],
   "source": []
  }
 ],
 "metadata": {
  "kernelspec": {
   "display_name": "Python 3",
   "language": "python",
   "name": "python3"
  },
  "language_info": {
   "codemirror_mode": {
    "name": "ipython",
    "version": 3
   },
   "file_extension": ".py",
   "mimetype": "text/x-python",
   "name": "python",
   "nbconvert_exporter": "python",
   "pygments_lexer": "ipython3",
   "version": "3.7.4"
  }
 },
 "nbformat": 4,
 "nbformat_minor": 4
}
