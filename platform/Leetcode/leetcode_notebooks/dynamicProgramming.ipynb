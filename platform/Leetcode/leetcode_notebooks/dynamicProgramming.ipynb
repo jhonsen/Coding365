{
 "cells": [
  {
   "cell_type": "markdown",
   "metadata": {},
   "source": [
    "#### Find Minimum_steps_to_one"
   ]
  },
  {
   "cell_type": "code",
   "execution_count": 16,
   "metadata": {},
   "outputs": [],
   "source": [
    "def min_steps_to_one(num):\n",
    "    \n",
    "    if (num == 1):\n",
    "        return 0\n",
    "        \n",
    "#     steps = min_steps_to_one(num -1)\n",
    "\n",
    "    if num % 2 == 0 and (num-1) % 3 != 0:\n",
    "        return 1 + min_steps_to_one(num / 2)\n",
    "#         div2 =  1 + min_steps_to_one(num/2)\n",
    "#         steps = min(steps, div2)\n",
    "\n",
    "    if num % 3 == 0:\n",
    "        return 1 + min_steps_to_one(num / 3)\n",
    "#         div3 = 1 + min_steps_to_one(num/3)\n",
    "#         steps = min(steps, div3)\n",
    "\n",
    "    return 1 + min_steps_to_one(num - 1 )\n",
    "\n"
   ]
  },
  {
   "cell_type": "code",
   "execution_count": 17,
   "metadata": {},
   "outputs": [
    {
     "data": {
      "text/plain": [
       "[2, 1, 3]"
      ]
     },
     "execution_count": 17,
     "metadata": {},
     "output_type": "execute_result"
    }
   ],
   "source": [
    "test_cases = [4,   #\n",
    "              2,   #\n",
    "              10   # 3\n",
    "             ]\n",
    "\n",
    "[min_steps_to_one(case) for case in test_cases]"
   ]
  },
  {
   "cell_type": "code",
   "execution_count": null,
   "metadata": {},
   "outputs": [],
   "source": []
  }
 ],
 "metadata": {
  "kernelspec": {
   "display_name": "Python 3",
   "language": "python",
   "name": "python3"
  },
  "language_info": {
   "codemirror_mode": {
    "name": "ipython",
    "version": 3
   },
   "file_extension": ".py",
   "mimetype": "text/x-python",
   "name": "python",
   "nbconvert_exporter": "python",
   "pygments_lexer": "ipython3",
   "version": "3.7.5"
  }
 },
 "nbformat": 4,
 "nbformat_minor": 4
}
