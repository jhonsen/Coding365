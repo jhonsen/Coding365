{
 "cells": [
  {
   "cell_type": "markdown",
   "metadata": {},
   "source": [
    "## [Easy] [#929](https://leetcode.com/problems/unique-email-addresses/)\n",
    "### `Unique Email Address`\n",
    "  \n",
    "Every email consists of a local name and a domain name, separated by the @ sign.\n",
    "\n",
    "For example, in alice@leetcode.com, alice is the local name, and leetcode.com is the domain name.\n",
    "\n",
    "Besides lowercase letters, these emails may contain '.'s or '+'s.\n",
    "\n",
    "If you add periods ('.') between some characters in the local name part of an email address, mail sent there will be forwarded to the same address without dots in the local name.  For example, \"alice.z@leetcode.com\" and \"alicez@leetcode.com\" forward to the same email address.  (Note that this rule does not apply for domain names.)\n",
    "\n",
    "If you add a plus ('+') in the local name, everything after the first plus sign will be ignored. This allows certain emails to be filtered, for example m.y+name@email.com will be forwarded to my@email.com.  (Again, this rule does not apply for domain names.)\n",
    "\n",
    "It is possible to use both of these rules at the same time.\n",
    "\n",
    "Given a list of emails, we send one email to each address in the list.  How many different addresses actually receive mails?   \n",
    "  \n",
    "**Example 1** :  \n",
    "Input: [\"test.email+alex@leetcode.com\",\"test.e.mail+bob.cathy@leetcode.com\",\"testemail+david@lee.tcode.com\"]  \n",
    "Output: 2    \n",
    "Explanation: \"testemail@leetcode.com\" and \"testemail@lee.tcode.com\" actually receive mails "
   ]
  },
  {
   "cell_type": "markdown",
   "metadata": {},
   "source": [
    "#### Use `Python` kernel"
   ]
  },
  {
   "cell_type": "code",
   "execution_count": 1,
   "metadata": {},
   "outputs": [],
   "source": [
    "from collections import defaultdict\n",
    "def quantify_forwards(emails):\n",
    "    counter = 0\n",
    "    \n",
    "    def clean_name(localname):\n",
    "        cleaned = localname.replace('.','')\n",
    "        if '+' in cleaned:\n",
    "            cleaned = cleaned.split('+')[0]\n",
    "        return cleaned\n",
    "\n",
    "    collection = defaultdict(list)\n",
    "    for email in emails:\n",
    "        local, domain = email.split('@')\n",
    "        cleaned_local = clean_name(local)\n",
    "        if cleaned_local not in collection[domain]:\n",
    "            collection[domain].append(cleaned_local)\n",
    "            counter += 1\n",
    "    return counter\n",
    "\n",
    "# from soln key\n",
    "def quantify_forwards2(emails):\n",
    "    seen = set()\n",
    "    for email in emails:\n",
    "        local, domain = email.split('@')\n",
    "        if '+' in local:\n",
    "            local = local[:local.index('+')]\n",
    "        seen.add(local.replace('.','') + '@' + domain)\n",
    "    return len(seen)"
   ]
  },
  {
   "cell_type": "code",
   "execution_count": 69,
   "metadata": {},
   "outputs": [
    {
     "data": {
      "text/plain": [
       "2"
      ]
     },
     "execution_count": 69,
     "metadata": {},
     "output_type": "execute_result"
    }
   ],
   "source": [
    "test_case = [\"test.email+alex@leetcode.com\",\"test.e.mail+bob.cathy@leetcode.com\",\"testemail+david@lee.tcode.com\"]\n",
    "quantify_forwards(test_case)"
   ]
  },
  {
   "cell_type": "markdown",
   "metadata": {},
   "source": [
    "---"
   ]
  },
  {
   "cell_type": "markdown",
   "metadata": {},
   "source": [
    "#### Use **Java** (`iJava` kernel)"
   ]
  },
  {
   "cell_type": "code",
   "execution_count": 3,
   "metadata": {},
   "outputs": [],
   "source": [
    "import java.util.*;\n",
    "\n",
    "public int quantifyForwards(String[] emails){\n",
    "    int counter = 0;\n",
    "    HashMap<String, ArrayList<String>> collection = new HashMap<>();\n",
    "    for (String email:emails) {\n",
    "        String[] names = email.split(\"@\");\n",
    "        String local = names[0];\n",
    "        String domain = names[1];\n",
    "        \n",
    "        String cleanedLocal = cleanName(local);\n",
    "        if (!collection.get(domain).contains(cleanedLocal)) {\n",
    "            collection.get(domain).add(cleanedLocal);\n",
    "            counter +=1;\n",
    "        }\n",
    "    }\n",
    "    return counter;\n",
    "}\n",
    "\n",
    "public String cleanName(String localname){\n",
    "    String cleanName = localname.replace(\".\",\"\");\n",
    "    if (cleanName.contains(\"+\")) {\n",
    "        String[] cleanNames = cleanName.split(\"+\");\n",
    "        cleanName = cleanNames[0];\n",
    "    }\n",
    "    return cleanName;\n",
    "}"
   ]
  },
  {
   "cell_type": "code",
   "execution_count": 4,
   "metadata": {},
   "outputs": [
    {
     "data": {
      "text/plain": [
       "2"
      ]
     },
     "execution_count": 4,
     "metadata": {},
     "output_type": "execute_result"
    }
   ],
   "source": [
    "// Solution key\n",
    "public int quantifyForwards(String[] emails) {\n",
    "    Set<String> seen = new HashSet();\n",
    "    for (String email : emails) {\n",
    "        int i = email.indexOf('@');\n",
    "        String local = email.substring(0, i);\n",
    "        String rest = email.substring(i);\n",
    "        if (local.contains(\"+\")) {\n",
    "            local = local.substring(0, local.indexOf('+'));\n",
    "        }\n",
    "        // Note: one should escape the specific character '.',\n",
    "        // since it is treated as a regex expression.\n",
    "        local = local.replaceAll(\"\\\\.\", \"\");\n",
    "        seen.add(local + rest);\n",
    "    }\n",
    "\n",
    "    return seen.size();\n",
    "}\n",
    "\n",
    "\n",
    "String[] testCase = {\"test.email+alex@leetcode.com\",\"test.e.mail+bob.cathy@leetcode.com\",\"testemail+david@lee.tcode.com\"};\n",
    "quantifyForwards(testCase);"
   ]
  },
  {
   "cell_type": "markdown",
   "metadata": {},
   "source": [
    "---"
   ]
  },
  {
   "cell_type": "markdown",
   "metadata": {},
   "source": [
    "#### Use **Scala** (`almond` kernel)"
   ]
  },
  {
   "cell_type": "code",
   "execution_count": 1,
   "metadata": {},
   "outputs": [
    {
     "data": {
      "text/plain": [
       "\u001b[32mimport \u001b[39m\u001b[36mjava.util.HashSet\n",
       "\n",
       "\u001b[39m\r\n",
       "defined \u001b[32mfunction\u001b[39m \u001b[36mquantifyForwards\u001b[39m"
      ]
     },
     "execution_count": 1,
     "metadata": {},
     "output_type": "execute_result"
    }
   ],
   "source": [
    "import java.util.HashSet\n",
    "\n",
    "def quantifyForwards(emails: Array[String]): Int = {\n",
    "    val seen: HashSet[String] = new HashSet[String]()\n",
    "    for (email <- emails) {\n",
    "        val i: Int = email.indexOf('@')\n",
    "        var local: String = email.substring(0, i)\n",
    "        val rest: String = email.substring(i)\n",
    "        if (local.contains(\"+\")) {\n",
    "            local = local.substring(0, local.indexOf('+'))\n",
    "        }\n",
    "        // since it is treated as a regex expression.\n",
    "        local = local.replaceAll(\"\\\\.\", \"\")\n",
    "        seen.add(local + rest)\n",
    "    }\n",
    "    seen.size\n",
    "}"
   ]
  },
  {
   "cell_type": "code",
   "execution_count": 2,
   "metadata": {},
   "outputs": [
    {
     "data": {
      "text/plain": [
       "\u001b[36mtestCase\u001b[39m: \u001b[32mArray\u001b[39m[\u001b[32mString\u001b[39m] = \u001b[33mArray\u001b[39m(\n",
       "  \u001b[32m\"test.email+alex@leetcode.com\"\u001b[39m,\n",
       "  \u001b[32m\"test.e.mail+bob.cathy@leetcode.com\"\u001b[39m,\n",
       "  \u001b[32m\"testemail+david@lee.tcode.com\"\u001b[39m\n",
       ")\r\n",
       "\u001b[36mres1_1\u001b[39m: \u001b[32mInt\u001b[39m = \u001b[32m2\u001b[39m"
      ]
     },
     "execution_count": 2,
     "metadata": {},
     "output_type": "execute_result"
    }
   ],
   "source": [
    "val testCase: Array[String]  = Array(\"test.email+alex@leetcode.com\",\"test.e.mail+bob.cathy@leetcode.com\",\"testemail+david@lee.tcode.com\")\n",
    "quantifyForwards(testCase)"
   ]
  },
  {
   "cell_type": "markdown",
   "metadata": {},
   "source": [
    "---"
   ]
  }
 ],
 "metadata": {
  "kernelspec": {
   "display_name": "Python 3",
   "language": "python",
   "name": "python3"
  },
  "language_info": {
   "codemirror_mode": {
    "name": "ipython",
    "version": 3
   },
   "file_extension": ".py",
   "mimetype": "text/x-python",
   "name": "python",
   "nbconvert_exporter": "python",
   "pygments_lexer": "ipython3",
   "version": "3.7.5"
  }
 },
 "nbformat": 4,
 "nbformat_minor": 4
}
