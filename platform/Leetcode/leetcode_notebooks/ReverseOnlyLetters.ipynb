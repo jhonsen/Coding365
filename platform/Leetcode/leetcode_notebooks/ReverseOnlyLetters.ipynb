{
 "cells": [
  {
   "cell_type": "markdown",
   "metadata": {},
   "source": [
    "## [Easy] [#917](https://leetcode.com/problems/reverse-only-letters/)\n",
    "### `Reverse Only Letters`\n",
    "  \n",
    "Given a string S, return the \"reversed\" string where all characters that are not a letter stay in the same place, and all letters reverse their positions.\n",
    "  \n",
    "Example 1:  \n",
    "Input: \"ab-cd\"  \n",
    "Output: \"dc-ba\"  \n",
    "  \n",
    "Example 2:  \n",
    "Input: \"a-bC-dEf-ghIj\"  \n",
    "Output: \"j-Ih-gfE-dCba\"  \n",
    "  \n",
    "Example 3:  \n",
    "Input: \"Test1ng-Leet=code-Q!\"  \n",
    "Output: \"Qedo1ct-eeLg=ntse-T!\"  "
   ]
  },
  {
   "cell_type": "markdown",
   "metadata": {},
   "source": [
    "#### Use `Python` kernel"
   ]
  },
  {
   "cell_type": "code",
   "execution_count": 27,
   "metadata": {},
   "outputs": [],
   "source": [
    "def reverse_letters(string):\n",
    "    phrase = list(string)\n",
    "    indices, letters = [], []\n",
    "    \n",
    "    for ind,letter in enumerate(string):\n",
    "        if letter.isalpha():\n",
    "            indices.append(ind)\n",
    "            letters.append(letter)\n",
    "    \n",
    "    reversed_indices = indices[::-1]\n",
    "    for i,letter in zip(reversed_indices, letters):\n",
    "        phrase[i] = letter\n",
    "    \n",
    "    return ''.join(phrase)"
   ]
  },
  {
   "cell_type": "code",
   "execution_count": 30,
   "metadata": {},
   "outputs": [
    {
     "data": {
      "text/plain": [
       "['dc-ba', 'j-Ih-gfE-dCba', 'Qedo1ct-eeLg=ntse-T!']"
      ]
     },
     "execution_count": 30,
     "metadata": {},
     "output_type": "execute_result"
    }
   ],
   "source": [
    "test_cases = [\"ab-cd\",              # \"dc-ba\"\n",
    "             \"a-bC-dEf-ghIj\",       # \"j-Ih-gfE-dCba\" \n",
    "             \"Test1ng-Leet=code-Q!\" # Qedo1ct-eeLg=ntse-T!\n",
    "             ]\n",
    "\n",
    "[reverse_letters(case) for case in test_cases]"
   ]
  },
  {
   "cell_type": "markdown",
   "metadata": {},
   "source": [
    "---"
   ]
  },
  {
   "cell_type": "markdown",
   "metadata": {},
   "source": [
    "#### Use **Java** (`iJava` kernel)"
   ]
  },
  {
   "cell_type": "code",
   "execution_count": 50,
   "metadata": {},
   "outputs": [],
   "source": [
    "import java.util.Arrays;\n",
    "import java.util.ArrayList;\n",
    "\n",
    "public String reverseLettersOnly(String word){\n",
    "    char[] phrase = word.toCharArray();\n",
    "    \n",
    "    ArrayList<Integer> indices = new ArrayList<Integer>();\n",
    "    ArrayList<Character> letters = new ArrayList<Character>();\n",
    "    \n",
    "    for (int i=0; i < phrase.length; i++) {\n",
    "        if (Character.isLetter(phrase[i])) {\n",
    "            indices.add(i);\n",
    "            letters.add(phrase[i]);\n",
    "        }\n",
    "    }\n",
    "  \n",
    "    ArrayList<Integer> reversedIndices = new ArrayList<Integer>();\n",
    "    for (int i=indices.size()-1; i>=0 ; i--) {\n",
    "        reversedIndices.add(indices.get(i));\n",
    "    }\n",
    "\n",
    "    for (int index:reversedIndices) {\n",
    "        phrase[index] = letters.remove(0);        \n",
    "    }\n",
    "    \n",
    "    return String.join(\"\",String.copyValueOf(phrase));\n",
    "}"
   ]
  },
  {
   "cell_type": "code",
   "execution_count": 51,
   "metadata": {},
   "outputs": [
    {
     "data": {
      "text/plain": [
       "dc-ba"
      ]
     },
     "execution_count": 51,
     "metadata": {},
     "output_type": "execute_result"
    }
   ],
   "source": [
    "String testCase = \"ab-cd\";\n",
    "reverseLettersOnly(testCase);"
   ]
  },
  {
   "cell_type": "markdown",
   "metadata": {},
   "source": [
    "---"
   ]
  },
  {
   "cell_type": "markdown",
   "metadata": {},
   "source": [
    "#### Use **Scala** (`almond` kernel)"
   ]
  },
  {
   "cell_type": "code",
   "execution_count": 1,
   "metadata": {},
   "outputs": [
    {
     "data": {
      "text/plain": [
       "\u001b[32mimport \u001b[39m\u001b[36mjava.util.ArrayList\n",
       "\n",
       "\u001b[39m\r\n",
       "defined \u001b[32mfunction\u001b[39m \u001b[36mreverseLettersOnly\u001b[39m"
      ]
     },
     "execution_count": 1,
     "metadata": {},
     "output_type": "execute_result"
    }
   ],
   "source": [
    "import java.util.ArrayList\n",
    "\n",
    "def reverseLettersOnly(word: String): String = {\n",
    "    val phrase: Array[Char] = word.toCharArray()\n",
    "    val indices: ArrayList[Integer] = new ArrayList[Integer]()\n",
    "    val letters: ArrayList[Character] = new ArrayList[Character]()\n",
    "    for (i <- 0 until phrase.length\n",
    "        if java.lang.Character.isLetter(phrase(i))) {\n",
    "        indices.add(i)\n",
    "        letters.add(phrase(i))\n",
    "    }\n",
    "    val reversedIndices: ArrayList[Integer] = new ArrayList[Integer]()\n",
    "    var i: Int = indices.size - 1\n",
    "    while (i >= 0) {\n",
    "        reversedIndices.add(indices.get(i))\n",
    "        i -=1\n",
    "    }\n",
    "    for (i <- 0 until reversedIndices.size()) {\n",
    "        phrase(reversedIndices.get(i)) = letters.remove(0)\n",
    "    }\n",
    "    String.join(\"\", String.copyValueOf(phrase))\n",
    "}"
   ]
  },
  {
   "cell_type": "code",
   "execution_count": 2,
   "metadata": {},
   "outputs": [
    {
     "data": {
      "text/plain": [
       "\u001b[36mtestCase\u001b[39m: \u001b[32mString\u001b[39m = \u001b[32m\"abcd\"\u001b[39m\r\n",
       "\u001b[36mres1_1\u001b[39m: \u001b[32mString\u001b[39m = \u001b[32m\"dcba\"\u001b[39m"
      ]
     },
     "execution_count": 2,
     "metadata": {},
     "output_type": "execute_result"
    }
   ],
   "source": [
    "val testCase:String = \"abcd\"\n",
    "reverseLettersOnly(testCase)"
   ]
  },
  {
   "cell_type": "markdown",
   "metadata": {},
   "source": [
    "---"
   ]
  }
 ],
 "metadata": {
  "kernelspec": {
   "display_name": "Python 3",
   "language": "python",
   "name": "python3"
  },
  "language_info": {
   "codemirror_mode": {
    "name": "ipython",
    "version": 3
   },
   "file_extension": ".py",
   "mimetype": "text/x-python",
   "name": "python",
   "nbconvert_exporter": "python",
   "pygments_lexer": "ipython3",
   "version": "3.7.5"
  }
 },
 "nbformat": 4,
 "nbformat_minor": 4
}
