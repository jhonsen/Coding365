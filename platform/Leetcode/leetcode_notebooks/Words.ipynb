{
 "cells": [
  {
   "cell_type": "markdown",
   "metadata": {},
   "source": [
    "## [Easy] [#58](https://leetcode.com/problems/length-of-last-word/)\n",
    "### `Length of Last Word`\n",
    "Given a string s consists of upper/lower-case alphabets and empty space characters ' ', return the length of last word (last word means the last appearing word if we loop from left to right) in the string.\n",
    "\n",
    "If the last word does not exist, return 0.\n",
    "\n",
    "**Note**: A word is defined as a maximal substring consisting of non-space characters only.\n",
    "\n",
    "**Example**:    \n",
    "  \n",
    " \n",
    "Input: \"Hello World\"  \n",
    "Output: 5"
   ]
  },
  {
   "cell_type": "markdown",
   "metadata": {},
   "source": [
    "#### Use `Python` kernel"
   ]
  },
  {
   "cell_type": "code",
   "execution_count": 73,
   "metadata": {},
   "outputs": [],
   "source": [
    "def find_length_last1(words):\n",
    "    word = ''\n",
    "    word_list = []\n",
    "    \n",
    "    for char in words: \n",
    "        if char.isalnum():\n",
    "            word += char\n",
    "        else:\n",
    "            if word != '':\n",
    "                word_list.append(word)\n",
    "            word = ''\n",
    "    word_list.append(word) if word != '' else word_list\n",
    "    \n",
    "    return len(word_list[-1]) if len(word_list)>0 else 0\n",
    "\n",
    "# Faster solution\n",
    "def find_length_last2(words):\n",
    "    word_list = words.strip().split(' ')    \n",
    "    return len(word_list[-1]) if len(word_list)>0 else 0\n"
   ]
  },
  {
   "cell_type": "code",
   "execution_count": 75,
   "metadata": {},
   "outputs": [
    {
     "name": "stdout",
     "output_type": "stream",
     "text": [
      "1.17 µs ± 16.4 ns per loop (mean ± std. dev. of 7 runs, 1000000 loops each)\n"
     ]
    }
   ],
   "source": [
    "%timeit find_length_last1(\"Hello World\")"
   ]
  },
  {
   "cell_type": "code",
   "execution_count": 76,
   "metadata": {},
   "outputs": [
    {
     "name": "stdout",
     "output_type": "stream",
     "text": [
      "329 ns ± 3.74 ns per loop (mean ± std. dev. of 7 runs, 1000000 loops each)\n"
     ]
    }
   ],
   "source": [
    "%timeit find_length_last2(\"Hello World\")"
   ]
  },
  {
   "cell_type": "code",
   "execution_count": 79,
   "metadata": {},
   "outputs": [
    {
     "name": "stdout",
     "output_type": "stream",
     "text": [
      "3\n",
      "3\n",
      "0\n",
      "1\n"
     ]
    }
   ],
   "source": [
    "# test cases\n",
    "\n",
    "print(find_length_last2(\"Hello    bud    \"))\n",
    "print(find_length_last2(\"  Hello    bud    \"))\n",
    "print(find_length_last2(\"  \"))\n",
    "print(find_length_last2(\" x \"))"
   ]
  },
  {
   "cell_type": "markdown",
   "metadata": {},
   "source": [
    "---"
   ]
  },
  {
   "cell_type": "markdown",
   "metadata": {},
   "source": [
    "#### Use `iJava` kernel"
   ]
  },
  {
   "cell_type": "code",
   "execution_count": 43,
   "metadata": {},
   "outputs": [
    {
     "data": {
      "text/plain": [
       "5"
      ]
     },
     "execution_count": 43,
     "metadata": {},
     "output_type": "execute_result"
    }
   ],
   "source": [
    "// Solution in Java\n",
    "public static int countLetersLastWord (String phrase) {\n",
    "    String trimmedPhrase = phrase.trim();\n",
    "    String[] splitPhrase = trimmedPhrase.split(\"\\\\s+\");\n",
    "    String lastWord = splitPhrase[splitPhrase.length - 1];\n",
    "    if (!lastWord.equals(\"\")) {\n",
    "        return lastWord.length();\n",
    "    } else {\n",
    "        return 0;\n",
    "    }\n",
    "}\n",
    "    \n",
    "countLetersLastWord(\"Hello World \")    "
   ]
  },
  {
   "cell_type": "markdown",
   "metadata": {},
   "source": [
    "---"
   ]
  },
  {
   "cell_type": "markdown",
   "metadata": {},
   "source": [
    "#### Use `scala` (`almond`) kernel"
   ]
  },
  {
   "cell_type": "code",
   "execution_count": 3,
   "metadata": {},
   "outputs": [
    {
     "data": {
      "text/plain": [
       "defined \u001b[32mfunction\u001b[39m \u001b[36mcountLength\u001b[39m"
      ]
     },
     "execution_count": 3,
     "metadata": {},
     "output_type": "execute_result"
    }
   ],
   "source": [
    "// In Scala\n",
    "def countLength(phrase: String): Int = {\n",
    "    val trimmedPhrase: String = phrase.trim()\n",
    "    val splitPhrase: Array[String] = trimmedPhrase.split(\"\\\\s+\")\n",
    "    val lastWord: String = splitPhrase(splitPhrase.length - 1)\n",
    "\n",
    "    if (lastWord.!=(\"\")) {\n",
    "        lastWord.length        \n",
    "        } else {\n",
    "        0\n",
    "        }\n",
    "}\n"
   ]
  },
  {
   "cell_type": "code",
   "execution_count": 5,
   "metadata": {},
   "outputs": [
    {
     "data": {
      "text/html": [
       "<div class=\"jp-RenderedText\">\n",
       "<pre><code><span style=\"color: rgb(0, 187, 187)\"><span class=\"ansi-cyan-fg\">length</span></span>: <span style=\"color: rgb(0, 187, 0)\"><span class=\"ansi-green-fg\">Int</span></span> = <span style=\"color: rgb(0, 187, 0)\"><span class=\"ansi-green-fg\">6</span></span></code></pre>\n",
       "</div>"
      ],
      "text/plain": [
       "\u001b[36mlength\u001b[39m: \u001b[32mInt\u001b[39m = \u001b[32m6\u001b[39m"
      ]
     },
     "metadata": {},
     "output_type": "display_data"
    }
   ],
   "source": [
    "var length = countLength(\"Hello World!\")"
   ]
  },
  {
   "cell_type": "markdown",
   "metadata": {},
   "source": [
    "---"
   ]
  }
 ],
 "metadata": {
  "kernelspec": {
   "display_name": "Python 3",
   "language": "python",
   "name": "python3"
  },
  "language_info": {
   "codemirror_mode": {
    "name": "ipython",
    "version": 3
   },
   "file_extension": ".py",
   "mimetype": "text/x-python",
   "name": "python",
   "nbconvert_exporter": "python",
   "pygments_lexer": "ipython3",
   "version": "3.7.5"
  }
 },
 "nbformat": 4,
 "nbformat_minor": 4
}
