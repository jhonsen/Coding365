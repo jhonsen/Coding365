{
 "cells": [
  {
   "cell_type": "markdown",
   "metadata": {},
   "source": [
    "## [Easy] [#1160](https://leetcode.com/problems/find-words-that-can-be-formed-by-characters/)\n",
    "### `Count Characters`\n",
    "  \n",
    "You are given an array of strings words and a string chars.  \n",
    "\n",
    "A string is good if it can be formed by characters from chars (each character can only be used once).  \n",
    "  \n",
    "Return the sum of lengths of all good strings in words.  \n",
    "  \n",
    "Example 1:  \n",
    "Input: words = [\"cat\",\"bt\",\"hat\",\"tree\"], chars = \"atach\"  \n",
    "Output: 6    \n",
    "Explanation:   \n",
    "The strings that can be formed are \"cat\" and \"hat\" so the answer is 3 + 3 = 6.  \n",
    "  \n",
    "Example 2:  \n",
    "Input: words = [\"hello\",\"world\",\"leetcode\"], chars = \"welldonehoneyr\"  \n",
    "Output: 10  \n",
    "Explanation:   \n",
    "The strings that can be formed are \"hello\" and \"world\" so the answer is 5 + 5 = 10.  \n",
    " \n",
    "\n",
    "Note:\n",
    "\n",
    "1 <= words.length <= 1000\n",
    "1 <= words[i].length, chars.length <= 100\n",
    "All strings contain lowercase English letters only."
   ]
  },
  {
   "cell_type": "markdown",
   "metadata": {},
   "source": [
    "---"
   ]
  },
  {
   "cell_type": "markdown",
   "metadata": {},
   "source": [
    "#### Use **Python** kernel"
   ]
  },
  {
   "cell_type": "code",
   "execution_count": 80,
   "metadata": {},
   "outputs": [],
   "source": [
    "def count_characters(words, chars):\n",
    "    counter = 0\n",
    "    for word in words:        \n",
    "        characters = list(chars)\n",
    "        for letter in word:\n",
    "            try:\n",
    "                characters.remove(letter)\n",
    "            except ValueError:\n",
    "                word = ''\n",
    "                break\n",
    "        counter += len(word)\n",
    "        \n",
    "    return counter"
   ]
  },
  {
   "cell_type": "code",
   "execution_count": 81,
   "metadata": {},
   "outputs": [
    {
     "data": {
      "text/plain": [
       "[6, 10]"
      ]
     },
     "execution_count": 81,
     "metadata": {},
     "output_type": "execute_result"
    }
   ],
   "source": [
    "test_cases = [\n",
    "              ([\"cat\",\"bt\",\"hat\",\"tree\"], \"atach\"),                      # 6  \n",
    "              ([\"xab\", \"hello\",\"world\",\"leetcode\"], \"welldonehoneyr\"),   #10 \n",
    "              ]\n",
    "\n",
    "[count_characters(case[0], case[1]) for case in test_cases]"
   ]
  },
  {
   "cell_type": "markdown",
   "metadata": {},
   "source": [
    "---"
   ]
  },
  {
   "cell_type": "markdown",
   "metadata": {},
   "source": [
    "#### Use **Java** (`iJava` kernel)"
   ]
  },
  {
   "cell_type": "code",
   "execution_count": null,
   "metadata": {},
   "outputs": [],
   "source": []
  },
  {
   "cell_type": "markdown",
   "metadata": {},
   "source": [
    "---"
   ]
  },
  {
   "cell_type": "markdown",
   "metadata": {},
   "source": [
    "#### Use **Scala** (`almond` kernel)"
   ]
  },
  {
   "cell_type": "code",
   "execution_count": null,
   "metadata": {},
   "outputs": [],
   "source": []
  },
  {
   "cell_type": "markdown",
   "metadata": {},
   "source": [
    "---"
   ]
  }
 ],
 "metadata": {
  "kernelspec": {
   "display_name": "Python 3",
   "language": "python",
   "name": "python3"
  },
  "language_info": {
   "codemirror_mode": {
    "name": "ipython",
    "version": 3
   },
   "file_extension": ".py",
   "mimetype": "text/x-python",
   "name": "python",
   "nbconvert_exporter": "python",
   "pygments_lexer": "ipython3",
   "version": "3.7.5"
  }
 },
 "nbformat": 4,
 "nbformat_minor": 4
}
