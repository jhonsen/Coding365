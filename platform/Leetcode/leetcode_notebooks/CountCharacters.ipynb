{
 "cells": [
  {
   "cell_type": "markdown",
   "metadata": {},
   "source": [
    "## [Easy] [#1160](https://leetcode.com/problems/find-words-that-can-be-formed-by-characters/)\n",
    "### `Count Characters`\n",
    "  \n",
    "You are given an array of strings words and a string chars.  \n",
    "\n",
    "A string is good if it can be formed by characters from chars (each character can only be used once).  \n",
    "  \n",
    "Return the sum of lengths of all good strings in words.  \n",
    "  \n",
    "Example 1:  \n",
    "Input: words = [\"cat\",\"bt\",\"hat\",\"tree\"], chars = \"atach\"  \n",
    "Output: 6    \n",
    "Explanation:   \n",
    "The strings that can be formed are \"cat\" and \"hat\" so the answer is 3 + 3 = 6.  \n",
    "  \n",
    "Example 2:  \n",
    "Input: words = [\"hello\",\"world\",\"leetcode\"], chars = \"welldonehoneyr\"  \n",
    "Output: 10  \n",
    "Explanation:   \n",
    "The strings that can be formed are \"hello\" and \"world\" so the answer is 5 + 5 = 10.  \n",
    " \n",
    "\n",
    "Note:\n",
    "\n",
    "1 <= words.length <= 1000\n",
    "1 <= words[i].length, chars.length <= 100\n",
    "All strings contain lowercase English letters only."
   ]
  },
  {
   "cell_type": "markdown",
   "metadata": {},
   "source": [
    "---"
   ]
  },
  {
   "cell_type": "markdown",
   "metadata": {},
   "source": [
    "#### Use **Python** kernel"
   ]
  },
  {
   "cell_type": "code",
   "execution_count": 35,
   "metadata": {},
   "outputs": [],
   "source": [
    "def count_characters(words, chars):\n",
    "    counter = 0\n",
    "    for word in words:        \n",
    "        characters = list(chars)\n",
    "        for letter in word:\n",
    "            try:\n",
    "                characters.remove(letter)\n",
    "            except ValueError:\n",
    "                word = ''\n",
    "                break\n",
    "        counter += len(word)\n",
    "        \n",
    "    return counter\n",
    "\n",
    "from collections import Counter\n",
    "def count_characters(words, chars):\n",
    "    output = 0\n",
    "    char_counter = Counter(chars)\n",
    "    flag = False\n",
    "    \n",
    "    for word in words:\n",
    "        letter_counter = Counter(word)    \n",
    "        for letter, count in letter_counter.items():\n",
    "            if (char_counter[letter] >= count)  :\n",
    "                flag = True\n",
    "            else:\n",
    "                flag = flag & False\n",
    "                break\n",
    "        if flag:\n",
    "            output += len(word)\n",
    "            flag = False\n",
    "            \n",
    "    return output\n",
    "\n",
    "def count_characters2(words, chars):\n",
    "    output = 0\n",
    "\n",
    "    for word in words:\n",
    "        indicator = True\n",
    "        for i in word:\n",
    "            if word.count(i) > chars.count(i):\n",
    "                indicator = False\n",
    "                break\n",
    "        if indicator:\n",
    "            output += len(word)\n",
    "\n",
    "    return output"
   ]
  },
  {
   "cell_type": "code",
   "execution_count": 36,
   "metadata": {},
   "outputs": [
    {
     "data": {
      "text/plain": [
       "[6, 10]"
      ]
     },
     "execution_count": 36,
     "metadata": {},
     "output_type": "execute_result"
    }
   ],
   "source": [
    "test_cases = [\n",
    "              ([\"cat\",\"bt\",\"hat\",\"tree\"], \"atach\"),                      # 6  \n",
    "              ([\"xab\", \"hello\",\"world\",\"leetcode\"], \"welldonehoneyr\"),   #10 \n",
    "              ]\n",
    "\n",
    "[count_characters(case[0], case[1]) for case in test_cases]"
   ]
  },
  {
   "cell_type": "markdown",
   "metadata": {},
   "source": [
    "---"
   ]
  },
  {
   "cell_type": "markdown",
   "metadata": {},
   "source": [
    "#### Use **Java** (`iJava` kernel)"
   ]
  },
  {
   "cell_type": "code",
   "execution_count": 2,
   "metadata": {},
   "outputs": [
    {
     "data": {
      "text/plain": [
       "6"
      ]
     },
     "execution_count": 2,
     "metadata": {},
     "output_type": "execute_result"
    }
   ],
   "source": [
    "// https://leetcode.com/problems/find-words-that-can-be-formed-by-characters/discuss/361004/Easy-Explained-Simple-Java-Check-all-char-count\n",
    "public int countChars(String[] words, String chars){\n",
    "    int output = 0;\n",
    "    \n",
    "    int[] seen = new int[26];\n",
    "    //Count char of Chars String\n",
    "    for (char c : chars.toCharArray())\n",
    "        seen[c - 'a']++;\n",
    "    \n",
    "    // Comparing each word in words\n",
    "    for (String word : words) {\n",
    "        // simple making copy of seen arr\n",
    "        int[] tSeen = Arrays.copyOf(seen, seen.length); \n",
    "        int Tcount = 0;\n",
    "        for (char c : word.toCharArray()) {\n",
    "            if (tSeen[c - 'a'] > 0) {\n",
    "                tSeen[c - 'a']--;\n",
    "                Tcount++;\n",
    "            }\n",
    "        }\n",
    "        if (Tcount == word.length())\n",
    "            output += Tcount;\n",
    "    }\n",
    "    return output;\n",
    "}\n",
    "\n",
    "String[] words = {\"cat\",\"bt\",\"hat\",\"tree\"};\n",
    "String chars = \"atach\";\n",
    "countChars(words, chars);"
   ]
  },
  {
   "cell_type": "markdown",
   "metadata": {},
   "source": [
    "---"
   ]
  }
 ],
 "metadata": {
  "kernelspec": {
   "display_name": "Java",
   "language": "java",
   "name": "java"
  },
  "language_info": {
   "codemirror_mode": "java",
   "file_extension": ".jshell",
   "mimetype": "text/x-java-source",
   "name": "Java",
   "pygments_lexer": "java",
   "version": "14.0.1+7"
  }
 },
 "nbformat": 4,
 "nbformat_minor": 4
}
