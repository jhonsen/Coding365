{
 "cells": [
  {
   "cell_type": "markdown",
   "metadata": {},
   "source": [
    "## [Easy] [#121](https://leetcode.com/problems/best-time-to-buy-and-sell-stock/)\n",
    "### `Buy and Sell Stocks I`\n",
    "\n",
    "Say you have an array for which the ith element is the price of a given stock on day i.\n",
    "\n",
    "If you were only permitted to complete at most one transaction (i.e., buy one and sell one share of the stock), design an algorithm to find the maximum profit.\n",
    "\n",
    "Note that you cannot sell a stock before you buy one.\n",
    "\n",
    "**Example 1:**  \n",
    "Input: [7,1,5,3,6,4]  \n",
    "Output: 5  \n",
    "Explanation: Buy on day 2 (price = 1) and sell on day 5 (price = 6), profit = 6-1 = 5.  \n",
    "             Not 7-1 = 6, as selling price needs to be larger than buying price.  \n",
    "             \n",
    "             \n",
    "**Example 2:**  \n",
    "Input: [7,6,4,3,1]  \n",
    "Output: 0  \n",
    "Explanation: In this case, no transaction is done, i.e. max profit = 0.  "
   ]
  },
  {
   "cell_type": "markdown",
   "metadata": {},
   "source": [
    "#### Use `Python` kernel"
   ]
  },
  {
   "cell_type": "code",
   "execution_count": 1,
   "metadata": {},
   "outputs": [],
   "source": [
    "# Brute force\n",
    "def find_max_profit(prices):\n",
    "    max_profit = 0\n",
    "    for i in range(1, len(prices)):\n",
    "        profit = prices[i] - min(prices[:i])\n",
    "        if profit > max_profit:\n",
    "            max_profit = profit\n",
    "    return max_profit\n",
    "\n",
    "# Remove min() for lower space\n",
    "def find_max_profit_smaller(prices):\n",
    "    if len(prices) == 0:\n",
    "        return 0\n",
    "    \n",
    "    max_profit = 0\n",
    "    base_price = prices[0]\n",
    "    \n",
    "    for i in range(1, len(prices)):        \n",
    "            \n",
    "        if (prices[i] - base_price) > 0:\n",
    "            profit = (prices[i] - base_price) \n",
    "        else:\n",
    "            profit = max_profit        \n",
    "        \n",
    "        if prices[i] < base_price:\n",
    "            base_price = prices[i]        \n",
    "        \n",
    "        if profit > max_profit:\n",
    "            max_profit = profit\n",
    "\n",
    "    return max_profit\n",
    "    "
   ]
  },
  {
   "cell_type": "code",
   "execution_count": 2,
   "metadata": {},
   "outputs": [
    {
     "data": {
      "text/plain": [
       "0"
      ]
     },
     "execution_count": 2,
     "metadata": {},
     "output_type": "execute_result"
    }
   ],
   "source": [
    "find_max_profit([])"
   ]
  },
  {
   "cell_type": "code",
   "execution_count": 24,
   "metadata": {},
   "outputs": [
    {
     "data": {
      "text/plain": [
       "[5, 0, 0]"
      ]
     },
     "execution_count": 24,
     "metadata": {},
     "output_type": "execute_result"
    }
   ],
   "source": [
    "test_cases = [[7,1,5,3,6,4], # 5\n",
    "             [7,6,4,3,1],    # 0\n",
    "             [],             # 0\n",
    "             ]\n",
    "\n",
    "[find_max_profit_smaller(case) for case in test_cases]"
   ]
  },
  {
   "cell_type": "markdown",
   "metadata": {},
   "source": [
    "---"
   ]
  },
  {
   "cell_type": "markdown",
   "metadata": {},
   "source": [
    "#### Use **Java** (`iJava` kernel)"
   ]
  },
  {
   "cell_type": "code",
   "execution_count": 7,
   "metadata": {},
   "outputs": [
    {
     "data": {
      "text/plain": [
       "5"
      ]
     },
     "execution_count": 7,
     "metadata": {},
     "output_type": "execute_result"
    }
   ],
   "source": [
    "public int findMaxProfit(int[] prices) {\n",
    "    \n",
    "    if (prices.length == 0) {\n",
    "        return 0;\n",
    "    }\n",
    "    \n",
    "    int maxProfit = 0;\n",
    "    int basePrice = prices[0];\n",
    "    \n",
    "    for (int i=1; i<prices.length; i++) {\n",
    "        int profit = 0;\n",
    "        if ((prices[i] - basePrice) > 0) {\n",
    "            profit = (prices[i] - basePrice);\n",
    "        } else {\n",
    "            profit = maxProfit;\n",
    "        }\n",
    "        \n",
    "        if (prices[i] < basePrice) {\n",
    "            basePrice = prices[i];\n",
    "        }\n",
    "        \n",
    "        if (profit > maxProfit) {\n",
    "            maxProfit = profit;\n",
    "        }\n",
    "    }\n",
    "    return maxProfit;\n",
    "}\n",
    "\n",
    "int[] testCase = {7,1,5,3,6,4};\n",
    "findMaxProfit(testCase);"
   ]
  },
  {
   "cell_type": "markdown",
   "metadata": {},
   "source": [
    "---"
   ]
  },
  {
   "cell_type": "markdown",
   "metadata": {},
   "source": [
    "#### Use **Scala** (`almond` kernel)"
   ]
  },
  {
   "cell_type": "code",
   "execution_count": 2,
   "metadata": {},
   "outputs": [
    {
     "data": {
      "text/plain": [
       "defined \u001b[32mfunction\u001b[39m \u001b[36mfindMaxProfit\u001b[39m\r\n",
       "\u001b[36mtestCase\u001b[39m: \u001b[32mArray\u001b[39m[\u001b[32mInt\u001b[39m] = \u001b[33mArray\u001b[39m(\u001b[32m7\u001b[39m, \u001b[32m1\u001b[39m, \u001b[32m5\u001b[39m, \u001b[32m3\u001b[39m, \u001b[32m6\u001b[39m, \u001b[32m4\u001b[39m)\r\n",
       "\u001b[36mres1_2\u001b[39m: \u001b[32mInt\u001b[39m = \u001b[32m5\u001b[39m"
      ]
     },
     "execution_count": 2,
     "metadata": {},
     "output_type": "execute_result"
    }
   ],
   "source": [
    "def findMaxProfit(prices: Array[Int]):Int = {\n",
    "    if (prices.length ==0) {\n",
    "        0\n",
    "    }    \n",
    "    var maxProfit: Int = 0\n",
    "    var basePrice: Int = prices(0)\n",
    "    for (i <- 1 until prices.length) {\n",
    "        var profit:Int = 0\n",
    "        if ((prices(i) - basePrice) > 0) {\n",
    "            profit = prices(i) - basePrice\n",
    "        } else {\n",
    "            profit = maxProfit\n",
    "        }\n",
    "        \n",
    "        if (prices(i) < basePrice) {\n",
    "            basePrice = prices(i)\n",
    "        }\n",
    "        \n",
    "        if (profit > maxProfit) {\n",
    "            maxProfit = profit\n",
    "        }\n",
    "    }\n",
    "    maxProfit    \n",
    "}\n",
    "\n",
    "val testCase: Array[Int] = Array(7,1,5,3,6,4)\n",
    "findMaxProfit(testCase)"
   ]
  },
  {
   "cell_type": "markdown",
   "metadata": {},
   "source": [
    "---"
   ]
  }
 ],
 "metadata": {
  "kernelspec": {
   "display_name": "Python 3",
   "language": "python",
   "name": "python3"
  },
  "language_info": {
   "codemirror_mode": {
    "name": "ipython",
    "version": 3
   },
   "file_extension": ".py",
   "mimetype": "text/x-python",
   "name": "python",
   "nbconvert_exporter": "python",
   "pygments_lexer": "ipython3",
   "version": "3.7.5"
  }
 },
 "nbformat": 4,
 "nbformat_minor": 4
}
