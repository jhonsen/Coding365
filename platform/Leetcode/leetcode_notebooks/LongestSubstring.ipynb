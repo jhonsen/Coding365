{
 "cells": [
  {
   "cell_type": "markdown",
   "metadata": {},
   "source": [
    "## [Medium] [#3](https://leetcode.com/problems/longest-substring-without-repeating-characters/)\n",
    "### `Length of Longest Substring`\n",
    "  \n",
    "Given a string, find the length of the longest substring without repeating characters.\n",
    "  \n",
    "**Example 1:**\n",
    "Input: \"abcabcbb\" \n",
    "Output: 3  \n",
    "Explanation: The answer is \"abc\", with the length of 3. \n",
    "  \n",
    "**Example 2:**  \n",
    "Input: \"bbbbb\"  \n",
    "Output: 1  \n",
    "Explanation: The answer is \"b\", with the length of 1.\n",
    "  \n",
    "**Example 3:**  \n",
    "Input: \"pwwkew\"  \n",
    "Output: 3  \n",
    "Explanation: The answer is \"wke\", with the length of 3. \n",
    "             Note that the answer must be a substring, \"pwke\" is a subsequence and not a substring."
   ]
  },
  {
   "cell_type": "markdown",
   "metadata": {},
   "source": [
    "#### Use **Python** kernel"
   ]
  },
  {
   "cell_type": "code",
   "execution_count": 60,
   "metadata": {},
   "outputs": [],
   "source": [
    "from collections import Counter\n",
    "\n",
    "# brute force solution\n",
    "def find_length_longest(string):\n",
    "    \n",
    "    if string == '':\n",
    "        return 0\n",
    "    \n",
    "    diction = Counter()\n",
    "    substr = ''\n",
    "    collection = []\n",
    "\n",
    "    for start in range(len(string)):\n",
    "        for i in range(start, len(string)):\n",
    "            let = string[i]\n",
    "\n",
    "            if diction[let] < 1:\n",
    "                diction.update(let)\n",
    "                substr += let\n",
    "\n",
    "            else:\n",
    "                collection.append(len(substr))\n",
    "                substr = ''\n",
    "                diction = Counter()\n",
    "                break\n",
    "                \n",
    "    if substr != '':\n",
    "        collection.append(len(substr))\n",
    "        \n",
    "    return max(collection) if collection else 0"
   ]
  },
  {
   "cell_type": "code",
   "execution_count": 61,
   "metadata": {},
   "outputs": [
    {
     "data": {
      "text/plain": [
       "[1, 3, 3, 0, 1]"
      ]
     },
     "execution_count": 61,
     "metadata": {},
     "output_type": "execute_result"
    }
   ],
   "source": [
    "test_cases = ['bbbb',     # 1 for bbbb\n",
    "              'pwwkew',   # 3 for wke\n",
    "              'abcabcbb', # 3 for abc\n",
    "              '',         # 0 for ''\n",
    "              ' ',        # 1 for ' '\n",
    "             ]\n",
    "\n",
    "[find_length_longest(case) for case in test_cases]"
   ]
  },
  {
   "cell_type": "markdown",
   "metadata": {},
   "source": [
    "---"
   ]
  },
  {
   "cell_type": "markdown",
   "metadata": {},
   "source": [
    "#### Use **Java** (`iJava` kernel)"
   ]
  },
  {
   "cell_type": "code",
   "execution_count": 48,
   "metadata": {},
   "outputs": [
    {
     "data": {
      "text/plain": [
       "3"
      ]
     },
     "execution_count": 48,
     "metadata": {},
     "output_type": "execute_result"
    }
   ],
   "source": [
    "import java.util.ArrayList;\n",
    "import java.util.HashMap;\n",
    "import java.util.Collections;\n",
    "\n",
    "\n",
    "public int findLongestLength(String string) {\n",
    "    String[] strings = string.split(\"\");\n",
    "    \n",
    "    int answer = 0;\n",
    "    \n",
    "    HashMap<String, Integer> diction = new HashMap<String,Integer>();\n",
    "    \n",
    "    String substr = \"\";\n",
    "    ArrayList<String> collection = new ArrayList<String>();\n",
    "\n",
    "    for (int s=0; s < strings.length; s++) {\n",
    "        \n",
    "        for (int i = s; i < strings.length; i++) {\n",
    "            String letter = strings[i];\n",
    "            \n",
    "            if (!diction.containsKey(letter)) {\n",
    "                diction.put(letter,1);\n",
    "                substr = substr + letter;\n",
    "            } else {\n",
    "                String stringLength = Integer.toString(substr.length());\n",
    "                collection.add(stringLength);\n",
    "                diction.clear();\n",
    "                substr = \"\";\n",
    "                break;\n",
    "            }\n",
    "        }\n",
    "    }\n",
    "        \n",
    "    if (!substr.equals(\"\")) {\n",
    "        String stringLength = Integer.toString(substr.length());\n",
    "        collection.add(stringLength);\n",
    "    }\n",
    "    \n",
    "    if (collection.size() > 0) {\n",
    "        ArrayList<Integer> newCollection = new ArrayList<Integer>();\n",
    "        int maxCollection = 0;\n",
    "        \n",
    "        for (int i=0; i < collection.size(); i++) {\n",
    "            int valueEach = Integer.parseInt(collection.get(i));\n",
    "            if (maxCollection < valueEach) {\n",
    "                newCollection.add(valueEach);            \n",
    "                maxCollection = valueEach;\n",
    "            }\n",
    "            \n",
    "        }\n",
    "        answer = maxCollection;\n",
    "\n",
    "    } else{\n",
    "        answer = 0;\n",
    "    }\n",
    "    return answer;\n",
    "}\n",
    "\n",
    "String testCase = \"pwwkew\";\n",
    "findLongestLength(testCase);"
   ]
  },
  {
   "cell_type": "markdown",
   "metadata": {},
   "source": [
    "---"
   ]
  },
  {
   "cell_type": "markdown",
   "metadata": {},
   "source": [
    "#### Use **Scala** (`almond` kernel)"
   ]
  },
  {
   "cell_type": "code",
   "execution_count": 3,
   "metadata": {},
   "outputs": [
    {
     "data": {
      "text/plain": [
       "\u001b[32mimport \u001b[39m\u001b[36mjava.util._\n",
       "\u001b[39m\r\n",
       "defined \u001b[32mfunction\u001b[39m \u001b[36mfindLongestLength\u001b[39m\r\n",
       "\u001b[36mtestCase\u001b[39m: \u001b[32mString\u001b[39m = \u001b[32m\"pwwkew\"\u001b[39m\r\n",
       "\u001b[36mres2_3\u001b[39m: \u001b[32mInt\u001b[39m = \u001b[32m3\u001b[39m"
      ]
     },
     "execution_count": 3,
     "metadata": {},
     "output_type": "execute_result"
    }
   ],
   "source": [
    "import java.util._\n",
    "def findLongestLength(string: String): Int = {\n",
    "    val strings: Array[String] = string.split(\"\")\n",
    "    var answer: Int = 0\n",
    "    val diction: HashMap[String, Integer] = new HashMap[String, Integer]()\n",
    "    var substr: String = \"\"\n",
    "    val collection: ArrayList[String] = new ArrayList[String]()\n",
    "    for (s <- 0 until strings.length; i <- s until strings.length) {\n",
    "        val letter: String = strings(i)\n",
    "        if (!diction.containsKey(letter)) {\n",
    "            diction.put(letter, 1)\n",
    "            substr = substr + letter\n",
    "        } else {\n",
    "            val stringLength: String = java.lang.Integer.toString(substr.length)\n",
    "            collection.add(stringLength)\n",
    "            diction.clear()\n",
    "            substr = \"\"\n",
    "        }\n",
    "    }\n",
    "    if (substr.!=(\"\")) {\n",
    "        val stringLength: String = java.lang.Integer.toString(substr.length)\n",
    "        collection.add(stringLength)\n",
    "    }\n",
    "    if (collection.size > 0) {\n",
    "        val newCollection: ArrayList[Integer] = new ArrayList[Integer]()\n",
    "        var maxCollection: Int = 0\n",
    "        for (i <- 0 until collection.size) {\n",
    "            val valueEach: Int = java.lang.Integer.parseInt(collection.get(i))\n",
    "            if (maxCollection < valueEach) {\n",
    "                newCollection.add(valueEach)\n",
    "                maxCollection = valueEach\n",
    "            }\n",
    "        }\n",
    "        answer = maxCollection\n",
    "    } else {\n",
    "        answer = 0\n",
    "    }\n",
    "    answer\n",
    "}\n",
    "val testCase:String = \"pwwkew\"\n",
    "findLongestLength(testCase:String)"
   ]
  },
  {
   "cell_type": "markdown",
   "metadata": {},
   "source": [
    "---"
   ]
  }
 ],
 "metadata": {
  "kernelspec": {
   "display_name": "Scala 2.12.8",
   "language": "scala",
   "name": "scala_2_12_8"
  },
  "language_info": {
   "codemirror_mode": "text/x-scala",
   "file_extension": ".scala",
   "mimetype": "text/x-scala",
   "name": "scala",
   "nbconvert_exporter": "script",
   "version": "2.12.8"
  }
 },
 "nbformat": 4,
 "nbformat_minor": 4
}
