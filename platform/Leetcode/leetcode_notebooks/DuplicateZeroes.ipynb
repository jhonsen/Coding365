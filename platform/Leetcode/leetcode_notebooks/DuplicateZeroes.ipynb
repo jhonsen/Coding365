{
 "cells": [
  {
   "cell_type": "markdown",
   "metadata": {},
   "source": [
    "## [Easy] [#1089](https://leetcode.com/problems/duplicate-zeros/)\n",
    "### `Duplicate Zeros`\n",
    "  \n",
    "Given a fixed length array arr of integers, duplicate each occurrence of zero, shifting the remaining elements to the right.\n",
    "\n",
    "Note that elements beyond the length of the original array are not written.\n",
    "\n",
    "Do the above modifications to the input array in place, do not return anything from your function.\n",
    "  \n",
    "Example 1:  \n",
    "Input: [1,0,2,3,0,4,5,0]  \n",
    "Output: null  \n",
    "Explanation: After calling your function, the input array is modified to: [1,0,0,2,3,0,0,4]  \n",
    "  \n",
    "Example 2:  \n",
    "Input: [1,2,3]  \n",
    "Output: null  \n",
    "Explanation: After calling your function, the input array is modified to: [1,2,3]  "
   ]
  },
  {
   "cell_type": "markdown",
   "metadata": {},
   "source": [
    "---"
   ]
  },
  {
   "cell_type": "markdown",
   "metadata": {},
   "source": [
    "#### Use **Python** kernel"
   ]
  },
  {
   "cell_type": "code",
   "execution_count": 101,
   "metadata": {},
   "outputs": [],
   "source": [
    "def duplicate_zeroes(arr):\n",
    "    n = len(arr)\n",
    "    i= 0\n",
    "    while i < n:\n",
    "        if arr[i] == 0:\n",
    "            arr = arr[:i] + [0] + arr[i:n-1]\n",
    "            i += 2\n",
    "        i+=1\n",
    "    return arr     "
   ]
  },
  {
   "cell_type": "code",
   "execution_count": 102,
   "metadata": {},
   "outputs": [
    {
     "data": {
      "text/plain": [
       "[4, 1, 0, 0, 3]"
      ]
     },
     "execution_count": 102,
     "metadata": {},
     "output_type": "execute_result"
    }
   ],
   "source": [
    "duplicate_zeroes([4,1,0,3,1])"
   ]
  },
  {
   "cell_type": "code",
   "execution_count": 103,
   "metadata": {},
   "outputs": [
    {
     "data": {
      "text/plain": [
       "[[4, 1, 0, 0, 3], [0, 0, 3, 0, 0], [1, 0, 0, 2, 3, 0, 0, 4]]"
      ]
     },
     "execution_count": 103,
     "metadata": {},
     "output_type": "execute_result"
    }
   ],
   "source": [
    "tests = [\n",
    "         [4,1,0,3,10],     # [4,1,0,0,3]  \n",
    "         [0,3,0,3,11],     # [0,0,3,0,0]\n",
    "         [1,0,2,3,0,4,5,0]\n",
    "        ]\n",
    "\n",
    "[duplicate_zeroes(case) for case in tests]"
   ]
  },
  {
   "cell_type": "markdown",
   "metadata": {},
   "source": [
    "---"
   ]
  },
  {
   "cell_type": "markdown",
   "metadata": {},
   "source": [
    "#### Use **Java** (`iJava` kernel)"
   ]
  },
  {
   "cell_type": "code",
   "execution_count": 24,
   "metadata": {},
   "outputs": [
    {
     "data": {
      "text/plain": [
       "[4, 9, 9, 49, 121]"
      ]
     },
     "execution_count": 24,
     "metadata": {},
     "output_type": "execute_result"
    }
   ],
   "source": [
    "import java.util.Arrays;\n",
    "\n",
    "int[] testCase = {-7,-3,2,3,11};\n",
    "squareIt(testCase);"
   ]
  },
  {
   "cell_type": "markdown",
   "metadata": {},
   "source": [
    "---"
   ]
  },
  {
   "cell_type": "markdown",
   "metadata": {},
   "source": [
    "#### Use **Scala** (`almond` kernel)"
   ]
  },
  {
   "cell_type": "code",
   "execution_count": 3,
   "metadata": {},
   "outputs": [
    {
     "data": {
      "text/plain": [
       "defined \u001b[32mfunction\u001b[39m \u001b[36msortIt\u001b[39m\r\n",
       "defined \u001b[32mfunction\u001b[39m \u001b[36msortedSquares\u001b[39m"
      ]
     },
     "execution_count": 3,
     "metadata": {},
     "output_type": "execute_result"
    }
   ],
   "source": []
  },
  {
   "cell_type": "code",
   "execution_count": 4,
   "metadata": {},
   "outputs": [
    {
     "data": {
      "text/plain": [
       "\u001b[36mtestCase\u001b[39m: \u001b[32mArray\u001b[39m[\u001b[32mInt\u001b[39m] = \u001b[33mArray\u001b[39m(\u001b[32m-7\u001b[39m, \u001b[32m-3\u001b[39m, \u001b[32m2\u001b[39m, \u001b[32m3\u001b[39m, \u001b[32m11\u001b[39m)\r\n",
       "\u001b[36mres3_1\u001b[39m: \u001b[32mArray\u001b[39m[\u001b[32mInt\u001b[39m] = \u001b[33mArray\u001b[39m(\u001b[32m4\u001b[39m, \u001b[32m9\u001b[39m, \u001b[32m9\u001b[39m, \u001b[32m49\u001b[39m, \u001b[32m121\u001b[39m)"
      ]
     },
     "execution_count": 4,
     "metadata": {},
     "output_type": "execute_result"
    }
   ],
   "source": [
    "val testCase:Array[Int] = Array(-7,-3,0,3,11)\n",
    "dupicateZeroes(testCase)"
   ]
  },
  {
   "cell_type": "markdown",
   "metadata": {},
   "source": [
    "---"
   ]
  }
 ],
 "metadata": {
  "kernelspec": {
   "display_name": "Python 3",
   "language": "python",
   "name": "python3"
  },
  "language_info": {
   "codemirror_mode": {
    "name": "ipython",
    "version": 3
   },
   "file_extension": ".py",
   "mimetype": "text/x-python",
   "name": "python",
   "nbconvert_exporter": "python",
   "pygments_lexer": "ipython3",
   "version": "3.7.5"
  }
 },
 "nbformat": 4,
 "nbformat_minor": 4
}
