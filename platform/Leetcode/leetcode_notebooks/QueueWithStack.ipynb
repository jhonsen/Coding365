{
 "cells": [
  {
   "cell_type": "markdown",
   "metadata": {},
   "source": [
    "## `Implement Queue with Stack` from [here](https://leetcode.com/problems/implement-queue-using-stacks/)\n",
    "\n",
    "Implement the following operations of a queue using stacks.  \n",
    "\n",
    "- push(x) -- Push element x to the back of the queue.\n",
    "- pop() -- Removes the element from in front of the queue.\n",
    "- peek() -- Get the front element.\n",
    "- empty() -- Return whether the queue is empty.\n",
    "  \n",
    "Notes:  \n",
    "- You must use only standard operations of a stack -- which means only push to top, peek/pop from top, size, and is empty operations are valid.\n",
    "- Depending on your language, the stack may not be supported natively. You may simulate a stack by using a list or deque (double-ended queue), as long as you use only standard operations of a stack.\n",
    "- You may assume that all operations are valid (for example, no pop or peek operations will be called on an empty queue).\n",
    "  "
   ]
  },
  {
   "cell_type": "markdown",
   "metadata": {},
   "source": [
    "**Input**  \n",
    "`[\"MyQueue\", \"push\", \"push\", \"peek\", \"pop\", \"empty\"]`  \n",
    "`[[], [1], [2], [], [], []]  `  \n",
    "**Output**  \n",
    "[null, null, null, 1, 1, false]  \n",
    "  \n",
    "**Explanation**  \n",
    "MyQueue myQueue = new MyQueue();  \n",
    "myQueue.push(1);  \n",
    "myQueue.push(2);  \n",
    "myQueue.peek(); // return 1  \n",
    "myQueue.pop(); // return 1  \n",
    "myQueue.empty(); // return False  \n"
   ]
  },
  {
   "cell_type": "markdown",
   "metadata": {},
   "source": [
    "---"
   ]
  },
  {
   "cell_type": "markdown",
   "metadata": {},
   "source": [
    "with Python"
   ]
  },
  {
   "cell_type": "code",
   "execution_count": 1,
   "metadata": {},
   "outputs": [],
   "source": [
    "class MyQueue:\n",
    "\n",
    "    def __init__(self):\n",
    "        \"\"\"\n",
    "        Initialize your data structure here.\n",
    "        \"\"\"\n",
    "        self.array = []\n",
    "        \n",
    "\n",
    "    def push(self, x: int) -> None:\n",
    "        \"\"\"\n",
    "        Push element x to the back of queue.\n",
    "        \"\"\"\n",
    "        temp = []\n",
    "        while (not self.empty()):\n",
    "            temp.append(self.array.pop())\n",
    "        temp.append(x)\n",
    "        while (len(temp) != 0):\n",
    "            self.array.append(temp.pop())\n",
    "            \n",
    "    def pop(self) -> int:\n",
    "        \"\"\"\n",
    "        Removes the element from in front of queue and returns that element.\n",
    "        \"\"\"\n",
    "        return self.array.pop()\n",
    "\n",
    "    def peek(self) -> int:\n",
    "        \"\"\"\n",
    "        Get the front element.\n",
    "        \"\"\"\n",
    "        if (not self.empty()):\n",
    "            return self.array[-1]\n",
    "\n",
    "    def empty(self) -> bool:\n",
    "        \"\"\"\n",
    "        Returns whether the queue is empty.\n",
    "        \"\"\"\n",
    "        return True if len(self.array)==0 else False"
   ]
  },
  {
   "cell_type": "code",
   "execution_count": 17,
   "metadata": {},
   "outputs": [
    {
     "data": {
      "text/plain": [
       "[3, 2, 1]"
      ]
     },
     "execution_count": 17,
     "metadata": {},
     "output_type": "execute_result"
    }
   ],
   "source": [
    "# Fill queue\n",
    "q = MyQueue()\n",
    "q.push(1)\n",
    "q.push(2)\n",
    "q.push(3)\n",
    "\n",
    "# Check content\n",
    "q.array"
   ]
  },
  {
   "cell_type": "code",
   "execution_count": 18,
   "metadata": {},
   "outputs": [
    {
     "data": {
      "text/plain": [
       "1"
      ]
     },
     "execution_count": 18,
     "metadata": {},
     "output_type": "execute_result"
    }
   ],
   "source": [
    "# Peek top element\n",
    "q.peek()"
   ]
  },
  {
   "cell_type": "code",
   "execution_count": 19,
   "metadata": {},
   "outputs": [
    {
     "data": {
      "text/plain": [
       "2"
      ]
     },
     "execution_count": 19,
     "metadata": {},
     "output_type": "execute_result"
    }
   ],
   "source": [
    "# pop the top \n",
    "q.pop()\n",
    "q.peek()"
   ]
  },
  {
   "cell_type": "code",
   "execution_count": 21,
   "metadata": {},
   "outputs": [
    {
     "data": {
      "text/plain": [
       "[3, 2]"
      ]
     },
     "execution_count": 21,
     "metadata": {},
     "output_type": "execute_result"
    }
   ],
   "source": [
    "# Check content\n",
    "q.array"
   ]
  },
  {
   "cell_type": "markdown",
   "metadata": {},
   "source": [
    "---"
   ]
  }
 ],
 "metadata": {
  "kernelspec": {
   "display_name": "Python 3",
   "language": "python",
   "name": "python3"
  },
  "language_info": {
   "codemirror_mode": {
    "name": "ipython",
    "version": 3
   },
   "file_extension": ".py",
   "mimetype": "text/x-python",
   "name": "python",
   "nbconvert_exporter": "python",
   "pygments_lexer": "ipython3",
   "version": "3.7.5"
  }
 },
 "nbformat": 4,
 "nbformat_minor": 4
}
