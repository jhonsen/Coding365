{
 "cells": [
  {
   "cell_type": "markdown",
   "metadata": {},
   "source": [
    "## [Easy] [#204](https://leetcode.com/problems/count-primes/)\n",
    "### `Count Primes`\n",
    "  \n",
    "Count the number of prime numbers less than a non-negative number, n.\n",
    "  \n",
    "**Example:**  \n",
    "  \n",
    "Input: 10  \n",
    "Output: 4  \n",
    "Explanation: There are 4 prime numbers less than 10, they are 2, 3, 5, 7."
   ]
  },
  {
   "cell_type": "markdown",
   "metadata": {},
   "source": [
    "---"
   ]
  },
  {
   "cell_type": "markdown",
   "metadata": {},
   "source": [
    "#### Use **Python** kernel"
   ]
  },
  {
   "cell_type": "code",
   "execution_count": 45,
   "metadata": {},
   "outputs": [],
   "source": [
    "# brute force approach\n",
    "def count_primes(num):\n",
    "    \n",
    "    prime_counter = 0\n",
    "    for i in range(1, num):\n",
    "        div_counter = 0\n",
    "        for j in range(1, i+1):\n",
    "            if i % j == 0:\n",
    "                div_counter += 1\n",
    "            if div_counter > 2:\n",
    "                break\n",
    "        if div_counter == 2:\n",
    "            prime_counter += 1\n",
    "            \n",
    "    return prime_counter\n",
    "\n",
    "import math\n",
    "def count_primes_faster(n):\n",
    "    \n",
    "    def is_odd(number):\n",
    "        return number % 2 != 0\n",
    "    \n",
    "    def get_odds_lessequal_than(number):\n",
    "        return  [num for num in range(number+1) if is_odd(num)]\n",
    "        \n",
    "    def is_prime(number):\n",
    "        if number < 1:\n",
    "            return False\n",
    "\n",
    "        for i in range(2, int(math.sqrt(number)+1)):\n",
    "            if number % i == 0:\n",
    "                return False\n",
    "        return True\n",
    "           \n",
    "    return len([num for num in range(1, n) if (is_prime(num)) & (num > 1)])\n",
    "\n",
    "def count_primes(num):\n",
    "\n",
    "    if (num == 1) :\n",
    "        return 0\n",
    "    else:\n",
    "        prime_counter = 0    \n",
    "        for number in range(2, num):\n",
    "            \n",
    "            flag = True\n",
    "            \n",
    "            for divisor in range(2, number):\n",
    "                if number % divisor == 0:\n",
    "                    flag = False\n",
    "                    break\n",
    "\n",
    "            if flag == True:\n",
    "                prime_counter += 1\n",
    "\n",
    "        return prime_counter\n"
   ]
  },
  {
   "cell_type": "code",
   "execution_count": 47,
   "metadata": {},
   "outputs": [
    {
     "data": {
      "text/plain": [
       "[(1, 0), (2, 0), (3, 1), (4, 2), (5, 2), (10, 4)]"
      ]
     },
     "execution_count": 47,
     "metadata": {},
     "output_type": "execute_result"
    }
   ],
   "source": [
    "test_cases = [\n",
    "                1,      # 0\n",
    "                2,      # 0\n",
    "                3,      # 1\n",
    "                4,      # 2\n",
    "                5,      # 2\n",
    "                10,     # 4\n",
    "#                 499979, #41537\n",
    "#                 1500000\n",
    "             ]\n",
    "\n",
    "[(case, count_primes(case)) for case in test_cases]"
   ]
  },
  {
   "cell_type": "markdown",
   "metadata": {},
   "source": [
    "---"
   ]
  },
  {
   "cell_type": "markdown",
   "metadata": {},
   "source": [
    "#### Use **Java** (`iJava` kernel)"
   ]
  },
  {
   "cell_type": "code",
   "execution_count": 1,
   "metadata": {},
   "outputs": [
    {
     "data": {
      "text/plain": [
       "41537"
      ]
     },
     "execution_count": 1,
     "metadata": {},
     "output_type": "execute_result"
    }
   ],
   "source": [
    "public int countPrimes(int n) {\n",
    "   boolean[] isPrime = new boolean[n];\n",
    "   for (int i = 2; i < n; i++) {\n",
    "      isPrime[i] = true;\n",
    "   }\n",
    "   /* Loop's ending condition is i * i < n instead of i < sqrt(n)\n",
    "      to avoid repeatedly calling an expensive function sqrt().*/\n",
    "   for (int i = 2; i * i < n; i++) {\n",
    "      if (!isPrime[i]) continue;\n",
    "      for (int j = i * i; j < n; j += i) {\n",
    "         isPrime[j] = false;\n",
    "      }\n",
    "   }\n",
    "   int count = 0;\n",
    "   for (int i = 2; i < n; i++) {\n",
    "      if (isPrime[i]) count++;\n",
    "   }\n",
    "   return count;\n",
    "}\n",
    "\n",
    "int testCase = 499979;\n",
    "countPrimes(testCase)"
   ]
  },
  {
   "cell_type": "markdown",
   "metadata": {},
   "source": [
    "---"
   ]
  },
  {
   "cell_type": "markdown",
   "metadata": {},
   "source": [
    "#### Use **Scala** (`almond` kernel)"
   ]
  },
  {
   "cell_type": "code",
   "execution_count": 11,
   "metadata": {},
   "outputs": [
    {
     "data": {
      "text/plain": [
       "\u001b[32mimport \u001b[39m\u001b[36mjava.util._\n",
       "\u001b[39m\r\n",
       "\u001b[32mimport \u001b[39m\u001b[36mscala.math.sqrt\n",
       "\n",
       "\u001b[39m\r\n",
       "defined \u001b[32mfunction\u001b[39m \u001b[36mcountPrimes\u001b[39m\r\n",
       "defined \u001b[32mfunction\u001b[39m \u001b[36misOdd\u001b[39m\r\n",
       "defined \u001b[32mfunction\u001b[39m \u001b[36mgetOddsLessEqualThan\u001b[39m\r\n",
       "defined \u001b[32mfunction\u001b[39m \u001b[36misPrime\u001b[39m\r\n",
       "\u001b[36mres10_6\u001b[39m: \u001b[32mInteger\u001b[39m = \u001b[32m41537\u001b[39m"
      ]
     },
     "execution_count": 11,
     "metadata": {},
     "output_type": "execute_result"
    }
   ],
   "source": [
    "import java.util._\n",
    "import scala.math.sqrt\n",
    "\n",
    "def countPrimes(number:Integer):Integer = {\n",
    "    var counter: Integer = 0\n",
    "    for (num <- 1 until number) {\n",
    "        if (isPrime(num) & (num > 1)) {\n",
    "            counter = counter+1\n",
    "        }\n",
    "    }\n",
    "    counter\n",
    "}\n",
    "\n",
    "\n",
    "def isOdd(number:Integer):Boolean = {\n",
    "    number % 2 != 0\n",
    "}\n",
    "    \n",
    "def getOddsLessEqualThan(number:Integer): ArrayList[Boolean] = {\n",
    "    val listNum: ArrayList[Boolean] = new ArrayList[Boolean]\n",
    "    for (num <- 0 until number+1) {\n",
    "        listNum.add(isOdd(num)) \n",
    "    }\n",
    "    listNum\n",
    "}\n",
    "\n",
    "def isPrime(number:Integer): Boolean = {\n",
    "    var answer:Boolean = true\n",
    "    if (number < 1) {\n",
    "        answer = false\n",
    "    }\n",
    "    val baseNum: Double = 1.0 * number\n",
    "    val maxNum:Double = sqrt(baseNum) + 1\n",
    "    for (i <- 2 until maxNum.toInt) {\n",
    "        if(number % i == 0) {\n",
    "            answer = false\n",
    "        }\n",
    "    }\n",
    "    answer\n",
    "}\n",
    "countPrimes(499979)"
   ]
  },
  {
   "cell_type": "code",
   "execution_count": 14,
   "metadata": {},
   "outputs": [
    {
     "name": "stdout",
     "output_type": "stream",
     "text": [
      "For: 1, the number of Primes: 0\n",
      "For: 2, the number of Primes: 0\n",
      "For: 3, the number of Primes: 1\n",
      "For: 4, the number of Primes: 2\n",
      "For: 5, the number of Primes: 2\n",
      "For: 6, the number of Primes: 3\n",
      "For: 7, the number of Primes: 3\n",
      "For: 8, the number of Primes: 4\n",
      "For: 9, the number of Primes: 4\n",
      "For: 10, the number of Primes: 4\n"
     ]
    }
   ],
   "source": [
    "for (i <- 1 until 11) {\n",
    "    println(\"For: \" + i + \", the number of Primes: \" +  countPrimes(i))\n",
    "}"
   ]
  },
  {
   "cell_type": "markdown",
   "metadata": {},
   "source": [
    "---"
   ]
  }
 ],
 "metadata": {
  "kernelspec": {
   "display_name": "Python 3",
   "language": "python",
   "name": "python3"
  },
  "language_info": {
   "codemirror_mode": {
    "name": "ipython",
    "version": 3
   },
   "file_extension": ".py",
   "mimetype": "text/x-python",
   "name": "python",
   "nbconvert_exporter": "python",
   "pygments_lexer": "ipython3",
   "version": "3.7.5"
  }
 },
 "nbformat": 4,
 "nbformat_minor": 4
}
