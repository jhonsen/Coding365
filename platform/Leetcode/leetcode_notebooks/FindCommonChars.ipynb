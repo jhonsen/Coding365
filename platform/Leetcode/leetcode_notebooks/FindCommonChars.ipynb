{
 "cells": [
  {
   "cell_type": "markdown",
   "metadata": {},
   "source": [
    "## [Easy] [#1002](https://leetcode.com/problems/find-common-characters/)\n",
    "### `Find Common Characters`\n",
    "  \n",
    "Given an array A of strings made only from lowercase letters, return a list of all characters that show up in all strings within the list (including duplicates).  For example, if a character occurs 3 times in all strings but not 4 times, you need to include that character three times in the final answer.\n",
    "  \n",
    "You may return the answer in any order.  \n",
    "\n",
    "Example 1:  \n",
    "Input: [\"bella\",\"label\",\"roller\"]  \n",
    "Output: [\"e\",\"l\",\"l\"]  \n",
    "  \n",
    "Example 2:  \n",
    "Input: [\"cool\",\"lock\",\"cook\"]  \n",
    "Output: [\"c\",\"o\"]  "
   ]
  },
  {
   "cell_type": "markdown",
   "metadata": {},
   "source": [
    "#### Use `Python` kernel"
   ]
  },
  {
   "cell_type": "code",
   "execution_count": 98,
   "metadata": {},
   "outputs": [],
   "source": [
    "from collections import Counter\n",
    "\n",
    "#  bruteforce!\n",
    "def find_common_chars(words):\n",
    "    counter = Counter([let for word in words for let in word])\n",
    "    cnt = counter.copy()\n",
    "\n",
    "    n = len(words)\n",
    "    for letter,size in counter.items():\n",
    "        if size < n:\n",
    "            cnt.pop(letter)\n",
    "\n",
    "    output = []\n",
    "\n",
    "    while len(cnt) > 0:\n",
    "\n",
    "        letter, size = cnt.popitem()        \n",
    "        temp = map(lambda word: letter in word, words)\n",
    "        cond = reduce(lambda x,y: x & y, temp)\n",
    "        \n",
    "        if cond:\n",
    "            output.append(letter)\n",
    "\n",
    "            # tracker\n",
    "            size = size - n\n",
    "            if size > 0:\n",
    "                cnt[letter] = size\n",
    "    \n",
    "            # revise the original list of words\n",
    "            words = [word[:word.index(letter)] + word[(word.index(letter)+1):] for word in words]\n",
    "    \n",
    "    return output\n",
    "     "
   ]
  },
  {
   "cell_type": "code",
   "execution_count": 99,
   "metadata": {},
   "outputs": [
    {
     "data": {
      "text/plain": [
       "[['l', 'l', 'e'], []]"
      ]
     },
     "execution_count": 99,
     "metadata": {},
     "output_type": "execute_result"
    }
   ],
   "source": [
    "test_cases = [[\"bella\",\"label\",\"roller\"],   # ['e','l','l']                 \n",
    "                [\"acabcddd\",\"bcbdbcbd\",\"baddbadb\",\"cbdddcac\",\"aacbcccd\",\"ccccddda\",\"cababaab\",\"addcaccd\"],    # []\n",
    "              ]\n",
    "\n",
    "[find_common_chars(case) for case in test_cases]"
   ]
  },
  {
   "cell_type": "code",
   "execution_count": null,
   "metadata": {},
   "outputs": [],
   "source": []
  },
  {
   "cell_type": "markdown",
   "metadata": {},
   "source": [
    "---"
   ]
  },
  {
   "cell_type": "markdown",
   "metadata": {},
   "source": [
    "#### Use **Java** (`iJava` kernel)"
   ]
  },
  {
   "cell_type": "code",
   "execution_count": null,
   "metadata": {},
   "outputs": [],
   "source": []
  },
  {
   "cell_type": "code",
   "execution_count": null,
   "metadata": {},
   "outputs": [],
   "source": []
  },
  {
   "cell_type": "markdown",
   "metadata": {},
   "source": [
    "---"
   ]
  },
  {
   "cell_type": "markdown",
   "metadata": {},
   "source": [
    "#### Use **Scala** (`almond` kernel)"
   ]
  },
  {
   "cell_type": "code",
   "execution_count": null,
   "metadata": {},
   "outputs": [],
   "source": []
  },
  {
   "cell_type": "code",
   "execution_count": null,
   "metadata": {},
   "outputs": [],
   "source": []
  }
 ],
 "metadata": {
  "kernelspec": {
   "display_name": "Python 3",
   "language": "python",
   "name": "python3"
  },
  "language_info": {
   "codemirror_mode": {
    "name": "ipython",
    "version": 3
   },
   "file_extension": ".py",
   "mimetype": "text/x-python",
   "name": "python",
   "nbconvert_exporter": "python",
   "pygments_lexer": "ipython3",
   "version": "3.7.5"
  }
 },
 "nbformat": 4,
 "nbformat_minor": 4
}
