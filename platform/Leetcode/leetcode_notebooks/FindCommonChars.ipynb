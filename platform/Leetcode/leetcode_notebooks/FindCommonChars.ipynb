{
 "cells": [
  {
   "cell_type": "markdown",
   "metadata": {},
   "source": [
    "## [Easy] [#1002](https://leetcode.com/problems/find-common-characters/)\n",
    "### `Find Common Characters`\n",
    "  \n",
    "Given an array A of strings made only from lowercase letters, return a list of all characters that show up in all strings within the list (including duplicates).  For example, if a character occurs 3 times in all strings but not 4 times, you need to include that character three times in the final answer.\n",
    "  \n",
    "You may return the answer in any order.  \n",
    "\n",
    "Example 1:  \n",
    "Input: [\"bella\",\"label\",\"roller\"]  \n",
    "Output: [\"e\",\"l\",\"l\"]  \n",
    "  \n",
    "Example 2:  \n",
    "Input: [\"cool\",\"lock\",\"cook\"]  \n",
    "Output: [\"c\",\"o\"]  "
   ]
  },
  {
   "cell_type": "markdown",
   "metadata": {},
   "source": [
    "#### Use `Python` kernel"
   ]
  },
  {
   "cell_type": "code",
   "execution_count": 24,
   "metadata": {},
   "outputs": [],
   "source": [
    "from collections import Counter\n",
    "\n",
    "#  bruteforce!\n",
    "def find_common_chars(words):\n",
    "    counter = Counter([let for word in words for let in word])\n",
    "    cnt = counter.copy()\n",
    "\n",
    "    n = len(words)\n",
    "    for letter,size in counter.items():\n",
    "        if size < n:\n",
    "            cnt.pop(letter)\n",
    "\n",
    "    output = []\n",
    "\n",
    "    while len(cnt) > 0:\n",
    "\n",
    "        letter, size = cnt.popitem()        \n",
    "        temp = map(lambda word: letter in word, words)\n",
    "        cond = reduce(lambda x,y: x & y, temp)\n",
    "        \n",
    "        if cond:\n",
    "            output.append(letter)\n",
    "\n",
    "            # tracker\n",
    "            size = size - n\n",
    "            if size > 0:\n",
    "                cnt[letter] = size\n",
    "    \n",
    "            # revise the original list of words\n",
    "            words = [word[:word.index(letter)] + word[(word.index(letter)+1):] for word in words]\n",
    "    \n",
    "    return output\n",
    "\n",
    "#  https://leetcode.com/problems/find-common-characters/discuss/332733/Python-Solution-Easy-to-Understand\n",
    "def find_common_chars(words):\n",
    "    check = list(words[0])\n",
    "    for word in words:\n",
    "        newCheck = []\n",
    "        \n",
    "        for c in word:\n",
    "            \n",
    "            if c in check:\n",
    "                newCheck.append(c)\n",
    "                check.remove(c)\n",
    "            \n",
    "        check = newCheck        \n",
    "\n",
    "    return check"
   ]
  },
  {
   "cell_type": "code",
   "execution_count": 26,
   "metadata": {},
   "outputs": [
    {
     "data": {
      "text/plain": [
       "[['l', 'l', 'e'], []]"
      ]
     },
     "execution_count": 26,
     "metadata": {},
     "output_type": "execute_result"
    }
   ],
   "source": [
    "test_cases = [[\"bella\",\"label\",\"roller\"],   # ['e','l','l']                 \n",
    "                [\"acabcddd\",\"bcbdbcbd\",\"baddbadb\",\"cbdddcac\",\"aacbcccd\",\"ccccddda\",\"cababaab\",\"addcaccd\"],    # []\n",
    "              ]\n",
    "\n",
    "[find_common_chars(case) for case in test_cases]"
   ]
  },
  {
   "cell_type": "markdown",
   "metadata": {},
   "source": [
    "---"
   ]
  },
  {
   "cell_type": "markdown",
   "metadata": {},
   "source": [
    "#### Use **Java** (`iJava` kernel)"
   ]
  },
  {
   "cell_type": "code",
   "execution_count": 7,
   "metadata": {},
   "outputs": [
    {
     "data": {
      "text/plain": [
       "[l, l, e]"
      ]
     },
     "execution_count": 7,
     "metadata": {},
     "output_type": "execute_result"
    }
   ],
   "source": [
    "import java.util.ArrayList;\n",
    "\n",
    "public ArrayList<String> findCommonChars(String[] words){\n",
    "    \n",
    "    ArrayList<String> charsToCarry = new ArrayList<String>();\n",
    "    String[] firstWord = words[0].split(\"\");\n",
    "    for (String letter:firstWord) {\n",
    "        charsToCarry.add(letter);\n",
    "    }\n",
    "    \n",
    "    for (String word:words) {\n",
    "        ArrayList<String> tempChars = new ArrayList<String>();\n",
    "        \n",
    "        for (String letter:word.split(\"\")) {\n",
    "            if (charsToCarry.contains(letter)) {\n",
    "                tempChars.add(letter);\n",
    "                charsToCarry.remove(letter);\n",
    "            }\n",
    "        }\n",
    "        charsToCarry = tempChars;\n",
    "    }\n",
    "    \n",
    "    return charsToCarry;\n",
    "}\n",
    "\n",
    "String[] testCase = {\"bella\",\"label\",\"roller\"};\n",
    "findCommonChars(testCase);"
   ]
  },
  {
   "cell_type": "markdown",
   "metadata": {},
   "source": [
    "---"
   ]
  },
  {
   "cell_type": "markdown",
   "metadata": {},
   "source": [
    "#### Use **Scala** (`almond` kernel)"
   ]
  },
  {
   "cell_type": "markdown",
   "metadata": {},
   "source": [
    "Use mutable array, `ArrayBuffer`"
   ]
  },
  {
   "cell_type": "code",
   "execution_count": 3,
   "metadata": {},
   "outputs": [
    {
     "data": {
      "text/plain": [
       "\u001b[32mimport \u001b[39m\u001b[36mscala.collection.mutable.ArrayBuffer\n",
       "\n",
       "\u001b[39m\r\n",
       "defined \u001b[32mfunction\u001b[39m \u001b[36mfindCommonChars\u001b[39m"
      ]
     },
     "execution_count": 3,
     "metadata": {},
     "output_type": "execute_result"
    }
   ],
   "source": [
    "import scala.collection.mutable.ArrayBuffer\n",
    "\n",
    "def findCommonChars(words:Array[String]): ArrayBuffer[String] = {\n",
    "    var charsToCarry: ArrayBuffer[String] = new ArrayBuffer[String]()\n",
    "    val firstWord: Array[String] = words(0).split(\"\")\n",
    "    for (letter <- firstWord) {\n",
    "        charsToCarry += letter\n",
    "    }\n",
    "    for (word <- words){\n",
    "        var tempChars: ArrayBuffer[String] = new ArrayBuffer[String]()\n",
    "        for (letter <- word.split(\"\")) {\n",
    "            if (charsToCarry.contains(letter)) {\n",
    "                tempChars += letter\n",
    "                charsToCarry -= (letter)\n",
    "            }\n",
    "        }\n",
    "        charsToCarry = tempChars\n",
    "    }\n",
    "    charsToCarry\n",
    "}"
   ]
  },
  {
   "cell_type": "code",
   "execution_count": 5,
   "metadata": {},
   "outputs": [
    {
     "data": {
      "text/plain": [
       "\u001b[36mtestCase\u001b[39m: \u001b[32mArray\u001b[39m[\u001b[32mString\u001b[39m] = \u001b[33mArray\u001b[39m(\u001b[32m\"bella\"\u001b[39m, \u001b[32m\"label\"\u001b[39m, \u001b[32m\"roller\"\u001b[39m)\r\n",
       "\u001b[36mres4_1\u001b[39m: \u001b[32mArrayBuffer\u001b[39m[\u001b[32mString\u001b[39m] = \u001b[33mArrayBuffer\u001b[39m(\u001b[32m\"l\"\u001b[39m, \u001b[32m\"l\"\u001b[39m, \u001b[32m\"e\"\u001b[39m)"
      ]
     },
     "execution_count": 5,
     "metadata": {},
     "output_type": "execute_result"
    }
   ],
   "source": [
    "val testCase: Array[String] = Array(\"bella\",\"label\",\"roller\")\n",
    "findCommonChars(testCase)"
   ]
  },
  {
   "cell_type": "markdown",
   "metadata": {},
   "source": [
    "---"
   ]
  }
 ],
 "metadata": {
  "kernelspec": {
   "display_name": "Python 3",
   "language": "python",
   "name": "python3"
  },
  "language_info": {
   "codemirror_mode": {
    "name": "ipython",
    "version": 3
   },
   "file_extension": ".py",
   "mimetype": "text/x-python",
   "name": "python",
   "nbconvert_exporter": "python",
   "pygments_lexer": "ipython3",
   "version": "3.7.5"
  }
 },
 "nbformat": 4,
 "nbformat_minor": 4
}
