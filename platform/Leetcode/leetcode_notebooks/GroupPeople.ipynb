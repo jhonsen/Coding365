{
 "cells": [
  {
   "cell_type": "markdown",
   "metadata": {},
   "source": [
    "## [Easy] [#1282](https://leetcode.com/problems/group-the-people-given-the-group-size-they-belong-to/)\n",
    "### `Group the People Given the Group Size They Belong To`\n",
    "\n",
    "There are n people whose IDs go from 0 to n - 1 and each person belongs exactly to one group. Given the array groupSizes of length n telling the group size each person belongs to, return the groups there are and the people's IDs each group includes.\n",
    "  \n",
    "You can return any solution in any order and the same applies for IDs. Also, it is guaranteed that there exists at least one solution. \n",
    "  \n",
    " \n",
    "**Example 1:**  \n",
    "Input: groupSizes = [3,3,3,3,3,1,3]  \n",
    "Output: [[5],[0,1,2],[3,4,6]]  \n",
    "Explanation:   \n",
    "Other possible solutions are [[2,1,6],[5],[0,4,3]] and [[5],[0,6,2],[4,3,1]].  \n",
    "  \n",
    "**Example 2:**  \n",
    "Input: groupSizes = [2,1,3,3,3,2]  \n",
    "Output: [[1],[0,5],[2,3,4]]  \n",
    "   \n",
    "\n",
    "Constraints:  \n",
    "- groupSizes.length == n\n",
    "- 1 <= n <= 500\n",
    "- 1 <= groupSizes[i] <= n"
   ]
  },
  {
   "cell_type": "markdown",
   "metadata": {},
   "source": [
    "#### Use `Python` kernel"
   ]
  },
  {
   "cell_type": "code",
   "execution_count": 17,
   "metadata": {},
   "outputs": [],
   "source": [
    "def find_people_group(group_size):\n",
    "    result = []\n",
    "    sizes_index = {}\n",
    "    for ind,size in enumerate(group_size):\n",
    "        \n",
    "        if size not in sizes_index.keys():\n",
    "            \n",
    "            if (size != 1):\n",
    "                sizes_index[size] = [ind]\n",
    "            else:                \n",
    "                result.append([ind])\n",
    "                \n",
    "        else:\n",
    "            if (len(sizes_index[size]) == size):\n",
    "                result.append(sizes_index[size])\n",
    "                sizes_index[size] = [ind]\n",
    "            else:\n",
    "                sizes_index[size] = sizes_index[size] + [ind]\n",
    "    \n",
    "    # Add leftover list in dictionary\n",
    "    result += sizes_index.values()\n",
    "    return result\n",
    "\n",
    "def find_people_group(group_size):\n",
    "    result = []\n",
    "    size_index = {}\n",
    "\n",
    "    for i,size in enumerate(group_size):\n",
    "        \n",
    "        if (size not in size_index):\n",
    "            size_index[size] = []\n",
    "        size_index[size].append(i)\n",
    "        \n",
    "        if len(size_index[size]) == size:\n",
    "            result.append(size_index[size])\n",
    "            size_index.pop(size)\n",
    "    return result\n",
    "\n"
   ]
  },
  {
   "cell_type": "code",
   "execution_count": 18,
   "metadata": {},
   "outputs": [
    {
     "data": {
      "text/plain": [
       "[[[0, 1, 2], [5], [3, 4, 6]],\n",
       " [[1], [2, 3, 4], [0, 5]],\n",
       " [[0, 1], [2], [3], [4], [5], [6], [7]]]"
      ]
     },
     "execution_count": 18,
     "metadata": {},
     "output_type": "execute_result"
    }
   ],
   "source": [
    "test_cases = [\n",
    "             [3,3,3,3,3,1,3],   # [[5], [0,1,2],[3,4,6]]\n",
    "             [2,1,3,3,3,2],     # [[1], [0,5],[2,3,4]]\n",
    "             [2,2,1,1,1,1,1,1], # [[2], [3], [4], [5], [6], [7], [0,1]]\n",
    "             ]\n",
    "\n",
    "[find_people_group(case) for case in test_cases]\n"
   ]
  },
  {
   "cell_type": "markdown",
   "metadata": {},
   "source": [
    "---"
   ]
  },
  {
   "cell_type": "markdown",
   "metadata": {},
   "source": [
    "#### Use **Java** (`iJava` kernel)"
   ]
  },
  {
   "cell_type": "code",
   "execution_count": 14,
   "metadata": {},
   "outputs": [],
   "source": [
    "import java.util.List;\n",
    "import java.util.HashMap;\n",
    "\n",
    "public List<List<Integer>> findPeopleGroup(int[] sizeInput) { \n",
    "    HashMap<Integer,List<Integer>> groupsizeMap = new HashMap<Integer,List<Integer>>();\n",
    "    List<List<Integer>> result = new ArrayList<>();\n",
    "    \n",
    "    for (int i=0; i<sizeInput.length; i++) {\n",
    "        if (!groupsizeMap.containsKey(sizeInput[i])) {\n",
    "            groupsizeMap.put(sizeInput[i], new ArrayList<>());\n",
    "        }\n",
    "        groupsizeMap.get(sizeInput[i]).add(i);\n",
    "        if  (groupsizeMap.get(sizeInput[i]).size() == sizeInput[i]) {\n",
    "            result.add(groupsizeMap.get(sizeInput[i]));\n",
    "            groupsizeMap.remove(sizeInput[i]);\n",
    "        }\n",
    "    }\n",
    "    return result;        \n",
    "}"
   ]
  },
  {
   "cell_type": "code",
   "execution_count": 15,
   "metadata": {},
   "outputs": [
    {
     "data": {
      "text/plain": [
       "[[0, 1, 2], [5], [3, 4, 6]]"
      ]
     },
     "execution_count": 15,
     "metadata": {},
     "output_type": "execute_result"
    }
   ],
   "source": [
    "int[] testCase = {3,3,3,3,3,1,3};\n",
    "findPeopleGroup(testCase);"
   ]
  },
  {
   "cell_type": "markdown",
   "metadata": {},
   "source": [
    "---"
   ]
  },
  {
   "cell_type": "markdown",
   "metadata": {},
   "source": [
    "#### Use **Scala** (`almond` kernel)"
   ]
  },
  {
   "cell_type": "code",
   "execution_count": 1,
   "metadata": {},
   "outputs": [
    {
     "data": {
      "text/plain": [
       "\u001b[32mimport \u001b[39m\u001b[36mjava.util.List\n",
       "\u001b[39m\r\n",
       "\u001b[32mimport \u001b[39m\u001b[36mjava.util.ArrayList\n",
       "\u001b[39m\r\n",
       "\u001b[32mimport \u001b[39m\u001b[36mjava.util.HashMap\n",
       "\n",
       "\u001b[39m\r\n",
       "defined \u001b[32mfunction\u001b[39m \u001b[36mfindPeopleGroup\u001b[39m"
      ]
     },
     "execution_count": 1,
     "metadata": {},
     "output_type": "execute_result"
    }
   ],
   "source": [
    "import java.util.List\n",
    "import java.util.ArrayList\n",
    "import java.util.HashMap\n",
    "\n",
    "def findPeopleGroup(sizeInput: Array[Int]): List[List[Integer]] = {\n",
    "    val groupsizeMap: HashMap[Integer, List[Integer]] =\n",
    "        new HashMap[Integer, List[Integer]]()\n",
    "    val result: List[List[Integer]] = new ArrayList[List[Integer]]()\n",
    "    for (i <- 0 until sizeInput.length) {\n",
    "        if (!groupsizeMap.containsKey(sizeInput(i))) {\n",
    "            groupsizeMap.put(sizeInput(i), new ArrayList())\n",
    "        }\n",
    "        groupsizeMap.get(sizeInput(i)).add(i)\n",
    "        if (groupsizeMap.get(sizeInput(i)).size == sizeInput(i)) {\n",
    "            result.add(groupsizeMap.get(sizeInput(i)))\n",
    "            groupsizeMap.remove(sizeInput(i))\n",
    "        }\n",
    "    }\n",
    "    result\n",
    "}"
   ]
  },
  {
   "cell_type": "code",
   "execution_count": 2,
   "metadata": {},
   "outputs": [
    {
     "data": {
      "text/plain": [
       "\u001b[36mtestCase\u001b[39m: \u001b[32mArray\u001b[39m[\u001b[32mInt\u001b[39m] = \u001b[33mArray\u001b[39m(\u001b[32m3\u001b[39m, \u001b[32m3\u001b[39m, \u001b[32m3\u001b[39m, \u001b[32m3\u001b[39m, \u001b[32m3\u001b[39m, \u001b[32m1\u001b[39m, \u001b[32m3\u001b[39m)\r\n",
       "\u001b[36mres1_1\u001b[39m: \u001b[32mList\u001b[39m[\u001b[32mList\u001b[39m[\u001b[32mInteger\u001b[39m]] = [[0, 1, 2], [5], [3, 4, 6]]"
      ]
     },
     "execution_count": 2,
     "metadata": {},
     "output_type": "execute_result"
    }
   ],
   "source": [
    "val testCase:Array[Int] = Array(3,3,3,3,3,1,3)\n",
    "findPeopleGroup(testCase)"
   ]
  },
  {
   "cell_type": "markdown",
   "metadata": {},
   "source": [
    "---"
   ]
  }
 ],
 "metadata": {
  "kernelspec": {
   "display_name": "Python 3",
   "language": "python",
   "name": "python3"
  },
  "language_info": {
   "codemirror_mode": {
    "name": "ipython",
    "version": 3
   },
   "file_extension": ".py",
   "mimetype": "text/x-python",
   "name": "python",
   "nbconvert_exporter": "python",
   "pygments_lexer": "ipython3",
   "version": "3.7.4"
  }
 },
 "nbformat": 4,
 "nbformat_minor": 4
}
