{
 "cells": [
  {
   "cell_type": "markdown",
   "metadata": {},
   "source": [
    "## [Easy] [#1282](https://leetcode.com/problems/group-the-people-given-the-group-size-they-belong-to/)\n",
    "### `Group the People Given the Group Size They Belong To`\n",
    "\n",
    "There are n people whose IDs go from 0 to n - 1 and each person belongs exactly to one group. Given the array groupSizes of length n telling the group size each person belongs to, return the groups there are and the people's IDs each group includes.\n",
    "  \n",
    "You can return any solution in any order and the same applies for IDs. Also, it is guaranteed that there exists at least one solution. \n",
    "  \n",
    " \n",
    "**Example 1:**  \n",
    "Input: groupSizes = [3,3,3,3,3,1,3]  \n",
    "Output: [[5],[0,1,2],[3,4,6]]  \n",
    "Explanation:   \n",
    "Other possible solutions are [[2,1,6],[5],[0,4,3]] and [[5],[0,6,2],[4,3,1]].  \n",
    "  \n",
    "**Example 2:**  \n",
    "Input: groupSizes = [2,1,3,3,3,2]  \n",
    "Output: [[1],[0,5],[2,3,4]]  \n",
    "   \n",
    "\n",
    "Constraints:  \n",
    "- groupSizes.length == n\n",
    "- 1 <= n <= 500\n",
    "- 1 <= groupSizes[i] <= n"
   ]
  },
  {
   "cell_type": "markdown",
   "metadata": {},
   "source": [
    "#### Use `Python` kernel"
   ]
  },
  {
   "cell_type": "code",
   "execution_count": 94,
   "metadata": {},
   "outputs": [],
   "source": [
    "from collections import Counter, defaultdict\n",
    "\n",
    "def find_people_group(group_size):\n",
    "    \n",
    "    groups = []\n",
    "    sizes_index = {}\n",
    "    for ind,size in enumerate(group_size):\n",
    "        \n",
    "        if size not in sizes_index.keys():\n",
    "            \n",
    "            if (size != 1):\n",
    "                sizes_index[size] = [ind]\n",
    "            else:                \n",
    "                groups.append([ind])\n",
    "                \n",
    "        else:\n",
    "            if (len(sizes_index[size]) == size):\n",
    "                groups.append(sizes_index[size])\n",
    "                sizes_index[size] = [ind]\n",
    "            else:\n",
    "                sizes_index[size] = sizes_index[size] + [ind]\n",
    "    \n",
    "    # Add leftover list in dictionary\n",
    "    groups += sizes_index.values()\n",
    "    \n",
    "    return groups\n",
    "\n"
   ]
  },
  {
   "cell_type": "code",
   "execution_count": 97,
   "metadata": {},
   "outputs": [
    {
     "data": {
      "text/plain": [
       "[[[0, 1, 2], [5], [3, 4, 6]],\n",
       " [[1], [0, 5], [2, 3, 4]],\n",
       " [[2], [3], [4], [5], [6], [7], [0, 1]]]"
      ]
     },
     "execution_count": 97,
     "metadata": {},
     "output_type": "execute_result"
    }
   ],
   "source": [
    "test_cases = [\n",
    "             [3,3,3,3,3,1,3],   # [[5], [0,1,2],[3,4,6]]\n",
    "             [2,1,3,3,3,2],     # [[1], [0,5],[2,3,4]]\n",
    "             [2,2,1,1,1,1,1,1], # [[2], [3], [4], [5], [6], [7], [0,1]]\n",
    "             ]\n",
    "\n",
    "[find_people_group(case) for case in test_cases]\n"
   ]
  },
  {
   "cell_type": "markdown",
   "metadata": {},
   "source": [
    "---"
   ]
  },
  {
   "cell_type": "markdown",
   "metadata": {},
   "source": [
    "#### Use **Java** (`iJava` kernel)"
   ]
  },
  {
   "cell_type": "code",
   "execution_count": null,
   "metadata": {},
   "outputs": [],
   "source": []
  },
  {
   "cell_type": "code",
   "execution_count": null,
   "metadata": {},
   "outputs": [],
   "source": []
  },
  {
   "cell_type": "markdown",
   "metadata": {},
   "source": [
    "---"
   ]
  },
  {
   "cell_type": "markdown",
   "metadata": {},
   "source": [
    "#### Use **Scala** (`almond` kernel)"
   ]
  },
  {
   "cell_type": "code",
   "execution_count": null,
   "metadata": {},
   "outputs": [],
   "source": []
  },
  {
   "cell_type": "code",
   "execution_count": null,
   "metadata": {},
   "outputs": [],
   "source": []
  }
 ],
 "metadata": {
  "kernelspec": {
   "display_name": "Python 3",
   "language": "python",
   "name": "python3"
  },
  "language_info": {
   "codemirror_mode": {
    "name": "ipython",
    "version": 3
   },
   "file_extension": ".py",
   "mimetype": "text/x-python",
   "name": "python",
   "nbconvert_exporter": "python",
   "pygments_lexer": "ipython3",
   "version": "3.7.5"
  }
 },
 "nbformat": 4,
 "nbformat_minor": 4
}
