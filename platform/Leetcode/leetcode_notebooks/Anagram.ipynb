{
 "cells": [
  {
   "cell_type": "markdown",
   "metadata": {},
   "source": [
    "## [Easy] [#242](https://leetcode.com/problems/valid-anagram/)\n",
    "### `Valid Anagram`\n",
    "Given two strings s and t , write a function to determine if t is an anagram of s.\n",
    "  \n",
    "Example 1:  \n",
    "**Input**: s = \"anagram\", t = \"nagaram\"  \n",
    "**Output**: true  \n",
    "  \n",
    "Example 2:  \n",
    "**Input**: s = \"rat\", t = \"car\"  \n",
    "**Output**: false  \n",
    "  \n",
    "Note:\n",
    "You may assume the string contains only lowercase alphabets.\n",
    "  \n",
    "Follow up:\n",
    "What if the inputs contain unicode characters? How would you adapt your solution to such case?"
   ]
  },
  {
   "cell_type": "markdown",
   "metadata": {},
   "source": [
    "#### Use `Python` kernel"
   ]
  },
  {
   "cell_type": "code",
   "execution_count": 140,
   "metadata": {},
   "outputs": [],
   "source": [
    "# Method 1 \n",
    "def is_anagram1(left, right):\n",
    "    return sorted(left) == sorted(right)\n",
    "\n",
    "# Method 2 \n"
   ]
  },
  {
   "cell_type": "code",
   "execution_count": 154,
   "metadata": {},
   "outputs": [
    {
     "data": {
      "text/plain": [
       "[True, False, True, True, False]"
      ]
     },
     "execution_count": 154,
     "metadata": {},
     "output_type": "execute_result"
    }
   ],
   "source": [
    "test_cases = [(\"dgqztusjuu\", \"dqugjzutsu\"),  # True\n",
    "              ('a','b'),   # False\n",
    "              ('anagram','nagaram'),  # True\n",
    "              ('ab','ba'),  # True\n",
    "              ('b','ba')]  # False\n",
    "\n",
    "[is_anagram1(left, right) for left,right in test_cases]"
   ]
  },
  {
   "cell_type": "markdown",
   "metadata": {},
   "source": [
    "---"
   ]
  },
  {
   "cell_type": "markdown",
   "metadata": {},
   "source": [
    "#### Use **Java** (`iJava` kernel)"
   ]
  },
  {
   "cell_type": "code",
   "execution_count": 26,
   "metadata": {},
   "outputs": [
    {
     "data": {
      "text/plain": [
       "true"
      ]
     },
     "execution_count": 26,
     "metadata": {},
     "output_type": "execute_result"
    }
   ],
   "source": [
    "// Solution in Java\n",
    "import java.util.Arrays;\n",
    "\n",
    "public static boolean isAnagram (String left, String right) {\n",
    "    char[] leftArray = left.toCharArray();\n",
    "    char[] rightArray = right.toCharArray();\n",
    "    Arrays.sort(leftArray);\n",
    "    Arrays.sort(rightArray);\n",
    "    String newLeft = String.copyValueOf(leftArray);\n",
    "    String newRight = String.copyValueOf(rightArray);\n",
    "    return newLeft.equals(newRight);\n",
    "    \n",
    "}\n",
    "    \n",
    "isAnagram(\"anagram\",\"nagaram\")    "
   ]
  },
  {
   "cell_type": "markdown",
   "metadata": {},
   "source": [
    "---"
   ]
  },
  {
   "cell_type": "markdown",
   "metadata": {},
   "source": [
    "#### Use **Scala** (`almond` kernel)"
   ]
  },
  {
   "cell_type": "code",
   "execution_count": 1,
   "metadata": {},
   "outputs": [
    {
     "data": {
      "text/plain": [
       "\u001b[32mimport \u001b[39m\u001b[36mjava.util.Arrays\n",
       "\u001b[39m\r\n",
       "defined \u001b[32mfunction\u001b[39m \u001b[36misAnagram\u001b[39m\r\n",
       "\u001b[36mres0_2\u001b[39m: \u001b[32mBoolean\u001b[39m = true"
      ]
     },
     "execution_count": 1,
     "metadata": {},
     "output_type": "execute_result"
    }
   ],
   "source": [
    "// Solution in Scala\n",
    "\n",
    "import java.util.Arrays\n",
    "def isAnagram(left: String, right: String): Boolean = {\n",
    "    \n",
    "    val leftArray: Array[Char] = left.toCharArray()\n",
    "    val rightArray: Array[Char] = right.toCharArray()\n",
    "    Arrays.sort(leftArray)\n",
    "    Arrays.sort(rightArray)\n",
    "    val newLeft: String = String.copyValueOf(leftArray)\n",
    "    val newRight: String = String.copyValueOf(rightArray)\n",
    "    newLeft == newRight\n",
    "}\n",
    "\n",
    "\n",
    "isAnagram(\"anagram\",\"nagaram\")"
   ]
  },
  {
   "cell_type": "markdown",
   "metadata": {},
   "source": [
    "---"
   ]
  }
 ],
 "metadata": {
  "kernelspec": {
   "display_name": "Python 3",
   "language": "python",
   "name": "python3"
  },
  "language_info": {
   "codemirror_mode": {
    "name": "ipython",
    "version": 3
   },
   "file_extension": ".py",
   "mimetype": "text/x-python",
   "name": "python",
   "nbconvert_exporter": "python",
   "pygments_lexer": "ipython3",
   "version": "3.7.5"
  }
 },
 "nbformat": 4,
 "nbformat_minor": 4
}
