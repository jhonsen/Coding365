{
 "cells": [
  {
   "cell_type": "markdown",
   "metadata": {},
   "source": [
    "## [Easy] [#206](https://leetcode.com/problems/reverse-linked-list/)\n",
    "### `Reverse Linked List`\n",
    "  \n",
    "Reverse a singly linked list.\n",
    "  \n",
    "Example:    \n",
    "Input: 1->2->3->4->5->NULL  \n",
    "Output: 5->4->3->2->1->NULL  \n",
    "  \n",
    "Follow up:  \n",
    "  \n",
    "A linked list can be reversed either iteratively or recursively. Could you implement both?"
   ]
  },
  {
   "cell_type": "markdown",
   "metadata": {},
   "source": [
    "---"
   ]
  },
  {
   "cell_type": "markdown",
   "metadata": {},
   "source": [
    "#### Use **Python** kernel"
   ]
  },
  {
   "cell_type": "code",
   "execution_count": 47,
   "metadata": {},
   "outputs": [],
   "source": [
    "class ListNode:\n",
    "    def __init__(self, val=0, next = None):\n",
    "        self.val = val\n",
    "        self.next = next    \n",
    "    \n",
    "    def displayList(self):\n",
    "        current = self\n",
    "        while current is not None:\n",
    "            print(current.val, end = \" \")\n",
    "            current = current.next  \n",
    "\n",
    "class LinkedList:\n",
    "    def __init__(self):\n",
    "        self.head = None  \n",
    "    \n",
    "    def push(self, new_data):\n",
    "        new_node = Node(new_data)\n",
    "        new_node.next = self.head\n",
    "        self.head = new_node\n",
    "\n",
    "# Function\n",
    "def reverseList(head):\n",
    "    prev_node = None\n",
    "    next_node = head\n",
    "\n",
    "    while next_node:\n",
    "        prev_node_temp = prev_node\n",
    "        next_node_temp = next_node.next\n",
    "\n",
    "        prev_node = next_node\n",
    "        next_node.next = prev_node_temp\n",
    "        next_node = next_node_temp\n",
    "\n",
    "    head = prev_node\n",
    "    return head\n",
    "    "
   ]
  },
  {
   "cell_type": "code",
   "execution_count": 48,
   "metadata": {},
   "outputs": [
    {
     "name": "stdout",
     "output_type": "stream",
     "text": [
      "1 2 3 "
     ]
    }
   ],
   "source": [
    "# Initialize linked list pointer (head)\n",
    "linkedlist = LinkedList()\n",
    "linkedlist.head = ListNode(1)\n",
    "\n",
    "# Creating second & third nodes\n",
    "second = ListNode(2)\n",
    "third = ListNode(3)\n",
    "\n",
    "# Linking element and third \n",
    "linkedlist.head.next = second\n",
    "second.next = third\n",
    "\n",
    "linkedlist.head.displayList()"
   ]
  },
  {
   "cell_type": "code",
   "execution_count": 49,
   "metadata": {},
   "outputs": [
    {
     "name": "stdout",
     "output_type": "stream",
     "text": [
      "3 2 1 "
     ]
    }
   ],
   "source": [
    "reversedList = reverseList(linkedlist.head)\n",
    "reversedList.displayList()"
   ]
  },
  {
   "cell_type": "markdown",
   "metadata": {},
   "source": [
    "---"
   ]
  },
  {
   "cell_type": "markdown",
   "metadata": {},
   "source": [
    "#### Use **Java** (`iJava` kernel)"
   ]
  },
  {
   "cell_type": "code",
   "execution_count": null,
   "metadata": {},
   "outputs": [],
   "source": []
  },
  {
   "cell_type": "markdown",
   "metadata": {},
   "source": [
    "---"
   ]
  },
  {
   "cell_type": "markdown",
   "metadata": {},
   "source": [
    "#### Use **Scala** (`almond` kernel)"
   ]
  },
  {
   "cell_type": "code",
   "execution_count": null,
   "metadata": {},
   "outputs": [],
   "source": []
  },
  {
   "cell_type": "markdown",
   "metadata": {},
   "source": [
    "---"
   ]
  }
 ],
 "metadata": {
  "kernelspec": {
   "display_name": "Python 3",
   "language": "python",
   "name": "python3"
  },
  "language_info": {
   "codemirror_mode": {
    "name": "ipython",
    "version": 3
   },
   "file_extension": ".py",
   "mimetype": "text/x-python",
   "name": "python",
   "nbconvert_exporter": "python",
   "pygments_lexer": "ipython3",
   "version": "3.7.5"
  }
 },
 "nbformat": 4,
 "nbformat_minor": 4
}
