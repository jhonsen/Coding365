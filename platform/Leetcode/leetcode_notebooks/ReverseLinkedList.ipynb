{
 "cells": [
  {
   "cell_type": "markdown",
   "metadata": {},
   "source": [
    "## [Easy] [#206](https://leetcode.com/problems/reverse-linked-list/)\n",
    "### `Reverse Linked List`\n",
    "  \n",
    "Reverse a singly linked list.\n",
    "  \n",
    "Example:    \n",
    "Input: 1->2->3->4->5->NULL  \n",
    "Output: 5->4->3->2->1->NULL  \n",
    "  \n",
    "Follow up:  \n",
    "  \n",
    "A linked list can be reversed either iteratively or recursively. Could you implement both?"
   ]
  },
  {
   "cell_type": "markdown",
   "metadata": {},
   "source": [
    "---"
   ]
  },
  {
   "cell_type": "markdown",
   "metadata": {},
   "source": [
    "#### Use **Python** kernel"
   ]
  },
  {
   "cell_type": "code",
   "execution_count": 69,
   "metadata": {},
   "outputs": [],
   "source": [
    "class ListNode:\n",
    "    def __init__(self, val=0, next = None):\n",
    "        self.val = val\n",
    "        self.next = next    \n",
    "\n",
    "class LinkedList:\n",
    "    def __init__(self):\n",
    "        self.head = None  \n",
    "    \n",
    "    def push(self, new_data):\n",
    "        new_node = Node(new_data)\n",
    "        new_node.next = self.head\n",
    "        self.head = new_node\n",
    "\n",
    "    def displayList(self):\n",
    "        current = self.head\n",
    "        while current is not None:\n",
    "            print(current.val, end = \" \")\n",
    "            current = current.next\n",
    "    \n",
    "    # reverse iteratively \n",
    "    def reverseList(self):\n",
    "        prev_node = None\n",
    "        current = self.head\n",
    "        \n",
    "        while current:\n",
    "            next_node_temp = current.next  # Remember next node before we overwrite it\n",
    "            current.next = prev_node  # Reversing the node, which starts w/ None\n",
    "            prev_node = current  # Used in next iteration\n",
    "            current = next_node_temp  # Move to next node\n",
    "        \n",
    "        self.head = prev_node\n",
    "    "
   ]
  },
  {
   "cell_type": "code",
   "execution_count": 70,
   "metadata": {},
   "outputs": [
    {
     "name": "stdout",
     "output_type": "stream",
     "text": [
      "1 2 3 "
     ]
    }
   ],
   "source": [
    "# Initialize linked list pointer (head)\n",
    "linkedlist = LinkedList()\n",
    "linkedlist.head = ListNode(1)\n",
    "\n",
    "# Creating second & third nodes\n",
    "second = ListNode(2)\n",
    "third = ListNode(3)\n",
    "\n",
    "# Linking element and third \n",
    "linkedlist.head.next = second\n",
    "second.next = third\n",
    "\n",
    "linkedlist.displayList()"
   ]
  },
  {
   "cell_type": "code",
   "execution_count": 71,
   "metadata": {},
   "outputs": [
    {
     "name": "stdout",
     "output_type": "stream",
     "text": [
      "3 2 1 "
     ]
    }
   ],
   "source": [
    "# Reverse the linked list\n",
    "linkedlist.reverseList()\n",
    "linkedlist.displayList()"
   ]
  },
  {
   "cell_type": "markdown",
   "metadata": {},
   "source": [
    "---"
   ]
  },
  {
   "cell_type": "markdown",
   "metadata": {},
   "source": [
    "#### Use **Java** (`iJava` kernel)"
   ]
  },
  {
   "cell_type": "code",
   "execution_count": null,
   "metadata": {},
   "outputs": [],
   "source": [
    "public class ListNode {\n",
    "    int val;\n",
    "    ListNode next;\n",
    "    ListNode() {}\n",
    "    ListNode(int val) { this.val = val; }\n",
    "    ListNode(int val, ListNode next) { this.val = val; this.next = next; }\n",
    "}\n",
    " \n",
    "\n",
    "public ListNode reverseList(ListNode head) {\n",
    "    ListNode prev = null;\n",
    "    ListNode curr = head;\n",
    "    while (curr != null) {\n",
    "        ListNode nextTemp = curr.next;\n",
    "        curr.next = prev;\n",
    "        prev = curr;\n",
    "        curr = nextTemp;\n",
    "    }\n",
    "    return prev;\n",
    "}"
   ]
  },
  {
   "cell_type": "markdown",
   "metadata": {},
   "source": [
    "---"
   ]
  },
  {
   "cell_type": "markdown",
   "metadata": {},
   "source": [
    "#### Use **Scala** (`almond` kernel)"
   ]
  },
  {
   "cell_type": "code",
   "execution_count": null,
   "metadata": {},
   "outputs": [],
   "source": []
  },
  {
   "cell_type": "markdown",
   "metadata": {},
   "source": [
    "---"
   ]
  }
 ],
 "metadata": {
  "kernelspec": {
   "display_name": "Python 3",
   "language": "python",
   "name": "python3"
  },
  "language_info": {
   "codemirror_mode": {
    "name": "ipython",
    "version": 3
   },
   "file_extension": ".py",
   "mimetype": "text/x-python",
   "name": "python",
   "nbconvert_exporter": "python",
   "pygments_lexer": "ipython3",
   "version": "3.7.5"
  }
 },
 "nbformat": 4,
 "nbformat_minor": 4
}
