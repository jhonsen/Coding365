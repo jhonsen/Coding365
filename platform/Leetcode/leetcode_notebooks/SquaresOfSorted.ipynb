{
 "cells": [
  {
   "cell_type": "markdown",
   "metadata": {},
   "source": [
    "## [Easy] [#977](https://leetcode.com/problems/squares-of-a-sorted-array/)\n",
    "### `Squares of Sorted Array`\n",
    "  \n",
    "Given an array of integers A sorted in non-decreasing order, return an array of the squares of each number, also in sorted non-decreasing order.\n",
    "  \n",
    "Example 1:  \n",
    "Input: [-4,-1,0,3,10]  \n",
    "Output: [0,1,9,16,100]  \n",
    "  \n",
    "Example 2:  \n",
    "Input: [-7,-3,2,3,11]  \n",
    "Output: [4,9,9,49,121]  \n",
    "  \n",
    "\n",
    "Note:  \n",
    "1 <= A.length <= 10000  \n",
    "-10000 <= A[i] <= 10000  \n",
    "A is sorted in non-decreasing order.  "
   ]
  },
  {
   "cell_type": "markdown",
   "metadata": {},
   "source": [
    "---"
   ]
  },
  {
   "cell_type": "markdown",
   "metadata": {},
   "source": [
    "#### Use **Python** kernel"
   ]
  },
  {
   "cell_type": "code",
   "execution_count": 1,
   "metadata": {},
   "outputs": [],
   "source": [
    "def squared_sorted(numbers):\n",
    "    return sorted([num*num for num in numbers])\n"
   ]
  },
  {
   "cell_type": "code",
   "execution_count": 2,
   "metadata": {},
   "outputs": [
    {
     "data": {
      "text/plain": [
       "[[0, 1, 9, 16, 100], [4, 9, 9, 49, 121]]"
      ]
     },
     "execution_count": 2,
     "metadata": {},
     "output_type": "execute_result"
    }
   ],
   "source": [
    "tests = [\n",
    "         [-4,-1,0,3,10],    # [0,1,9,16,100]  \n",
    "        [-7,-3,2,3,11],     # [4,9,9,49,121]\n",
    "        ]\n",
    "\n",
    "[squared_sorted(case) for case in tests]"
   ]
  },
  {
   "cell_type": "markdown",
   "metadata": {},
   "source": [
    "---"
   ]
  },
  {
   "cell_type": "markdown",
   "metadata": {},
   "source": [
    "#### Use **Java** (`iJava` kernel)"
   ]
  },
  {
   "cell_type": "code",
   "execution_count": 24,
   "metadata": {},
   "outputs": [
    {
     "data": {
      "text/plain": [
       "[4, 9, 9, 49, 121]"
      ]
     },
     "execution_count": 24,
     "metadata": {},
     "output_type": "execute_result"
    }
   ],
   "source": [
    "import java.util.Arrays;\n",
    "\n",
    "public String squaredSorted(int[] numbers) {\n",
    "        int[] out = new int[numbers.length];\n",
    "        for (int i=0; i<numbers.length; i++) {\n",
    "            out[i] = (numbers[i] * numbers[i]);\n",
    "        }\n",
    "        Arrays.sort(out);\n",
    "        return Arrays.toString(out);\n",
    "}\n",
    "\n",
    "int[] testCase = {-7,-3,2,3,11};\n",
    "squareIt(testCase);"
   ]
  },
  {
   "cell_type": "markdown",
   "metadata": {},
   "source": [
    "---"
   ]
  },
  {
   "cell_type": "markdown",
   "metadata": {},
   "source": [
    "#### Use **Scala** (`almond` kernel)"
   ]
  },
  {
   "cell_type": "code",
   "execution_count": 3,
   "metadata": {},
   "outputs": [
    {
     "data": {
      "text/plain": [
       "defined \u001b[32mfunction\u001b[39m \u001b[36msortIt\u001b[39m\r\n",
       "defined \u001b[32mfunction\u001b[39m \u001b[36msortedSquares\u001b[39m"
      ]
     },
     "execution_count": 3,
     "metadata": {},
     "output_type": "execute_result"
    }
   ],
   "source": [
    "def sortedSquares(A: Array[Int]): Array[Int] = A.map(i => i * i).sortWith(_ < _)\n",
    "\n",
    "def sortedSquares(A: Array[Int]): Array[Int] = {\n",
    "        val givenList = A.toList\n",
    "        \n",
    "        givenList.map(x => x * x).sorted.toArray\n",
    "}"
   ]
  },
  {
   "cell_type": "code",
   "execution_count": 4,
   "metadata": {},
   "outputs": [
    {
     "data": {
      "text/plain": [
       "\u001b[36mtestCase\u001b[39m: \u001b[32mArray\u001b[39m[\u001b[32mInt\u001b[39m] = \u001b[33mArray\u001b[39m(\u001b[32m-7\u001b[39m, \u001b[32m-3\u001b[39m, \u001b[32m2\u001b[39m, \u001b[32m3\u001b[39m, \u001b[32m11\u001b[39m)\r\n",
       "\u001b[36mres3_1\u001b[39m: \u001b[32mArray\u001b[39m[\u001b[32mInt\u001b[39m] = \u001b[33mArray\u001b[39m(\u001b[32m4\u001b[39m, \u001b[32m9\u001b[39m, \u001b[32m9\u001b[39m, \u001b[32m49\u001b[39m, \u001b[32m121\u001b[39m)"
      ]
     },
     "execution_count": 4,
     "metadata": {},
     "output_type": "execute_result"
    }
   ],
   "source": [
    "val testCase:Array[Int] = Array(-7,-3,2,3,11)\n",
    "sortedSquares(testCase)"
   ]
  },
  {
   "cell_type": "markdown",
   "metadata": {},
   "source": [
    "---"
   ]
  }
 ],
 "metadata": {
  "kernelspec": {
   "display_name": "Scala 2.12.8",
   "language": "scala",
   "name": "scala_2_12_8"
  },
  "language_info": {
   "codemirror_mode": "text/x-scala",
   "file_extension": ".scala",
   "mimetype": "text/x-scala",
   "name": "scala",
   "nbconvert_exporter": "script",
   "version": "2.12.8"
  }
 },
 "nbformat": 4,
 "nbformat_minor": 4
}
