{
 "cells": [
  {
   "cell_type": "markdown",
   "metadata": {},
   "source": [
    "## [Easy] [#66](https://leetcode.com/problems/plus-one/submissions/)\n",
    "### `Plus One`\n",
    "Given a non-empty array of digits representing a non-negative integer, plus one to the integer.\n",
    "  \n",
    "The digits are stored such that the most significant digit is at the head of the list, and each element in the array contain a single digit.\n",
    "  \n",
    "You may assume the integer does not contain any leading zero, except the number 0 itself.\n",
    "  \n",
    "**Example 1:**  \n",
    "Input: [1,2,3]  \n",
    "Output: [1,2,4]  \n",
    "Explanation: The array represents the integer 123.  \n",
    "  \n",
    "**Example 2:**  \n",
    "Input: [4,3,2,1]  \n",
    "Output: [4,3,2,2]  \n",
    "Explanation: The array represents the integer 4321."
   ]
  },
  {
   "cell_type": "markdown",
   "metadata": {},
   "source": [
    "#### Use `Python` kernel"
   ]
  },
  {
   "cell_type": "code",
   "execution_count": 22,
   "metadata": {},
   "outputs": [],
   "source": [
    "def plus_one(digits):\n",
    "    number = ''.join([str(d) for d in digits])\n",
    "    number_add_one = int(number) + 1\n",
    "    return list(str(number_add_one))"
   ]
  },
  {
   "cell_type": "code",
   "execution_count": 29,
   "metadata": {},
   "outputs": [
    {
     "data": {
      "text/plain": [
       "[['1', '2', '3', '5'], ['4', '3', '2', '2'], ['2', '0', '0']]"
      ]
     },
     "execution_count": 29,
     "metadata": {},
     "output_type": "execute_result"
    }
   ],
   "source": [
    "test_cases = [[1,2,3,4],  # [1,2,3,5]\n",
    "              [4,3,2,1],  # [4,3,2,2]\n",
    "              [1,9,9]     # [2,0,0]\n",
    "             ]\n",
    "[plus_one(each) for each in test_cases]"
   ]
  },
  {
   "cell_type": "markdown",
   "metadata": {},
   "source": [
    "---"
   ]
  },
  {
   "cell_type": "markdown",
   "metadata": {},
   "source": [
    "#### Use **Java** (`iJava` kernel)"
   ]
  },
  {
   "cell_type": "code",
   "execution_count": 75,
   "metadata": {},
   "outputs": [
    {
     "data": {
      "text/plain": [
       "[1, 3]"
      ]
     },
     "execution_count": 75,
     "metadata": {},
     "output_type": "execute_result"
    }
   ],
   "source": [
    "// Solution in Java\n",
    "\n",
    "public String plusOne(String digits) {\n",
    "    String[] numbers = digits.split(\",\");\n",
    "    StringBuilder numberSb = new StringBuilder();\n",
    "    for (int i=0; i< numbers.length;i++) {\n",
    "        String ch = numbers[i];\n",
    "        if (Character.isDigit(ch.charAt(0))) {\n",
    "            numberSb.append(ch);\n",
    "        }\n",
    "    }\n",
    "    int numberInt = Integer.parseInt(numberSb.toString());\n",
    "    int numberIntAddedOne = numberInt + 1;\n",
    "    \n",
    "    String numAdded = String.valueOf(numberIntAddedOne);\n",
    "    String[] output = numAdded.split(\"\");\n",
    "    return Arrays.toString(output);\n",
    "}\n",
    "\n",
    "plusOne(\"1,2\")"
   ]
  },
  {
   "cell_type": "markdown",
   "metadata": {},
   "source": [
    "---"
   ]
  },
  {
   "cell_type": "markdown",
   "metadata": {},
   "source": [
    "#### Use **Scala** (`almond` kernel)"
   ]
  },
  {
   "cell_type": "code",
   "execution_count": 1,
   "metadata": {},
   "outputs": [
    {
     "data": {
      "text/plain": [
       "\u001b[32mimport \u001b[39m\u001b[36mjava.util._\n",
       "\n",
       "\u001b[39m\r\n",
       "defined \u001b[32mfunction\u001b[39m \u001b[36mplusOne\u001b[39m"
      ]
     },
     "execution_count": 1,
     "metadata": {},
     "output_type": "execute_result"
    }
   ],
   "source": [
    "import java.util._\n",
    "\n",
    "def plusOne(digits: String): String = {\n",
    "    val numbers: Array[String] = digits.split(\",\")\n",
    "    val numberSb: StringBuilder = new StringBuilder()\n",
    "    for (i <- 0 until numbers.length) {\n",
    "        val ch: String = numbers(i)\n",
    "        if (Character.isDigit(ch.charAt(0))) {\n",
    "            numberSb.append(ch)\n",
    "        }\n",
    "    }\n",
    "    val numberInt: Int = Integer.parseInt(numberSb.toString)\n",
    "    val numberIntAddedOne: Int = numberInt + 1\n",
    "    \n",
    "    val numAdded:String = String.valueOf(numberIntAddedOne)\n",
    "    val output: Array[String] = numAdded.split(\"\")\n",
    "    val result: String = output.mkString(\",\")\n",
    "    result\n",
    "}"
   ]
  },
  {
   "cell_type": "code",
   "execution_count": 2,
   "metadata": {},
   "outputs": [
    {
     "data": {
      "text/plain": [
       "\u001b[36mres1\u001b[39m: \u001b[32mString\u001b[39m = \u001b[32m\"1,2,3,5\"\u001b[39m"
      ]
     },
     "execution_count": 2,
     "metadata": {},
     "output_type": "execute_result"
    }
   ],
   "source": [
    "plusOne(\"1,2,3,4\")"
   ]
  },
  {
   "cell_type": "markdown",
   "metadata": {},
   "source": [
    "---"
   ]
  }
 ],
 "metadata": {
  "kernelspec": {
   "display_name": "Scala 2.12.8",
   "language": "scala",
   "name": "scala_2_12_8"
  },
  "language_info": {
   "codemirror_mode": "text/x-scala",
   "file_extension": ".scala",
   "mimetype": "text/x-scala",
   "name": "scala",
   "nbconvert_exporter": "script",
   "version": "2.12.8"
  }
 },
 "nbformat": 4,
 "nbformat_minor": 4
}
