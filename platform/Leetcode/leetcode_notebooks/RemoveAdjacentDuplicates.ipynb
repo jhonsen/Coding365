{
 "cells": [
  {
   "cell_type": "markdown",
   "metadata": {},
   "source": [
    "## [Easy] [#1047](https://leetcode.com/problems/remove-all-adjacent-duplicates-in-string/)\n",
    "### `Remove All Adjacent Duplicates`\n",
    "  \n",
    "Given a string S of lowercase letters, a duplicate removal consists of choosing two adjacent and equal letters, and removing them.  \n",
    "\n",
    "We repeatedly make duplicate removals on S until we no longer can.  \n",
    "\n",
    "Return the final string after all such duplicate removals have been made.  It is guaranteed the answer is unique.\n",
    "\n",
    " \n",
    "\n",
    "**Example 1:**  \n",
    "  \n",
    "Input: \"abbaca\"  \n",
    "Output: \"ca\"  \n",
    "  \n",
    "**Explanation:**   \n",
    "For example, in \"abbaca\" we could remove \"bb\" since the letters are adjacent and equal, and this is the only possible move.  The result of this move is that the string is \"aaca\", of which only \"aa\" is possible, so the final string is \"ca\".\n",
    "  \n",
    "\n",
    "Note:   \n",
    "1 <= S.length <= 20000  \n",
    "S consists only of English lowercase letters.  "
   ]
  },
  {
   "cell_type": "markdown",
   "metadata": {},
   "source": [
    "#### Use `Python` kernel"
   ]
  },
  {
   "cell_type": "code",
   "execution_count": 8,
   "metadata": {},
   "outputs": [],
   "source": [
    "from collections import Counter\n",
    "def remove_duplicates(string):\n",
    "    i = 1\n",
    "    while i < len(string):\n",
    "        if string[i] == string[i-1]:\n",
    "            string = string[:i-1] + string[i+1:]\n",
    "\n",
    "            if i != 1:\n",
    "                i = 1\n",
    "        else:\n",
    "            i += 1\n",
    "    return string\n",
    "\n",
    "# Use stack\n",
    "def remove_duplicates_stackwise(string):\n",
    "    stack = []\n",
    "    for char in string:\n",
    "        if stack and stack[-1] == char:\n",
    "            stack.pop()\n",
    "        else:\n",
    "            stack.append(char)\n",
    "\n",
    "    return ''.join(stack)"
   ]
  },
  {
   "cell_type": "code",
   "execution_count": 16,
   "metadata": {},
   "outputs": [
    {
     "data": {
      "text/plain": [
       "['bac', 'cd', 'ca']"
      ]
     },
     "execution_count": 16,
     "metadata": {},
     "output_type": "execute_result"
    }
   ],
   "source": [
    "test_cases = [\n",
    "              \"aabac\",   # \"bac\"\n",
    "              \"aabbcd\",  # \"cd\"\n",
    "              \"abbaca\",   # \"ca\"             \n",
    "             ]\n",
    "\n",
    "[remove_duplicates_stackwise(case) for case in test_cases]"
   ]
  },
  {
   "cell_type": "markdown",
   "metadata": {},
   "source": [
    "---"
   ]
  },
  {
   "cell_type": "markdown",
   "metadata": {},
   "source": [
    "#### Use **Java** (`iJava` kernel)"
   ]
  },
  {
   "cell_type": "code",
   "execution_count": 17,
   "metadata": {},
   "outputs": [],
   "source": [
    "import java.util.*;\n",
    "\n",
    "public String removeDuplicates(String input){\n",
    "    \n",
    "    char[] charArray = input.toCharArray();\n",
    "    Stack<Character> stack = new Stack();\n",
    "        \n",
    "    for (char c :charArray) {\n",
    "        if (!stack.isEmpty() && stack.peek() == c) {\n",
    "            stack.pop();\n",
    "        } else {\n",
    "            stack.push(c);\n",
    "        }\n",
    "    }\n",
    "    \n",
    "    StringBuilder sb = new StringBuilder();\n",
    "    for (char each: stack){\n",
    "        sb.append(each);\n",
    "    }\n",
    "    \n",
    "    return sb.toString();\n",
    "}"
   ]
  },
  {
   "cell_type": "code",
   "execution_count": 18,
   "metadata": {},
   "outputs": [
    {
     "data": {
      "text/plain": [
       "ca"
      ]
     },
     "execution_count": 18,
     "metadata": {},
     "output_type": "execute_result"
    }
   ],
   "source": [
    "String testCase = \"abbaca\";\n",
    "removeDuplicates(testCase);"
   ]
  },
  {
   "cell_type": "markdown",
   "metadata": {},
   "source": [
    "---"
   ]
  },
  {
   "cell_type": "markdown",
   "metadata": {},
   "source": [
    "#### Use **Scala** (`almond` kernel)"
   ]
  },
  {
   "cell_type": "code",
   "execution_count": 1,
   "metadata": {},
   "outputs": [
    {
     "data": {
      "text/plain": [
       "\u001b[32mimport \u001b[39m\u001b[36mjava.util._\n",
       "\n",
       "\u001b[39m\r\n",
       "defined \u001b[32mfunction\u001b[39m \u001b[36mremoveDuplicates\u001b[39m"
      ]
     },
     "execution_count": 1,
     "metadata": {},
     "output_type": "execute_result"
    }
   ],
   "source": [
    "import java.util._\n",
    "\n",
    "def removeDuplicates(input: String): String ={\n",
    "    val charArray: Array[Char] = input.toCharArray()\n",
    "    val stack: Stack[Character] = new Stack()\n",
    "    \n",
    "    for (c <- charArray){\n",
    "        if (!stack.isEmpty() && stack.peek() == c) {\n",
    "            stack.pop()\n",
    "        } else{\n",
    "            stack.push(c)\n",
    "        }\n",
    "    }\n",
    "    val sb: StringBuilder = new StringBuilder()\n",
    "    while (!stack.isEmpty()) {\n",
    "        sb.append(stack.pop())\n",
    "    }\n",
    "    \n",
    "    sb.mkString.reverse\n",
    "    \n",
    "}"
   ]
  },
  {
   "cell_type": "code",
   "execution_count": 2,
   "metadata": {},
   "outputs": [
    {
     "data": {
      "text/plain": [
       "\u001b[36mtestCase\u001b[39m: \u001b[32mString\u001b[39m = \u001b[32m\"abbaca\"\u001b[39m\r\n",
       "\u001b[36mres1_1\u001b[39m: \u001b[32mString\u001b[39m = \u001b[32m\"ca\"\u001b[39m"
      ]
     },
     "execution_count": 2,
     "metadata": {},
     "output_type": "execute_result"
    }
   ],
   "source": [
    "val testCase:String = \"abbaca\"\n",
    "removeDuplicates(testCase)"
   ]
  },
  {
   "cell_type": "markdown",
   "metadata": {},
   "source": [
    "---"
   ]
  }
 ],
 "metadata": {
  "kernelspec": {
   "display_name": "Python 3",
   "language": "python",
   "name": "python3"
  },
  "language_info": {
   "codemirror_mode": {
    "name": "ipython",
    "version": 3
   },
   "file_extension": ".py",
   "mimetype": "text/x-python",
   "name": "python",
   "nbconvert_exporter": "python",
   "pygments_lexer": "ipython3",
   "version": "3.7.5"
  }
 },
 "nbformat": 4,
 "nbformat_minor": 4
}
