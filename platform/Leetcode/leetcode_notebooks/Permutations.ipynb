{
 "cells": [
  {
   "cell_type": "markdown",
   "metadata": {},
   "source": [
    "## [Medium] [#46](https://leetcode.com/problems/permutations/)\n",
    "### `Permutations`\n",
    "Given a collection of distinct integers, return all possible permutations.\n",
    "  \n",
    "Example:\n",
    "  \n",
    "Input: [1,2,3]  \n",
    "Output:\n",
    "[  \n",
    "  [1,2,3],  \n",
    "  [1,3,2],  \n",
    "  [2,1,3],  \n",
    "  [2,3,1],  \n",
    "  [3,1,2],  \n",
    "  [3,2,1]  \n",
    "]  "
   ]
  },
  {
   "cell_type": "markdown",
   "metadata": {},
   "source": [
    "#### Use `Python` kernel"
   ]
  },
  {
   "cell_type": "code",
   "execution_count": 22,
   "metadata": {},
   "outputs": [],
   "source": [
    "# Use itertools\n",
    "from itertools import permutations\n",
    "def permute_easy(number_list):\n",
    "    return [list(each) for each in permutations(number_list, len(number_list))]\n",
    "\n",
    "# Use recursion + list comprehension\n",
    "def permute_simple(nums):\n",
    "    \n",
    "    if len(nums) == 1:\n",
    "        return [nums]\n",
    "        \n",
    "    else:\n",
    "        return  [[nums[idx]] + each for idx in range(len(nums)) for each in permute([num for num in nums if (num != nums[idx])]) ] \n",
    "\n",
    "# Use recursion and explicit\n",
    "def permute(nums):\n",
    "    if len(nums) == 1:\n",
    "        return [nums]\n",
    "    \n",
    "    output = []\n",
    "    for idx in range(len(nums)):\n",
    "\n",
    "        temp_nums = []\n",
    "        for num in nums:\n",
    "            if (num != nums[idx]):\n",
    "                temp_nums.append(num)\n",
    "                    \n",
    "        for each in permute(temp_nums): \n",
    "            output.append([nums[idx]] + each)            \n",
    "    \n",
    "    return output"
   ]
  },
  {
   "cell_type": "code",
   "execution_count": 23,
   "metadata": {},
   "outputs": [
    {
     "data": {
      "text/plain": [
       "[[1, 2, 3], [1, 3, 2], [2, 1, 3], [2, 3, 1], [3, 1, 2], [3, 2, 1]]"
      ]
     },
     "execution_count": 23,
     "metadata": {},
     "output_type": "execute_result"
    }
   ],
   "source": [
    "permute([1,2,3])"
   ]
  },
  {
   "cell_type": "code",
   "execution_count": 14,
   "metadata": {},
   "outputs": [
    {
     "data": {
      "text/plain": [
       "[[[1]],\n",
       " [[1, 2], [2, 1]],\n",
       " [[1, 2, 3], [1, 3, 2], [2, 1, 3], [2, 3, 1], [3, 1, 2], [3, 2, 1]]]"
      ]
     },
     "execution_count": 14,
     "metadata": {},
     "output_type": "execute_result"
    }
   ],
   "source": [
    "test_cases = [[1],[1,2],[1,2,3]]\n",
    "[permute(case) for case in test_cases]"
   ]
  },
  {
   "cell_type": "markdown",
   "metadata": {},
   "source": [
    "---"
   ]
  },
  {
   "cell_type": "markdown",
   "metadata": {},
   "source": [
    "#### Use **Java** (`iJava` kernel)"
   ]
  },
  {
   "cell_type": "code",
   "execution_count": 15,
   "metadata": {},
   "outputs": [
    {
     "data": {
      "text/plain": [
       "[[1, 2, 3], [1, 3, 2], [2, 1, 3], [2, 3, 1], [3, 1, 2], [3, 2, 1]]"
      ]
     },
     "execution_count": 15,
     "metadata": {},
     "output_type": "execute_result"
    }
   ],
   "source": [
    "import java.util.ArrayList;\n",
    "\n",
    "public ArrayList<ArrayList<Integer>> permute(ArrayList<Integer> numbers) {\n",
    "    ArrayList<ArrayList<Integer>> output = new ArrayList<ArrayList<Integer>>();\n",
    "        \n",
    "    if (numbers.size() == 1) {\n",
    "        output.add(numbers);\n",
    "    } else {\n",
    "        for (int idx=0; idx < numbers.size(); idx++) {\n",
    "            \n",
    "            // make new ArrayList of numbers without a specific number\n",
    "            ArrayList<Integer> tempNumbers = new ArrayList<Integer>();\n",
    "            for (Integer num: numbers) {\n",
    "                if (num != numbers.get(idx)) {\n",
    "                    tempNumbers.add(num);\n",
    "                }\n",
    "            }\n",
    "            \n",
    "            // iterate over temp ArrayList\n",
    "            for (ArrayList<Integer> each: permute(tempNumbers)) {\n",
    "                ArrayList<Integer> leftArray = new ArrayList<Integer>();            \n",
    "                leftArray.add(numbers.get(idx));\n",
    "                leftArray.addAll(each);\n",
    "                \n",
    "                output.add(leftArray);\n",
    "            }\n",
    "         }\n",
    "    }\n",
    "    return output;\n",
    "    \n",
    "}\n",
    "\n",
    "ArrayList<Integer> testCase = new ArrayList<Integer>(Arrays.asList(1,2,3));\n",
    "permute(testCase)"
   ]
  },
  {
   "cell_type": "markdown",
   "metadata": {},
   "source": [
    "---"
   ]
  },
  {
   "cell_type": "markdown",
   "metadata": {},
   "source": [
    "#### Use **Scala** (`almond` kernel)"
   ]
  },
  {
   "cell_type": "code",
   "execution_count": 2,
   "metadata": {},
   "outputs": [
    {
     "data": {
      "text/plain": [
       "\u001b[32mimport \u001b[39m\u001b[36mjava.util._\n",
       "\u001b[39m\r\n",
       "\u001b[32mimport \u001b[39m\u001b[36mscala.collection.JavaConversions._\n",
       "\n",
       "\u001b[39m\r\n",
       "defined \u001b[32mfunction\u001b[39m \u001b[36mpermute\u001b[39m"
      ]
     },
     "execution_count": 2,
     "metadata": {},
     "output_type": "execute_result"
    }
   ],
   "source": [
    "import java.util._\n",
    "import scala.collection.JavaConversions._\n",
    "\n",
    "def permute(numbers: ArrayList[Integer]): ArrayList[ArrayList[Integer]] = {\n",
    "    \n",
    "    val output: ArrayList[ArrayList[Integer]] = new ArrayList[ArrayList[Integer]]()\n",
    "    if (numbers.size == 1) {\n",
    "        output.add(numbers)\n",
    "    } else {\n",
    "        for (idx <- 0 until numbers.size) {\n",
    "            \n",
    "            // make new ArrayList of numbers without a specific number\n",
    "            val tempNumbers: ArrayList[Integer] = new ArrayList[Integer]()\n",
    "            for (num <- numbers) {\n",
    "                if (num != numbers.get(idx)) {\n",
    "                    tempNumbers.add(num)\n",
    "                }  \n",
    "            } \n",
    "\n",
    "            // iterate over temp ArrayList\n",
    "            for (each <- permute(tempNumbers)) {\n",
    "            val leftArray: ArrayList[Integer] = new ArrayList[Integer]()\n",
    "              leftArray.add(numbers.get(idx))\n",
    "              leftArray.addAll(each)\n",
    "              output.add(leftArray)\n",
    "            }\n",
    "        }\n",
    "    }\n",
    "    output\n",
    "}\n"
   ]
  },
  {
   "cell_type": "markdown",
   "metadata": {},
   "source": [
    "---"
   ]
  }
 ],
 "metadata": {
  "kernelspec": {
   "display_name": "Scala 2.12.8",
   "language": "scala",
   "name": "scala_2_12_8"
  },
  "language_info": {
   "codemirror_mode": "text/x-scala",
   "file_extension": ".scala",
   "mimetype": "text/x-scala",
   "name": "scala",
   "nbconvert_exporter": "script",
   "version": "2.12.8"
  }
 },
 "nbformat": 4,
 "nbformat_minor": 4
}
