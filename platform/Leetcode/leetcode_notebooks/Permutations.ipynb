{
 "cells": [
  {
   "cell_type": "markdown",
   "metadata": {},
   "source": [
    "## [Medium] [#46](https://leetcode.com/problems/permutations/)\n",
    "### `Permutations`\n",
    "Given a collection of distinct integers, return all possible permutations.\n",
    "  \n",
    "Example:\n",
    "  \n",
    "Input: [1,2,3]  \n",
    "Output:\n",
    "[  \n",
    "  [1,2,3],  \n",
    "  [1,3,2],  \n",
    "  [2,1,3],  \n",
    "  [2,3,1],  \n",
    "  [3,1,2],  \n",
    "  [3,2,1]  \n",
    "]  "
   ]
  },
  {
   "cell_type": "markdown",
   "metadata": {},
   "source": [
    "#### Use `Python` kernel"
   ]
  },
  {
   "cell_type": "code",
   "execution_count": 86,
   "metadata": {},
   "outputs": [],
   "source": [
    "# Use itertools\n",
    "from itertools import permutations\n",
    "def permute_easy(number_list):\n",
    "    return [list(each) for each in permutations(number_list, len(number_list))]\n",
    "\n",
    "# Use recursion\n",
    "def permute(nums):\n",
    "    \n",
    "    if len(nums) == 1:\n",
    "        return [nums]\n",
    "    \n",
    "    elif len(nums) == 2:\n",
    "        return [[nums[0],nums[1]] , [nums[1],nums[0]]]\n",
    "    \n",
    "    else:\n",
    "        return  [[nums[idx]] + each for idx in range(len(nums)) for each in permute([num for num in nums if (num != nums[idx])]) ] \n"
   ]
  },
  {
   "cell_type": "code",
   "execution_count": 87,
   "metadata": {},
   "outputs": [
    {
     "data": {
      "text/plain": [
       "[[[1]],\n",
       " [[1, 2], [2, 1]],\n",
       " [[1, 2, 3], [1, 3, 2], [2, 1, 3], [2, 3, 1], [3, 1, 2], [3, 2, 1]]]"
      ]
     },
     "execution_count": 87,
     "metadata": {},
     "output_type": "execute_result"
    }
   ],
   "source": [
    "test_cases = [[1],[1,2],[1,2,3]]\n",
    "[permute(case) for case in test_cases]"
   ]
  },
  {
   "cell_type": "markdown",
   "metadata": {},
   "source": [
    "---"
   ]
  },
  {
   "cell_type": "markdown",
   "metadata": {},
   "source": [
    "#### Use **Java** (`iJava` kernel)"
   ]
  },
  {
   "cell_type": "code",
   "execution_count": null,
   "metadata": {},
   "outputs": [],
   "source": []
  },
  {
   "cell_type": "markdown",
   "metadata": {},
   "source": [
    "---"
   ]
  },
  {
   "cell_type": "markdown",
   "metadata": {},
   "source": [
    "#### Use **Scala** (`almond` kernel)"
   ]
  },
  {
   "cell_type": "code",
   "execution_count": null,
   "metadata": {},
   "outputs": [],
   "source": []
  },
  {
   "cell_type": "markdown",
   "metadata": {},
   "source": [
    "---"
   ]
  }
 ],
 "metadata": {
  "kernelspec": {
   "display_name": "Python 3",
   "language": "python",
   "name": "python3"
  },
  "language_info": {
   "codemirror_mode": {
    "name": "ipython",
    "version": 3
   },
   "file_extension": ".py",
   "mimetype": "text/x-python",
   "name": "python",
   "nbconvert_exporter": "python",
   "pygments_lexer": "ipython3",
   "version": "3.7.5"
  }
 },
 "nbformat": 4,
 "nbformat_minor": 4
}
