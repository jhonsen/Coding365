{
 "cells": [
  {
   "cell_type": "markdown",
   "metadata": {},
   "source": [
    "## [Easy] [#1221](https://leetcode.com/problems/split-a-string-in-balanced-strings/)\n",
    "### `Split Balanced String`\n",
    "Balanced strings are those who have equal quantity of 'L' and 'R' characters.\n",
    "\n",
    "Given a balanced string s split it in the maximum amount of balanced strings.\n",
    "\n",
    "Return the maximum amount of splitted balanced strings.\n",
    "  \n",
    "\n",
    "**Example 1:**  \n",
    "Input: s = \"RLRRLLRLRL\"  \n",
    "Output: 4  \n",
    "Explanation: s can be split into \"RL\", \"RRLL\", \"RL\", \"RL\", each substring contains same number of 'L' and 'R'.  \n",
    "  \n",
    "**Example 2:**  \n",
    "Input: s = \"RLLLLRRRLR\"  \n",
    "Output: 3  \n",
    "Explanation: s can be split into \"RL\", \"LLLRRR\", \"LR\", each substring contains same number of 'L' and 'R'.  \n",
    "  \n",
    "**Example 3:**  \n",
    "Input: s = \"LLLLRRRR\"  \n",
    "Output: 1  \n",
    "Explanation: s can be split into \"LLLLRRRR\".  \n",
    "  \n",
    "**Example 4:**  \n",
    "Input: s = \"RLRRRLLRLL\"  \n",
    "Output: 2  \n",
    "Explanation: s can be split into \"RL\", \"RRRLLRLL\", since each substring contains an equal number of 'L' and 'R'  "
   ]
  },
  {
   "cell_type": "markdown",
   "metadata": {},
   "source": [
    "#### Use `Python` kernel"
   ]
  },
  {
   "cell_type": "code",
   "execution_count": 12,
   "metadata": {},
   "outputs": [],
   "source": [
    "def split_balanced_string(string):\n",
    "    \n",
    "    total_cnt = 0\n",
    "    leader_counter = 0\n",
    "    \n",
    "    ind = 0\n",
    "    leader = string[0]\n",
    "    while ind < len(string):\n",
    "        if string[ind] == leader:\n",
    "            leader_counter += 1            \n",
    "        else:\n",
    "            leader_counter -= 1            \n",
    "\n",
    "        if leader_counter == 0:\n",
    "            total_cnt += 1\n",
    "\n",
    "        ind += 1\n",
    "    \n",
    "    return total_cnt"
   ]
  },
  {
   "cell_type": "code",
   "execution_count": 13,
   "metadata": {},
   "outputs": [
    {
     "data": {
      "text/plain": [
       "[1, 2, 4, 2, 4, 3]"
      ]
     },
     "execution_count": 13,
     "metadata": {},
     "output_type": "execute_result"
    }
   ],
   "source": [
    "test_cases = [\"RL\",            # 1\n",
    "              \"RRLLLR\",        # 2\n",
    "              \"RLRRLLRLRL\",    # 4\n",
    "              \"RLRRLRLL\",      # 2\n",
    "              \"RLRRLLRLRL\",    # 4\n",
    "              \"RLLLLRRRLR\",    # 3\n",
    "             ]\n",
    "\n",
    "[split_balanced_string(case) for case in test_cases]"
   ]
  },
  {
   "cell_type": "markdown",
   "metadata": {},
   "source": [
    "---"
   ]
  },
  {
   "cell_type": "markdown",
   "metadata": {},
   "source": [
    "#### Use **Java** (`iJava` kernel)"
   ]
  },
  {
   "cell_type": "code",
   "execution_count": 24,
   "metadata": {},
   "outputs": [
    {
     "data": {
      "text/plain": [
       "3"
      ]
     },
     "execution_count": 24,
     "metadata": {},
     "output_type": "execute_result"
    }
   ],
   "source": [
    "import java.util.Arrays;\n",
    "import java.util.ArrayList;\n",
    "\n",
    "public int splitBalancedString(String something) {\n",
    "    \n",
    "    ArrayList<String> letterArray = new ArrayList<String>(Arrays.asList(something.split(\"\")));\n",
    "    int total_counter = 0;\n",
    "    int leader_counter = 0;\n",
    "    \n",
    "    \n",
    "    String leader = String.valueOf(something.charAt(0));\n",
    "    int ind = 0;\n",
    "    while (ind < letterArray.size()) {\n",
    "\n",
    "        String let = letterArray.get(ind);\n",
    "        if (let.equals(leader)) {\n",
    "            leader_counter +=1;  \n",
    "        } else {\n",
    "            leader_counter -= 1;\n",
    "        }\n",
    "        \n",
    "        if (leader_counter == 0) {\n",
    "            total_counter += 1;\n",
    "            }\n",
    "        ind++;\n",
    "            \n",
    "        }\n",
    "        return total_counter;\n",
    "    }\n",
    "\n",
    "String testCase = \"RLLLLRRRLR\";\n",
    "splitBalancedString(testCase);"
   ]
  },
  {
   "cell_type": "markdown",
   "metadata": {},
   "source": [
    "---"
   ]
  },
  {
   "cell_type": "markdown",
   "metadata": {},
   "source": [
    "#### Use **Scala** (`almond` kernel)"
   ]
  },
  {
   "cell_type": "code",
   "execution_count": 7,
   "metadata": {},
   "outputs": [
    {
     "data": {
      "text/plain": [
       "\u001b[32mimport \u001b[39m\u001b[36mjava.util._  \n",
       "\u001b[39m\r\n",
       "defined \u001b[32mfunction\u001b[39m \u001b[36msplitBalancedString\u001b[39m\r\n",
       "\u001b[36mtestCase\u001b[39m: \u001b[32mString\u001b[39m = \u001b[32m\"RLLLLRRRLR\"\u001b[39m\r\n",
       "\u001b[36mres6_3\u001b[39m: \u001b[32mInt\u001b[39m = \u001b[32m3\u001b[39m"
      ]
     },
     "execution_count": 7,
     "metadata": {},
     "output_type": "execute_result"
    }
   ],
   "source": [
    "import java.util._  \n",
    "def splitBalancedString(something: String): Int = {\n",
    "    val letterArray: ArrayList[String] = new ArrayList[String](Arrays.asList(something.split(\"\"): _*))\n",
    "    var total_counter: Int = 0\n",
    "    var leader_counter: Int = 0\n",
    "    val leader: String = String.valueOf(something.charAt(0))\n",
    "    var ind: Int = 0\n",
    "    while (ind < letterArray.size) {\n",
    "        val let: String = letterArray.get(ind)\n",
    "        if (let == leader) {\n",
    "            leader_counter += 1\n",
    "        } else {\n",
    "            leader_counter -= 1\n",
    "        }\n",
    "        \n",
    "        if (leader_counter == 0) {\n",
    "            total_counter += 1\n",
    "        }\n",
    "        { ind += 1}\n",
    "    }\n",
    "    total_counter\n",
    "}\n",
    "\n",
    "val testCase: String = \"RLLLLRRRLR\"\n",
    "splitBalancedString(testCase)"
   ]
  },
  {
   "cell_type": "markdown",
   "metadata": {},
   "source": [
    "---"
   ]
  }
 ],
 "metadata": {
  "kernelspec": {
   "display_name": "Python 3",
   "language": "python",
   "name": "python3"
  },
  "language_info": {
   "codemirror_mode": "text/x-scala",
   "file_extension": ".scala",
   "mimetype": "text/x-scala",
   "name": "scala",
   "nbconvert_exporter": "script",
   "version": "2.12.8"
  }
 },
 "nbformat": 4,
 "nbformat_minor": 4
}
