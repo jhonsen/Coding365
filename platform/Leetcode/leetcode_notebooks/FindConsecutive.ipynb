{
 "cells": [
  {
   "cell_type": "markdown",
   "metadata": {},
   "source": [
    "## [Easy] [#1550](https://leetcode.com/problems/three-consecutive-odds/)\n",
    "### `Three Consecutive Odds`\n",
    "  \n",
    "\n",
    "Given an integer array arr, return true if there are three consecutive odd numbers in the array. Otherwise, return false.\n",
    " \n",
    "\n",
    "Example 1:  \n",
    "Input: arr = [2,6,4,1]  \n",
    "Output: false   \n",
    "Explanation: There are no three consecutive odds.  \n",
    "\n",
    "Example 2:  \n",
    "Input: arr = [1,2,34,3,4,5,7,23,12]  \n",
    "Output: true   \n",
    "Explanation: [5,7,23] are three consecutive odds.  \n",
    " \n",
    "\n",
    "Constraints:  \n",
    "\n",
    "1 <= arr.length <= 1000  \n",
    "1 <= arr[i] <= 1000  "
   ]
  },
  {
   "cell_type": "markdown",
   "metadata": {},
   "source": [
    "---"
   ]
  },
  {
   "cell_type": "markdown",
   "metadata": {},
   "source": [
    "#### Use **Python** kernel"
   ]
  },
  {
   "cell_type": "code",
   "execution_count": 2,
   "metadata": {},
   "outputs": [],
   "source": [
    "def find_consecutive(numbers):\n",
    "    \n",
    "    flag = False\n",
    "    \n",
    "    current_num = 0\n",
    "    current_ind = 0\n",
    "    \n",
    "    counters = 3\n",
    "    \n",
    "    for ind,num in enumerate(numbers):\n",
    "        \n",
    "        if counters == 0:\n",
    "            return True\n",
    "        \n",
    "        if (num % 2 != 0) & (counters != 0):\n",
    "            \n",
    "            counters -= 1\n",
    "            \n",
    "        else:\n",
    "            counters = 3\n",
    "            \n",
    "\n",
    "    return False"
   ]
  },
  {
   "cell_type": "code",
   "execution_count": 3,
   "metadata": {},
   "outputs": [
    {
     "data": {
      "text/plain": [
       "[False, True]"
      ]
     },
     "execution_count": 3,
     "metadata": {},
     "output_type": "execute_result"
    }
   ],
   "source": [
    "tests = [\n",
    "        [2,6,4,1],               # false\n",
    "        [1,2,34,3,4,5,7,23,12],  # true\n",
    "        ]\n",
    "\n",
    "[find_consecutive(case) for case in tests]"
   ]
  },
  {
   "cell_type": "code",
   "execution_count": null,
   "metadata": {},
   "outputs": [],
   "source": []
  }
 ],
 "metadata": {
  "kernelspec": {
   "display_name": "Python 3",
   "language": "python",
   "name": "python3"
  },
  "language_info": {
   "codemirror_mode": {
    "name": "ipython",
    "version": 3
   },
   "file_extension": ".py",
   "mimetype": "text/x-python",
   "name": "python",
   "nbconvert_exporter": "python",
   "pygments_lexer": "ipython3",
   "version": "3.7.5"
  }
 },
 "nbformat": 4,
 "nbformat_minor": 4
}
