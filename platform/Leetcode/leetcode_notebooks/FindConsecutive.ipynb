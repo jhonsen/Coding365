{
 "cells": [
  {
   "cell_type": "markdown",
   "metadata": {},
   "source": [
    "## [Easy] [#1550](https://leetcode.com/problems/three-consecutive-odds/)\n",
    "### `Three Consecutive Odds`\n",
    "  \n",
    "\n",
    "Given an integer array arr, return true if there are three consecutive odd numbers in the array. Otherwise, return false.\n",
    " \n",
    "\n",
    "Example 1:  \n",
    "Input: arr = [2,6,4,1]  \n",
    "Output: false   \n",
    "Explanation: There are no three consecutive odds.  \n",
    "\n",
    "Example 2:  \n",
    "Input: arr = [1,2,34,3,4,5,7,23,12]  \n",
    "Output: true   \n",
    "Explanation: [5,7,23] are three consecutive odds.  \n",
    " \n",
    "\n",
    "Constraints:  \n",
    "\n",
    "1 <= arr.length <= 1000  \n",
    "1 <= arr[i] <= 1000  "
   ]
  },
  {
   "cell_type": "markdown",
   "metadata": {},
   "source": [
    "---"
   ]
  },
  {
   "cell_type": "markdown",
   "metadata": {},
   "source": [
    "#### Use **Python** kernel"
   ]
  },
  {
   "cell_type": "code",
   "execution_count": 23,
   "metadata": {},
   "outputs": [],
   "source": [
    "def find_consecutive(numbers):        \n",
    "    counters = 3\n",
    "    \n",
    "    for num in numbers:\n",
    "        if counters == 0:\n",
    "            return True\n",
    "        \n",
    "        if (num % 2 != 0):    \n",
    "            counters -= 1\n",
    "        else:\n",
    "            counters = 3\n",
    "            \n",
    "    return False if counters != 0 else True\n"
   ]
  },
  {
   "cell_type": "code",
   "execution_count": 22,
   "metadata": {},
   "outputs": [
    {
     "data": {
      "text/plain": [
       "[True, False, True]"
      ]
     },
     "execution_count": 22,
     "metadata": {},
     "output_type": "execute_result"
    }
   ],
   "source": [
    "tests = [\n",
    "        [2,6,4,1],               # false\n",
    "        [1,2,34,3,4,5,7,23,12],  # true\n",
    "        [1,1,1],                 # true\n",
    "        ]\n",
    "\n",
    "[find_consecutive(case) for case in tests]"
   ]
  },
  {
   "cell_type": "markdown",
   "metadata": {},
   "source": [
    "---"
   ]
  },
  {
   "cell_type": "markdown",
   "metadata": {},
   "source": [
    "#### Use **Java** (`iJava` kernel)"
   ]
  },
  {
   "cell_type": "code",
   "execution_count": 1,
   "metadata": {},
   "outputs": [],
   "source": [
    "public boolean findConsecutive(int[] numbers) {\n",
    "    boolean output = true; \n",
    "    int counters = 3;\n",
    "    \n",
    "    for (int num: numbers) {\n",
    "        if (counters == 0) {\n",
    "            output = true;\n",
    "        } else {\n",
    "            counters = (num % 2 != 0) ? counters-1 : 3;\n",
    "        }\n",
    "        output = (counters != 0) ? false : true;\n",
    "    }\n",
    "  \n",
    "    return output;\n",
    "}\n",
    "\n",
    "// simple loop, https://leetcode.com/problems/three-consecutive-odds/discuss/794167/Java-Simple-Loop\n",
    "public boolean threeConsecutiveOdds(int[] arr) {\n",
    "        for (int i = 0, cnt = 0; i < arr.length; i++) {\n",
    "            if (arr[i] % 2 == 0) cnt = 0;\n",
    "            else if (++cnt == 3) return true;\n",
    "        }\n",
    "        return false;\n",
    "}"
   ]
  },
  {
   "cell_type": "code",
   "execution_count": 11,
   "metadata": {},
   "outputs": [
    {
     "data": {
      "text/plain": [
       "true"
      ]
     },
     "execution_count": 11,
     "metadata": {},
     "output_type": "execute_result"
    }
   ],
   "source": [
    "int[] testCase = {1,2,34,3,4,5,7,23,12};\n",
    "findConsecutive(testCase)"
   ]
  },
  {
   "cell_type": "markdown",
   "metadata": {},
   "source": [
    "---"
   ]
  },
  {
   "cell_type": "markdown",
   "metadata": {},
   "source": [
    "#### Use **Scala** (`almond` kernel)"
   ]
  },
  {
   "cell_type": "code",
   "execution_count": 6,
   "metadata": {},
   "outputs": [
    {
     "data": {
      "text/plain": [
       "defined \u001b[32mfunction\u001b[39m \u001b[36mfindConsecutive\u001b[39m"
      ]
     },
     "execution_count": 6,
     "metadata": {},
     "output_type": "execute_result"
    }
   ],
   "source": [
    "def findConsecutive(numbers: Array[Int]):Boolean = {\n",
    "    var output:Boolean = true\n",
    "    var counters:Int = 3\n",
    "\n",
    "    for (num <- numbers) {\n",
    "        if (counters == 0) {\n",
    "            output = true\n",
    "        } else {\n",
    "            counters = if (num % 2 !=0) counters-1 else 3\n",
    "        }\n",
    "        output = if (counters != 0) false else true\n",
    "    }\n",
    "    output\n",
    "}"
   ]
  },
  {
   "cell_type": "code",
   "execution_count": 5,
   "metadata": {},
   "outputs": [
    {
     "data": {
      "text/plain": [
       "\u001b[36mtestCase\u001b[39m: \u001b[32mArray\u001b[39m[\u001b[32mInt\u001b[39m] = \u001b[33mArray\u001b[39m(\u001b[32m1\u001b[39m, \u001b[32m2\u001b[39m, \u001b[32m34\u001b[39m, \u001b[32m3\u001b[39m, \u001b[32m4\u001b[39m, \u001b[32m5\u001b[39m, \u001b[32m7\u001b[39m, \u001b[32m23\u001b[39m, \u001b[32m12\u001b[39m)\r\n",
       "\u001b[36mres4_1\u001b[39m: \u001b[32mBoolean\u001b[39m = true"
      ]
     },
     "execution_count": 5,
     "metadata": {},
     "output_type": "execute_result"
    }
   ],
   "source": [
    "val testCase:Array[Int] = Array(1,2,34,3,4,5,7,23,12)\n",
    "findConsecutive(testCase)"
   ]
  },
  {
   "cell_type": "markdown",
   "metadata": {},
   "source": [
    "---"
   ]
  }
 ],
 "metadata": {
  "kernelspec": {
   "display_name": "Java",
   "language": "java",
   "name": "java"
  },
  "language_info": {
   "codemirror_mode": "java",
   "file_extension": ".jshell",
   "mimetype": "text/x-java-source",
   "name": "Java",
   "pygments_lexer": "java",
   "version": "14.0.1+7"
  }
 },
 "nbformat": 4,
 "nbformat_minor": 4
}
