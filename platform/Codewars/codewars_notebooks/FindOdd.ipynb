{
 "cells": [
  {
   "cell_type": "markdown",
   "metadata": {},
   "source": [
    "## Codewars `Find Odd int` <6 kyu>\n",
    "- Taken from [here](https://www.codewars.com/kata/54da5a58ea159efa38000836/train/python)  \n",
    "  \n",
    "Given an array of integers, find the one that appears an odd number of times.\n",
    "\n",
    "There will always be only one integer that appears an odd number of times"
   ]
  },
  {
   "cell_type": "markdown",
   "metadata": {},
   "source": [
    "in `Python`"
   ]
  },
  {
   "cell_type": "code",
   "execution_count": 9,
   "metadata": {},
   "outputs": [],
   "source": [
    "from collections import Counter\n",
    "def find_it(numbers):\n",
    "    output = [key for key,val in Counter(numbers).items() if val % 2 != 0]\n",
    "    return output[0]"
   ]
  },
  {
   "cell_type": "code",
   "execution_count": 10,
   "metadata": {},
   "outputs": [
    {
     "data": {
      "text/plain": [
       "[5, -1, 5]"
      ]
     },
     "execution_count": 10,
     "metadata": {},
     "output_type": "execute_result"
    }
   ],
   "source": [
    "test_cases = [\n",
    "                [20,1,-1,2,-2,3,3,5,5,1,2,4,20,4,-1,-2,5], # 5\n",
    "                [1,1,2,-2,5,2,4,4,-1,-2,5],                # -1 \n",
    "                [20,1,1,2,2,3,3,5,5,4,20,4,5],             # 5\n",
    "                ]\n",
    "\n",
    "[find_it(case) for case in test_cases]"
   ]
  },
  {
   "cell_type": "markdown",
   "metadata": {},
   "source": [
    "---"
   ]
  },
  {
   "cell_type": "markdown",
   "metadata": {},
   "source": [
    "in `Java`, using **iJava** kernel"
   ]
  },
  {
   "cell_type": "code",
   "execution_count": 2,
   "metadata": {},
   "outputs": [],
   "source": [
    "import java.util.Map;\n",
    "import java.util.HashMap;\n",
    "\n",
    "public class Counter<T> {\n",
    "    final Map<T, Integer> counts = new HashMap<>();\n",
    "    \n",
    "    public void add(T t) {\n",
    "        counts.merge(t, 1, Integer::sum);\n",
    "    }\n",
    "    public int count(T t) {\n",
    "        return counts.getOrDefault(t, 0);\n",
    "    }\n",
    "}\n",
    "\n",
    "public int findIt(int[] numbers) {\n",
    "    \n",
    "    Counter<Integer> collector = new Counter<>();\n",
    "    for (int num:numbers){\n",
    "        collector.add(num);\n",
    "    }\n",
    "\n",
    "}"
   ]
  },
  {
   "cell_type": "code",
   "execution_count": null,
   "metadata": {},
   "outputs": [],
   "source": []
  }
 ],
 "metadata": {
  "kernelspec": {
   "display_name": "Java",
   "language": "java",
   "name": "java"
  },
  "language_info": {
   "codemirror_mode": "java",
   "file_extension": ".jshell",
   "mimetype": "text/x-java-source",
   "name": "Java",
   "pygments_lexer": "java",
   "version": "14.0.1+7"
  }
 },
 "nbformat": 4,
 "nbformat_minor": 4
}
