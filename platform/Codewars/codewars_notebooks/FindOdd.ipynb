{
 "cells": [
  {
   "cell_type": "markdown",
   "metadata": {},
   "source": [
    "## Codewars `Find Odd int` <6 kyu>\n",
    "- Taken from [here](https://www.codewars.com/kata/54da5a58ea159efa38000836/train/python)  \n",
    "  \n",
    "Given an array of integers, find the one that appears an odd number of times.\n",
    "\n",
    "There will always be only one integer that appears an odd number of times"
   ]
  },
  {
   "cell_type": "markdown",
   "metadata": {},
   "source": [
    "in `Python`"
   ]
  },
  {
   "cell_type": "code",
   "execution_count": 9,
   "metadata": {},
   "outputs": [],
   "source": [
    "from collections import Counter\n",
    "def find_it(numbers):\n",
    "    output = [key for key,val in Counter(numbers).items() if val % 2 != 0]\n",
    "    return output[0]"
   ]
  },
  {
   "cell_type": "code",
   "execution_count": 10,
   "metadata": {},
   "outputs": [
    {
     "data": {
      "text/plain": [
       "[5, -1, 5]"
      ]
     },
     "execution_count": 10,
     "metadata": {},
     "output_type": "execute_result"
    }
   ],
   "source": [
    "test_cases = [\n",
    "                [20,1,-1,2,-2,3,3,5,5,1,2,4,20,4,-1,-2,5], # 5\n",
    "                [1,1,2,-2,5,2,4,4,-1,-2,5],                # -1 \n",
    "                [20,1,1,2,2,3,3,5,5,4,20,4,5],             # 5\n",
    "                ]\n",
    "\n",
    "[find_it(case) for case in test_cases]"
   ]
  },
  {
   "cell_type": "markdown",
   "metadata": {},
   "source": [
    "---"
   ]
  },
  {
   "cell_type": "markdown",
   "metadata": {},
   "source": [
    "in `Java`, using **iJava** kernel"
   ]
  },
  {
   "cell_type": "code",
   "execution_count": 30,
   "metadata": {},
   "outputs": [],
   "source": [
    "import java.util.*;\n",
    "\n",
    "\n",
    "public class Counter<T> {\n",
    "    final Map<T, Integer> counts = new HashMap<>();\n",
    "    \n",
    "    public void add(T t) {\n",
    "        counts.merge(t, 1, Integer::sum);\n",
    "    }\n",
    "    public int count(T t) {\n",
    "        return counts.getOrDefault(t, 0);\n",
    "    }\n",
    "}\n",
    "\n",
    "public int findIt(int[] numbers) {\n",
    "    \n",
    "    Counter<Integer> collector = new Counter<>();\n",
    "    for (int num:numbers){\n",
    "        collector.add(num);\n",
    "    }\n",
    "    \n",
    "    Set<Integer> set = new HashSet<Integer>();\n",
    "    for(int i = 0; i < numbers.length; i++){\n",
    "        set.add(numbers[i]);\n",
    "    }\n",
    "    \n",
    "    int output = 0;\n",
    "    for (int i:set) {\n",
    "        if (collector.count(i) % 2 != 0) output = i;\n",
    "    }\n",
    "    \n",
    "    return output;\n",
    "}"
   ]
  },
  {
   "cell_type": "code",
   "execution_count": 31,
   "metadata": {},
   "outputs": [
    {
     "data": {
      "text/plain": [
       "-1"
      ]
     },
     "execution_count": 31,
     "metadata": {},
     "output_type": "execute_result"
    }
   ],
   "source": [
    "int[] nums = {1,1,2,-2,5,2,4,4,-1,-2,5};\n",
    "findIt(nums)"
   ]
  },
  {
   "cell_type": "markdown",
   "metadata": {},
   "source": [
    "---"
   ]
  }
 ],
 "metadata": {
  "kernelspec": {
   "display_name": "Scala 2.12.8",
   "language": "scala",
   "name": "scala_2_12_8"
  },
  "language_info": {
   "codemirror_mode": "text/x-scala",
   "file_extension": ".scala",
   "mimetype": "text/x-scala",
   "name": "scala",
   "nbconvert_exporter": "script",
   "version": "2.12.8"
  }
 },
 "nbformat": 4,
 "nbformat_minor": 4
}
