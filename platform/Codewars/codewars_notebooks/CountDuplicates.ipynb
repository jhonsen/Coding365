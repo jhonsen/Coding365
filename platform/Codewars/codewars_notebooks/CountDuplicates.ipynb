{
 "cells": [
  {
   "cell_type": "markdown",
   "metadata": {},
   "source": [
    "## Codewars `Counting Duplicates` <6 kyu>\n",
    "- Taken from [here](https://www.codewars.com/kata/54bf1c2cd5b56cc47f0007a1/train/python)\n",
    "  \n",
    "Count the number of Duplicates  \n",
    "Write a function that will return the count of distinct case-insensitive alphabetic characters and numeric digits that occur more than once in the input string. The input string can be assumed to contain only alphabets (both uppercase and lowercase) and numeric digits.  \n",
    "\n",
    "Example  \n",
    "\"abcde\" -> 0 # no characters repeats more than once  \n",
    "\"aabbcde\" -> 2 # 'a' and 'b'  \n",
    "\"aabBcde\" -> 2 # 'a' occurs twice and 'b' twice (`b` and `B`)  \n",
    "\"indivisibility\" -> 1 # 'i' occurs six times  \n",
    "\"Indivisibilities\" -> 2 # 'i' occurs seven times and 's' occurs twice  \n",
    "\"aA11\" -> 2 # 'a' and '1'  \n",
    "\"ABBA\" -> 2 # 'A' and 'B' each occur twice  \n"
   ]
  },
  {
   "cell_type": "markdown",
   "metadata": {},
   "source": [
    "#### Use **Python** kernel"
   ]
  },
  {
   "cell_type": "code",
   "execution_count": 1,
   "metadata": {},
   "outputs": [],
   "source": [
    "from collections import Counter\n",
    "def count_duplicates(string):\n",
    "    digits = Counter(string.lower())\n",
    "    counter = 0\n",
    "    for digit,num in digits.items():\n",
    "        if num > 1:\n",
    "            counter += 1\n",
    "    return counter\n",
    "    \n",
    "    "
   ]
  },
  {
   "cell_type": "code",
   "execution_count": 2,
   "metadata": {},
   "outputs": [
    {
     "data": {
      "text/plain": [
       "[0, 2, 2, 2]"
      ]
     },
     "execution_count": 2,
     "metadata": {},
     "output_type": "execute_result"
    }
   ],
   "source": [
    "test_cases = [\"abcde\",   # 0\n",
    "             \"aabbcde\",  # 2\n",
    "             \"aabBcde\",  # 2\n",
    "             \"Indivisibilities\", # 2\n",
    "             ]\n",
    "\n",
    "[count_duplicates(case) for case in test_cases]"
   ]
  },
  {
   "cell_type": "markdown",
   "metadata": {},
   "source": [
    "---"
   ]
  },
  {
   "cell_type": "markdown",
   "metadata": {},
   "source": [
    "#### Use **Java** (`iJava`) kernel"
   ]
  },
  {
   "cell_type": "code",
   "execution_count": 21,
   "metadata": {},
   "outputs": [],
   "source": [
    "import java.util.HashMap;\n",
    "\n",
    "public int countDuplicates(String word){\n",
    "    \n",
    "    char[] digits = word.toCharArray();\n",
    "    HashMap<Character, Integer> collection = new HashMap<Character,Integer>();\n",
    "    \n",
    "    for (char digit: digits) {\n",
    "        char c = Character.toLowerCase(digit);\n",
    "        if (!collection.containsKey(c)) {\n",
    "            collection.put(c, 1);\n",
    "        } else {\n",
    "            collection.put(c, collection.get(c)+1);\n",
    "        }\n",
    "    }\n",
    "    int counter = 0;\n",
    "    for (Map.Entry mapElement : collection.entrySet()) { \n",
    "        int value = (int)mapElement.getValue();\n",
    "        if (value > 1) {\n",
    "            counter++;\n",
    "        }\n",
    "    }\n",
    "    return counter;\n",
    "}"
   ]
  },
  {
   "cell_type": "code",
   "execution_count": 23,
   "metadata": {},
   "outputs": [
    {
     "data": {
      "text/plain": [
       "2"
      ]
     },
     "execution_count": 23,
     "metadata": {},
     "output_type": "execute_result"
    }
   ],
   "source": [
    "String testCase = \"Indivisibilities\";\n",
    "countDuplicates(testCase)"
   ]
  },
  {
   "cell_type": "markdown",
   "metadata": {},
   "source": [
    "---"
   ]
  },
  {
   "cell_type": "markdown",
   "metadata": {},
   "source": [
    "#### Use **Scala** (`almond`) kernel"
   ]
  },
  {
   "cell_type": "code",
   "execution_count": null,
   "metadata": {},
   "outputs": [],
   "source": []
  },
  {
   "cell_type": "markdown",
   "metadata": {},
   "source": [
    "---"
   ]
  }
 ],
 "metadata": {
  "kernelspec": {
   "display_name": "Java",
   "language": "java",
   "name": "java"
  },
  "language_info": {
   "codemirror_mode": "java",
   "file_extension": ".jshell",
   "mimetype": "text/x-java-source",
   "name": "Java",
   "pygments_lexer": "java",
   "version": "14.0.1+7"
  }
 },
 "nbformat": 4,
 "nbformat_minor": 4
}
