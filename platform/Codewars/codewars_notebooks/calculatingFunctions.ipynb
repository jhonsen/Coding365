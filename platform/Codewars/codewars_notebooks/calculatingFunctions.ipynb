{
 "cells": [
  {
   "cell_type": "markdown",
   "metadata": {},
   "source": [
    "## Codewars `Calculating with Functions` <5 kyu>\n",
    "- Taken from [here](https://www.codewars.com/kata/525f3eda17c7cd9f9e000b39/train/python)\n",
    "  \n",
    "This time we want to write calculations using functions and get the results. Let's have a look at some examples:\n",
    "  \n",
    "seven(times(five())) # must return 35  \n",
    "four(plus(nine())) # must return 13  \n",
    "eight(minus(three())) # must return 5  \n",
    "six(divided_by(two())) # must return 3  \n",
    "\n",
    "Requirements:\n",
    "  \n",
    "There must be a function for each number from 0 (\"zero\") to 9 (\"nine\")  \n",
    "There must be a function for each of the following mathematical operations: plus, minus, times, dividedBy (divided_by in Ruby and Python)  \n",
    "Each calculation consist of exactly one operation and two numbers  \n",
    "The most outer function represents the left operand, the most inner function represents the right operand  \n",
    "Divison should be integer division. For example, this should return 2, not 2.666666...:  \n",
    "eight(divided_by(three()))  \n"
   ]
  },
  {
   "cell_type": "markdown",
   "metadata": {},
   "source": [
    "#### Use **Python** kernel"
   ]
  },
  {
   "cell_type": "code",
   "execution_count": 31,
   "metadata": {},
   "outputs": [],
   "source": [
    "def one(func=None): return func(1) if func else 1 \n",
    "def two(func=None): return func(2) if func else 2\n",
    "def three(func=None): return func(3) if func else 1 \n",
    "def four(func=None): return func(4) if func else 2\n",
    "def five(func=None): return func(5) if func else 1 \n",
    "def six(func=None): return func(6) if func else 2\n",
    "def seven(func=None): return func(7) if func else 1 \n",
    "def eight(func=None): return func(8) if func else 2\n",
    "def nine(func=None): return func(9) if func else 1 \n",
    "\n",
    "def plus(y): return lambda x: x + y\n",
    "def minus(y): return lambda x: x - y\n",
    "def times(y): return lambda x: x * y\n",
    "def divided_by(y): return lambda x: x / y"
   ]
  },
  {
   "cell_type": "code",
   "execution_count": 50,
   "metadata": {},
   "outputs": [
    {
     "data": {
      "text/plain": [
       "5"
      ]
     },
     "execution_count": 50,
     "metadata": {},
     "output_type": "execute_result"
    }
   ],
   "source": [
    "three(plus(two()))"
   ]
  },
  {
   "cell_type": "code",
   "execution_count": 48,
   "metadata": {},
   "outputs": [
    {
     "data": {
      "text/plain": [
       "5"
      ]
     },
     "execution_count": 48,
     "metadata": {},
     "output_type": "execute_result"
    }
   ],
   "source": [
    "plus(two())(3)"
   ]
  },
  {
   "cell_type": "markdown",
   "metadata": {},
   "source": [
    "---"
   ]
  }
 ],
 "metadata": {
  "kernelspec": {
   "display_name": "Scala 2.12.8",
   "language": "scala",
   "name": "scala_2_12_8"
  },
  "language_info": {
   "codemirror_mode": "text/x-scala",
   "file_extension": ".scala",
   "mimetype": "text/x-scala",
   "name": "scala",
   "nbconvert_exporter": "script",
   "version": "2.12.8"
  }
 },
 "nbformat": 4,
 "nbformat_minor": 4
}
