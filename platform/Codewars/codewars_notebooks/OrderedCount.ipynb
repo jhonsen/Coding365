{
 "cells": [
  {
   "cell_type": "markdown",
   "metadata": {},
   "source": [
    "## Codewars `Ordered Count of Character` <7 kyu>\n",
    "- Taken from [here](https://www.codewars.com/kata/57a6633153ba33189e000074/train/python)\n",
    "  \n",
    "Count the number of occurrences of each character and return it as a list of tuples in order of appearance. For empty output return an empty list.\n",
    "\n",
    "Example:\n",
    "\n",
    "ordered_count(\"abracadabra\") == [('a', 5), ('b', 2), ('r', 2), ('c', 1), ('d', 1)]"
   ]
  },
  {
   "cell_type": "markdown",
   "metadata": {},
   "source": [
    "#### Use **Python** kernel"
   ]
  },
  {
   "cell_type": "code",
   "execution_count": 16,
   "metadata": {},
   "outputs": [],
   "source": [
    "from collections import Counter\n",
    "def ordered_count(string):\n",
    "    collect = Counter(list(string)) \n",
    "    return [(key,val) for key,val in collect.items()]\n",
    "\n",
    "def ordered_count(string):\n",
    "    return [*Counter(string).items()]\n"
   ]
  },
  {
   "cell_type": "code",
   "execution_count": 17,
   "metadata": {},
   "outputs": [
    {
     "data": {
      "text/plain": [
       "[[('a', 5), ('b', 2), ('r', 2), ('c', 1), ('d', 1)],\n",
       " [('C', 1),\n",
       "  ('o', 1),\n",
       "  ('d', 1),\n",
       "  ('e', 1),\n",
       "  (' ', 1),\n",
       "  ('W', 1),\n",
       "  ('a', 1),\n",
       "  ('r', 1),\n",
       "  ('s', 1)]]"
      ]
     },
     "execution_count": 17,
     "metadata": {},
     "output_type": "execute_result"
    }
   ],
   "source": [
    "test_cases = [\n",
    "             \"abracadabra\", # [('a', 5), ('b', 2), ('r', 2), ('c', 1), ('d', 1)],  \n",
    "             \"Code Wars\",   # [('C', 1), ('o', 1), ('d', 1), ('e', 1), (' ', 1), ('W', 1), ('a', 1), ('r', 1), ('s', 1)]\n",
    "]\n",
    "\n",
    "[ordered_count(case) for case in test_cases]"
   ]
  },
  {
   "cell_type": "markdown",
   "metadata": {},
   "source": [
    "---"
   ]
  },
  {
   "cell_type": "markdown",
   "metadata": {},
   "source": [
    "#### Use **Java** (`iJava`) kernel"
   ]
  },
  {
   "cell_type": "code",
   "execution_count": 17,
   "metadata": {},
   "outputs": [
    {
     "data": {
      "text/plain": [
       "[{a=5}, {b=2}, {r=2}, {c=1}, {d=1}]"
      ]
     },
     "execution_count": 17,
     "metadata": {},
     "output_type": "execute_result"
    }
   ],
   "source": [
    "import java.util.ArrayList;\n",
    "import java.util.HashMap;\n",
    "import java.util.Map;\n",
    "\n",
    "public ArrayList<HashMap<Character, Integer>> orderedCount(String str) {\n",
    "    ArrayList<HashMap<Character, Integer>> output = new ArrayList<HashMap<Character, Integer>>();\n",
    "    HashMap<Character,Integer> collection = new HashMap<Character, Integer>();\n",
    "    char[] letters = str.toCharArray();\n",
    "    \n",
    "    for (char let: letters) {\n",
    "        if (!collection.containsKey(let)) {\n",
    "            collection.put(let, 1);\n",
    "        } else {\n",
    "            collection.put(let, collection.get(let)+1);\n",
    "        }\n",
    "    }\n",
    "    \n",
    "    for (Map.Entry<Character, Integer> entry : collection.entrySet()) {\n",
    "        HashMap<Character, Integer> temp = new HashMap<Character, Integer>();\n",
    "        temp.put(entry.getKey(), entry.getValue());\n",
    "        output.add(temp);\n",
    "    }    \n",
    "    return output;\n",
    "}\n",
    "\n",
    "String testCase = \"abracadabra\";\n",
    "orderedCount(testCase)"
   ]
  },
  {
   "cell_type": "markdown",
   "metadata": {},
   "source": [
    "---"
   ]
  },
  {
   "cell_type": "markdown",
   "metadata": {},
   "source": [
    "#### Use **Scala** (`almond`) kernel"
   ]
  },
  {
   "cell_type": "code",
   "execution_count": 1,
   "metadata": {},
   "outputs": [
    {
     "data": {
      "text/plain": [
       "\u001b[32mimport \u001b[39m\u001b[36mjava.util.ArrayList\n",
       "\u001b[39m\r\n",
       "\u001b[32mimport \u001b[39m\u001b[36mjava.util.HashMap\n",
       "\u001b[39m\r\n",
       "\u001b[32mimport \u001b[39m\u001b[36mjava.util.Map\n",
       "\u001b[39m\r\n",
       "\u001b[32mimport \u001b[39m\u001b[36mscala.collection.JavaConversions._\n",
       "\n",
       "\u001b[39m\r\n",
       "defined \u001b[32mfunction\u001b[39m \u001b[36morderedCount\u001b[39m"
      ]
     },
     "execution_count": 1,
     "metadata": {},
     "output_type": "execute_result"
    }
   ],
   "source": [
    "import java.util.ArrayList\n",
    "import java.util.HashMap\n",
    "import java.util.Map\n",
    "import scala.collection.JavaConversions._\n",
    "\n",
    "def orderedCount(str: String): ArrayList[HashMap[Character, Integer]] = {\n",
    "    val output: ArrayList[HashMap[Character, Integer]] = new ArrayList[HashMap[Character, Integer]]()\n",
    "    val collection: HashMap[Character, Integer] = new HashMap[Character, Integer]()\n",
    "    val letters: Array[Char] = str.toCharArray()\n",
    "    for (let <- letters) {\n",
    "        if (!collection.containsKey(let)) {\n",
    "            collection.put(let, 1)\n",
    "        } else {\n",
    "            collection.put(let, collection.get(let) + 1)\n",
    "        }\n",
    "    }\n",
    "    for ((key, value) <- collection) {\n",
    "        val temp: HashMap[Character, Integer] = new HashMap[Character, Integer]()\n",
    "        temp.put(key, value)\n",
    "        output.add(temp)\n",
    "    }\n",
    "    output\n",
    "}"
   ]
  },
  {
   "cell_type": "markdown",
   "metadata": {},
   "source": [
    "---"
   ]
  }
 ],
 "metadata": {
  "kernelspec": {
   "display_name": "Python 3",
   "language": "python",
   "name": "python3"
  },
  "language_info": {
   "codemirror_mode": {
    "name": "ipython",
    "version": 3
   },
   "file_extension": ".py",
   "mimetype": "text/x-python",
   "name": "python",
   "nbconvert_exporter": "python",
   "pygments_lexer": "ipython3",
   "version": "3.7.5"
  }
 },
 "nbformat": 4,
 "nbformat_minor": 4
}
