{
 "cells": [
  {
   "cell_type": "markdown",
   "metadata": {},
   "source": [
    "## Codewars `Next bigger number with the same digits` <4 kyu>\n",
    "- Taken from [here](https://www.codewars.com/kata/55983863da40caa2c900004e)  \n",
    "  \n",
    "Create a function that takes a positive integer and returns the next bigger number that can be formed by rearranging its digits. For example:  \n",
    "\n",
    "12 ==> 21  \n",
    "513 ==> 531  \n",
    "2017 ==> 2071  \n",
    "nextBigger(num: 12)   // returns 21  \n",
    "nextBigger(num: 513)  // returns 531  \n",
    "nextBigger(num: 2017) // returns 2071  \n",
    "If the digits can't be rearranged to form a bigger number, return -1 (or nil in Swift):  \n",
    "\n",
    "9 ==> -1  \n",
    "111 ==> -1  \n",
    "531 ==> -1  \n",
    "nextBigger(num: 9)   // returns nil  \n",
    "nextBigger(num: 111) // returns nil  \n",
    "nextBigger(num: 531) // returns nil  "
   ]
  },
  {
   "cell_type": "markdown",
   "metadata": {},
   "source": [
    "#### Use **Python** kernel"
   ]
  },
  {
   "cell_type": "code",
   "execution_count": 66,
   "metadata": {},
   "outputs": [],
   "source": [
    "from itertools import permutations\n",
    "\n",
    "def next_bigger(number):\n",
    "    numbers = list(str(number))\n",
    "    num_permutations = sorted([int(''.join(num)) for num in permutations(numbers, len(numbers))])\n",
    "    \n",
    "    try: \n",
    "        indexes = [ind for ind,num in enumerate(num_permutations) if num == number]\n",
    "        next_number_index = indexes[-1] + 1\n",
    "        next_number = num_permutations[next_number_index]\n",
    "        return  next_number if next_number > number else -1\n",
    "    \n",
    "    except:\n",
    "        return -1\n",
    "    "
   ]
  },
  {
   "cell_type": "code",
   "execution_count": 67,
   "metadata": {},
   "outputs": [
    {
     "data": {
      "text/plain": [
       "[21, 531, 2071, -1, -1, -1, 441, 414]"
      ]
     },
     "execution_count": 67,
     "metadata": {},
     "output_type": "execute_result"
    }
   ],
   "source": [
    "test_cases = [\n",
    "              12,  # 21\n",
    "              513, # 531\n",
    "              2017,# 2071\n",
    "              9,   # -1\n",
    "              111, # -1\n",
    "              531, # -1\n",
    "              414, # 441\n",
    "              144, # 414\n",
    "             ]\n",
    "\n",
    "[next_bigger(number) for number in test_cases]"
   ]
  },
  {
   "cell_type": "markdown",
   "metadata": {},
   "source": [
    "---"
   ]
  }
 ],
 "metadata": {
  "kernelspec": {
   "display_name": "Python 3",
   "language": "python",
   "name": "python3"
  },
  "language_info": {
   "codemirror_mode": {
    "name": "ipython",
    "version": 3
   },
   "file_extension": ".py",
   "mimetype": "text/x-python",
   "name": "python",
   "nbconvert_exporter": "python",
   "pygments_lexer": "ipython3",
   "version": "3.7.5"
  }
 },
 "nbformat": 4,
 "nbformat_minor": 4
}
