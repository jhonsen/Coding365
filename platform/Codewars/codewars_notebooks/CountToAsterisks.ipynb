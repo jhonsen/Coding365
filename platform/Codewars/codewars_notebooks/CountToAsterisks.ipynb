{
 "cells": [
  {
   "cell_type": "markdown",
   "metadata": {},
   "source": [
    "## Codewars `Count into Asterisks` <7 kyu>\n",
    "- Taken from [here](https://www.codewars.com/kata/5b358a1e228d316283001892/train/python)\n",
    "  \n",
    "You receive the name of a city as a string, and you need to return a string that shows how many times each letter shows up in the string by using an asterisk (*).\n",
    "\n",
    "For example:\n",
    "\n",
    "\"Chicago\"  -->  `\"c:**,h:*,i:*,a:*,g:*,o:*\"`\n",
    "As you can see, the letter c is shown only once, but wih 2 asterisks.\n",
    "\n",
    "The return string should include only the letters (not the dashes, spaces, apostrophes, etc). There should be no spaces in the output, and the different letters are separated by a comma (,) as seen in the example above.\n",
    "\n",
    "Note that the return string must list the letters in order of their first appearence in the original string.\n",
    "\n",
    "More examples:\n",
    "\n",
    "\"Bangkok\"    -->  `\"b:*,a:*,n:*,g:*,k:**,o:*\"`\n",
    "\"Las Vegas\"  -->  `\"l:*,a:**,s:**,v:*,e:*,g:*\"`"
   ]
  },
  {
   "cell_type": "markdown",
   "metadata": {},
   "source": [
    "#### Use **Python** kernel"
   ]
  },
  {
   "cell_type": "code",
   "execution_count": 13,
   "metadata": {},
   "outputs": [],
   "source": [
    "from collections import Counter\n",
    "def get_string(s):\n",
    "    letters = Counter(list(s.lower()))\n",
    "    return ','.join([k+':'+('*'*v) for k,v in letters.items() if k.isalpha()])"
   ]
  },
  {
   "cell_type": "code",
   "execution_count": 14,
   "metadata": {},
   "outputs": [
    {
     "data": {
      "text/plain": [
       "'c:**,h:*,i:*,a:*,g:*,o:*'"
      ]
     },
     "execution_count": 14,
     "metadata": {},
     "output_type": "execute_result"
    }
   ],
   "source": [
    "get_string('chicago')"
   ]
  },
  {
   "cell_type": "code",
   "execution_count": 15,
   "metadata": {},
   "outputs": [
    {
     "data": {
      "text/plain": [
       "['c:**,h:*,i:*,a:*,g:*,o:*',\n",
       " 'b:*,a:*,n:*,g:*,k:**,o:*',\n",
       " 'l:*,a:**,s:**,v:*,e:*,g:*']"
      ]
     },
     "execution_count": 15,
     "metadata": {},
     "output_type": "execute_result"
    }
   ],
   "source": [
    "test_cases = ['chicago',\n",
    "             'Bangkok',\n",
    "             'Las Vegas']\n",
    "\n",
    "[get_string(case) for case in test_cases]"
   ]
  },
  {
   "cell_type": "markdown",
   "metadata": {},
   "source": [
    "---"
   ]
  },
  {
   "cell_type": "markdown",
   "metadata": {},
   "source": [
    "#### Use **Java** (`iJava`) kernel"
   ]
  },
  {
   "cell_type": "code",
   "execution_count": 21,
   "metadata": {},
   "outputs": [],
   "source": [
    "import java.util.HashMap;\n",
    "import java.lang.StringBuilder;\n",
    "import java.util.Map;\n",
    "\n",
    "public String getString(String words){\n",
    "    \n",
    "    HashMap<Character,Integer> letterCounter = new HashMap<Character,Integer>();\n",
    "    char[] characters = words.toCharArray();\n",
    "    for (char ch:characters) {\n",
    "        char c = Character.toLowerCase(ch);\n",
    "        if (!letterCounter.containsKey(c)) {\n",
    "            letterCounter.put(c,1);\n",
    "        } else {\n",
    "            letterCounter.put(c, letterCounter.get(c)+1);\n",
    "        }\n",
    "    }\n",
    "    StringBuilder output = new StringBuilder();\n",
    "    for (Map.Entry<Character, Integer> entry: letterCounter.entrySet()){\n",
    "        char key = entry.getKey();\n",
    "        if (Character.isLetter(key)) {\n",
    "            String stars = \"*\".repeat(entry.getValue());\n",
    "            output.append(entry.getKey()).append(\":\").append(stars);\n",
    "        }\n",
    "    }\n",
    "    return output.toString();\n",
    "}"
   ]
  },
  {
   "cell_type": "code",
   "execution_count": 22,
   "metadata": {},
   "outputs": [
    {
     "data": {
      "text/plain": [
       "a:*c:**g:*h:*i:*o:*"
      ]
     },
     "execution_count": 22,
     "metadata": {},
     "output_type": "execute_result"
    }
   ],
   "source": [
    "String testCase = \"Chicago\";\n",
    "getString(testCase);"
   ]
  },
  {
   "cell_type": "markdown",
   "metadata": {},
   "source": [
    "---"
   ]
  },
  {
   "cell_type": "markdown",
   "metadata": {},
   "source": [
    "#### Use **Scala** (`almond`) kernel"
   ]
  },
  {
   "cell_type": "code",
   "execution_count": 2,
   "metadata": {},
   "outputs": [
    {
     "data": {
      "text/plain": [
       "\u001b[32mimport \u001b[39m\u001b[36mjava.util.HashMap\n",
       "\u001b[39m\r\n",
       "\u001b[32mimport \u001b[39m\u001b[36mjava.lang.StringBuilder\n",
       "\u001b[39m\r\n",
       "\u001b[32mimport \u001b[39m\u001b[36mjava.util.Map\n",
       "\u001b[39m\r\n",
       "\u001b[32mimport \u001b[39m\u001b[36mscala.collection.JavaConversions._\n",
       "\n",
       "\u001b[39m\r\n",
       "defined \u001b[32mfunction\u001b[39m \u001b[36mgetString\u001b[39m"
      ]
     },
     "execution_count": 2,
     "metadata": {},
     "output_type": "execute_result"
    }
   ],
   "source": [
    "import java.util.HashMap\n",
    "import java.lang.StringBuilder\n",
    "import java.util.Map\n",
    "import scala.collection.JavaConversions._\n",
    "\n",
    "def getString(words: String): String = {\n",
    "    val letterCounter: HashMap[Character, Integer] = new HashMap[Character, Integer]()\n",
    "    val characters: Array[Char] = words.toCharArray()\n",
    "    for (ch <- characters) {\n",
    "        val c: Char = java.lang.Character.toLowerCase(ch)\n",
    "        if (!letterCounter.containsKey(c)) {\n",
    "            letterCounter.put(c, 1)\n",
    "        } else {\n",
    "            letterCounter.put(c, letterCounter.get(c) + 1)\n",
    "        }\n",
    "    }\n",
    "    val output: StringBuilder = new StringBuilder()\n",
    "    for ((key, value) <- letterCounter) {\n",
    "\n",
    "        if (Character.isLetter(key)) {\n",
    "            val stars: String = \"*\".repeat(value)\n",
    "            output.append(key).append(\":\").append(stars)\n",
    "        }\n",
    "    }\n",
    "    output.toString\n",
    "}"
   ]
  },
  {
   "cell_type": "markdown",
   "metadata": {},
   "source": [
    "---"
   ]
  }
 ],
 "metadata": {
  "kernelspec": {
   "display_name": "Scala 2.12.8",
   "language": "scala",
   "name": "scala_2_12_8"
  },
  "language_info": {
   "codemirror_mode": "text/x-scala",
   "file_extension": ".scala",
   "mimetype": "text/x-scala",
   "name": "scala",
   "nbconvert_exporter": "script",
   "version": "2.12.8"
  }
 },
 "nbformat": 4,
 "nbformat_minor": 4
}
