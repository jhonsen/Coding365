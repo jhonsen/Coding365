{
 "cells": [
  {
   "cell_type": "markdown",
   "metadata": {},
   "source": [
    "## Codewars `The Vowel Code` <6 kyu>\n",
    "- Taken from [here](https://www.codewars.com/kata/53697be005f803751e0015aa/train/python)"
   ]
  },
  {
   "cell_type": "markdown",
   "metadata": {},
   "source": [
    "**Step 1**: Create a function called encode() to replace all the lowercase vowels in a given string with numbers according to the following pattern:\n",
    "\n",
    "a -> 1\n",
    "\n",
    "e -> 2\n",
    "\n",
    "i -> 3\n",
    "\n",
    "o -> 4\n",
    "\n",
    "u -> 5\n",
    "\n",
    "For example, encode(\"hello\") would return \"h2ll4\" There is no need to worry about uppercase vowels in this kata.\n",
    "\n",
    "**Step 2**: Now create a function called decode() to turn the numbers back into vowels according to the same pattern shown above.\n",
    "\n",
    "For example, decode(\"h3 th2r2\") would return \"hi there\"\n",
    "\n",
    "For the sake of simplicity, you can assume that any numbers passed into the function will correspond to vowels"
   ]
  },
  {
   "cell_type": "markdown",
   "metadata": {},
   "source": [
    "#### Use **Python** kernel"
   ]
  },
  {
   "cell_type": "code",
   "execution_count": 52,
   "metadata": {},
   "outputs": [],
   "source": [
    "def encode(string):\n",
    "    \n",
    "    vowel_map = {'a':1, 'e':2, 'i':3, 'o':4, 'u':5}\n",
    "    return ''.join([str(vowel_map[letter]) if letter in vowel_map else letter for letter in string])\n",
    "\n",
    "def decode(string):\n",
    "    \n",
    "    vowel_map = {'1':'a', '2':'e', '3':'i', '4':'o', '5':'u'}\n",
    "    return ''.join([str(vowel_map[letter]) if letter in vowel_map else letter for letter in string])\n"
   ]
  },
  {
   "cell_type": "code",
   "execution_count": 61,
   "metadata": {},
   "outputs": [
    {
     "name": "stdout",
     "output_type": "stream",
     "text": [
      "h2ll4\n",
      "hello\n",
      "H4w 1r2 y45 t4d1y?\n",
      "How are you today?\n"
     ]
    }
   ],
   "source": [
    "# Test function\n",
    "\n",
    "print(encode(\"hello\"))\n",
    "print(decode(encode(\"hello\")))\n",
    "\n",
    "print(encode('How are you today?'))  # 'H4w 1r2 y45 t4d1y?'\n",
    "print(decode(encode('How are you today?')))  # 'H4w 1r2 y45 t4d1y?')"
   ]
  },
  {
   "cell_type": "markdown",
   "metadata": {},
   "source": [
    "---"
   ]
  },
  {
   "cell_type": "markdown",
   "metadata": {},
   "source": [
    "#### Use **Java** (`iJava`) kernel"
   ]
  },
  {
   "cell_type": "code",
   "execution_count": 20,
   "metadata": {},
   "outputs": [],
   "source": [
    "// Solution in Java\n",
    "import java.util.Map;\n",
    "import java.util.HashMap;\n",
    "\n",
    "public static String encode(String words) {\n",
    "    Map<Character, Integer> vowels = new HashMap<>();\n",
    "    vowels.put('a', 1);\n",
    "    vowels.put('e', 2);\n",
    "    vowels.put('i', 3);\n",
    "    vowels.put('o', 4);\n",
    "    vowels.put('u', 5);\n",
    "    \n",
    "    StringBuilder output = new StringBuilder();\n",
    "    for (char letter: words.toCharArray()) {\n",
    "        if (vowels.containsKey(letter)) {\n",
    "            output.append(vowels.get(letter));\n",
    "        } else {\n",
    "            output.append(letter);\n",
    "        }\n",
    "    }\n",
    "    return output.toString();\n",
    "}\n",
    "\n",
    "public static String decode(String words) {\n",
    "    Map<Character, Character> vowels = new HashMap<>();\n",
    "    vowels.put('1', 'a');\n",
    "    vowels.put('2', 'e');\n",
    "    vowels.put('3', 'i');\n",
    "    vowels.put('4', 'o');\n",
    "    vowels.put('5', 'u');\n",
    "    \n",
    "    StringBuilder output = new StringBuilder();\n",
    "    for (char letter: words.toCharArray()) {\n",
    "        if (vowels.containsKey(letter)) {\n",
    "            output.append(vowels.get(letter));\n",
    "        } else {\n",
    "            output.append(letter);\n",
    "        }\n",
    "    }\n",
    "    return output.toString();\n",
    "}"
   ]
  },
  {
   "cell_type": "code",
   "execution_count": 21,
   "metadata": {},
   "outputs": [
    {
     "data": {
      "text/plain": [
       "H2ll4 W4rld"
      ]
     },
     "execution_count": 21,
     "metadata": {},
     "output_type": "execute_result"
    }
   ],
   "source": [
    "encode(\"Hello World!\")"
   ]
  },
  {
   "cell_type": "code",
   "execution_count": 23,
   "metadata": {},
   "outputs": [
    {
     "data": {
      "text/plain": [
       "Hello World!"
      ]
     },
     "execution_count": 23,
     "metadata": {},
     "output_type": "execute_result"
    }
   ],
   "source": [
    "decode(\"H2ll4 W4rld!\")"
   ]
  },
  {
   "cell_type": "markdown",
   "metadata": {},
   "source": [
    "---"
   ]
  },
  {
   "cell_type": "markdown",
   "metadata": {},
   "source": [
    "#### Use **Scala** (`almond`) kernel"
   ]
  },
  {
   "cell_type": "code",
   "execution_count": 4,
   "metadata": {},
   "outputs": [
    {
     "data": {
      "text/plain": [
       "\u001b[32mimport \u001b[39m\u001b[36mjava.util.Map\n",
       "\u001b[39m\r\n",
       "\u001b[32mimport \u001b[39m\u001b[36mjava.util.HashMap\n",
       "//remove if not needed\n",
       "// import scala.collection.JavaConversions._\n",
       "\n",
       "\u001b[39m\r\n",
       "defined \u001b[32mfunction\u001b[39m \u001b[36mdecode\u001b[39m\r\n",
       "defined \u001b[32mfunction\u001b[39m \u001b[36mencode\u001b[39m"
      ]
     },
     "execution_count": 4,
     "metadata": {},
     "output_type": "execute_result"
    }
   ],
   "source": [
    "import java.util.Map\n",
    "import java.util.HashMap\n",
    "\n",
    "def decode(words: String): String = {\n",
    "    val vowels: Map[Character, Character] = new HashMap[Character, Character]()\n",
    "    vowels.put('1', 'a')\n",
    "    vowels.put('2', 'e')\n",
    "    vowels.put('3', 'i')\n",
    "    vowels.put('4', 'o')\n",
    "    vowels.put('5', 'u')\n",
    "    \n",
    "    val output: StringBuilder = new StringBuilder()\n",
    "    for (letter <- words.toCharArray()) {\n",
    "      if (vowels.containsKey(letter)) {\n",
    "        output.append(vowels.get(letter))\n",
    "      } else {\n",
    "        output.append(letter)\n",
    "      }\n",
    "    }\n",
    "    output.toString\n",
    "}\n",
    "\n",
    "def encode(words: String): String = {\n",
    "    val vowels: Map[Character, Integer] = new HashMap[Character, Integer]()\n",
    "    vowels.put('a', 1)\n",
    "    vowels.put('e', 2)\n",
    "    vowels.put('i', 3)\n",
    "    vowels.put('o', 4)\n",
    "    vowels.put('u', 5)\n",
    "    \n",
    "    val output: StringBuilder = new StringBuilder()\n",
    "    for (letter <- words.toCharArray()) {\n",
    "        if (vowels.containsKey(letter)) {\n",
    "            output.append(vowels.get(letter))\n",
    "        } else {\n",
    "            output.append(letter)\n",
    "        }\n",
    "    }\n",
    "    output.toString\n",
    "}\n"
   ]
  },
  {
   "cell_type": "code",
   "execution_count": 5,
   "metadata": {},
   "outputs": [
    {
     "data": {
      "text/plain": [
       "\u001b[36mres4\u001b[39m: \u001b[32mString\u001b[39m = \u001b[32m\"H2ll4\"\u001b[39m"
      ]
     },
     "execution_count": 5,
     "metadata": {},
     "output_type": "execute_result"
    }
   ],
   "source": [
    "encode(\"Hello\")"
   ]
  },
  {
   "cell_type": "code",
   "execution_count": 3,
   "metadata": {},
   "outputs": [
    {
     "data": {
      "text/plain": [
       "\u001b[36mres2\u001b[39m: \u001b[32mString\u001b[39m = \u001b[32m\"Hello\"\u001b[39m"
      ]
     },
     "execution_count": 3,
     "metadata": {},
     "output_type": "execute_result"
    }
   ],
   "source": [
    "decode(\"H2ll4\")"
   ]
  },
  {
   "cell_type": "markdown",
   "metadata": {},
   "source": [
    "---"
   ]
  }
 ],
 "metadata": {
  "kernelspec": {
   "display_name": "Python 3",
   "language": "python",
   "name": "python3"
  },
  "language_info": {
   "codemirror_mode": {
    "name": "ipython",
    "version": 3
   },
   "file_extension": ".py",
   "mimetype": "text/x-python",
   "name": "python",
   "nbconvert_exporter": "python",
   "pygments_lexer": "ipython3",
   "version": "3.7.5"
  }
 },
 "nbformat": 4,
 "nbformat_minor": 4
}
