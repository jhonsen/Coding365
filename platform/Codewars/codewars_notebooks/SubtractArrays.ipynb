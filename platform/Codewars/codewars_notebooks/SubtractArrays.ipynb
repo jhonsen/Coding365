{
 "cells": [
  {
   "cell_type": "markdown",
   "metadata": {},
   "source": [
    "## Codewars `Array Diff` <6 kyu>\n",
    "- Taken from [here](https://www.codewars.com/kata/523f5d21c841566fde000009/train/python)\n",
    "\n",
    "Your goal in this kata is to implement a difference function, which subtracts one list from another and returns the result.\n",
    "\n",
    "It should remove all values from list a, which are present in list b.\n",
    "\n",
    "array_diff([1,2],[1]) == [2]\n",
    "If a value is present in b, all of its occurrences must be removed from the other:\n",
    "\n",
    "array_diff([1,2,2,2,3],[2]) == [1,3]"
   ]
  },
  {
   "cell_type": "markdown",
   "metadata": {},
   "source": [
    "#### Use **Python** kernel"
   ]
  },
  {
   "cell_type": "code",
   "execution_count": 6,
   "metadata": {},
   "outputs": [],
   "source": [
    "def subtract_arrays(a,b):\n",
    "    return [each_a for each_a in a if each_a not in b]"
   ]
  },
  {
   "cell_type": "code",
   "execution_count": 10,
   "metadata": {},
   "outputs": [
    {
     "data": {
      "text/plain": [
       "[[2], [2, 2], [1, 3], [1, 2, 2, 2, 3]]"
      ]
     },
     "execution_count": 10,
     "metadata": {},
     "output_type": "execute_result"
    }
   ],
   "source": [
    "test_cases= [\n",
    "            ([1,2],[1]),       # [2]\n",
    "            ([1,2,2],[1]),     # [2,2]\n",
    "            ([1,2,2,2,3],[2]), # [1,3]\n",
    "            ([1,2,2,2,3],[]),  # [1,2,2,2,3]\n",
    "            ]\n",
    "\n",
    "[subtract_arrays(case[0],case[1]) for case in test_cases]"
   ]
  },
  {
   "cell_type": "markdown",
   "metadata": {},
   "source": [
    "---"
   ]
  },
  {
   "cell_type": "markdown",
   "metadata": {},
   "source": [
    "#### Use **Java** (`iJava`) kernel"
   ]
  },
  {
   "cell_type": "code",
   "execution_count": 18,
   "metadata": {},
   "outputs": [],
   "source": [
    "import java.util.Arrays;\n",
    "import java.util.ArrayList;\n",
    "\n",
    "public ArrayList<Integer> subtractArrays(int[] a, int[] b){\n",
    "\n",
    "    ArrayList<Integer> output = new ArrayList<Integer>();\n",
    "    for (int eachA:a) {\n",
    "        if (!Arrays.stream(b).anyMatch(i -> i == eachA)) output.add(eachA);        \n",
    "    }\n",
    "    return output;\n",
    "}"
   ]
  },
  {
   "cell_type": "code",
   "execution_count": 19,
   "metadata": {},
   "outputs": [
    {
     "data": {
      "text/plain": [
       "[3]"
      ]
     },
     "execution_count": 19,
     "metadata": {},
     "output_type": "execute_result"
    }
   ],
   "source": [
    "int[] testCase = {1,2,2,3};\n",
    "int[] key = {1,2};\n",
    "subtractArrays(testCase, key);"
   ]
  },
  {
   "cell_type": "markdown",
   "metadata": {},
   "source": [
    "---"
   ]
  },
  {
   "cell_type": "markdown",
   "metadata": {},
   "source": [
    "#### Use **Scala** (`almond`) kernel"
   ]
  },
  {
   "cell_type": "code",
   "execution_count": 3,
   "metadata": {},
   "outputs": [
    {
     "data": {
      "text/plain": [
       "\u001b[32mimport \u001b[39m\u001b[36mjava.util._\n",
       "\n",
       "\u001b[39m\r\n",
       "defined \u001b[32mfunction\u001b[39m \u001b[36msubtractArrays\u001b[39m"
      ]
     },
     "execution_count": 3,
     "metadata": {},
     "output_type": "execute_result"
    }
   ],
   "source": [
    "import java.util._\n",
    "\n",
    "def subtractArrays(a: Array[Int], b: Array[Int]): ArrayList[Integer] = {\n",
    "    val output: ArrayList[Integer] = new ArrayList[Integer]()\n",
    "    for (eachA <- a if !Arrays.stream(b).anyMatch((i) => i == eachA))\n",
    "        output.add(eachA)\n",
    "    output\n",
    "}"
   ]
  },
  {
   "cell_type": "markdown",
   "metadata": {},
   "source": [
    "---"
   ]
  }
 ],
 "metadata": {
  "kernelspec": {
   "display_name": "Python 3",
   "language": "python",
   "name": "python3"
  },
  "language_info": {
   "codemirror_mode": {
    "name": "ipython",
    "version": 3
   },
   "file_extension": ".py",
   "mimetype": "text/x-python",
   "name": "python",
   "nbconvert_exporter": "python",
   "pygments_lexer": "ipython3",
   "version": "3.7.5"
  }
 },
 "nbformat": 4,
 "nbformat_minor": 4
}
