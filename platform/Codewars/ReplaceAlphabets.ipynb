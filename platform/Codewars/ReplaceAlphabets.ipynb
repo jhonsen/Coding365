{
 "cells": [
  {
   "cell_type": "markdown",
   "metadata": {},
   "source": [
    "## Codewars `Replace with Alphabets` <6 kyu>\n",
    "- Taken from [here](https://www.codewars.com/kata/546f922b54af40e1e90001da)\n",
    "\n",
    "In this kata you are required to, given a string, replace every letter with its position in the alphabet.\n",
    "\n",
    "If anything in the text isn't a letter, ignore it and don't return it.\n",
    "\n",
    "\"a\" = 1, \"b\" = 2, etc.\n",
    "  \n",
    "**Example**:  \n",
    "alphabet_position(\"The sunset sets at twelve o' clock.\")  \n",
    "Should return `\"20 8 5 19 21 14 19 5 20 19 5 20 19 1 20 20 23 5 12 22 5 15 3 12 15 3 11\"` (as a string)"
   ]
  },
  {
   "cell_type": "markdown",
   "metadata": {},
   "source": [
    "#### Use **Python** kernel"
   ]
  },
  {
   "cell_type": "code",
   "execution_count": 20,
   "metadata": {},
   "outputs": [],
   "source": [
    "def replace_alphabets(string):\n",
    "    alphabets = {alph:str(ind+1) for ind,alph in enumerate(list('abcdefghijklmnopqrstuvwxyz'))}\n",
    "    return ' '.join([alphabets[alph.lower()] for alph in string if alph.lower().isalpha()])"
   ]
  },
  {
   "cell_type": "code",
   "execution_count": 22,
   "metadata": {},
   "outputs": [
    {
     "data": {
      "text/plain": [
       "['20 8 5 19 21 14 19 5 20 19 5 20 19 1 20 20 23 5 12 22 5 15 3 12 15 3 11',\n",
       " '1 2 3 4 5 6 7 8 9 10 11 12 13 14 15 16 17 18 19 20 21 22 23 24 25 26',\n",
       " '20 8 5 14 1 18 23 8 1 12 2 1 3 15 14 19 1 20 13 9 4 14 9 7 8 20']"
      ]
     },
     "execution_count": 22,
     "metadata": {},
     "output_type": "execute_result"
    }
   ],
   "source": [
    "test_cases = [\"The sunset sets at twelve o' clock.\", # \"20 8 5 19 21 14 19 5 20 19 5 20 19 1 20 20 23 5 12 22 5 15 3 12 15 3 11\n",
    "             'abcdefghijklmnopqrstuvwxyz',       # 1 2 3 4 5 6 7 8 9 10 11 12 13 14 15 16 17 18 19 20 21 22 23 24 25 26\n",
    "              \"The narwhal bacons at midnight.\", # 20 8 5 14 1 18 23 8 1 12 2 1 3 15 14 19 1 20 13 9 4 14 9 7 8 20\"\n",
    "             ]\n",
    "\n",
    "[replace_alphabets(case) for case in test_cases]"
   ]
  },
  {
   "cell_type": "markdown",
   "metadata": {},
   "source": [
    "---"
   ]
  },
  {
   "cell_type": "markdown",
   "metadata": {},
   "source": [
    "#### Use **Java** (`iJava`) kernel"
   ]
  },
  {
   "cell_type": "code",
   "execution_count": 15,
   "metadata": {},
   "outputs": [
    {
     "data": {
      "text/plain": [
       "20 8 5 14 1 18 23 8 1 12 2 1 3 15 14 19 1 20 13 9 4 14 9 7 8 20"
      ]
     },
     "execution_count": 15,
     "metadata": {},
     "output_type": "execute_result"
    }
   ],
   "source": [
    "import org.apache.commons.lang3.StringUtils;\n",
    "import java.util.*;\n",
    "\n",
    "public String replaceAlphabets(String phrase) {\n",
    "    String alphabets = \"abcdefghijklmnopqrstuvwxyz\";\n",
    "    String[] alphabetArray = alphabets.split(\"\");\n",
    "    HashMap<String, String> diction = new HashMap<String, String>();\n",
    "    for (int i=0; i<alphabetArray.length; i++) {\n",
    "        diction.put(alphabetArray[i], Integer.toString(i+1));\n",
    "    }\n",
    "    String[] lettersInPhraseArray = phrase.split(\"\");\n",
    "    \n",
    "    ArrayList<String> output = new ArrayList<String>();\n",
    "    for (String alph:lettersInPhraseArray) {\n",
    "        if (StringUtils.isAlpha(alph.toLowerCase())) {\n",
    "            output.add(diction.get(alph.toLowerCase()));\n",
    "        } \n",
    "    }\n",
    "    return  String.join(\" \", output);\n",
    "}\n",
    "\n",
    "replaceAlphabets(\"The narwhal bacons at midnight.\")"
   ]
  },
  {
   "cell_type": "markdown",
   "metadata": {},
   "source": [
    "---"
   ]
  },
  {
   "cell_type": "markdown",
   "metadata": {},
   "source": [
    "#### Use **Scala** (`almond`) kernel"
   ]
  },
  {
   "cell_type": "code",
   "execution_count": 12,
   "metadata": {},
   "outputs": [
    {
     "data": {
      "text/plain": [
       "\u001b[32mimport \u001b[39m\u001b[36mjava.util._\n",
       "\u001b[39m\r\n",
       "\u001b[32mimport \u001b[39m\u001b[36mjava.lang._\n",
       "\n",
       "\u001b[39m\r\n",
       "defined \u001b[32mfunction\u001b[39m \u001b[36mreplaceAlphabets\u001b[39m\r\n",
       "\u001b[36mres11_3\u001b[39m: \u001b[32mString\u001b[39m = \u001b[32m\"20 8 5 14 1 18 23 8 1 12 2 1 3 15 14 19 1 20 13 9 4 14 9 7 8 20\"\u001b[39m"
      ]
     },
     "execution_count": 12,
     "metadata": {},
     "output_type": "execute_result"
    }
   ],
   "source": [
    "import java.util._\n",
    "import java.lang._\n",
    "\n",
    "def replaceAlphabets(phrase: String): String = {\n",
    "    val alphabets: String = \"abcdefghijklmnopqrstuvwxyz\"\n",
    "    val alphabetArray: Array[String] = alphabets.split(\"\")\n",
    "    val diction: HashMap[String, String] = new HashMap[String,String]()\n",
    "    for (i <- 0 until alphabetArray.length) {\n",
    "        diction.put(alphabetArray(i), Integer.toString(i+1))\n",
    "    }\n",
    "    val lettersInPhraseArray: Array[String] = phrase.split(\"\")\n",
    "    val output: ArrayList[String] =  new ArrayList[String]()\n",
    "    for (alph <- lettersInPhraseArray) {        \n",
    "        val c: Char = alph.toLowerCase().charAt(0)        \n",
    "        if (c.isLetter) {\n",
    "            output.add(diction.get(alph.toLowerCase()))\n",
    "        }\n",
    "    }\n",
    "    String.join(\" \", output)\n",
    "}\n",
    "\n",
    "replaceAlphabets(\"The narwhal bacons at midnight.\")"
   ]
  },
  {
   "cell_type": "markdown",
   "metadata": {},
   "source": [
    "---"
   ]
  }
 ],
 "metadata": {
  "kernelspec": {
   "display_name": "Scala 2.12.8",
   "language": "scala",
   "name": "scala_2_12_8"
  },
  "language_info": {
   "codemirror_mode": "text/x-scala",
   "file_extension": ".scala",
   "mimetype": "text/x-scala",
   "name": "scala",
   "nbconvert_exporter": "script",
   "version": "2.12.8"
  }
 },
 "nbformat": 4,
 "nbformat_minor": 4
}
