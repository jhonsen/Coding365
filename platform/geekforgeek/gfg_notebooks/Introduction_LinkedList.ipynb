{
 "cells": [
  {
   "cell_type": "markdown",
   "metadata": {},
   "source": [
    "## Linked List\n",
    "Introduction from [here](https://www.geeksforgeeks.org/linked-list-set-1-introduction/)\n",
    "\n",
    "- A linked list is represented by a pointer to the first node of the linked list. \n",
    "- The first node is the Head.\n",
    "- If linked list is empty, then the head is Null\n",
    "\n",
    "Each node consists of 2 parts:\n",
    "- data\n",
    "- Pointer, to the next node\n",
    "\n",
    "In Java, LinkedList can be represented as a class, and a node as a separate class. "
   ]
  },
  {
   "cell_type": "code",
   "execution_count": 1,
   "metadata": {},
   "outputs": [],
   "source": [
    "class Node:\n",
    "    def __init__(self, data):\n",
    "        self.data = data\n",
    "        self.next = None  # Initialize as null\n",
    "        \n",
    "class LinkedList:\n",
    "    def __init__(self):\n",
    "        self.head = None\n",
    "    \n",
    "    def displayList(self):\n",
    "        current = self.head\n",
    "        while current is not None:\n",
    "            print(current.data, end = \" \")\n",
    "            current = current.next  \n",
    "    \n",
    "    def push(self, new_data):\n",
    "        new_node = Node(new_data)\n",
    "        new_node.next = self.head\n",
    "        self.head = new_node\n",
    "\n",
    "    def insertAfter(self, prev_node, new_data): \n",
    "        if prev_node is None: \n",
    "            print(\"The given previous node must inLinkedList.\")\n",
    "            return\n",
    "        new_node = Node(new_data) \n",
    "        new_node.next = prev_node.next\n",
    "        prev_node.next = new_node \n",
    "        \n",
    "    def append(self, new_data):\n",
    "        new_node = Node(new_data)\n",
    "        if self.head is None:\n",
    "            self.head = new_node\n",
    "            return\n",
    "        \n",
    "        last_node = self.head\n",
    "        while last_node.next:\n",
    "            last_node = last_node.next\n",
    "        \n",
    "        last_node.next = new_node\n"
   ]
  },
  {
   "cell_type": "code",
   "execution_count": 2,
   "metadata": {},
   "outputs": [],
   "source": [
    "# Initialize linked list pointer (head)\n",
    "linkedlist = LinkedList()\n",
    "linkedlist.head = Node(1)\n",
    "\n",
    "# Creating second & third nodes\n",
    "second = Node(2)\n",
    "third = Node(3)\n",
    "\n",
    "# Linking element and third \n",
    "linkedlist.head.next = second\n",
    "second.next = third"
   ]
  },
  {
   "cell_type": "markdown",
   "metadata": {},
   "source": [
    "    Three nodes have been created. \n",
    "    We have references to these three blocks as head, \n",
    "    second and third \n",
    "    \n",
    "    Now next of second Node refers to third.  So all three \n",
    "    nodes are linked. \n",
    "  \n",
    "    llist.head        second              third \n",
    "         |                |                  | \n",
    "         |                |                  | \n",
    "    +----+------+     +----+------+     +----+------+ \n",
    "    | 1  |  o-------->| 2  |  o-------->|  3 | null | \n",
    "    +----+------+     +----+------+     +----+------+  \n",
    "    "
   ]
  },
  {
   "cell_type": "code",
   "execution_count": 3,
   "metadata": {},
   "outputs": [
    {
     "data": {
      "text/plain": [
       "(1, 2, 3)"
      ]
     },
     "execution_count": 3,
     "metadata": {},
     "output_type": "execute_result"
    }
   ],
   "source": [
    "# Inspect content\n",
    "linkedlist.head.data, linkedlist.head.next.data, linkedlist.head.next.next.data"
   ]
  },
  {
   "cell_type": "code",
   "execution_count": 4,
   "metadata": {},
   "outputs": [
    {
     "name": "stdout",
     "output_type": "stream",
     "text": [
      "1 2 3 "
     ]
    }
   ],
   "source": [
    "linkedlist.displayList()"
   ]
  },
  {
   "cell_type": "code",
   "execution_count": 5,
   "metadata": {},
   "outputs": [
    {
     "name": "stdout",
     "output_type": "stream",
     "text": [
      "0 1 2 3 "
     ]
    }
   ],
   "source": [
    "# Inserting a new node at the beginning\n",
    "linkedlist.push(0)\n",
    "linkedlist.displayList()"
   ]
  },
  {
   "cell_type": "code",
   "execution_count": 6,
   "metadata": {},
   "outputs": [
    {
     "name": "stdout",
     "output_type": "stream",
     "text": [
      "0 1 10 2 3 "
     ]
    }
   ],
   "source": [
    "# Insert after the second element\n",
    "sec = linkedlist.head.next\n",
    "\n",
    "linkedlist.insertAfter(sec, 10)\n",
    "linkedlist.displayList()"
   ]
  },
  {
   "cell_type": "code",
   "execution_count": 7,
   "metadata": {},
   "outputs": [
    {
     "name": "stdout",
     "output_type": "stream",
     "text": [
      "0 1 10 2 3 100 "
     ]
    }
   ],
   "source": [
    "# Append 100 to the end \n",
    "linkedlist.append(100)\n",
    "linkedlist.displayList()"
   ]
  },
  {
   "cell_type": "markdown",
   "metadata": {},
   "source": [
    "---"
   ]
  },
  {
   "cell_type": "markdown",
   "metadata": {},
   "source": [
    "in **Java**, using `iJava` kernel"
   ]
  },
  {
   "cell_type": "code",
   "execution_count": 1,
   "metadata": {},
   "outputs": [],
   "source": [
    "class Node {\n",
    "    int data;\n",
    "    Node next;\n",
    "\n",
    "    Node(int d) {\n",
    "        data = d;\n",
    "        next = null;\n",
    "    }\n",
    "}\n",
    "    \n",
    "class LinkedList {\n",
    "    Node head;\n",
    "    \n",
    "    void push(int newData) {\n",
    "    // Inserting a node in the begining of the linked list\n",
    "        Node newNode = new Node(newData); \n",
    "        newNode.next = head; \n",
    "        head = newNode; \n",
    "    } \n",
    "    \n",
    "    void append(int newData) {\n",
    "        Node newNode = new Node(newData);        \n",
    "        if (head == null){\n",
    "            System.out.print(\"Appending an empty linked list\");\n",
    "            head = newNode;\n",
    "            return;\n",
    "        }\n",
    "        newNode.next = null;\n",
    "        Node lastNode = head;\n",
    "        while (lastNode.next != null){\n",
    "            lastNode = lastNode.next;\n",
    "        }\n",
    "        lastNode.next = newNode;\n",
    "    }\n",
    "    \n",
    "    void insertAfter(Node prevNode, int newData) {\n",
    "        if (prevNode == null) {\n",
    "            System.out.println(\"The given previous Node must be a linked List\");\n",
    "            return;\n",
    "        }\n",
    "        Node newNode = new Node(newData);\n",
    "        newNode.next = prevNode.next;\n",
    "        prevNode.next = newNode;\n",
    "    }\n",
    "    \n",
    "    void printList() {\n",
    "        Node current = head; \n",
    "        while (current != null) {\n",
    "            System.out.print(current.data + \" \");\n",
    "            current = current.next;\n",
    "        }\n",
    "    }\n",
    "}\n",
    "\n"
   ]
  },
  {
   "cell_type": "code",
   "execution_count": 2,
   "metadata": {},
   "outputs": [
    {
     "name": "stdout",
     "output_type": "stream",
     "text": [
      "1 2 3 "
     ]
    }
   ],
   "source": [
    "// Initialize linked list\n",
    "LinkedList linklist = new LinkedList();\n",
    "\n",
    "// Add elements\n",
    "linklist.head = new Node(1);\n",
    "Node second = new Node(2);\n",
    "Node third = new Node(3);\n",
    "linklist.head.next = second;\n",
    "second.next = third;\n",
    "\n",
    "linklist.printList();"
   ]
  },
  {
   "cell_type": "code",
   "execution_count": 3,
   "metadata": {},
   "outputs": [
    {
     "name": "stdout",
     "output_type": "stream",
     "text": [
      "10 1 2 3 "
     ]
    }
   ],
   "source": [
    "// Insert to 10 to the head\n",
    "linklist.push(10);\n",
    "linklist.printList()"
   ]
  },
  {
   "cell_type": "code",
   "execution_count": 4,
   "metadata": {},
   "outputs": [
    {
     "name": "stdout",
     "output_type": "stream",
     "text": [
      "10 1 50 2 3 "
     ]
    }
   ],
   "source": [
    "// Insert 50 after 2nd element\n",
    "Node prev = linklist.head.next;\n",
    "linklist.insertAfter(prev, 50);\n",
    "linklist.printList();"
   ]
  },
  {
   "cell_type": "code",
   "execution_count": 5,
   "metadata": {},
   "outputs": [
    {
     "name": "stdout",
     "output_type": "stream",
     "text": [
      "10 1 50 2 3 100 "
     ]
    }
   ],
   "source": [
    "// Insert 100 at the end\n",
    "linklist.append(100);\n",
    "linklist.printList();"
   ]
  },
  {
   "cell_type": "markdown",
   "metadata": {},
   "source": [
    "---"
   ]
  }
 ],
 "metadata": {
  "kernelspec": {
   "display_name": "Python 3",
   "language": "python",
   "name": "python3"
  },
  "language_info": {
   "codemirror_mode": {
    "name": "ipython",
    "version": 3
   },
   "file_extension": ".py",
   "mimetype": "text/x-python",
   "name": "python",
   "nbconvert_exporter": "python",
   "pygments_lexer": "ipython3",
   "version": "3.7.5"
  }
 },
 "nbformat": 4,
 "nbformat_minor": 4
}
