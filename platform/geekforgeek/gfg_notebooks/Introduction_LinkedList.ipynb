{
 "cells": [
  {
   "cell_type": "markdown",
   "metadata": {},
   "source": [
    "## Linked List\n",
    "Introduction from [here](https://www.geeksforgeeks.org/linked-list-set-1-introduction/)\n",
    "\n",
    "- A linked list is represented by a pointer to the first node of the linked list. \n",
    "- The first node is the Head.\n",
    "- If linked list is empty, then the head is Null\n",
    "\n",
    "Each node consists of 2 parts:\n",
    "- data\n",
    "- Pointer, to the next node\n",
    "\n",
    "In Java, LinkedList can be represented as a class, and a node as a separate class. "
   ]
  },
  {
   "cell_type": "code",
   "execution_count": 26,
   "metadata": {},
   "outputs": [],
   "source": [
    "class Node:\n",
    "    def __init__(self, data):\n",
    "        self.data = data\n",
    "        self.next = None  # Initialize as null\n",
    "        \n",
    "class LinkedList:\n",
    "    def __init__(self):\n",
    "        self.head = None\n",
    "    \n",
    "    def displayList(self):\n",
    "        current = self.head\n",
    "        while current is not None:\n",
    "            print(current.data, end = \" \")\n",
    "            current = current.next  \n",
    "    \n",
    "    def push(self, new_data):\n",
    "        new_node = Node(new_data)\n",
    "        new_node.next = self.head\n",
    "        self.head = new_node\n",
    "\n",
    "    def insertAfter(self, prev_node, new_data): \n",
    "        if prev_node is None: \n",
    "            print(\"The given previous node must inLinkedList.\")\n",
    "            return\n",
    "        new_node = Node(new_data) \n",
    "        new_node.next = prev_node.next\n",
    "        prev_node.next = new_node \n",
    "        \n",
    "    def append(self, new_data):\n",
    "        new_node = Node(new_data)\n",
    "        if self.head is None:\n",
    "            self.head = new_node\n",
    "            return\n",
    "        \n",
    "        last_node = self.head\n",
    "        while last_node.next:\n",
    "            last_node = last_node.next\n",
    "        \n",
    "        last_node.next = new_node\n",
    "        \n",
    "    def deleteNode(self, key):\n",
    "        \n",
    "        temp = self.head\n",
    "        \n",
    "        # if key in head node\n",
    "        if (temp is not None) & (temp.data == key):  \n",
    "            self.head = temp.next\n",
    "            temp = None\n",
    "            return\n",
    "            \n",
    "        # traverse the list to find key\n",
    "        while(temp is not None):  \n",
    "            if temp.data == key:  \n",
    "                break\n",
    "            prev = temp  \n",
    "            temp = temp.next\n",
    "  \n",
    "        # if key was not present in linked list  \n",
    "        if (temp == None):  \n",
    "            return\n",
    "  \n",
    "        # Unlink the node from linked list  \n",
    "        prev.next = temp.next\n",
    "  \n",
    "        temp = None\n",
    "    \n",
    "    def deleteNodeIndex(self, position):\n",
    "        \n",
    "        if self.head == None:\n",
    "            return\n",
    "        \n",
    "        index = 0\n",
    "        current = self.head\n",
    "        prev = current\n",
    "        while current.next:\n",
    "            if position == index:\n",
    "                self.head = current.next\n",
    "            index += 1\n",
    "            prev = current\n",
    "            current = current.next"
   ]
  },
  {
   "cell_type": "code",
   "execution_count": 35,
   "metadata": {},
   "outputs": [],
   "source": [
    "# Initialize linked list pointer (head)\n",
    "linkedlist = LinkedList()\n",
    "linkedlist.head = Node(1)\n",
    "\n",
    "# Creating second & third nodes\n",
    "second = Node(2)\n",
    "third = Node(3)\n",
    "\n",
    "# Linking element and third \n",
    "linkedlist.head.next = second\n",
    "second.next = third"
   ]
  },
  {
   "cell_type": "markdown",
   "metadata": {},
   "source": [
    "    Three nodes have been created. \n",
    "    We have references to these three blocks as head, \n",
    "    second and third \n",
    "    \n",
    "    Now next of second Node refers to third.  So all three \n",
    "    nodes are linked. \n",
    "  \n",
    "    llist.head        second              third \n",
    "         |                |                  | \n",
    "         |                |                  | \n",
    "    +----+------+     +----+------+     +----+------+ \n",
    "    | 1  |  o-------->| 2  |  o-------->|  3 | null | \n",
    "    +----+------+     +----+------+     +----+------+  \n",
    "    "
   ]
  },
  {
   "cell_type": "code",
   "execution_count": 36,
   "metadata": {},
   "outputs": [
    {
     "data": {
      "text/plain": [
       "(1, 2, 3)"
      ]
     },
     "execution_count": 36,
     "metadata": {},
     "output_type": "execute_result"
    }
   ],
   "source": [
    "# Inspect content\n",
    "linkedlist.head.data, linkedlist.head.next.data, linkedlist.head.next.next.data"
   ]
  },
  {
   "cell_type": "code",
   "execution_count": 37,
   "metadata": {},
   "outputs": [
    {
     "name": "stdout",
     "output_type": "stream",
     "text": [
      "1 2 3 "
     ]
    }
   ],
   "source": [
    "linkedlist.displayList()"
   ]
  },
  {
   "cell_type": "code",
   "execution_count": 38,
   "metadata": {},
   "outputs": [
    {
     "name": "stdout",
     "output_type": "stream",
     "text": [
      "0 1 2 3 "
     ]
    }
   ],
   "source": [
    "# Inserting a new node at the beginning\n",
    "linkedlist.push(0)\n",
    "linkedlist.displayList()"
   ]
  },
  {
   "cell_type": "code",
   "execution_count": 39,
   "metadata": {},
   "outputs": [
    {
     "name": "stdout",
     "output_type": "stream",
     "text": [
      "0 1 10 2 3 "
     ]
    }
   ],
   "source": [
    "# Insert after the second element\n",
    "sec = linkedlist.head.next\n",
    "\n",
    "linkedlist.insertAfter(sec, 10)\n",
    "linkedlist.displayList()"
   ]
  },
  {
   "cell_type": "code",
   "execution_count": 40,
   "metadata": {},
   "outputs": [
    {
     "name": "stdout",
     "output_type": "stream",
     "text": [
      "0 1 10 2 3 100 "
     ]
    }
   ],
   "source": [
    "# Append 100 to the end \n",
    "linkedlist.append(100)\n",
    "linkedlist.displayList()"
   ]
  },
  {
   "cell_type": "code",
   "execution_count": 41,
   "metadata": {},
   "outputs": [
    {
     "name": "stdout",
     "output_type": "stream",
     "text": [
      "0 1 10 2 100 "
     ]
    }
   ],
   "source": [
    "# Delete 3 from list\n",
    "linkedlist.deleteNode(3)\n",
    "linkedlist.displayList()"
   ]
  },
  {
   "cell_type": "code",
   "execution_count": 42,
   "metadata": {},
   "outputs": [
    {
     "name": "stdout",
     "output_type": "stream",
     "text": [
      "10 2 100 "
     ]
    }
   ],
   "source": [
    "# Delete index=3 from list\n",
    "linkedlist.deleteNodeIndex(1)\n",
    "linkedlist.displayList()"
   ]
  },
  {
   "cell_type": "markdown",
   "metadata": {},
   "source": [
    "---"
   ]
  },
  {
   "cell_type": "markdown",
   "metadata": {},
   "source": [
    "in **Java**, using `iJava` kernel"
   ]
  },
  {
   "cell_type": "code",
   "execution_count": 6,
   "metadata": {},
   "outputs": [],
   "source": [
    "class Node {\n",
    "    int data;\n",
    "    Node next;\n",
    "\n",
    "    Node(int d) {\n",
    "        data = d;\n",
    "        next = null;\n",
    "    }\n",
    "}\n",
    "    \n",
    "class LinkedList {\n",
    "    Node head;\n",
    "    \n",
    "    void push(int newData) {\n",
    "    // Inserting a node in the begining of the linked list\n",
    "        Node newNode = new Node(newData); \n",
    "        newNode.next = head; \n",
    "        head = newNode; \n",
    "    } \n",
    "    \n",
    "    void append(int newData) {\n",
    "        Node newNode = new Node(newData);        \n",
    "        if (head == null){\n",
    "            System.out.print(\"Appending an empty linked list\");\n",
    "            head = newNode;\n",
    "            return;\n",
    "        }\n",
    "        newNode.next = null;\n",
    "        Node lastNode = head;\n",
    "        while (lastNode.next != null){\n",
    "            lastNode = lastNode.next;\n",
    "        }\n",
    "        lastNode.next = newNode;\n",
    "    }\n",
    "    \n",
    "    void insertAfter(Node prevNode, int newData) {\n",
    "        if (prevNode == null) {\n",
    "            System.out.println(\"The given previous Node must be a linked List\");\n",
    "            return;\n",
    "        }\n",
    "        Node newNode = new Node(newData);\n",
    "        newNode.next = prevNode.next;\n",
    "        prevNode.next = newNode;\n",
    "    }\n",
    "    \n",
    "    void printList() {\n",
    "        Node current = head; \n",
    "        while (current != null) {\n",
    "            System.out.print(current.data + \" \");\n",
    "            current = current.next;\n",
    "        }\n",
    "    }\n",
    "    \n",
    "    void deleteNode(int key) { \n",
    "        Node temp = head, prev = null; \n",
    "  \n",
    "        // If head node itself holds the key to be deleted \n",
    "        if (temp != null && temp.data == key) { \n",
    "            head = temp.next; // Changed head \n",
    "            return; \n",
    "        } \n",
    "  \n",
    "        // traverse through the list  \n",
    "        while (temp != null && temp.data != key) { \n",
    "            prev = temp; \n",
    "            temp = temp.next; \n",
    "        }     \n",
    "  \n",
    "        // If key was not present in linked list \n",
    "        if (temp == null) return; \n",
    "  \n",
    "        // Unlink the node from linked list \n",
    "        prev.next = temp.next; \n",
    "    }\n",
    "    \n",
    "    void deleteNodeIndex(int position){\n",
    "        if (head == null) {\n",
    "            return;\n",
    "        }\n",
    "        int index = 0;\n",
    "        Node current = head;\n",
    "        Node prev = current;\n",
    "        while (current.next != null) {\n",
    "            if (position == index) {\n",
    "                head = current.next;\n",
    "            }\n",
    "            index++;\n",
    "            prev = current;\n",
    "            current = current.next;\n",
    "        }\n",
    "    }\n",
    "}"
   ]
  },
  {
   "cell_type": "code",
   "execution_count": 7,
   "metadata": {},
   "outputs": [
    {
     "name": "stdout",
     "output_type": "stream",
     "text": [
      "1 2 3 "
     ]
    }
   ],
   "source": [
    "// Initialize linked list\n",
    "LinkedList linklist = new LinkedList();\n",
    "\n",
    "// Add elements\n",
    "linklist.head = new Node(1);\n",
    "Node second = new Node(2);\n",
    "Node third = new Node(3);\n",
    "linklist.head.next = second;\n",
    "second.next = third;\n",
    "\n",
    "linklist.printList();"
   ]
  },
  {
   "cell_type": "code",
   "execution_count": 8,
   "metadata": {},
   "outputs": [
    {
     "name": "stdout",
     "output_type": "stream",
     "text": [
      "10 1 2 3 "
     ]
    }
   ],
   "source": [
    "// Insert to 10 to the head\n",
    "linklist.push(10);\n",
    "linklist.printList()"
   ]
  },
  {
   "cell_type": "code",
   "execution_count": 9,
   "metadata": {},
   "outputs": [
    {
     "name": "stdout",
     "output_type": "stream",
     "text": [
      "10 1 50 2 3 "
     ]
    }
   ],
   "source": [
    "// Insert 50 after 2nd element\n",
    "Node prev = linklist.head.next;\n",
    "linklist.insertAfter(prev, 50);\n",
    "linklist.printList();"
   ]
  },
  {
   "cell_type": "code",
   "execution_count": 10,
   "metadata": {},
   "outputs": [
    {
     "name": "stdout",
     "output_type": "stream",
     "text": [
      "10 1 50 2 3 100 "
     ]
    }
   ],
   "source": [
    "// Insert 100 at the end\n",
    "linklist.append(100);\n",
    "linklist.printList();"
   ]
  },
  {
   "cell_type": "code",
   "execution_count": 13,
   "metadata": {},
   "outputs": [
    {
     "name": "stdout",
     "output_type": "stream",
     "text": [
      "50 2 3 100 1 "
     ]
    }
   ],
   "source": [
    "// Delete at index 1 \n",
    "linklist.deleteNodeIndex(1);\n",
    "linklist.printList();"
   ]
  },
  {
   "cell_type": "code",
   "execution_count": 14,
   "metadata": {},
   "outputs": [
    {
     "name": "stdout",
     "output_type": "stream",
     "text": [
      "2 3 100 1 "
     ]
    }
   ],
   "source": [
    "// Delete at index 1 \n",
    "linklist.deleteNode(50);\n",
    "linklist.printList();"
   ]
  },
  {
   "cell_type": "markdown",
   "metadata": {},
   "source": [
    "---"
   ]
  }
 ],
 "metadata": {
  "kernelspec": {
   "display_name": "Java",
   "language": "java",
   "name": "java"
  },
  "language_info": {
   "codemirror_mode": "java",
   "file_extension": ".jshell",
   "mimetype": "text/x-java-source",
   "name": "Java",
   "pygments_lexer": "java",
   "version": "14.0.1+7"
  }
 },
 "nbformat": 4,
 "nbformat_minor": 4
}
