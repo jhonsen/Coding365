{
 "cells": [
  {
   "cell_type": "markdown",
   "metadata": {},
   "source": [
    "## Queue\n",
    "Introduction from [here](https://www.geeksforgeeks.org/linked-list-set-1-introduction/)\n",
    "\n",
    "A Queue is a _linear structure which follows a particular order in which the operations are performed_. The order is **First In First Out (FIFO)**. A good example of a queue is any queue of consumers for a resource where the consumer that came first is served first. The difference between stacks and queues is in removing. In a stack we remove the item the most recently added; in a queue, we remove the item the least recently added\n",
    "\n",
    "**Operations on Queue**\n",
    "- Enqueue: Adds an item to the queue. If the queue is full, then it is said to be an Overflow condition.\n",
    "- Dequeue: Removes an item from the queue. The items are popped in the same order in which they are pushed. If the queue is empty, then it is said to be an Underflow condition.\n",
    "- Front: Get the front item from queue.\n",
    "- Rear: Get the last item from queue.\n"
   ]
  },
  {
   "cell_type": "code",
   "execution_count": 12,
   "metadata": {},
   "outputs": [],
   "source": [
    "# Array implementation\n",
    "class Queue:\n",
    "    def __init__(self, capacity):\n",
    "        self.front = self.size = 0\n",
    "        self.rear = capacity - 1\n",
    "        self.queue = [None]*capacity\n",
    "        self.capacity = capacity\n",
    "        \n",
    "    def isFull(self):\n",
    "        return self.size == self.capacity\n",
    "    \n",
    "    def isEmpty(self):\n",
    "        return self.size == 0\n",
    "    \n",
    "    def enqueue(self, item):\n",
    "        if self.isFull():\n",
    "            return\n",
    "        self.rear = (self.rear + 1) % (self.capacity)\n",
    "        self.queue[self.rear] = item\n",
    "        self.size = self.size + 1\n",
    "        print(\"% s enqueued to queue\" %str(item))\n",
    "        \n",
    "    def dequeue(self):\n",
    "        if self.isEmpty():\n",
    "            print(\"Empty\")\n",
    "            return\n",
    "        print(\"% s dequeued from queue\" %str(self.queue[self.front]))\n",
    "        self.front = (self.front + 1) %(self.capacity)\n",
    "        self.size = self.size - 1\n",
    "    \n",
    "    def queFront(self):\n",
    "        if self.isEmpty():\n",
    "            print(\"Queue is empty\")\n",
    "        print(\"Front item is\", self.queue[self.front])\n",
    "        \n",
    "    def queRear(self):\n",
    "        if self.isEmpty():\n",
    "            print(\"Queue is empty\")\n",
    "        print(\"Rear item is\", self.queue[self.rear])"
   ]
  },
  {
   "cell_type": "code",
   "execution_count": 13,
   "metadata": {},
   "outputs": [
    {
     "name": "stdout",
     "output_type": "stream",
     "text": [
      "10 enqueued to queue\n",
      "20 enqueued to queue\n",
      "30 enqueued to queue\n",
      "10 dequeued from queue\n"
     ]
    }
   ],
   "source": [
    "q = Queue(30)\n",
    "q.enqueue(10)\n",
    "q.enqueue(20)\n",
    "q.enqueue(30)\n",
    "q.dequeue()"
   ]
  },
  {
   "cell_type": "code",
   "execution_count": 15,
   "metadata": {},
   "outputs": [
    {
     "name": "stdout",
     "output_type": "stream",
     "text": [
      "Front item is 20\n",
      "Rear item is 30\n"
     ]
    }
   ],
   "source": [
    "q.queFront()\n",
    "q.queRear()"
   ]
  },
  {
   "cell_type": "markdown",
   "metadata": {},
   "source": [
    "---"
   ]
  },
  {
   "cell_type": "markdown",
   "metadata": {},
   "source": [
    "in **Java**, using `iJava` kernel"
   ]
  },
  {
   "cell_type": "code",
   "execution_count": 1,
   "metadata": {},
   "outputs": [],
   "source": [
    "class Queue { \n",
    "    int front, rear, size; \n",
    "    int capacity; \n",
    "    int array[]; \n",
    "  \n",
    "    public Queue(int capacity) { \n",
    "        this.capacity = capacity; \n",
    "        front = this.size = 0; \n",
    "        rear = capacity - 1; \n",
    "        array = new int[this.capacity]; \n",
    "    } \n",
    "  \n",
    "    // Queue is full when size becomes \n",
    "    // equal to the capacity \n",
    "    boolean isFull(Queue queue) { \n",
    "        return (queue.size == queue.capacity); \n",
    "    } \n",
    "  \n",
    "    // Queue is empty when size is 0 \n",
    "    boolean isEmpty(Queue queue) { \n",
    "        return (queue.size == 0); \n",
    "    } \n",
    "  \n",
    "    // Method to add an item to the queue. \n",
    "    // It changes rear and size \n",
    "    void enqueue(int item) { \n",
    "        if (isFull(this)) \n",
    "            return; \n",
    "        this.rear = (this.rear + 1) \n",
    "                    % this.capacity; \n",
    "        this.array[this.rear] = item; \n",
    "        this.size = this.size + 1; \n",
    "        System.out.println(item + \" enqueued to queue\"); \n",
    "    } \n",
    "  \n",
    "    // Method to remove an item from queue. \n",
    "    // It changes front and size \n",
    "    int dequeue() { \n",
    "        if (isEmpty(this)) \n",
    "            return Integer.MIN_VALUE; \n",
    "  \n",
    "        int item = this.array[this.front]; \n",
    "        this.front = (this.front + 1) \n",
    "                     % this.capacity; \n",
    "        this.size = this.size - 1; \n",
    "        return item; \n",
    "    } \n",
    "  \n",
    "    // Method to get front of queue \n",
    "    int front() { \n",
    "        if (isEmpty(this)) \n",
    "            return Integer.MIN_VALUE; \n",
    "  \n",
    "        return this.array[this.front]; \n",
    "    } \n",
    "  \n",
    "    // Method to get rear of queue \n",
    "    int rear() { \n",
    "        if (isEmpty(this)) \n",
    "            return Integer.MIN_VALUE; \n",
    "  \n",
    "        return this.array[this.rear]; \n",
    "    } \n",
    "} \n",
    "  "
   ]
  },
  {
   "cell_type": "code",
   "execution_count": 16,
   "metadata": {},
   "outputs": [
    {
     "name": "stdout",
     "output_type": "stream",
     "text": [
      "10 enqueued to queue\n",
      "20 enqueued to queue\n",
      "30 enqueued to queue\n",
      "40 enqueued to queue\n"
     ]
    }
   ],
   "source": [
    "Queue myQ = new Queue(30);\n",
    "myQ.enqueue(10);\n",
    "myQ.enqueue(20);\n",
    "myQ.enqueue(30);\n",
    "myQ.enqueue(40);\n",
    "// 40 30 20 10"
   ]
  },
  {
   "cell_type": "code",
   "execution_count": 17,
   "metadata": {},
   "outputs": [
    {
     "data": {
      "text/plain": [
       "10"
      ]
     },
     "execution_count": 17,
     "metadata": {},
     "output_type": "execute_result"
    }
   ],
   "source": [
    "myQ.dequeue();"
   ]
  },
  {
   "cell_type": "code",
   "execution_count": 18,
   "metadata": {},
   "outputs": [
    {
     "data": {
      "text/plain": [
       "20"
      ]
     },
     "execution_count": 18,
     "metadata": {},
     "output_type": "execute_result"
    }
   ],
   "source": [
    "myQ.front();"
   ]
  },
  {
   "cell_type": "code",
   "execution_count": 19,
   "metadata": {},
   "outputs": [
    {
     "data": {
      "text/plain": [
       "40"
      ]
     },
     "execution_count": 19,
     "metadata": {},
     "output_type": "execute_result"
    }
   ],
   "source": [
    "myQ.rear();"
   ]
  },
  {
   "cell_type": "markdown",
   "metadata": {},
   "source": [
    "---"
   ]
  }
 ],
 "metadata": {
  "kernelspec": {
   "display_name": "Java",
   "language": "java",
   "name": "java"
  },
  "language_info": {
   "codemirror_mode": "java",
   "file_extension": ".jshell",
   "mimetype": "text/x-java-source",
   "name": "Java",
   "pygments_lexer": "java",
   "version": "14.0.1+7"
  }
 },
 "nbformat": 4,
 "nbformat_minor": 4
}
