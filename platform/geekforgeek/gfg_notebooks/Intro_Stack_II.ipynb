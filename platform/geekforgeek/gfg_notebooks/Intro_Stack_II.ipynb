{
 "cells": [
  {
   "cell_type": "markdown",
   "metadata": {},
   "source": [
    "## Stack using Linked_List\n",
    "Introduction from [here](https://www.geeksforgeeks.org/stack-data-structure/)\n",
    "\n",
    "**Background**  \n",
    "Stack is a linear data structure which follows a particular order in which the operations are performed. The order may be **LIFO**(Last In First Out) or **FILO**(First In Last Out).\n",
    "  \n",
    "Mainly the following three basic operations are performed in the stack:\n",
    "- **Push**: Adds an item in the stack. If the stack is full, then it is said to be an Overflow condition.\n",
    "- **Pop**: Removes an item from the stack. The items are popped in the reversed order in which they are pushed. If the stack is empty, then it is said to be an Underflow condition.\n",
    "- **Peek or Top**: Returns top element of stack.\n",
    "- **isEmpty**: Returns true if stack is empty, else false.\n",
    "  \n",
    "Time Complexities of operations on stack:\n",
    "- push(), pop(), isEmpty() and peek() all take O(1) time. "
   ]
  },
  {
   "cell_type": "markdown",
   "metadata": {},
   "source": [
    "**Implementation**:\n",
    "- [Array](./Intro_Stack_I.ipynb)\n",
    "- Linked List"
   ]
  },
  {
   "cell_type": "markdown",
   "metadata": {},
   "source": [
    "---"
   ]
  },
  {
   "cell_type": "markdown",
   "metadata": {},
   "source": [
    "In **Python**"
   ]
  },
  {
   "cell_type": "code",
   "execution_count": 35,
   "metadata": {},
   "outputs": [],
   "source": [
    "class StackNode:\n",
    "    def __init__(self, data):\n",
    "        self.data = data\n",
    "        self.next = None\n",
    "        \n",
    "class Stack:\n",
    "    def __init__(self):\n",
    "        self.root = None\n",
    "    \n",
    "    def isEmpty(self):\n",
    "        return True if self.root is None else False\n",
    "    \n",
    "    def push(self, data):\n",
    "        newNode = StackNode(data)\n",
    "        newNode.next = self.root\n",
    "        self.root = newNode\n",
    "        print(\"%d pushed to stack\" %data)\n",
    "        \n",
    "    def pop(self):\n",
    "        if self.isEmpty():\n",
    "            return -1\n",
    "        firstNode = self.root\n",
    "        self.root = self.root.next\n",
    "        popped = firstNode.data\n",
    "        return popped\n",
    "    \n",
    "    def peek(self):\n",
    "        if self.isEmpty():\n",
    "            return -1\n",
    "        return self.root.data\n",
    "    \n",
    "    def displayStack(self):\n",
    "        nums = []\n",
    "        currentNode = self.root\n",
    "        while currentNode:\n",
    "            nums.append(currentNode.data)\n",
    "            currentNode = currentNode.next\n",
    "        return 'top:> ' + ', '.join([str(x) for x in nums]) + ' <: bottom'"
   ]
  },
  {
   "cell_type": "code",
   "execution_count": 36,
   "metadata": {},
   "outputs": [
    {
     "name": "stdout",
     "output_type": "stream",
     "text": [
      "10 pushed to stack\n",
      "20 pushed to stack\n",
      "30 pushed to stack\n"
     ]
    },
    {
     "data": {
      "text/plain": [
       "'top:> 30, 20, 10 <: bottom'"
      ]
     },
     "execution_count": 36,
     "metadata": {},
     "output_type": "execute_result"
    }
   ],
   "source": [
    "# fill stack with elements\n",
    "stack = Stack() \n",
    "stack.push(10)         \n",
    "stack.push(20) \n",
    "stack.push(30) \n",
    "  \n",
    "# display\n",
    "stack.displayStack()"
   ]
  },
  {
   "cell_type": "code",
   "execution_count": 37,
   "metadata": {},
   "outputs": [
    {
     "data": {
      "text/plain": [
       "30"
      ]
     },
     "execution_count": 37,
     "metadata": {},
     "output_type": "execute_result"
    }
   ],
   "source": [
    "# peek the top\n",
    "stack.peek()"
   ]
  },
  {
   "cell_type": "code",
   "execution_count": 38,
   "metadata": {},
   "outputs": [
    {
     "data": {
      "text/plain": [
       "'top:> 20, 10 <: bottom'"
      ]
     },
     "execution_count": 38,
     "metadata": {},
     "output_type": "execute_result"
    }
   ],
   "source": [
    "# pop the top\n",
    "stack.pop()\n",
    "\n",
    "# display\n",
    "stack.displayStack()"
   ]
  },
  {
   "cell_type": "markdown",
   "metadata": {},
   "source": [
    "---"
   ]
  },
  {
   "cell_type": "markdown",
   "metadata": {},
   "source": [
    "in **Java** with `iJava` kernel"
   ]
  },
  {
   "cell_type": "code",
   "execution_count": 42,
   "metadata": {},
   "outputs": [],
   "source": [
    "import java.util.*;\n",
    "\n",
    "class Stack {\n",
    "    StackNode root;\n",
    "    \n",
    "    class StackNode {\n",
    "        int data;\n",
    "        StackNode next;\n",
    "        \n",
    "        StackNode(int data){\n",
    "            this.data = data;\n",
    "        }\n",
    "    }\n",
    "    \n",
    "    void push(int data){\n",
    "        StackNode newNode = new StackNode(data);\n",
    "        if (root == null) {\n",
    "            root = newNode;\n",
    "        } else {\n",
    "            StackNode temp = root; \n",
    "            root = newNode;\n",
    "            newNode.next = temp;\n",
    "        }\n",
    "        System.out.println(data + \" pushed to stack\");\n",
    "    }\n",
    "    \n",
    "    boolean isEmpty(){\n",
    "        if (root == null) { return true;} \n",
    "        else { return false;}\n",
    "    } \n",
    "      \n",
    "    int peek(){\n",
    "        if (root == null) {\n",
    "            System.out.println(\"Stack is empty.\");\n",
    "            return -1;\n",
    "        } else {\n",
    "            return root.data;\n",
    "        }\n",
    "    }\n",
    "    \n",
    "    int pop(){\n",
    "        int popped = -1;\n",
    "        if (root == null) {\n",
    "            System.out.println(\"Stack is empty.\");            \n",
    "            return -1;\n",
    "        } else {\n",
    "            popped = root.data;\n",
    "            root = root.next;\n",
    "        }\n",
    "        return popped;\n",
    "    }\n",
    "    \n",
    "    void displayStack(){\n",
    "        StringBuilder nums = new StringBuilder();\n",
    "        StackNode currentNode = root;\n",
    "        while (currentNode != null){\n",
    "            nums.append(currentNode.data + \" \");            \n",
    "            currentNode = currentNode.next;\n",
    "        }    \n",
    "        System.out.println(\"top:> \" + nums.toString() + \"<: bottom\");\n",
    "    }\n",
    "    \n",
    "\n",
    "}"
   ]
  },
  {
   "cell_type": "code",
   "execution_count": 43,
   "metadata": {},
   "outputs": [
    {
     "name": "stdout",
     "output_type": "stream",
     "text": [
      "10 pushed to stack\n",
      "20 pushed to stack\n",
      "30 pushed to stack\n",
      "top:> 30 20 10 <: bottom\n"
     ]
    }
   ],
   "source": [
    "// fill the stack\n",
    "Stack myStack = new Stack();\n",
    "myStack.push(10);\n",
    "myStack.push(20);\n",
    "myStack.push(30);\n",
    "\n",
    "// display\n",
    "myStack.displayStack();"
   ]
  },
  {
   "cell_type": "code",
   "execution_count": 44,
   "metadata": {},
   "outputs": [
    {
     "data": {
      "text/plain": [
       "30"
      ]
     },
     "execution_count": 44,
     "metadata": {},
     "output_type": "execute_result"
    }
   ],
   "source": [
    "// peek the top\n",
    "myStack.peek();"
   ]
  },
  {
   "cell_type": "code",
   "execution_count": 45,
   "metadata": {},
   "outputs": [
    {
     "data": {
      "text/plain": [
       "30"
      ]
     },
     "execution_count": 45,
     "metadata": {},
     "output_type": "execute_result"
    }
   ],
   "source": [
    "// pop the top\n",
    "myStack.pop();"
   ]
  },
  {
   "cell_type": "code",
   "execution_count": 46,
   "metadata": {},
   "outputs": [
    {
     "data": {
      "text/plain": [
       "20"
      ]
     },
     "execution_count": 46,
     "metadata": {},
     "output_type": "execute_result"
    }
   ],
   "source": [
    "// now peek the top\n",
    "myStack.peek();"
   ]
  },
  {
   "cell_type": "code",
   "execution_count": 47,
   "metadata": {},
   "outputs": [
    {
     "name": "stdout",
     "output_type": "stream",
     "text": [
      "top:> 20 10 <: bottom\n"
     ]
    }
   ],
   "source": [
    "// display\n",
    "myStack.displayStack();"
   ]
  },
  {
   "cell_type": "markdown",
   "metadata": {},
   "source": [
    "---"
   ]
  }
 ],
 "metadata": {
  "kernelspec": {
   "display_name": "Python 3",
   "language": "python",
   "name": "python3"
  },
  "language_info": {
   "codemirror_mode": {
    "name": "ipython",
    "version": 3
   },
   "file_extension": ".py",
   "mimetype": "text/x-python",
   "name": "python",
   "nbconvert_exporter": "python",
   "pygments_lexer": "ipython3",
   "version": "3.7.4"
  }
 },
 "nbformat": 4,
 "nbformat_minor": 4
}
