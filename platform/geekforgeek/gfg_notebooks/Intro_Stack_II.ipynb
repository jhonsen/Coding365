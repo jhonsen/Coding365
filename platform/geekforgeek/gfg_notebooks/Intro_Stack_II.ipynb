{
 "cells": [
  {
   "cell_type": "markdown",
   "metadata": {},
   "source": [
    "## Stack using Linked_List\n",
    "Introduction from [here](https://www.geeksforgeeks.org/stack-data-structure/)\n",
    "\n",
    "**Background**  \n",
    "Stack is a linear data structure which follows a particular order in which the operations are performed. The order may be **LIFO**(Last In First Out) or **FILO**(First In Last Out).\n",
    "  \n",
    "Mainly the following three basic operations are performed in the stack:\n",
    "- **Push**: Adds an item in the stack. If the stack is full, then it is said to be an Overflow condition.\n",
    "- **Pop**: Removes an item from the stack. The items are popped in the reversed order in which they are pushed. If the stack is empty, then it is said to be an Underflow condition.\n",
    "- **Peek or Top**: Returns top element of stack.\n",
    "- **isEmpty**: Returns true if stack is empty, else false.\n",
    "  \n",
    "Time Complexities of operations on stack:\n",
    "- push(), pop(), isEmpty() and peek() all take O(1) time. "
   ]
  },
  {
   "cell_type": "markdown",
   "metadata": {},
   "source": [
    "**Implementation**:\n",
    "- [Array](./Intro_Stack_I.ipynb)\n",
    "- Linked List"
   ]
  },
  {
   "cell_type": "markdown",
   "metadata": {},
   "source": [
    "---"
   ]
  },
  {
   "cell_type": "markdown",
   "metadata": {},
   "source": [
    "In **Python**"
   ]
  },
  {
   "cell_type": "code",
   "execution_count": 35,
   "metadata": {},
   "outputs": [],
   "source": [
    "class StackNode:\n",
    "    def __init__(self, data):\n",
    "        self.data = data\n",
    "        self.next = None\n",
    "        \n",
    "class Stack:\n",
    "    def __init__(self):\n",
    "        self.root = None\n",
    "    \n",
    "    def isEmpty(self):\n",
    "        return True if self.root is None else False\n",
    "    \n",
    "    def push(self, data):\n",
    "        newNode = StackNode(data)\n",
    "        newNode.next = self.root\n",
    "        self.root = newNode\n",
    "        print(\"%d pushed to stack\" %data)\n",
    "        \n",
    "    def pop(self):\n",
    "        if self.isEmpty():\n",
    "            return -1\n",
    "        firstNode = self.root\n",
    "        self.root = self.root.next\n",
    "        popped = firstNode.data\n",
    "        return popped\n",
    "    \n",
    "    def peek(self):\n",
    "        if self.isEmpty():\n",
    "            return -1\n",
    "        return self.root.data\n",
    "    \n",
    "    def displayStack(self):\n",
    "        nums = []\n",
    "        currentNode = self.root\n",
    "        while currentNode:\n",
    "            nums.append(currentNode.data)\n",
    "            currentNode = currentNode.next\n",
    "        return 'top:> ' + ', '.join([str(x) for x in nums]) + ' <: bottom'"
   ]
  },
  {
   "cell_type": "code",
   "execution_count": 36,
   "metadata": {},
   "outputs": [
    {
     "name": "stdout",
     "output_type": "stream",
     "text": [
      "10 pushed to stack\n",
      "20 pushed to stack\n",
      "30 pushed to stack\n"
     ]
    },
    {
     "data": {
      "text/plain": [
       "'top:> 30, 20, 10 <: bottom'"
      ]
     },
     "execution_count": 36,
     "metadata": {},
     "output_type": "execute_result"
    }
   ],
   "source": [
    "# fill stack with elements\n",
    "stack = Stack() \n",
    "stack.push(10)         \n",
    "stack.push(20) \n",
    "stack.push(30) \n",
    "  \n",
    "# display\n",
    "stack.displayStack()"
   ]
  },
  {
   "cell_type": "code",
   "execution_count": 37,
   "metadata": {},
   "outputs": [
    {
     "data": {
      "text/plain": [
       "30"
      ]
     },
     "execution_count": 37,
     "metadata": {},
     "output_type": "execute_result"
    }
   ],
   "source": [
    "# peek the top\n",
    "stack.peek()"
   ]
  },
  {
   "cell_type": "code",
   "execution_count": 38,
   "metadata": {},
   "outputs": [
    {
     "data": {
      "text/plain": [
       "'top:> 20, 10 <: bottom'"
      ]
     },
     "execution_count": 38,
     "metadata": {},
     "output_type": "execute_result"
    }
   ],
   "source": [
    "# pop the top\n",
    "stack.pop()\n",
    "\n",
    "# display\n",
    "stack.displayStack()"
   ]
  },
  {
   "cell_type": "markdown",
   "metadata": {},
   "source": [
    "---"
   ]
  },
  {
   "cell_type": "markdown",
   "metadata": {},
   "source": [
    "in **Java** with `iJava` kernel"
   ]
  },
  {
   "cell_type": "code",
   "execution_count": 96,
   "metadata": {},
   "outputs": [],
   "source": []
  },
  {
   "cell_type": "code",
   "execution_count": 1,
   "metadata": {},
   "outputs": [],
   "source": [
    "// fill the stack\n",
    "\n",
    "\n",
    "// display\n"
   ]
  },
  {
   "cell_type": "code",
   "execution_count": 2,
   "metadata": {},
   "outputs": [],
   "source": [
    "// peek the top\n",
    "\n"
   ]
  },
  {
   "cell_type": "code",
   "execution_count": 3,
   "metadata": {},
   "outputs": [],
   "source": [
    "// pop the top\n"
   ]
  },
  {
   "cell_type": "code",
   "execution_count": 4,
   "metadata": {},
   "outputs": [],
   "source": [
    "// now peek the top\n"
   ]
  },
  {
   "cell_type": "code",
   "execution_count": 7,
   "metadata": {},
   "outputs": [
    {
     "data": {
      "text/plain": [
       "1"
      ]
     },
     "execution_count": 7,
     "metadata": {},
     "output_type": "execute_result"
    }
   ],
   "source": [
    "// display\n",
    "Integer.toString(1)"
   ]
  },
  {
   "cell_type": "markdown",
   "metadata": {},
   "source": [
    "---"
   ]
  },
  {
   "cell_type": "code",
   "execution_count": 17,
   "metadata": {},
   "outputs": [],
   "source": [
    "import java.util.Scanner;\n",
    "// Scanner sc = new Scanner(System.in);\n",
    "// int number = sc.nextInt();\n",
    "int number = 123;\n",
    "String[] numbers = Integer.toString(number).split(\"\");\n",
    "\n",
    "\n",
    "String[] reversedNumbers = {};\n",
    "for ( num:numbers) {\n",
    "    reversedNumbers"
   ]
  },
  {
   "cell_type": "code",
   "execution_count": 25,
   "metadata": {},
   "outputs": [
    {
     "data": {
      "text/plain": [
       "12"
      ]
     },
     "execution_count": 25,
     "metadata": {},
     "output_type": "execute_result"
    }
   ],
   "source": [
    "String number = \"012\";\n",
    "Integer.parseInt(number);"
   ]
  },
  {
   "cell_type": "code",
   "execution_count": 19,
   "metadata": {},
   "outputs": [
    {
     "data": {
      "text/plain": [
       "10"
      ]
     },
     "execution_count": 19,
     "metadata": {},
     "output_type": "execute_result"
    }
   ],
   "source": [
    "number"
   ]
  },
  {
   "cell_type": "code",
   "execution_count": null,
   "metadata": {},
   "outputs": [],
   "source": []
  }
 ],
 "metadata": {
  "kernelspec": {
   "display_name": "Java",
   "language": "java",
   "name": "java"
  },
  "language_info": {
   "codemirror_mode": "java",
   "file_extension": ".jshell",
   "mimetype": "text/x-java-source",
   "name": "Java",
   "pygments_lexer": "java",
   "version": "14.0.1+7"
  }
 },
 "nbformat": 4,
 "nbformat_minor": 4
}
