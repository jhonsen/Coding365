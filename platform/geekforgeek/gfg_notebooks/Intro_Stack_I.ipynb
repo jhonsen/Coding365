{
 "cells": [
  {
   "cell_type": "markdown",
   "metadata": {},
   "source": [
    "## Stack\n",
    "Introduction from [here](https://www.geeksforgeeks.org/stack-data-structure/)\n",
    "\n",
    "**Background**  \n",
    "Stack is a linear data structure which follows a particular order in which the operations are performed. The order may be **LIFO**(Last In First Out) or **FILO**(First In Last Out).\n",
    "  \n",
    "Mainly the following three basic operations are performed in the stack:\n",
    "- **Push**: Adds an item in the stack. If the stack is full, then it is said to be an Overflow condition.\n",
    "- **Pop**: Removes an item from the stack. The items are popped in the reversed order in which they are pushed. If the stack is empty, then it is said to be an Underflow condition.\n",
    "- **Peek or Top**: Returns top element of stack.\n",
    "- **isEmpty**: Returns true if stack is empty, else false.\n",
    "  \n",
    "Time Complexities of operations on stack:\n",
    "- push(), pop(), isEmpty() and peek() all take O(1) time. "
   ]
  },
  {
   "cell_type": "markdown",
   "metadata": {},
   "source": [
    "**Implementation**:\n",
    "- Array\n",
    "- Linked List"
   ]
  },
  {
   "cell_type": "markdown",
   "metadata": {},
   "source": [
    "---"
   ]
  },
  {
   "cell_type": "markdown",
   "metadata": {},
   "source": [
    "In **Python**"
   ]
  },
  {
   "cell_type": "code",
   "execution_count": 15,
   "metadata": {},
   "outputs": [],
   "source": [
    "class myStack:\n",
    "    \n",
    "    def __init__(self):\n",
    "        self.arr = []\n",
    "        \n",
    "    def push(self, data):\n",
    "        self.arr.append(data)\n",
    "    \n",
    "    def pop(self):\n",
    "        if self.isEmpty():\n",
    "            return -1\n",
    "        return self.arr.pop()\n",
    "    \n",
    "    def isEmpty(self):\n",
    "        return len(self.arr) == 0\n",
    "    \n",
    "    def peek(self):\n",
    "        if self.isEmpty():\n",
    "            return -1\n",
    "        return self.arr[-1]\n",
    "    \n",
    "    def display(self):\n",
    "        return self.arr"
   ]
  },
  {
   "cell_type": "code",
   "execution_count": 22,
   "metadata": {},
   "outputs": [
    {
     "data": {
      "text/plain": [
       "[1, 2, 3]"
      ]
     },
     "execution_count": 22,
     "metadata": {},
     "output_type": "execute_result"
    }
   ],
   "source": [
    "# fill stack with elements\n",
    "st = myStack()\n",
    "st.push(1)\n",
    "st.push(2)\n",
    "st.push(3)\n",
    "\n",
    "# display\n",
    "st.display()"
   ]
  },
  {
   "cell_type": "code",
   "execution_count": 23,
   "metadata": {},
   "outputs": [
    {
     "data": {
      "text/plain": [
       "3"
      ]
     },
     "execution_count": 23,
     "metadata": {},
     "output_type": "execute_result"
    }
   ],
   "source": [
    "# peek the top\n",
    "st.peek()"
   ]
  },
  {
   "cell_type": "code",
   "execution_count": 24,
   "metadata": {},
   "outputs": [
    {
     "data": {
      "text/plain": [
       "[1, 2]"
      ]
     },
     "execution_count": 24,
     "metadata": {},
     "output_type": "execute_result"
    }
   ],
   "source": [
    "# pop the top\n",
    "st.pop()\n",
    "# display\n",
    "st.display()"
   ]
  },
  {
   "cell_type": "markdown",
   "metadata": {},
   "source": [
    "---"
   ]
  },
  {
   "cell_type": "markdown",
   "metadata": {},
   "source": [
    "in **Java** with `iJava` kernel"
   ]
  },
  {
   "cell_type": "code",
   "execution_count": 96,
   "metadata": {},
   "outputs": [],
   "source": [
    "class myStack{\n",
    "    static final int MAX = 1000; \n",
    "    int top;\n",
    "    int arr[] = new int[MAX];\n",
    "    \n",
    "    myStack(){\n",
    "        top = -1;\n",
    "    }\n",
    "    \n",
    "    boolean isEmpty(){\n",
    "        return top < 0;\n",
    "    }\n",
    "    \n",
    "    boolean push(int x) { \n",
    "        if (top >= (MAX - 1)) { \n",
    "            System.out.println(\"Stack Overflow\"); \n",
    "            return false; \n",
    "        } \n",
    "        else { \n",
    "            arr[++top] = x; \n",
    "            System.out.println(x + \" pushed into stack\"); \n",
    "            return true; \n",
    "        } \n",
    "    }\n",
    "    \n",
    "    int pop(){\n",
    "        if (top < 0) { \n",
    "            System.out.println(\"Stack Underflow\"); \n",
    "            return 0; \n",
    "        } \n",
    "        else { \n",
    "            int x = arr[top--]; \n",
    "            return x; \n",
    "        } \n",
    "    }\n",
    "    \n",
    "    int peek(){\n",
    "        if (top < 0) { \n",
    "            System.out.println(\"Stack Underflow\"); \n",
    "            return 0; \n",
    "        } \n",
    "        else { \n",
    "            int x = arr[top]; \n",
    "            return x; \n",
    "        } \n",
    "    } \n",
    " \n",
    "    void display(){\n",
    "        for (int i=0; i <= top; i++){\n",
    "            System.out.print(arr[i] + \" \"); \n",
    "        }\n",
    "    }\n",
    "    \n",
    "}"
   ]
  },
  {
   "cell_type": "code",
   "execution_count": 97,
   "metadata": {},
   "outputs": [
    {
     "name": "stdout",
     "output_type": "stream",
     "text": [
      "1 pushed into stack\n",
      "2 pushed into stack\n",
      "3 pushed into stack\n",
      "1 2 3 "
     ]
    }
   ],
   "source": [
    "// fill the stack\n",
    "myStack st = new myStack();\n",
    "st.push(1);\n",
    "st.push(2);\n",
    "st.push(3);\n",
    "\n",
    "// display\n",
    "st.display();"
   ]
  },
  {
   "cell_type": "code",
   "execution_count": 98,
   "metadata": {},
   "outputs": [
    {
     "data": {
      "text/plain": [
       "3"
      ]
     },
     "execution_count": 98,
     "metadata": {},
     "output_type": "execute_result"
    }
   ],
   "source": [
    "// peek the top\n",
    "st.peek();"
   ]
  },
  {
   "cell_type": "code",
   "execution_count": 99,
   "metadata": {},
   "outputs": [
    {
     "data": {
      "text/plain": [
       "3"
      ]
     },
     "execution_count": 99,
     "metadata": {},
     "output_type": "execute_result"
    }
   ],
   "source": [
    "// pop the top\n",
    "st.pop();"
   ]
  },
  {
   "cell_type": "code",
   "execution_count": 102,
   "metadata": {},
   "outputs": [
    {
     "data": {
      "text/plain": [
       "2"
      ]
     },
     "execution_count": 102,
     "metadata": {},
     "output_type": "execute_result"
    }
   ],
   "source": [
    "// now peek the top\n",
    "st.peek()"
   ]
  },
  {
   "cell_type": "code",
   "execution_count": 104,
   "metadata": {},
   "outputs": [
    {
     "name": "stdout",
     "output_type": "stream",
     "text": [
      "1 2 "
     ]
    }
   ],
   "source": [
    "// display\n",
    "st.display()"
   ]
  },
  {
   "cell_type": "markdown",
   "metadata": {},
   "source": [
    "---"
   ]
  }
 ],
 "metadata": {
  "kernelspec": {
   "display_name": "Java",
   "language": "java",
   "name": "java"
  },
  "language_info": {
   "codemirror_mode": "java",
   "file_extension": ".jshell",
   "mimetype": "text/x-java-source",
   "name": "Java",
   "pygments_lexer": "java",
   "version": "14.0.1+7"
  }
 },
 "nbformat": 4,
 "nbformat_minor": 4
}
