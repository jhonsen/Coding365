{
 "cells": [
  {
   "cell_type": "markdown",
   "metadata": {},
   "source": [
    "## Stack using Python libraries\n",
    "Introduction from [here](https://www.geeksforgeeks.org/stack-in-python/)\n",
    "\n",
    "**Background**  \n",
    "Stack is a linear data structure which follows a particular order in which the operations are performed. The order may be **LIFO**(Last In First Out) or **FILO**(First In Last Out).\n",
    "  \n",
    "Mainly the following three basic operations are performed in the stack:\n",
    "- **Push**: Adds an item in the stack. If the stack is full, then it is said to be an Overflow condition.\n",
    "- **Pop**: Removes an item from the stack. The items are popped in the reversed order in which they are pushed. If the stack is empty, then it is said to be an Underflow condition.\n",
    "- **Peek or Top**: Returns top element of stack.\n",
    "- **isEmpty**: Returns true if stack is empty, else false.\n",
    "  "
   ]
  },
  {
   "cell_type": "markdown",
   "metadata": {},
   "source": [
    "---"
   ]
  },
  {
   "cell_type": "markdown",
   "metadata": {},
   "source": [
    "Implementation using **deque**\n"
   ]
  },
  {
   "cell_type": "code",
   "execution_count": 1,
   "metadata": {},
   "outputs": [
    {
     "name": "stdout",
     "output_type": "stream",
     "text": [
      "Initial stack:\n",
      "deque(['a', 'b', 'c'])\n"
     ]
    }
   ],
   "source": [
    "from collections import deque \n",
    "  \n",
    "stack = deque() \n",
    "  \n",
    "# append() function to push \n",
    "# element in the stack \n",
    "stack.append('a') \n",
    "stack.append('b') \n",
    "stack.append('c') \n",
    "  \n",
    "print('Initial stack:') \n",
    "print(stack) "
   ]
  },
  {
   "cell_type": "code",
   "execution_count": 2,
   "metadata": {},
   "outputs": [
    {
     "name": "stdout",
     "output_type": "stream",
     "text": [
      "\n",
      "Elements poped from stack:\n",
      "c\n",
      "b\n",
      "a\n"
     ]
    }
   ],
   "source": [
    "# pop() fucntion to pop \n",
    "# element from stack in  \n",
    "# LIFO order \n",
    "print('\\nElements poped from stack:') \n",
    "print(stack.pop()) \n",
    "print(stack.pop()) \n",
    "print(stack.pop()) \n",
    "  "
   ]
  },
  {
   "cell_type": "code",
   "execution_count": 6,
   "metadata": {},
   "outputs": [
    {
     "name": "stdout",
     "output_type": "stream",
     "text": [
      "\n",
      "Stack after elements are poped:\n",
      "deque([])\n"
     ]
    }
   ],
   "source": [
    "print('\\nStack after elements are poped:') \n",
    "print(stack) "
   ]
  },
  {
   "cell_type": "markdown",
   "metadata": {},
   "source": [
    "---"
   ]
  },
  {
   "cell_type": "markdown",
   "metadata": {},
   "source": [
    "Implementation using **queue**  \n",
    "\n",
    "There are various functions available in this module:\n",
    "- maxsize – Number of items allowed in the queue.\n",
    "- empty() – Return True if the queue is empty, False otherwise.\n",
    "- full() – Return True if there are maxsize items in the queue. If the queue was initialized with maxsize=0 (the default), then - full() never returns True.\n",
    "- get() – Remove and return an item from the queue. If queue is empty, wait until an item is available.\n",
    "- get_nowait() – Return an item if one is immediately available, else raise QueueEmpty.\n",
    "- put(item) – Put an item into the queue. If the queue is full, wait until a free slot is available before adding the item.\n",
    "- put_nowait(item) – Put an item into the queue without blocking.\n",
    "- qsize() – Return the number of items in the queue. If no free slot is immediately available, raise QueueFull."
   ]
  },
  {
   "cell_type": "code",
   "execution_count": 7,
   "metadata": {},
   "outputs": [
    {
     "name": "stdout",
     "output_type": "stream",
     "text": [
      "0\n"
     ]
    }
   ],
   "source": [
    "from queue import LifoQueue \n",
    "  \n",
    "# Initializing a stack \n",
    "stack = LifoQueue(maxsize = 3) \n",
    "  \n",
    "# qsize() show the number of elements \n",
    "# in the stack \n",
    "print(stack.qsize()) "
   ]
  },
  {
   "cell_type": "code",
   "execution_count": 8,
   "metadata": {},
   "outputs": [
    {
     "name": "stdout",
     "output_type": "stream",
     "text": [
      "Full:  True\n",
      "Size:  3\n"
     ]
    }
   ],
   "source": [
    "# put() function to push \n",
    "# element in the stack \n",
    "stack.put('a') \n",
    "stack.put('b') \n",
    "stack.put('c') \n",
    "  \n",
    "print(\"Full: \", stack.full())  \n",
    "print(\"Size: \", stack.qsize())  "
   ]
  },
  {
   "cell_type": "code",
   "execution_count": 9,
   "metadata": {},
   "outputs": [
    {
     "name": "stdout",
     "output_type": "stream",
     "text": [
      "\n",
      "Elements poped from the stack\n",
      "c\n",
      "b\n",
      "a\n",
      "\n",
      "Empty:  True\n"
     ]
    }
   ],
   "source": [
    "# get() fucntion to pop \n",
    "# element from stack in  \n",
    "# LIFO order \n",
    "print('\\nElements poped from the stack') \n",
    "print(stack.get()) \n",
    "print(stack.get()) \n",
    "print(stack.get()) \n",
    "  \n",
    "print(\"\\nEmpty: \", stack.empty())"
   ]
  },
  {
   "cell_type": "markdown",
   "metadata": {},
   "source": [
    "---\n",
    "\n",
    "#### Practice problem with Stack\n",
    "\n",
    "`Reverse a String` [from here](https://practice.geeksforgeeks.org/problems/reverse-a-string-using-stack/1/?category[]=Stack&page=1&query=category[]Stackpage1)\n",
    "\n",
    "A string of words is given, the task is to reverse the string using stack.\n",
    "\n",
    "**Input Format**:\n",
    "The first line of input will contains an integer T denoting the no of test cases . Then T test cases follow. Each test case contains a string s of words without spaces.\n",
    "\n",
    "**Output Format**:\n",
    "For each test case ,print the reverse of the string in new line. \n",
    "\n",
    "Your Task:\n",
    "Since this is a function problem, you don't need to take any input. Just complete the provided function.\n",
    "\n",
    "Constraints:\n",
    "1 <= T <= 100\n",
    "1 <= length of the string <= 100\n",
    "\n",
    "**Example**:\n",
    "\n",
    "**Input**:  \n",
    "2  \n",
    "GeeksQuiz  \n",
    "GeeksforGeeks  \n",
    "  \n",
    "**Output**:    \n",
    "ziuQskeeG  \n",
    "skeeGrofskeeG  \n"
   ]
  },
  {
   "cell_type": "code",
   "execution_count": 17,
   "metadata": {},
   "outputs": [],
   "source": [
    "from collections import deque\n",
    "\n",
    "def reverse(string):\n",
    "    stack = deque()\n",
    "    for letter in string:\n",
    "        stack.append(letter)\n",
    "    output = ''\n",
    "    while len(stack)>0:\n",
    "        output += stack.pop()\n",
    "    return output "
   ]
  },
  {
   "cell_type": "code",
   "execution_count": 18,
   "metadata": {},
   "outputs": [
    {
     "data": {
      "text/plain": [
       "['ziuQskeeG', 'skeeGrofskeeG']"
      ]
     },
     "execution_count": 18,
     "metadata": {},
     "output_type": "execute_result"
    }
   ],
   "source": [
    "test_cases = [\"GeeksQuiz\",      # ziuQskeeG\n",
    "              \"GeeksforGeeks\",  # skeeGrofskeeG\n",
    "            ]\n",
    "\n",
    "[reverse(case) for case in test_cases]"
   ]
  },
  {
   "cell_type": "code",
   "execution_count": 12,
   "metadata": {},
   "outputs": [],
   "source": [
    "stack = deque()"
   ]
  },
  {
   "cell_type": "code",
   "execution_count": 14,
   "metadata": {},
   "outputs": [
    {
     "data": {
      "text/plain": [
       "2"
      ]
     },
     "execution_count": 14,
     "metadata": {},
     "output_type": "execute_result"
    }
   ],
   "source": [
    "stack.append(1)\n",
    "len(stack)"
   ]
  },
  {
   "cell_type": "markdown",
   "metadata": {},
   "source": [
    "---\n"
   ]
  },
  {
   "cell_type": "markdown",
   "metadata": {},
   "source": [
    "## Stack using Java libraries\n",
    "Introduction from [here](https://www.geeksforgeeks.org/stack-class-in-java/)\n",
    "\n",
    "**Background**  \n",
    "Stack is a linear data structure which follows a particular order in which the operations are performed. The order may be **LIFO**(Last In First Out) or **FILO**(First In Last Out).\n",
    "  \n",
    "All Implemented Interfaces:\n",
    "- **Serializable**: It is a marker interface that classes must implement if they are to be serialized and deserialized.\n",
    "- **Cloneable**: This is an interface in Java which needs to be implemented by a class to allow its objects to be cloned.\n",
    "- **Iterable<E>**: This interface represents a collection of objects which is iterable — meaning which can be iterated.\n",
    "- **Collection<E>**: A Collection represents a group of objects known as its elements. The Collection interface is used to pass around collections of objects where maximum generality is desired.\n",
    "- **List<E>**: The List interface provides a way to store the ordered collection. It is a child interface of Collection.\n",
    "- **RandomAccess**: This is a marker interface used by List implementations to indicate that they support fast (generally constant time) random access.\n",
    "  \n",
    "In order to create a stack, we must import `java.util.stack` package and use the `Stack()` constructor of this class.\n",
    "\n",
    "`Stack<E> stack = new Stack<E>();`\n",
    "\n"
   ]
  },
  {
   "cell_type": "code",
   "execution_count": 13,
   "metadata": {},
   "outputs": [
    {
     "name": "stdout",
     "output_type": "stream",
     "text": [
      "[4, All, Geeks]\n"
     ]
    }
   ],
   "source": [
    "import java.util.*;\n",
    "\n",
    "// Default initialization of Stack \n",
    "Stack stack1 = new Stack(); \n",
    "\n",
    "// Initialization of Stack \n",
    "// using Generics \n",
    "Stack<String> stack2 = new Stack<String>(); \n",
    "\n",
    "// pushing the elements \n",
    "stack1.push(4); \n",
    "stack1.push(\"All\"); \n",
    "stack1.push(\"Geeks\"); \n",
    "\n",
    "// Priniting the Stack Elements \n",
    "System.out.println(stack1); "
   ]
  },
  {
   "cell_type": "code",
   "execution_count": 14,
   "metadata": {},
   "outputs": [
    {
     "data": {
      "text/plain": [
       "Geeks"
      ]
     },
     "execution_count": 14,
     "metadata": {},
     "output_type": "execute_result"
    }
   ],
   "source": [
    "// Display the stack top\n",
    "stack1.peek();"
   ]
  },
  {
   "cell_type": "code",
   "execution_count": 15,
   "metadata": {},
   "outputs": [
    {
     "data": {
      "text/plain": [
       "All"
      ]
     },
     "execution_count": 15,
     "metadata": {},
     "output_type": "execute_result"
    }
   ],
   "source": [
    "// Popping the top element\n",
    "stack1.pop();\n",
    "stack1.peek();"
   ]
  },
  {
   "cell_type": "code",
   "execution_count": 16,
   "metadata": {},
   "outputs": [
    {
     "data": {
      "text/plain": [
       "2"
      ]
     },
     "execution_count": 16,
     "metadata": {},
     "output_type": "execute_result"
    }
   ],
   "source": [
    "// search 4 in the stack\n",
    "stack1.search(4);"
   ]
  },
  {
   "cell_type": "markdown",
   "metadata": {},
   "source": [
    "Alternatively, use **ArrayDeque**"
   ]
  },
  {
   "cell_type": "code",
   "execution_count": 17,
   "metadata": {},
   "outputs": [
    {
     "name": "stdout",
     "output_type": "stream",
     "text": [
      "B\n",
      "B\n"
     ]
    }
   ],
   "source": [
    "import java.util.*;\n",
    "Deque<Character> stack = new ArrayDeque<Character>(); \n",
    "stack.push('A'); \n",
    "stack.push('B'); \n",
    "System.out.println(stack.peek()); \n",
    "System.out.println(stack.pop()); "
   ]
  },
  {
   "cell_type": "markdown",
   "metadata": {},
   "source": [
    "---\n",
    "\n",
    "#### Practice problem with Stack\n",
    "\n",
    "`Reverse a String` [from here](https://practice.geeksforgeeks.org/problems/reverse-a-string-using-stack/1/?category[]=Stack&page=1&query=category[]Stackpage1)\n",
    "\n",
    "A string of words is given, the task is to reverse the string using stack.\n",
    "\n",
    "**Input Format**:\n",
    "The first line of input will contains an integer T denoting the no of test cases . Then T test cases follow. Each test case contains a string s of words without spaces.\n",
    "\n",
    "**Output Format**:\n",
    "For each test case ,print the reverse of the string in new line. \n",
    "\n",
    "Your Task:\n",
    "Since this is a function problem, you don't need to take any input. Just complete the provided function.\n",
    "\n",
    "Constraints:\n",
    "1 <= T <= 100\n",
    "1 <= length of the string <= 100\n",
    "\n",
    "**Example**:\n",
    "\n",
    "**Input**:  \n",
    "2  \n",
    "GeeksQuiz  \n",
    "GeeksforGeeks  \n",
    "  \n",
    "**Output**:    \n",
    "ziuQskeeG  \n",
    "skeeGrofskeeG  \n"
   ]
  },
  {
   "cell_type": "code",
   "execution_count": 37,
   "metadata": {},
   "outputs": [],
   "source": [
    "import java.util.*;\n",
    "\n",
    "void reverse(String word){\n",
    "    String letters[] = word.split(\"\");\n",
    "    StringBuilder output = new StringBuilder();\n",
    "    Deque<String> stack = new ArrayDeque<String>();\n",
    "    for (String let:letters){ stack.push(let);}\n",
    "    while (stack.size() > 0) {\n",
    "        output.append(stack.pop());\n",
    "    }\n",
    "    System.out.println(output.toString());\n",
    "}"
   ]
  },
  {
   "cell_type": "code",
   "execution_count": 40,
   "metadata": {},
   "outputs": [
    {
     "name": "stdout",
     "output_type": "stream",
     "text": [
      "EDCBA\n"
     ]
    }
   ],
   "source": [
    "reverse(\"ABCDE\")"
   ]
  },
  {
   "cell_type": "markdown",
   "metadata": {},
   "source": [
    "---"
   ]
  }
 ],
 "metadata": {
  "kernelspec": {
   "display_name": "Java",
   "language": "java",
   "name": "java"
  },
  "language_info": {
   "codemirror_mode": "java",
   "file_extension": ".jshell",
   "mimetype": "text/x-java-source",
   "name": "Java",
   "pygments_lexer": "java",
   "version": "14.0.1+7"
  }
 },
 "nbformat": 4,
 "nbformat_minor": 4
}
