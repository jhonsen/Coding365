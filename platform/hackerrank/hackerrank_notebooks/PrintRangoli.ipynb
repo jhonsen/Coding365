{
 "cells": [
  {
   "cell_type": "markdown",
   "metadata": {},
   "source": [
    "## HackerRank `Alphabet Rangoli` \n",
    "- Taken from [here](https://www.hackerrank.com/challenges/alphabet-rangoli/problem)\n",
    "  \n",
    "You are given an integer, . Your task is to print an alphabet rangoli of size . (Rangoli is a form of Indian folk art based on creation of patterns.)\n",
    "\n",
    "Different sizes of alphabet rangoli are shown below:  \n",
    "  \n",
    "**size 3**   \n",
    "  \n",
    "----c----  \n",
    "--c-b-c--  \n",
    "c-b-a-b-c  \n",
    "--c-b-c--  \n",
    "----c----  \n",
    "  \n",
    "**size 5**  \n",
    "  \n",
    "--------e--------  \n",
    "------e-d-e------  \n",
    "----e-d-c-d-e----  \n",
    "--e-d-c-b-c-d-e--  \n",
    "e-d-c-b-a-b-c-d-e  \n",
    "--e-d-c-b-c-d-e--  \n",
    "----e-d-c-d-e----  \n",
    "------e-d-e------  \n",
    "--------e--------  \n"
   ]
  },
  {
   "cell_type": "markdown",
   "metadata": {},
   "source": [
    "#### Use **Python** kernel"
   ]
  },
  {
   "cell_type": "code",
   "execution_count": 98,
   "metadata": {},
   "outputs": [],
   "source": [
    "def print_rangoli(size):\n",
    "    n = size\n",
    "\n",
    "    alphabets = list('abcdefghijklmnopqrstuvwxyz')\n",
    "    letters = alphabets[:n][::-1]\n",
    "\n",
    "    mat = []\n",
    "    for i in range(1, n+1):\n",
    "        left = (n-i)*['-'] + letters[:i] \n",
    "        left_right = left[:-1] + left[::-1]\n",
    "        mat.append('-'.join(left_right))\n",
    "\n",
    "    mat = mat[:-1] + mat[::-1]\n",
    "\n",
    "    for i in range(len(mat)):\n",
    "        print(mat[i])"
   ]
  },
  {
   "cell_type": "code",
   "execution_count": 100,
   "metadata": {},
   "outputs": [
    {
     "name": "stdout",
     "output_type": "stream",
     "text": [
      "--------e--------\n",
      "------e-d-e------\n",
      "----e-d-c-d-e----\n",
      "--e-d-c-b-c-d-e--\n",
      "e-d-c-b-a-b-c-d-e\n",
      "--e-d-c-b-c-d-e--\n",
      "----e-d-c-d-e----\n",
      "------e-d-e------\n",
      "--------e--------\n"
     ]
    }
   ],
   "source": [
    "print_rangoli(5)"
   ]
  },
  {
   "cell_type": "markdown",
   "metadata": {},
   "source": [
    "## HackerRank `Door Mat` \n",
    "- Taken from [here](https://www.hackerrank.com/challenges/designer-door-mat/problem)\n",
    "   \n",
    "Mr. Vincent works in a door mat manufacturing company. One day, he designed a new door mat with the following specifications:\n",
    "\n",
    "Mat size must be X. ( is an odd natural number, and  is  times .)\n",
    "The design should have 'WELCOME' written in the center.\n",
    "The design pattern should only use |, . and - characters.\n",
    "  \n",
    "n x m : 7 x 21  \n",
    "```\n",
    "---------.|.---------  \n",
    "------.|..|..|.------  \n",
    "---.|..|..|..|..|.---  \n",
    "-------WELCOME-------  \n",
    "---.|..|..|..|..|.---  \n",
    "------.|..|..|.------  \n",
    "---------.|.---------  \n",
    "```"
   ]
  },
  {
   "cell_type": "code",
   "execution_count": 223,
   "metadata": {},
   "outputs": [],
   "source": [
    "def print_mat(n, m):\n",
    "    size = n\n",
    "    pattern = ['.|.']\n",
    "    other = ['---']\n",
    "    mat = []\n",
    "    d = int(size/2)+1\n",
    "    for i in range(1, d):\n",
    "        row = (d-i) * other + pattern * i\n",
    "        out = row[:-1] + row[::-1]\n",
    "        mat.append(''.join(out))\n",
    "    b = int((n-7)/2)\n",
    "\n",
    "    welcome = ''.join(['-']*n) + ''.join(['-']*b) + 'WELCOME' + ''.join(['-']* b)  + ''.join(['-']*n)\n",
    "\n",
    "    newmat = mat + [welcome] + mat[::-1]\n",
    "\n",
    "    for i in range(len(newmat)):\n",
    "        print(newmat[i])\n"
   ]
  },
  {
   "cell_type": "code",
   "execution_count": 224,
   "metadata": {},
   "outputs": [
    {
     "name": "stdout",
     "output_type": "stream",
     "text": [
      "---------.|.---------\n",
      "------.|..|..|.------\n",
      "---.|..|..|..|..|.---\n",
      "-------WELCOME-------\n",
      "---.|..|..|..|..|.---\n",
      "------.|..|..|.------\n",
      "---------.|.---------\n"
     ]
    }
   ],
   "source": [
    "print_mat(7, 21)"
   ]
  },
  {
   "cell_type": "code",
   "execution_count": 225,
   "metadata": {},
   "outputs": [
    {
     "name": "stdout",
     "output_type": "stream",
     "text": [
      "---------------.|.---------------\n",
      "------------.|..|..|.------------\n",
      "---------.|..|..|..|..|.---------\n",
      "------.|..|..|..|..|..|..|.------\n",
      "---.|..|..|..|..|..|..|..|..|.---\n",
      "-------------WELCOME-------------\n",
      "---.|..|..|..|..|..|..|..|..|.---\n",
      "------.|..|..|..|..|..|..|.------\n",
      "---------.|..|..|..|..|.---------\n",
      "------------.|..|..|.------------\n",
      "---------------.|.---------------\n"
     ]
    }
   ],
   "source": [
    "print_mat(11, 33)"
   ]
  },
  {
   "cell_type": "markdown",
   "metadata": {},
   "source": [
    "---"
   ]
  }
 ],
 "metadata": {
  "kernelspec": {
   "display_name": "Python 3",
   "language": "python",
   "name": "python3"
  },
  "language_info": {
   "codemirror_mode": {
    "name": "ipython",
    "version": 3
   },
   "file_extension": ".py",
   "mimetype": "text/x-python",
   "name": "python",
   "nbconvert_exporter": "python",
   "pygments_lexer": "ipython3",
   "version": "3.7.5"
  }
 },
 "nbformat": 4,
 "nbformat_minor": 4
}
